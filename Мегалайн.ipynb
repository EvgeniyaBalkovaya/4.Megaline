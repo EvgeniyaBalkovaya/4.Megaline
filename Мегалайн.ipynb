{
 "cells": [
  {
   "cell_type": "markdown",
   "metadata": {},
   "source": [
    "**Описание проекта**  \n",
    " Компании «Мегалайн» — федерального оператора сотовой связи. Клиентам предлагают два тарифных плана: «Смарт» и «Ультра». Чтобы скорректировать рекламный бюджет, коммерческий департамент хочет понять, какой тариф приносит больше денег.\n",
    "Вам предстоит сделать предварительный анализ тарифов на небольшой выборке клиентов. В вашем распоряжении данные 500 пользователей «Мегалайна»: кто они, откуда, каким тарифом пользуются, сколько звонков и сообщений каждый отправил за 2018 год. Нужно проанализировать поведение клиентов и сделать вывод — какой тариф лучше.\n",
    "\n",
    "**Описание тарифов**  \n",
    "\n",
    "*Тариф «Смарт»*  \n",
    "Ежемесячная плата: 550 рублей  \n",
    "Включено 500 минут разговора, 50 сообщений и 15 Гб интернет-трафика  \n",
    "Стоимость услуг сверх тарифного пакета:  \n",
    "минута разговора: 3 рубля  \n",
    "сообщение: 3 рубля  \n",
    "1 Гб интернет-трафика: 200 рублей  \n",
    "\n",
    "*Тариф «Ультра»*  \n",
    "Ежемесячная плата: 1950 рублей  \n",
    "Включено 3000 минут разговора, 1000 сообщений и 30 Гб интернет-трафика  \n",
    "Стоимость услуг сверх тарифного пакета:  \n",
    "минута разговора: 1 рубль  \n",
    "сообщение: 1 рубль  \n",
    "1 Гб интернет-трафика: 150 рублей  \n",
    "\n",
    "**Примечание:**  \n",
    "«Мегалайн» всегда округляет секунды до минут, а мегабайты — до гигабайт. Каждый звонок округляется отдельно: даже если он длился всего 1 секунду, будет засчитан как 1 минута.  \n",
    "Для веб-трафика отдельные сессии не считаются. Вместо этого общая сумма за месяц округляется в бо́льшую сторону. Если абонент использует 1025 мегабайт в этом месяце, с него возьмут плату за 2 гигабайта.  "
   ]
  },
  {
   "cell_type": "markdown",
   "metadata": {},
   "source": [
    "##  **Обзор данных**"
   ]
  },
  {
   "cell_type": "code",
   "execution_count": 1,
   "metadata": {},
   "outputs": [],
   "source": [
    "import pandas as pd\n",
    "import numpy as np\n",
    "%matplotlib inline\n",
    "import matplotlib.pyplot as plt\n",
    "import seaborn as sns\n",
    "import seaborn as sbn \n",
    "from scipy import stats as st\n",
    "sns.set()\n",
    "pd.options.display.float_format = '{:,.2f}'.format\n",
    "pd.options.display.max_columns = 100\n",
    " \n"
   ]
  },
  {
   "cell_type": "code",
   "execution_count": 2,
   "metadata": {},
   "outputs": [],
   "source": [
    "users = pd.read_csv('/datasets/users.csv') \n",
    "calls = pd.read_csv('/datasets/calls.csv')\n",
    "messages = pd.read_csv('/datasets/messages.csv')\n",
    "internet = pd.read_csv('/datasets/internet.csv')\n",
    "tariffs = pd.read_csv('/datasets/tariffs.csv')"
   ]
  },
  {
   "cell_type": "markdown",
   "metadata": {},
   "source": [
    "### Таблица users (информация о пользователях)"
   ]
  },
  {
   "cell_type": "code",
   "execution_count": 3,
   "metadata": {},
   "outputs": [
    {
     "data": {
      "text/html": [
       "<div>\n",
       "<style scoped>\n",
       "    .dataframe tbody tr th:only-of-type {\n",
       "        vertical-align: middle;\n",
       "    }\n",
       "\n",
       "    .dataframe tbody tr th {\n",
       "        vertical-align: top;\n",
       "    }\n",
       "\n",
       "    .dataframe thead th {\n",
       "        text-align: right;\n",
       "    }\n",
       "</style>\n",
       "<table border=\"1\" class=\"dataframe\">\n",
       "  <thead>\n",
       "    <tr style=\"text-align: right;\">\n",
       "      <th></th>\n",
       "      <th>user_id</th>\n",
       "      <th>age</th>\n",
       "      <th>churn_date</th>\n",
       "      <th>city</th>\n",
       "      <th>first_name</th>\n",
       "      <th>last_name</th>\n",
       "      <th>reg_date</th>\n",
       "      <th>tariff</th>\n",
       "    </tr>\n",
       "  </thead>\n",
       "  <tbody>\n",
       "    <tr>\n",
       "      <th>0</th>\n",
       "      <td>1000</td>\n",
       "      <td>52</td>\n",
       "      <td>NaN</td>\n",
       "      <td>Краснодар</td>\n",
       "      <td>Рафаил</td>\n",
       "      <td>Верещагин</td>\n",
       "      <td>2018-05-25</td>\n",
       "      <td>ultra</td>\n",
       "    </tr>\n",
       "    <tr>\n",
       "      <th>1</th>\n",
       "      <td>1001</td>\n",
       "      <td>41</td>\n",
       "      <td>NaN</td>\n",
       "      <td>Москва</td>\n",
       "      <td>Иван</td>\n",
       "      <td>Ежов</td>\n",
       "      <td>2018-11-01</td>\n",
       "      <td>smart</td>\n",
       "    </tr>\n",
       "    <tr>\n",
       "      <th>2</th>\n",
       "      <td>1002</td>\n",
       "      <td>59</td>\n",
       "      <td>NaN</td>\n",
       "      <td>Стерлитамак</td>\n",
       "      <td>Евгений</td>\n",
       "      <td>Абрамович</td>\n",
       "      <td>2018-06-17</td>\n",
       "      <td>smart</td>\n",
       "    </tr>\n",
       "    <tr>\n",
       "      <th>3</th>\n",
       "      <td>1003</td>\n",
       "      <td>23</td>\n",
       "      <td>NaN</td>\n",
       "      <td>Москва</td>\n",
       "      <td>Белла</td>\n",
       "      <td>Белякова</td>\n",
       "      <td>2018-08-17</td>\n",
       "      <td>ultra</td>\n",
       "    </tr>\n",
       "    <tr>\n",
       "      <th>4</th>\n",
       "      <td>1004</td>\n",
       "      <td>68</td>\n",
       "      <td>NaN</td>\n",
       "      <td>Новокузнецк</td>\n",
       "      <td>Татьяна</td>\n",
       "      <td>Авдеенко</td>\n",
       "      <td>2018-05-14</td>\n",
       "      <td>ultra</td>\n",
       "    </tr>\n",
       "    <tr>\n",
       "      <th>...</th>\n",
       "      <td>...</td>\n",
       "      <td>...</td>\n",
       "      <td>...</td>\n",
       "      <td>...</td>\n",
       "      <td>...</td>\n",
       "      <td>...</td>\n",
       "      <td>...</td>\n",
       "      <td>...</td>\n",
       "    </tr>\n",
       "    <tr>\n",
       "      <th>495</th>\n",
       "      <td>1495</td>\n",
       "      <td>65</td>\n",
       "      <td>NaN</td>\n",
       "      <td>Иркутск</td>\n",
       "      <td>Авксентий</td>\n",
       "      <td>Фокин</td>\n",
       "      <td>2018-08-28</td>\n",
       "      <td>ultra</td>\n",
       "    </tr>\n",
       "    <tr>\n",
       "      <th>496</th>\n",
       "      <td>1496</td>\n",
       "      <td>36</td>\n",
       "      <td>NaN</td>\n",
       "      <td>Вологда</td>\n",
       "      <td>Трифон</td>\n",
       "      <td>Блохин</td>\n",
       "      <td>2018-01-27</td>\n",
       "      <td>smart</td>\n",
       "    </tr>\n",
       "    <tr>\n",
       "      <th>497</th>\n",
       "      <td>1497</td>\n",
       "      <td>32</td>\n",
       "      <td>NaN</td>\n",
       "      <td>Челябинск</td>\n",
       "      <td>Каролина</td>\n",
       "      <td>Агеева</td>\n",
       "      <td>2018-10-09</td>\n",
       "      <td>smart</td>\n",
       "    </tr>\n",
       "    <tr>\n",
       "      <th>498</th>\n",
       "      <td>1498</td>\n",
       "      <td>68</td>\n",
       "      <td>2018-10-25</td>\n",
       "      <td>Владикавказ</td>\n",
       "      <td>Всеволод</td>\n",
       "      <td>Акимчин</td>\n",
       "      <td>2018-07-19</td>\n",
       "      <td>smart</td>\n",
       "    </tr>\n",
       "    <tr>\n",
       "      <th>499</th>\n",
       "      <td>1499</td>\n",
       "      <td>35</td>\n",
       "      <td>NaN</td>\n",
       "      <td>Пермь</td>\n",
       "      <td>Гектор</td>\n",
       "      <td>Корнилов</td>\n",
       "      <td>2018-09-27</td>\n",
       "      <td>smart</td>\n",
       "    </tr>\n",
       "  </tbody>\n",
       "</table>\n",
       "<p>500 rows × 8 columns</p>\n",
       "</div>"
      ],
      "text/plain": [
       "     user_id  age  churn_date         city first_name  last_name    reg_date  \\\n",
       "0       1000   52         NaN    Краснодар     Рафаил  Верещагин  2018-05-25   \n",
       "1       1001   41         NaN       Москва       Иван       Ежов  2018-11-01   \n",
       "2       1002   59         NaN  Стерлитамак    Евгений  Абрамович  2018-06-17   \n",
       "3       1003   23         NaN       Москва      Белла   Белякова  2018-08-17   \n",
       "4       1004   68         NaN  Новокузнецк    Татьяна   Авдеенко  2018-05-14   \n",
       "..       ...  ...         ...          ...        ...        ...         ...   \n",
       "495     1495   65         NaN      Иркутск  Авксентий      Фокин  2018-08-28   \n",
       "496     1496   36         NaN      Вологда     Трифон     Блохин  2018-01-27   \n",
       "497     1497   32         NaN    Челябинск   Каролина     Агеева  2018-10-09   \n",
       "498     1498   68  2018-10-25  Владикавказ   Всеволод    Акимчин  2018-07-19   \n",
       "499     1499   35         NaN        Пермь     Гектор   Корнилов  2018-09-27   \n",
       "\n",
       "    tariff  \n",
       "0    ultra  \n",
       "1    smart  \n",
       "2    smart  \n",
       "3    ultra  \n",
       "4    ultra  \n",
       "..     ...  \n",
       "495  ultra  \n",
       "496  smart  \n",
       "497  smart  \n",
       "498  smart  \n",
       "499  smart  \n",
       "\n",
       "[500 rows x 8 columns]"
      ]
     },
     "metadata": {},
     "output_type": "display_data"
    }
   ],
   "source": [
    "display(users)"
   ]
  },
  {
   "cell_type": "code",
   "execution_count": 4,
   "metadata": {},
   "outputs": [
    {
     "name": "stdout",
     "output_type": "stream",
     "text": [
      "<class 'pandas.core.frame.DataFrame'>\n",
      "RangeIndex: 500 entries, 0 to 499\n",
      "Data columns (total 8 columns):\n",
      " #   Column      Non-Null Count  Dtype \n",
      "---  ------      --------------  ----- \n",
      " 0   user_id     500 non-null    int64 \n",
      " 1   age         500 non-null    int64 \n",
      " 2   churn_date  38 non-null     object\n",
      " 3   city        500 non-null    object\n",
      " 4   first_name  500 non-null    object\n",
      " 5   last_name   500 non-null    object\n",
      " 6   reg_date    500 non-null    object\n",
      " 7   tariff      500 non-null    object\n",
      "dtypes: int64(2), object(6)\n",
      "memory usage: 31.4+ KB\n"
     ]
    }
   ],
   "source": [
    "users.info()"
   ]
  },
  {
   "cell_type": "markdown",
   "metadata": {},
   "source": [
    " Вывод по таблице:  \n",
    "user_id — уникальный идентификатор пользователя  \n",
    "first_name — имя пользователя  \n",
    "last_name — фамилия пользователя  \n",
    "age — возраст пользователя (годы)  \n",
    "reg_date — дата подключения тарифа (день, месяц, год)  \n",
    "churn_date — дата прекращения пользования тарифом (если значение пропущено,то тариф ещё действовал на момент выгрузки данных)  \n",
    "38 пользователей из 500 уже не пользуются тарифом   \n",
    "city — город проживания пользователя  \n",
    "tariff — название тарифного плана    \n",
    "\n",
    "Все столбцы с датой буду приводить к одному формату"
   ]
  },
  {
   "cell_type": "code",
   "execution_count": 5,
   "metadata": {},
   "outputs": [],
   "source": [
    "users['reg_date'] = pd.to_datetime(users['reg_date'], format = '%Y-%m-%d')\n",
    "users['churn_date'] = pd.to_datetime(users['churn_date'], format = '%Y-%m-%d')"
   ]
  },
  {
   "cell_type": "markdown",
   "metadata": {},
   "source": [
    "### Таблица calls (информация о звонках):"
   ]
  },
  {
   "cell_type": "code",
   "execution_count": 6,
   "metadata": {},
   "outputs": [
    {
     "data": {
      "text/html": [
       "<div>\n",
       "<style scoped>\n",
       "    .dataframe tbody tr th:only-of-type {\n",
       "        vertical-align: middle;\n",
       "    }\n",
       "\n",
       "    .dataframe tbody tr th {\n",
       "        vertical-align: top;\n",
       "    }\n",
       "\n",
       "    .dataframe thead th {\n",
       "        text-align: right;\n",
       "    }\n",
       "</style>\n",
       "<table border=\"1\" class=\"dataframe\">\n",
       "  <thead>\n",
       "    <tr style=\"text-align: right;\">\n",
       "      <th></th>\n",
       "      <th>id</th>\n",
       "      <th>call_date</th>\n",
       "      <th>duration</th>\n",
       "      <th>user_id</th>\n",
       "    </tr>\n",
       "  </thead>\n",
       "  <tbody>\n",
       "    <tr>\n",
       "      <th>0</th>\n",
       "      <td>1000_0</td>\n",
       "      <td>2018-07-25</td>\n",
       "      <td>0.00</td>\n",
       "      <td>1000</td>\n",
       "    </tr>\n",
       "    <tr>\n",
       "      <th>1</th>\n",
       "      <td>1000_1</td>\n",
       "      <td>2018-08-17</td>\n",
       "      <td>0.00</td>\n",
       "      <td>1000</td>\n",
       "    </tr>\n",
       "    <tr>\n",
       "      <th>2</th>\n",
       "      <td>1000_2</td>\n",
       "      <td>2018-06-11</td>\n",
       "      <td>2.85</td>\n",
       "      <td>1000</td>\n",
       "    </tr>\n",
       "    <tr>\n",
       "      <th>3</th>\n",
       "      <td>1000_3</td>\n",
       "      <td>2018-09-21</td>\n",
       "      <td>13.80</td>\n",
       "      <td>1000</td>\n",
       "    </tr>\n",
       "    <tr>\n",
       "      <th>4</th>\n",
       "      <td>1000_4</td>\n",
       "      <td>2018-12-15</td>\n",
       "      <td>5.18</td>\n",
       "      <td>1000</td>\n",
       "    </tr>\n",
       "    <tr>\n",
       "      <th>...</th>\n",
       "      <td>...</td>\n",
       "      <td>...</td>\n",
       "      <td>...</td>\n",
       "      <td>...</td>\n",
       "    </tr>\n",
       "    <tr>\n",
       "      <th>202602</th>\n",
       "      <td>1499_215</td>\n",
       "      <td>2018-12-26</td>\n",
       "      <td>0.76</td>\n",
       "      <td>1499</td>\n",
       "    </tr>\n",
       "    <tr>\n",
       "      <th>202603</th>\n",
       "      <td>1499_216</td>\n",
       "      <td>2018-10-18</td>\n",
       "      <td>18.83</td>\n",
       "      <td>1499</td>\n",
       "    </tr>\n",
       "    <tr>\n",
       "      <th>202604</th>\n",
       "      <td>1499_217</td>\n",
       "      <td>2018-11-10</td>\n",
       "      <td>10.81</td>\n",
       "      <td>1499</td>\n",
       "    </tr>\n",
       "    <tr>\n",
       "      <th>202605</th>\n",
       "      <td>1499_218</td>\n",
       "      <td>2018-10-06</td>\n",
       "      <td>4.27</td>\n",
       "      <td>1499</td>\n",
       "    </tr>\n",
       "    <tr>\n",
       "      <th>202606</th>\n",
       "      <td>1499_219</td>\n",
       "      <td>2018-12-14</td>\n",
       "      <td>19.62</td>\n",
       "      <td>1499</td>\n",
       "    </tr>\n",
       "  </tbody>\n",
       "</table>\n",
       "<p>202607 rows × 4 columns</p>\n",
       "</div>"
      ],
      "text/plain": [
       "              id   call_date  duration  user_id\n",
       "0         1000_0  2018-07-25      0.00     1000\n",
       "1         1000_1  2018-08-17      0.00     1000\n",
       "2         1000_2  2018-06-11      2.85     1000\n",
       "3         1000_3  2018-09-21     13.80     1000\n",
       "4         1000_4  2018-12-15      5.18     1000\n",
       "...          ...         ...       ...      ...\n",
       "202602  1499_215  2018-12-26      0.76     1499\n",
       "202603  1499_216  2018-10-18     18.83     1499\n",
       "202604  1499_217  2018-11-10     10.81     1499\n",
       "202605  1499_218  2018-10-06      4.27     1499\n",
       "202606  1499_219  2018-12-14     19.62     1499\n",
       "\n",
       "[202607 rows x 4 columns]"
      ]
     },
     "metadata": {},
     "output_type": "display_data"
    }
   ],
   "source": [
    "display(calls)"
   ]
  },
  {
   "cell_type": "code",
   "execution_count": 7,
   "metadata": {},
   "outputs": [
    {
     "name": "stdout",
     "output_type": "stream",
     "text": [
      "<class 'pandas.core.frame.DataFrame'>\n",
      "RangeIndex: 202607 entries, 0 to 202606\n",
      "Data columns (total 4 columns):\n",
      " #   Column     Non-Null Count   Dtype  \n",
      "---  ------     --------------   -----  \n",
      " 0   id         202607 non-null  object \n",
      " 1   call_date  202607 non-null  object \n",
      " 2   duration   202607 non-null  float64\n",
      " 3   user_id    202607 non-null  int64  \n",
      "dtypes: float64(1), int64(1), object(2)\n",
      "memory usage: 6.2+ MB\n"
     ]
    }
   ],
   "source": [
    "calls.info()"
   ]
  },
  {
   "cell_type": "markdown",
   "metadata": {},
   "source": [
    "Вывод по таблице:    \n",
    "id — уникальный номер звонка  \n",
    "call_date — дата звонка  \n",
    "duration — длительность звонка в минутах  \n",
    "user_id — идентификатор пользователя, сделавшего звонок  \n",
    "\n",
    "Необходимо округлить время длительности звонка  \n"
   ]
  },
  {
   "cell_type": "code",
   "execution_count": 8,
   "metadata": {},
   "outputs": [],
   "source": [
    "calls['call_date'] = pd.to_datetime(calls['call_date'], format = '%Y-%m-%d')\n",
    "calls['id'] = calls['id'].astype('int')"
   ]
  },
  {
   "cell_type": "code",
   "execution_count": 9,
   "metadata": {
    "scrolled": true
   },
   "outputs": [],
   "source": [
    "#Округляем длительность звонков\n",
    "calls['duration'] = np.ceil(calls['duration']).astype('int')\n"
   ]
  },
  {
   "cell_type": "markdown",
   "metadata": {},
   "source": [
    "### Таблица messages (информация о сообщениях):"
   ]
  },
  {
   "cell_type": "code",
   "execution_count": 10,
   "metadata": {
    "scrolled": false
   },
   "outputs": [
    {
     "data": {
      "text/html": [
       "<div>\n",
       "<style scoped>\n",
       "    .dataframe tbody tr th:only-of-type {\n",
       "        vertical-align: middle;\n",
       "    }\n",
       "\n",
       "    .dataframe tbody tr th {\n",
       "        vertical-align: top;\n",
       "    }\n",
       "\n",
       "    .dataframe thead th {\n",
       "        text-align: right;\n",
       "    }\n",
       "</style>\n",
       "<table border=\"1\" class=\"dataframe\">\n",
       "  <thead>\n",
       "    <tr style=\"text-align: right;\">\n",
       "      <th></th>\n",
       "      <th>id</th>\n",
       "      <th>message_date</th>\n",
       "      <th>user_id</th>\n",
       "    </tr>\n",
       "  </thead>\n",
       "  <tbody>\n",
       "    <tr>\n",
       "      <th>0</th>\n",
       "      <td>1000_0</td>\n",
       "      <td>2018-06-27</td>\n",
       "      <td>1000</td>\n",
       "    </tr>\n",
       "    <tr>\n",
       "      <th>1</th>\n",
       "      <td>1000_1</td>\n",
       "      <td>2018-10-08</td>\n",
       "      <td>1000</td>\n",
       "    </tr>\n",
       "    <tr>\n",
       "      <th>2</th>\n",
       "      <td>1000_2</td>\n",
       "      <td>2018-08-04</td>\n",
       "      <td>1000</td>\n",
       "    </tr>\n",
       "    <tr>\n",
       "      <th>3</th>\n",
       "      <td>1000_3</td>\n",
       "      <td>2018-06-16</td>\n",
       "      <td>1000</td>\n",
       "    </tr>\n",
       "    <tr>\n",
       "      <th>4</th>\n",
       "      <td>1000_4</td>\n",
       "      <td>2018-12-05</td>\n",
       "      <td>1000</td>\n",
       "    </tr>\n",
       "    <tr>\n",
       "      <th>...</th>\n",
       "      <td>...</td>\n",
       "      <td>...</td>\n",
       "      <td>...</td>\n",
       "    </tr>\n",
       "    <tr>\n",
       "      <th>123031</th>\n",
       "      <td>1499_179</td>\n",
       "      <td>2018-12-12</td>\n",
       "      <td>1499</td>\n",
       "    </tr>\n",
       "    <tr>\n",
       "      <th>123032</th>\n",
       "      <td>1499_180</td>\n",
       "      <td>2018-09-28</td>\n",
       "      <td>1499</td>\n",
       "    </tr>\n",
       "    <tr>\n",
       "      <th>123033</th>\n",
       "      <td>1499_181</td>\n",
       "      <td>2018-09-27</td>\n",
       "      <td>1499</td>\n",
       "    </tr>\n",
       "    <tr>\n",
       "      <th>123034</th>\n",
       "      <td>1499_182</td>\n",
       "      <td>2018-11-15</td>\n",
       "      <td>1499</td>\n",
       "    </tr>\n",
       "    <tr>\n",
       "      <th>123035</th>\n",
       "      <td>1499_183</td>\n",
       "      <td>2018-11-16</td>\n",
       "      <td>1499</td>\n",
       "    </tr>\n",
       "  </tbody>\n",
       "</table>\n",
       "<p>123036 rows × 3 columns</p>\n",
       "</div>"
      ],
      "text/plain": [
       "              id message_date  user_id\n",
       "0         1000_0   2018-06-27     1000\n",
       "1         1000_1   2018-10-08     1000\n",
       "2         1000_2   2018-08-04     1000\n",
       "3         1000_3   2018-06-16     1000\n",
       "4         1000_4   2018-12-05     1000\n",
       "...          ...          ...      ...\n",
       "123031  1499_179   2018-12-12     1499\n",
       "123032  1499_180   2018-09-28     1499\n",
       "123033  1499_181   2018-09-27     1499\n",
       "123034  1499_182   2018-11-15     1499\n",
       "123035  1499_183   2018-11-16     1499\n",
       "\n",
       "[123036 rows x 3 columns]"
      ]
     },
     "metadata": {},
     "output_type": "display_data"
    }
   ],
   "source": [
    "display(messages)"
   ]
  },
  {
   "cell_type": "code",
   "execution_count": 11,
   "metadata": {},
   "outputs": [
    {
     "name": "stdout",
     "output_type": "stream",
     "text": [
      "<class 'pandas.core.frame.DataFrame'>\n",
      "RangeIndex: 123036 entries, 0 to 123035\n",
      "Data columns (total 3 columns):\n",
      " #   Column        Non-Null Count   Dtype \n",
      "---  ------        --------------   ----- \n",
      " 0   id            123036 non-null  object\n",
      " 1   message_date  123036 non-null  object\n",
      " 2   user_id       123036 non-null  int64 \n",
      "dtypes: int64(1), object(2)\n",
      "memory usage: 2.8+ MB\n"
     ]
    }
   ],
   "source": [
    "messages.info()"
   ]
  },
  {
   "cell_type": "markdown",
   "metadata": {},
   "source": [
    "Вывод:  \n",
    "id — уникальный номер сообщения  \n",
    "message_date — дата сообщения  \n",
    "user_id — идентификатор пользователя, отправившего сообщение  \n"
   ]
  },
  {
   "cell_type": "code",
   "execution_count": 12,
   "metadata": {},
   "outputs": [],
   "source": [
    "messages['message_date'] = pd.to_datetime(messages['message_date'], format = '%Y-%m-%d')"
   ]
  },
  {
   "cell_type": "markdown",
   "metadata": {},
   "source": [
    "### Таблица internet (информация об интернет-сессиях):"
   ]
  },
  {
   "cell_type": "code",
   "execution_count": 13,
   "metadata": {
    "scrolled": false
   },
   "outputs": [
    {
     "data": {
      "text/html": [
       "<div>\n",
       "<style scoped>\n",
       "    .dataframe tbody tr th:only-of-type {\n",
       "        vertical-align: middle;\n",
       "    }\n",
       "\n",
       "    .dataframe tbody tr th {\n",
       "        vertical-align: top;\n",
       "    }\n",
       "\n",
       "    .dataframe thead th {\n",
       "        text-align: right;\n",
       "    }\n",
       "</style>\n",
       "<table border=\"1\" class=\"dataframe\">\n",
       "  <thead>\n",
       "    <tr style=\"text-align: right;\">\n",
       "      <th></th>\n",
       "      <th>Unnamed: 0</th>\n",
       "      <th>id</th>\n",
       "      <th>mb_used</th>\n",
       "      <th>session_date</th>\n",
       "      <th>user_id</th>\n",
       "    </tr>\n",
       "  </thead>\n",
       "  <tbody>\n",
       "    <tr>\n",
       "      <th>0</th>\n",
       "      <td>0</td>\n",
       "      <td>1000_0</td>\n",
       "      <td>112.95</td>\n",
       "      <td>2018-11-25</td>\n",
       "      <td>1000</td>\n",
       "    </tr>\n",
       "    <tr>\n",
       "      <th>1</th>\n",
       "      <td>1</td>\n",
       "      <td>1000_1</td>\n",
       "      <td>1,052.81</td>\n",
       "      <td>2018-09-07</td>\n",
       "      <td>1000</td>\n",
       "    </tr>\n",
       "    <tr>\n",
       "      <th>2</th>\n",
       "      <td>2</td>\n",
       "      <td>1000_2</td>\n",
       "      <td>1,197.26</td>\n",
       "      <td>2018-06-25</td>\n",
       "      <td>1000</td>\n",
       "    </tr>\n",
       "    <tr>\n",
       "      <th>3</th>\n",
       "      <td>3</td>\n",
       "      <td>1000_3</td>\n",
       "      <td>550.27</td>\n",
       "      <td>2018-08-22</td>\n",
       "      <td>1000</td>\n",
       "    </tr>\n",
       "    <tr>\n",
       "      <th>4</th>\n",
       "      <td>4</td>\n",
       "      <td>1000_4</td>\n",
       "      <td>302.56</td>\n",
       "      <td>2018-09-24</td>\n",
       "      <td>1000</td>\n",
       "    </tr>\n",
       "    <tr>\n",
       "      <th>...</th>\n",
       "      <td>...</td>\n",
       "      <td>...</td>\n",
       "      <td>...</td>\n",
       "      <td>...</td>\n",
       "      <td>...</td>\n",
       "    </tr>\n",
       "    <tr>\n",
       "      <th>149391</th>\n",
       "      <td>149391</td>\n",
       "      <td>1499_152</td>\n",
       "      <td>318.90</td>\n",
       "      <td>2018-10-03</td>\n",
       "      <td>1499</td>\n",
       "    </tr>\n",
       "    <tr>\n",
       "      <th>149392</th>\n",
       "      <td>149392</td>\n",
       "      <td>1499_153</td>\n",
       "      <td>490.13</td>\n",
       "      <td>2018-12-14</td>\n",
       "      <td>1499</td>\n",
       "    </tr>\n",
       "    <tr>\n",
       "      <th>149393</th>\n",
       "      <td>149393</td>\n",
       "      <td>1499_154</td>\n",
       "      <td>0.00</td>\n",
       "      <td>2018-10-27</td>\n",
       "      <td>1499</td>\n",
       "    </tr>\n",
       "    <tr>\n",
       "      <th>149394</th>\n",
       "      <td>149394</td>\n",
       "      <td>1499_155</td>\n",
       "      <td>1,246.32</td>\n",
       "      <td>2018-11-26</td>\n",
       "      <td>1499</td>\n",
       "    </tr>\n",
       "    <tr>\n",
       "      <th>149395</th>\n",
       "      <td>149395</td>\n",
       "      <td>1499_156</td>\n",
       "      <td>544.37</td>\n",
       "      <td>2018-10-26</td>\n",
       "      <td>1499</td>\n",
       "    </tr>\n",
       "  </tbody>\n",
       "</table>\n",
       "<p>149396 rows × 5 columns</p>\n",
       "</div>"
      ],
      "text/plain": [
       "        Unnamed: 0        id  mb_used session_date  user_id\n",
       "0                0    1000_0   112.95   2018-11-25     1000\n",
       "1                1    1000_1 1,052.81   2018-09-07     1000\n",
       "2                2    1000_2 1,197.26   2018-06-25     1000\n",
       "3                3    1000_3   550.27   2018-08-22     1000\n",
       "4                4    1000_4   302.56   2018-09-24     1000\n",
       "...            ...       ...      ...          ...      ...\n",
       "149391      149391  1499_152   318.90   2018-10-03     1499\n",
       "149392      149392  1499_153   490.13   2018-12-14     1499\n",
       "149393      149393  1499_154     0.00   2018-10-27     1499\n",
       "149394      149394  1499_155 1,246.32   2018-11-26     1499\n",
       "149395      149395  1499_156   544.37   2018-10-26     1499\n",
       "\n",
       "[149396 rows x 5 columns]"
      ]
     },
     "metadata": {},
     "output_type": "display_data"
    }
   ],
   "source": [
    "display(internet)"
   ]
  },
  {
   "cell_type": "code",
   "execution_count": 14,
   "metadata": {},
   "outputs": [],
   "source": [
    "internet['session_date'] = pd.to_datetime(internet['session_date'], format = '%Y-%m-%d')\n",
    "internet['id'] = internet['id'].astype('int')"
   ]
  },
  {
   "cell_type": "markdown",
   "metadata": {},
   "source": [
    "id — уникальный номер сессии  \n",
    "mb_used — объём потраченного за сессию интернет-трафика (в мегабайтах)  \n",
    "session_date — дата интернет-сессии  \n",
    "user_id — идентификатор пользователя  "
   ]
  },
  {
   "cell_type": "markdown",
   "metadata": {},
   "source": [
    "### Таблица tariffs (информация о тарифах):"
   ]
  },
  {
   "cell_type": "code",
   "execution_count": 15,
   "metadata": {
    "scrolled": true
   },
   "outputs": [
    {
     "data": {
      "text/html": [
       "<div>\n",
       "<style scoped>\n",
       "    .dataframe tbody tr th:only-of-type {\n",
       "        vertical-align: middle;\n",
       "    }\n",
       "\n",
       "    .dataframe tbody tr th {\n",
       "        vertical-align: top;\n",
       "    }\n",
       "\n",
       "    .dataframe thead th {\n",
       "        text-align: right;\n",
       "    }\n",
       "</style>\n",
       "<table border=\"1\" class=\"dataframe\">\n",
       "  <thead>\n",
       "    <tr style=\"text-align: right;\">\n",
       "      <th></th>\n",
       "      <th>messages_included</th>\n",
       "      <th>mb_per_month_included</th>\n",
       "      <th>minutes_included</th>\n",
       "      <th>rub_monthly_fee</th>\n",
       "      <th>rub_per_gb</th>\n",
       "      <th>rub_per_message</th>\n",
       "      <th>rub_per_minute</th>\n",
       "      <th>tariff_name</th>\n",
       "    </tr>\n",
       "  </thead>\n",
       "  <tbody>\n",
       "    <tr>\n",
       "      <th>0</th>\n",
       "      <td>50</td>\n",
       "      <td>15360</td>\n",
       "      <td>500</td>\n",
       "      <td>550</td>\n",
       "      <td>200</td>\n",
       "      <td>3</td>\n",
       "      <td>3</td>\n",
       "      <td>smart</td>\n",
       "    </tr>\n",
       "    <tr>\n",
       "      <th>1</th>\n",
       "      <td>1000</td>\n",
       "      <td>30720</td>\n",
       "      <td>3000</td>\n",
       "      <td>1950</td>\n",
       "      <td>150</td>\n",
       "      <td>1</td>\n",
       "      <td>1</td>\n",
       "      <td>ultra</td>\n",
       "    </tr>\n",
       "  </tbody>\n",
       "</table>\n",
       "</div>"
      ],
      "text/plain": [
       "   messages_included  mb_per_month_included  minutes_included  \\\n",
       "0                 50                  15360               500   \n",
       "1               1000                  30720              3000   \n",
       "\n",
       "   rub_monthly_fee  rub_per_gb  rub_per_message  rub_per_minute tariff_name  \n",
       "0              550         200                3               3       smart  \n",
       "1             1950         150                1               1       ultra  "
      ]
     },
     "metadata": {},
     "output_type": "display_data"
    }
   ],
   "source": [
    "display(tariffs)"
   ]
  },
  {
   "cell_type": "markdown",
   "metadata": {},
   "source": [
    "* tariff_name — название тарифа  \n",
    "* rub_monthly_fee — ежемесячная абонентская плата в рублях  \n",
    "* minutes_included — количество минут разговора в месяц, включённых в абонентскую плату  \n",
    "* messages_included — количество сообщений в месяц, включённых в абонентскую плату  \n",
    "* mb_per_month_included — объём интернет-трафика, включённого в абонентскую плату (в мегабайтах)  \n",
    "* rub_per_minute — стоимость минуты разговора сверх тарифного пакета  \n",
    "(например, если в тарифе 100 минут разговора в месяц, то со   101 минуты будет взиматься плата)  \n",
    "* rub_per_message — стоимость отправки сообщения сверх тарифного пакета  \n",
    "* rub_per_gb — стоимость дополнительного гигабайта интернет-трафика сверх тарифного пакета  \n",
    "(1 гигабайт = 1024 мегабайта)"
   ]
  },
  {
   "cell_type": "markdown",
   "metadata": {},
   "source": [
    "## **Подготовка данных**"
   ]
  },
  {
   "cell_type": "markdown",
   "metadata": {},
   "source": [
    "Согласно инструкции нам нужно посчитать для каждого пользователя:  \n",
    "* количество сделанных звонков и израсходованных минут разговора по месяцам;  \n",
    "* количество отправленных сообщений по месяцам;  \n",
    "* объем израсходованного интернет-трафика по месяцам;  \n",
    "* помесячную выручку с каждого пользователя (вычтите бесплатный лимит из суммарного количества звонков,  \n",
    "сообщений и интернет-трафика; остаток умножьте на значение из тарифного плана; прибавьте абонентскую плату,  \n",
    "соответствующую тарифному плану)."
   ]
  },
  {
   "cell_type": "markdown",
   "metadata": {},
   "source": [
    "### Calls"
   ]
  },
  {
   "cell_type": "code",
   "execution_count": 16,
   "metadata": {},
   "outputs": [
    {
     "data": {
      "text/html": [
       "<div>\n",
       "<style scoped>\n",
       "    .dataframe tbody tr th:only-of-type {\n",
       "        vertical-align: middle;\n",
       "    }\n",
       "\n",
       "    .dataframe tbody tr th {\n",
       "        vertical-align: top;\n",
       "    }\n",
       "\n",
       "    .dataframe thead th {\n",
       "        text-align: right;\n",
       "    }\n",
       "</style>\n",
       "<table border=\"1\" class=\"dataframe\">\n",
       "  <thead>\n",
       "    <tr style=\"text-align: right;\">\n",
       "      <th></th>\n",
       "      <th>user_id</th>\n",
       "      <th>month</th>\n",
       "      <th>total_minute</th>\n",
       "      <th>total_calls</th>\n",
       "    </tr>\n",
       "  </thead>\n",
       "  <tbody>\n",
       "    <tr>\n",
       "      <th>0</th>\n",
       "      <td>1000</td>\n",
       "      <td>5</td>\n",
       "      <td>159</td>\n",
       "      <td>22</td>\n",
       "    </tr>\n",
       "    <tr>\n",
       "      <th>1</th>\n",
       "      <td>1000</td>\n",
       "      <td>6</td>\n",
       "      <td>172</td>\n",
       "      <td>43</td>\n",
       "    </tr>\n",
       "    <tr>\n",
       "      <th>2</th>\n",
       "      <td>1000</td>\n",
       "      <td>7</td>\n",
       "      <td>340</td>\n",
       "      <td>47</td>\n",
       "    </tr>\n",
       "    <tr>\n",
       "      <th>3</th>\n",
       "      <td>1000</td>\n",
       "      <td>8</td>\n",
       "      <td>408</td>\n",
       "      <td>52</td>\n",
       "    </tr>\n",
       "    <tr>\n",
       "      <th>4</th>\n",
       "      <td>1000</td>\n",
       "      <td>9</td>\n",
       "      <td>466</td>\n",
       "      <td>58</td>\n",
       "    </tr>\n",
       "    <tr>\n",
       "      <th>...</th>\n",
       "      <td>...</td>\n",
       "      <td>...</td>\n",
       "      <td>...</td>\n",
       "      <td>...</td>\n",
       "    </tr>\n",
       "    <tr>\n",
       "      <th>3169</th>\n",
       "      <td>1498</td>\n",
       "      <td>10</td>\n",
       "      <td>247</td>\n",
       "      <td>41</td>\n",
       "    </tr>\n",
       "    <tr>\n",
       "      <th>3170</th>\n",
       "      <td>1499</td>\n",
       "      <td>9</td>\n",
       "      <td>70</td>\n",
       "      <td>9</td>\n",
       "    </tr>\n",
       "    <tr>\n",
       "      <th>3171</th>\n",
       "      <td>1499</td>\n",
       "      <td>10</td>\n",
       "      <td>449</td>\n",
       "      <td>68</td>\n",
       "    </tr>\n",
       "    <tr>\n",
       "      <th>3172</th>\n",
       "      <td>1499</td>\n",
       "      <td>11</td>\n",
       "      <td>612</td>\n",
       "      <td>74</td>\n",
       "    </tr>\n",
       "    <tr>\n",
       "      <th>3173</th>\n",
       "      <td>1499</td>\n",
       "      <td>12</td>\n",
       "      <td>492</td>\n",
       "      <td>69</td>\n",
       "    </tr>\n",
       "  </tbody>\n",
       "</table>\n",
       "<p>3174 rows × 4 columns</p>\n",
       "</div>"
      ],
      "text/plain": [
       "      user_id  month  total_minute  total_calls\n",
       "0        1000      5           159           22\n",
       "1        1000      6           172           43\n",
       "2        1000      7           340           47\n",
       "3        1000      8           408           52\n",
       "4        1000      9           466           58\n",
       "...       ...    ...           ...          ...\n",
       "3169     1498     10           247           41\n",
       "3170     1499      9            70            9\n",
       "3171     1499     10           449           68\n",
       "3172     1499     11           612           74\n",
       "3173     1499     12           492           69\n",
       "\n",
       "[3174 rows x 4 columns]"
      ]
     },
     "metadata": {},
     "output_type": "display_data"
    }
   ],
   "source": [
    "#количество сделанных звонков и израсходованных минут разговора по месяцам\n",
    "calls['month'] = calls['call_date'].dt.month\n",
    "calls_df = calls.groupby(['user_id','month']).agg({'duration':'sum', 'id':'count'}).reset_index().rename(columns={'duration':'total_minute','id':'total_calls'})\n",
    "display(calls_df)"
   ]
  },
  {
   "cell_type": "markdown",
   "metadata": {},
   "source": [
    "### Messages"
   ]
  },
  {
   "cell_type": "code",
   "execution_count": 17,
   "metadata": {},
   "outputs": [
    {
     "data": {
      "text/html": [
       "<div>\n",
       "<style scoped>\n",
       "    .dataframe tbody tr th:only-of-type {\n",
       "        vertical-align: middle;\n",
       "    }\n",
       "\n",
       "    .dataframe tbody tr th {\n",
       "        vertical-align: top;\n",
       "    }\n",
       "\n",
       "    .dataframe thead th {\n",
       "        text-align: right;\n",
       "    }\n",
       "</style>\n",
       "<table border=\"1\" class=\"dataframe\">\n",
       "  <thead>\n",
       "    <tr style=\"text-align: right;\">\n",
       "      <th></th>\n",
       "      <th>user_id</th>\n",
       "      <th>month</th>\n",
       "      <th>total_sms</th>\n",
       "    </tr>\n",
       "  </thead>\n",
       "  <tbody>\n",
       "    <tr>\n",
       "      <th>0</th>\n",
       "      <td>1000</td>\n",
       "      <td>5</td>\n",
       "      <td>22</td>\n",
       "    </tr>\n",
       "    <tr>\n",
       "      <th>1</th>\n",
       "      <td>1000</td>\n",
       "      <td>6</td>\n",
       "      <td>60</td>\n",
       "    </tr>\n",
       "    <tr>\n",
       "      <th>2</th>\n",
       "      <td>1000</td>\n",
       "      <td>7</td>\n",
       "      <td>75</td>\n",
       "    </tr>\n",
       "    <tr>\n",
       "      <th>3</th>\n",
       "      <td>1000</td>\n",
       "      <td>8</td>\n",
       "      <td>81</td>\n",
       "    </tr>\n",
       "    <tr>\n",
       "      <th>4</th>\n",
       "      <td>1000</td>\n",
       "      <td>9</td>\n",
       "      <td>57</td>\n",
       "    </tr>\n",
       "    <tr>\n",
       "      <th>...</th>\n",
       "      <td>...</td>\n",
       "      <td>...</td>\n",
       "      <td>...</td>\n",
       "    </tr>\n",
       "    <tr>\n",
       "      <th>2712</th>\n",
       "      <td>1498</td>\n",
       "      <td>10</td>\n",
       "      <td>42</td>\n",
       "    </tr>\n",
       "    <tr>\n",
       "      <th>2713</th>\n",
       "      <td>1499</td>\n",
       "      <td>9</td>\n",
       "      <td>11</td>\n",
       "    </tr>\n",
       "    <tr>\n",
       "      <th>2714</th>\n",
       "      <td>1499</td>\n",
       "      <td>10</td>\n",
       "      <td>48</td>\n",
       "    </tr>\n",
       "    <tr>\n",
       "      <th>2715</th>\n",
       "      <td>1499</td>\n",
       "      <td>11</td>\n",
       "      <td>59</td>\n",
       "    </tr>\n",
       "    <tr>\n",
       "      <th>2716</th>\n",
       "      <td>1499</td>\n",
       "      <td>12</td>\n",
       "      <td>66</td>\n",
       "    </tr>\n",
       "  </tbody>\n",
       "</table>\n",
       "<p>2717 rows × 3 columns</p>\n",
       "</div>"
      ],
      "text/plain": [
       "      user_id  month  total_sms\n",
       "0        1000      5         22\n",
       "1        1000      6         60\n",
       "2        1000      7         75\n",
       "3        1000      8         81\n",
       "4        1000      9         57\n",
       "...       ...    ...        ...\n",
       "2712     1498     10         42\n",
       "2713     1499      9         11\n",
       "2714     1499     10         48\n",
       "2715     1499     11         59\n",
       "2716     1499     12         66\n",
       "\n",
       "[2717 rows x 3 columns]"
      ]
     },
     "metadata": {},
     "output_type": "display_data"
    }
   ],
   "source": [
    "#количество отправленных сообщений по месяцам;\n",
    "messages['month'] = messages['message_date'].dt.month\n",
    "messages_df = messages.groupby(['user_id','month']).agg({'id':'count'}).reset_index().rename(columns={'id':'total_sms'})\n",
    "display(messages_df)"
   ]
  },
  {
   "cell_type": "markdown",
   "metadata": {},
   "source": [
    "### Internet"
   ]
  },
  {
   "cell_type": "code",
   "execution_count": 18,
   "metadata": {},
   "outputs": [],
   "source": [
    "internet['month'] = internet['session_date'].dt.month"
   ]
  },
  {
   "cell_type": "code",
   "execution_count": 19,
   "metadata": {},
   "outputs": [
    {
     "data": {
      "text/html": [
       "<div>\n",
       "<style scoped>\n",
       "    .dataframe tbody tr th:only-of-type {\n",
       "        vertical-align: middle;\n",
       "    }\n",
       "\n",
       "    .dataframe tbody tr th {\n",
       "        vertical-align: top;\n",
       "    }\n",
       "\n",
       "    .dataframe thead th {\n",
       "        text-align: right;\n",
       "    }\n",
       "</style>\n",
       "<table border=\"1\" class=\"dataframe\">\n",
       "  <thead>\n",
       "    <tr style=\"text-align: right;\">\n",
       "      <th></th>\n",
       "      <th>user_id</th>\n",
       "      <th>month</th>\n",
       "      <th>total_mb</th>\n",
       "      <th>total_session</th>\n",
       "    </tr>\n",
       "  </thead>\n",
       "  <tbody>\n",
       "    <tr>\n",
       "      <th>0</th>\n",
       "      <td>1000</td>\n",
       "      <td>5</td>\n",
       "      <td>2.20</td>\n",
       "      <td>5</td>\n",
       "    </tr>\n",
       "    <tr>\n",
       "      <th>1</th>\n",
       "      <td>1000</td>\n",
       "      <td>6</td>\n",
       "      <td>22.69</td>\n",
       "      <td>49</td>\n",
       "    </tr>\n",
       "    <tr>\n",
       "      <th>2</th>\n",
       "      <td>1000</td>\n",
       "      <td>7</td>\n",
       "      <td>13.68</td>\n",
       "      <td>29</td>\n",
       "    </tr>\n",
       "    <tr>\n",
       "      <th>3</th>\n",
       "      <td>1000</td>\n",
       "      <td>8</td>\n",
       "      <td>13.73</td>\n",
       "      <td>29</td>\n",
       "    </tr>\n",
       "    <tr>\n",
       "      <th>4</th>\n",
       "      <td>1000</td>\n",
       "      <td>9</td>\n",
       "      <td>14.23</td>\n",
       "      <td>27</td>\n",
       "    </tr>\n",
       "    <tr>\n",
       "      <th>...</th>\n",
       "      <td>...</td>\n",
       "      <td>...</td>\n",
       "      <td>...</td>\n",
       "      <td>...</td>\n",
       "    </tr>\n",
       "    <tr>\n",
       "      <th>3198</th>\n",
       "      <td>1498</td>\n",
       "      <td>10</td>\n",
       "      <td>20.10</td>\n",
       "      <td>59</td>\n",
       "    </tr>\n",
       "    <tr>\n",
       "      <th>3199</th>\n",
       "      <td>1499</td>\n",
       "      <td>9</td>\n",
       "      <td>1.80</td>\n",
       "      <td>5</td>\n",
       "    </tr>\n",
       "    <tr>\n",
       "      <th>3200</th>\n",
       "      <td>1499</td>\n",
       "      <td>10</td>\n",
       "      <td>17.37</td>\n",
       "      <td>58</td>\n",
       "    </tr>\n",
       "    <tr>\n",
       "      <th>3201</th>\n",
       "      <td>1499</td>\n",
       "      <td>11</td>\n",
       "      <td>17.54</td>\n",
       "      <td>49</td>\n",
       "    </tr>\n",
       "    <tr>\n",
       "      <th>3202</th>\n",
       "      <td>1499</td>\n",
       "      <td>12</td>\n",
       "      <td>12.75</td>\n",
       "      <td>45</td>\n",
       "    </tr>\n",
       "  </tbody>\n",
       "</table>\n",
       "<p>3203 rows × 4 columns</p>\n",
       "</div>"
      ],
      "text/plain": [
       "      user_id  month  total_mb  total_session\n",
       "0        1000      5      2.20              5\n",
       "1        1000      6     22.69             49\n",
       "2        1000      7     13.68             29\n",
       "3        1000      8     13.73             29\n",
       "4        1000      9     14.23             27\n",
       "...       ...    ...       ...            ...\n",
       "3198     1498     10     20.10             59\n",
       "3199     1499      9      1.80              5\n",
       "3200     1499     10     17.37             58\n",
       "3201     1499     11     17.54             49\n",
       "3202     1499     12     12.75             45\n",
       "\n",
       "[3203 rows x 4 columns]"
      ]
     },
     "metadata": {},
     "output_type": "display_data"
    }
   ],
   "source": [
    "#объем израсходованного интернет-трафика по месяцам\n",
    "internet['mb_used'] = internet['mb_used']/1024\n",
    "internet_df = internet.groupby(['user_id','month']).agg({'mb_used':'sum','id':'count'}).reset_index().rename(columns={'mb_used':'total_mb','id':'total_session'})\n",
    "np.floor(internet['mb_used'])\n",
    "display(internet_df)"
   ]
  },
  {
   "cell_type": "markdown",
   "metadata": {},
   "source": [
    "### Объединяем таблицы"
   ]
  },
  {
   "cell_type": "code",
   "execution_count": 20,
   "metadata": {
    "scrolled": true
   },
   "outputs": [
    {
     "data": {
      "text/html": [
       "<div>\n",
       "<style scoped>\n",
       "    .dataframe tbody tr th:only-of-type {\n",
       "        vertical-align: middle;\n",
       "    }\n",
       "\n",
       "    .dataframe tbody tr th {\n",
       "        vertical-align: top;\n",
       "    }\n",
       "\n",
       "    .dataframe thead th {\n",
       "        text-align: right;\n",
       "    }\n",
       "</style>\n",
       "<table border=\"1\" class=\"dataframe\">\n",
       "  <thead>\n",
       "    <tr style=\"text-align: right;\">\n",
       "      <th></th>\n",
       "      <th>user_id</th>\n",
       "      <th>month</th>\n",
       "      <th>total_minute</th>\n",
       "      <th>total_calls</th>\n",
       "      <th>total_sms</th>\n",
       "      <th>total_mb</th>\n",
       "      <th>total_session</th>\n",
       "    </tr>\n",
       "  </thead>\n",
       "  <tbody>\n",
       "    <tr>\n",
       "      <th>0</th>\n",
       "      <td>1000</td>\n",
       "      <td>5</td>\n",
       "      <td>159.00</td>\n",
       "      <td>22.00</td>\n",
       "      <td>22.00</td>\n",
       "      <td>2.20</td>\n",
       "      <td>5.00</td>\n",
       "    </tr>\n",
       "    <tr>\n",
       "      <th>1</th>\n",
       "      <td>1000</td>\n",
       "      <td>6</td>\n",
       "      <td>172.00</td>\n",
       "      <td>43.00</td>\n",
       "      <td>60.00</td>\n",
       "      <td>22.69</td>\n",
       "      <td>49.00</td>\n",
       "    </tr>\n",
       "    <tr>\n",
       "      <th>2</th>\n",
       "      <td>1000</td>\n",
       "      <td>7</td>\n",
       "      <td>340.00</td>\n",
       "      <td>47.00</td>\n",
       "      <td>75.00</td>\n",
       "      <td>13.68</td>\n",
       "      <td>29.00</td>\n",
       "    </tr>\n",
       "    <tr>\n",
       "      <th>3</th>\n",
       "      <td>1000</td>\n",
       "      <td>8</td>\n",
       "      <td>408.00</td>\n",
       "      <td>52.00</td>\n",
       "      <td>81.00</td>\n",
       "      <td>13.73</td>\n",
       "      <td>29.00</td>\n",
       "    </tr>\n",
       "    <tr>\n",
       "      <th>4</th>\n",
       "      <td>1000</td>\n",
       "      <td>9</td>\n",
       "      <td>466.00</td>\n",
       "      <td>58.00</td>\n",
       "      <td>57.00</td>\n",
       "      <td>14.23</td>\n",
       "      <td>27.00</td>\n",
       "    </tr>\n",
       "    <tr>\n",
       "      <th>...</th>\n",
       "      <td>...</td>\n",
       "      <td>...</td>\n",
       "      <td>...</td>\n",
       "      <td>...</td>\n",
       "      <td>...</td>\n",
       "      <td>...</td>\n",
       "      <td>...</td>\n",
       "    </tr>\n",
       "    <tr>\n",
       "      <th>3209</th>\n",
       "      <td>1489</td>\n",
       "      <td>9</td>\n",
       "      <td>NaN</td>\n",
       "      <td>NaN</td>\n",
       "      <td>32.00</td>\n",
       "      <td>16.80</td>\n",
       "      <td>63.00</td>\n",
       "    </tr>\n",
       "    <tr>\n",
       "      <th>3210</th>\n",
       "      <td>1489</td>\n",
       "      <td>10</td>\n",
       "      <td>NaN</td>\n",
       "      <td>NaN</td>\n",
       "      <td>21.00</td>\n",
       "      <td>19.10</td>\n",
       "      <td>63.00</td>\n",
       "    </tr>\n",
       "    <tr>\n",
       "      <th>3211</th>\n",
       "      <td>1489</td>\n",
       "      <td>11</td>\n",
       "      <td>NaN</td>\n",
       "      <td>NaN</td>\n",
       "      <td>20.00</td>\n",
       "      <td>17.08</td>\n",
       "      <td>55.00</td>\n",
       "    </tr>\n",
       "    <tr>\n",
       "      <th>3212</th>\n",
       "      <td>1489</td>\n",
       "      <td>12</td>\n",
       "      <td>NaN</td>\n",
       "      <td>NaN</td>\n",
       "      <td>35.00</td>\n",
       "      <td>16.92</td>\n",
       "      <td>51.00</td>\n",
       "    </tr>\n",
       "    <tr>\n",
       "      <th>3213</th>\n",
       "      <td>1476</td>\n",
       "      <td>4</td>\n",
       "      <td>NaN</td>\n",
       "      <td>NaN</td>\n",
       "      <td>NaN</td>\n",
       "      <td>0.52</td>\n",
       "      <td>1.00</td>\n",
       "    </tr>\n",
       "  </tbody>\n",
       "</table>\n",
       "<p>3214 rows × 7 columns</p>\n",
       "</div>"
      ],
      "text/plain": [
       "      user_id  month  total_minute  total_calls  total_sms  total_mb  \\\n",
       "0        1000      5        159.00        22.00      22.00      2.20   \n",
       "1        1000      6        172.00        43.00      60.00     22.69   \n",
       "2        1000      7        340.00        47.00      75.00     13.68   \n",
       "3        1000      8        408.00        52.00      81.00     13.73   \n",
       "4        1000      9        466.00        58.00      57.00     14.23   \n",
       "...       ...    ...           ...          ...        ...       ...   \n",
       "3209     1489      9           NaN          NaN      32.00     16.80   \n",
       "3210     1489     10           NaN          NaN      21.00     19.10   \n",
       "3211     1489     11           NaN          NaN      20.00     17.08   \n",
       "3212     1489     12           NaN          NaN      35.00     16.92   \n",
       "3213     1476      4           NaN          NaN        NaN      0.52   \n",
       "\n",
       "      total_session  \n",
       "0              5.00  \n",
       "1             49.00  \n",
       "2             29.00  \n",
       "3             29.00  \n",
       "4             27.00  \n",
       "...             ...  \n",
       "3209          63.00  \n",
       "3210          63.00  \n",
       "3211          55.00  \n",
       "3212          51.00  \n",
       "3213           1.00  \n",
       "\n",
       "[3214 rows x 7 columns]"
      ]
     },
     "metadata": {},
     "output_type": "display_data"
    }
   ],
   "source": [
    "#Соединили таблицы \n",
    "df = calls_df.merge(messages_df, on=['user_id','month'], how='outer')\n",
    "df = df.merge(internet_df, on=['user_id','month'], how = 'outer')\n",
    "display(df)\n",
    "\n"
   ]
  },
  {
   "cell_type": "code",
   "execution_count": 21,
   "metadata": {},
   "outputs": [],
   "source": [
    "tariffs.rename(columns={'tariff_name':'tariff'}, inplace=True)"
   ]
  },
  {
   "cell_type": "code",
   "execution_count": 22,
   "metadata": {},
   "outputs": [
    {
     "data": {
      "text/html": [
       "<div>\n",
       "<style scoped>\n",
       "    .dataframe tbody tr th:only-of-type {\n",
       "        vertical-align: middle;\n",
       "    }\n",
       "\n",
       "    .dataframe tbody tr th {\n",
       "        vertical-align: top;\n",
       "    }\n",
       "\n",
       "    .dataframe thead th {\n",
       "        text-align: right;\n",
       "    }\n",
       "</style>\n",
       "<table border=\"1\" class=\"dataframe\">\n",
       "  <thead>\n",
       "    <tr style=\"text-align: right;\">\n",
       "      <th></th>\n",
       "      <th>user_id</th>\n",
       "      <th>age</th>\n",
       "      <th>churn_date</th>\n",
       "      <th>city</th>\n",
       "      <th>first_name</th>\n",
       "      <th>last_name</th>\n",
       "      <th>reg_date</th>\n",
       "      <th>tariff</th>\n",
       "      <th>messages_included</th>\n",
       "      <th>mb_per_month_included</th>\n",
       "      <th>minutes_included</th>\n",
       "      <th>rub_monthly_fee</th>\n",
       "      <th>rub_per_gb</th>\n",
       "      <th>rub_per_message</th>\n",
       "      <th>rub_per_minute</th>\n",
       "    </tr>\n",
       "  </thead>\n",
       "  <tbody>\n",
       "    <tr>\n",
       "      <th>0</th>\n",
       "      <td>1000</td>\n",
       "      <td>52</td>\n",
       "      <td>NaT</td>\n",
       "      <td>Краснодар</td>\n",
       "      <td>Рафаил</td>\n",
       "      <td>Верещагин</td>\n",
       "      <td>2018-05-25</td>\n",
       "      <td>ultra</td>\n",
       "      <td>1000</td>\n",
       "      <td>30720</td>\n",
       "      <td>3000</td>\n",
       "      <td>1950</td>\n",
       "      <td>150</td>\n",
       "      <td>1</td>\n",
       "      <td>1</td>\n",
       "    </tr>\n",
       "    <tr>\n",
       "      <th>1</th>\n",
       "      <td>1001</td>\n",
       "      <td>41</td>\n",
       "      <td>NaT</td>\n",
       "      <td>Москва</td>\n",
       "      <td>Иван</td>\n",
       "      <td>Ежов</td>\n",
       "      <td>2018-11-01</td>\n",
       "      <td>smart</td>\n",
       "      <td>50</td>\n",
       "      <td>15360</td>\n",
       "      <td>500</td>\n",
       "      <td>550</td>\n",
       "      <td>200</td>\n",
       "      <td>3</td>\n",
       "      <td>3</td>\n",
       "    </tr>\n",
       "    <tr>\n",
       "      <th>2</th>\n",
       "      <td>1002</td>\n",
       "      <td>59</td>\n",
       "      <td>NaT</td>\n",
       "      <td>Стерлитамак</td>\n",
       "      <td>Евгений</td>\n",
       "      <td>Абрамович</td>\n",
       "      <td>2018-06-17</td>\n",
       "      <td>smart</td>\n",
       "      <td>50</td>\n",
       "      <td>15360</td>\n",
       "      <td>500</td>\n",
       "      <td>550</td>\n",
       "      <td>200</td>\n",
       "      <td>3</td>\n",
       "      <td>3</td>\n",
       "    </tr>\n",
       "    <tr>\n",
       "      <th>3</th>\n",
       "      <td>1003</td>\n",
       "      <td>23</td>\n",
       "      <td>NaT</td>\n",
       "      <td>Москва</td>\n",
       "      <td>Белла</td>\n",
       "      <td>Белякова</td>\n",
       "      <td>2018-08-17</td>\n",
       "      <td>ultra</td>\n",
       "      <td>1000</td>\n",
       "      <td>30720</td>\n",
       "      <td>3000</td>\n",
       "      <td>1950</td>\n",
       "      <td>150</td>\n",
       "      <td>1</td>\n",
       "      <td>1</td>\n",
       "    </tr>\n",
       "    <tr>\n",
       "      <th>4</th>\n",
       "      <td>1004</td>\n",
       "      <td>68</td>\n",
       "      <td>NaT</td>\n",
       "      <td>Новокузнецк</td>\n",
       "      <td>Татьяна</td>\n",
       "      <td>Авдеенко</td>\n",
       "      <td>2018-05-14</td>\n",
       "      <td>ultra</td>\n",
       "      <td>1000</td>\n",
       "      <td>30720</td>\n",
       "      <td>3000</td>\n",
       "      <td>1950</td>\n",
       "      <td>150</td>\n",
       "      <td>1</td>\n",
       "      <td>1</td>\n",
       "    </tr>\n",
       "    <tr>\n",
       "      <th>...</th>\n",
       "      <td>...</td>\n",
       "      <td>...</td>\n",
       "      <td>...</td>\n",
       "      <td>...</td>\n",
       "      <td>...</td>\n",
       "      <td>...</td>\n",
       "      <td>...</td>\n",
       "      <td>...</td>\n",
       "      <td>...</td>\n",
       "      <td>...</td>\n",
       "      <td>...</td>\n",
       "      <td>...</td>\n",
       "      <td>...</td>\n",
       "      <td>...</td>\n",
       "      <td>...</td>\n",
       "    </tr>\n",
       "    <tr>\n",
       "      <th>495</th>\n",
       "      <td>1495</td>\n",
       "      <td>65</td>\n",
       "      <td>NaT</td>\n",
       "      <td>Иркутск</td>\n",
       "      <td>Авксентий</td>\n",
       "      <td>Фокин</td>\n",
       "      <td>2018-08-28</td>\n",
       "      <td>ultra</td>\n",
       "      <td>1000</td>\n",
       "      <td>30720</td>\n",
       "      <td>3000</td>\n",
       "      <td>1950</td>\n",
       "      <td>150</td>\n",
       "      <td>1</td>\n",
       "      <td>1</td>\n",
       "    </tr>\n",
       "    <tr>\n",
       "      <th>496</th>\n",
       "      <td>1496</td>\n",
       "      <td>36</td>\n",
       "      <td>NaT</td>\n",
       "      <td>Вологда</td>\n",
       "      <td>Трифон</td>\n",
       "      <td>Блохин</td>\n",
       "      <td>2018-01-27</td>\n",
       "      <td>smart</td>\n",
       "      <td>50</td>\n",
       "      <td>15360</td>\n",
       "      <td>500</td>\n",
       "      <td>550</td>\n",
       "      <td>200</td>\n",
       "      <td>3</td>\n",
       "      <td>3</td>\n",
       "    </tr>\n",
       "    <tr>\n",
       "      <th>497</th>\n",
       "      <td>1497</td>\n",
       "      <td>32</td>\n",
       "      <td>NaT</td>\n",
       "      <td>Челябинск</td>\n",
       "      <td>Каролина</td>\n",
       "      <td>Агеева</td>\n",
       "      <td>2018-10-09</td>\n",
       "      <td>smart</td>\n",
       "      <td>50</td>\n",
       "      <td>15360</td>\n",
       "      <td>500</td>\n",
       "      <td>550</td>\n",
       "      <td>200</td>\n",
       "      <td>3</td>\n",
       "      <td>3</td>\n",
       "    </tr>\n",
       "    <tr>\n",
       "      <th>498</th>\n",
       "      <td>1498</td>\n",
       "      <td>68</td>\n",
       "      <td>2018-10-25</td>\n",
       "      <td>Владикавказ</td>\n",
       "      <td>Всеволод</td>\n",
       "      <td>Акимчин</td>\n",
       "      <td>2018-07-19</td>\n",
       "      <td>smart</td>\n",
       "      <td>50</td>\n",
       "      <td>15360</td>\n",
       "      <td>500</td>\n",
       "      <td>550</td>\n",
       "      <td>200</td>\n",
       "      <td>3</td>\n",
       "      <td>3</td>\n",
       "    </tr>\n",
       "    <tr>\n",
       "      <th>499</th>\n",
       "      <td>1499</td>\n",
       "      <td>35</td>\n",
       "      <td>NaT</td>\n",
       "      <td>Пермь</td>\n",
       "      <td>Гектор</td>\n",
       "      <td>Корнилов</td>\n",
       "      <td>2018-09-27</td>\n",
       "      <td>smart</td>\n",
       "      <td>50</td>\n",
       "      <td>15360</td>\n",
       "      <td>500</td>\n",
       "      <td>550</td>\n",
       "      <td>200</td>\n",
       "      <td>3</td>\n",
       "      <td>3</td>\n",
       "    </tr>\n",
       "  </tbody>\n",
       "</table>\n",
       "<p>500 rows × 15 columns</p>\n",
       "</div>"
      ],
      "text/plain": [
       "     user_id  age churn_date         city first_name  last_name   reg_date  \\\n",
       "0       1000   52        NaT    Краснодар     Рафаил  Верещагин 2018-05-25   \n",
       "1       1001   41        NaT       Москва       Иван       Ежов 2018-11-01   \n",
       "2       1002   59        NaT  Стерлитамак    Евгений  Абрамович 2018-06-17   \n",
       "3       1003   23        NaT       Москва      Белла   Белякова 2018-08-17   \n",
       "4       1004   68        NaT  Новокузнецк    Татьяна   Авдеенко 2018-05-14   \n",
       "..       ...  ...        ...          ...        ...        ...        ...   \n",
       "495     1495   65        NaT      Иркутск  Авксентий      Фокин 2018-08-28   \n",
       "496     1496   36        NaT      Вологда     Трифон     Блохин 2018-01-27   \n",
       "497     1497   32        NaT    Челябинск   Каролина     Агеева 2018-10-09   \n",
       "498     1498   68 2018-10-25  Владикавказ   Всеволод    Акимчин 2018-07-19   \n",
       "499     1499   35        NaT        Пермь     Гектор   Корнилов 2018-09-27   \n",
       "\n",
       "    tariff  messages_included  mb_per_month_included  minutes_included  \\\n",
       "0    ultra               1000                  30720              3000   \n",
       "1    smart                 50                  15360               500   \n",
       "2    smart                 50                  15360               500   \n",
       "3    ultra               1000                  30720              3000   \n",
       "4    ultra               1000                  30720              3000   \n",
       "..     ...                ...                    ...               ...   \n",
       "495  ultra               1000                  30720              3000   \n",
       "496  smart                 50                  15360               500   \n",
       "497  smart                 50                  15360               500   \n",
       "498  smart                 50                  15360               500   \n",
       "499  smart                 50                  15360               500   \n",
       "\n",
       "     rub_monthly_fee  rub_per_gb  rub_per_message  rub_per_minute  \n",
       "0               1950         150                1               1  \n",
       "1                550         200                3               3  \n",
       "2                550         200                3               3  \n",
       "3               1950         150                1               1  \n",
       "4               1950         150                1               1  \n",
       "..               ...         ...              ...             ...  \n",
       "495             1950         150                1               1  \n",
       "496              550         200                3               3  \n",
       "497              550         200                3               3  \n",
       "498              550         200                3               3  \n",
       "499              550         200                3               3  \n",
       "\n",
       "[500 rows x 15 columns]"
      ]
     },
     "metadata": {},
     "output_type": "display_data"
    }
   ],
   "source": [
    "#Соединили users,tariffs\n",
    "users_tariffs = users.merge(tariffs,on = ['tariff'],how ='left')\n",
    "display(users_tariffs)"
   ]
  },
  {
   "cell_type": "code",
   "execution_count": 23,
   "metadata": {},
   "outputs": [
    {
     "data": {
      "text/html": [
       "<div>\n",
       "<style scoped>\n",
       "    .dataframe tbody tr th:only-of-type {\n",
       "        vertical-align: middle;\n",
       "    }\n",
       "\n",
       "    .dataframe tbody tr th {\n",
       "        vertical-align: top;\n",
       "    }\n",
       "\n",
       "    .dataframe thead th {\n",
       "        text-align: right;\n",
       "    }\n",
       "</style>\n",
       "<table border=\"1\" class=\"dataframe\">\n",
       "  <thead>\n",
       "    <tr style=\"text-align: right;\">\n",
       "      <th></th>\n",
       "      <th>index</th>\n",
       "      <th>user_id</th>\n",
       "      <th>month</th>\n",
       "      <th>total_minute</th>\n",
       "      <th>total_calls</th>\n",
       "      <th>total_sms</th>\n",
       "      <th>total_mb</th>\n",
       "      <th>total_session</th>\n",
       "      <th>age</th>\n",
       "      <th>churn_date</th>\n",
       "      <th>city</th>\n",
       "      <th>first_name</th>\n",
       "      <th>last_name</th>\n",
       "      <th>reg_date</th>\n",
       "      <th>tariff</th>\n",
       "      <th>messages_included</th>\n",
       "      <th>mb_per_month_included</th>\n",
       "      <th>minutes_included</th>\n",
       "      <th>rub_monthly_fee</th>\n",
       "      <th>rub_per_gb</th>\n",
       "      <th>rub_per_message</th>\n",
       "      <th>rub_per_minute</th>\n",
       "    </tr>\n",
       "  </thead>\n",
       "  <tbody>\n",
       "    <tr>\n",
       "      <th>0</th>\n",
       "      <td>0</td>\n",
       "      <td>1000</td>\n",
       "      <td>5.00</td>\n",
       "      <td>159.00</td>\n",
       "      <td>22.00</td>\n",
       "      <td>22.00</td>\n",
       "      <td>2.20</td>\n",
       "      <td>5.00</td>\n",
       "      <td>52</td>\n",
       "      <td>NaT</td>\n",
       "      <td>Краснодар</td>\n",
       "      <td>Рафаил</td>\n",
       "      <td>Верещагин</td>\n",
       "      <td>2018-05-25</td>\n",
       "      <td>ultra</td>\n",
       "      <td>1000</td>\n",
       "      <td>30720</td>\n",
       "      <td>3000</td>\n",
       "      <td>1950</td>\n",
       "      <td>150</td>\n",
       "      <td>1</td>\n",
       "      <td>1</td>\n",
       "    </tr>\n",
       "    <tr>\n",
       "      <th>1</th>\n",
       "      <td>1</td>\n",
       "      <td>1000</td>\n",
       "      <td>6.00</td>\n",
       "      <td>172.00</td>\n",
       "      <td>43.00</td>\n",
       "      <td>60.00</td>\n",
       "      <td>22.69</td>\n",
       "      <td>49.00</td>\n",
       "      <td>52</td>\n",
       "      <td>NaT</td>\n",
       "      <td>Краснодар</td>\n",
       "      <td>Рафаил</td>\n",
       "      <td>Верещагин</td>\n",
       "      <td>2018-05-25</td>\n",
       "      <td>ultra</td>\n",
       "      <td>1000</td>\n",
       "      <td>30720</td>\n",
       "      <td>3000</td>\n",
       "      <td>1950</td>\n",
       "      <td>150</td>\n",
       "      <td>1</td>\n",
       "      <td>1</td>\n",
       "    </tr>\n",
       "    <tr>\n",
       "      <th>2</th>\n",
       "      <td>2</td>\n",
       "      <td>1000</td>\n",
       "      <td>7.00</td>\n",
       "      <td>340.00</td>\n",
       "      <td>47.00</td>\n",
       "      <td>75.00</td>\n",
       "      <td>13.68</td>\n",
       "      <td>29.00</td>\n",
       "      <td>52</td>\n",
       "      <td>NaT</td>\n",
       "      <td>Краснодар</td>\n",
       "      <td>Рафаил</td>\n",
       "      <td>Верещагин</td>\n",
       "      <td>2018-05-25</td>\n",
       "      <td>ultra</td>\n",
       "      <td>1000</td>\n",
       "      <td>30720</td>\n",
       "      <td>3000</td>\n",
       "      <td>1950</td>\n",
       "      <td>150</td>\n",
       "      <td>1</td>\n",
       "      <td>1</td>\n",
       "    </tr>\n",
       "    <tr>\n",
       "      <th>3</th>\n",
       "      <td>3</td>\n",
       "      <td>1000</td>\n",
       "      <td>8.00</td>\n",
       "      <td>408.00</td>\n",
       "      <td>52.00</td>\n",
       "      <td>81.00</td>\n",
       "      <td>13.73</td>\n",
       "      <td>29.00</td>\n",
       "      <td>52</td>\n",
       "      <td>NaT</td>\n",
       "      <td>Краснодар</td>\n",
       "      <td>Рафаил</td>\n",
       "      <td>Верещагин</td>\n",
       "      <td>2018-05-25</td>\n",
       "      <td>ultra</td>\n",
       "      <td>1000</td>\n",
       "      <td>30720</td>\n",
       "      <td>3000</td>\n",
       "      <td>1950</td>\n",
       "      <td>150</td>\n",
       "      <td>1</td>\n",
       "      <td>1</td>\n",
       "    </tr>\n",
       "    <tr>\n",
       "      <th>4</th>\n",
       "      <td>4</td>\n",
       "      <td>1000</td>\n",
       "      <td>9.00</td>\n",
       "      <td>466.00</td>\n",
       "      <td>58.00</td>\n",
       "      <td>57.00</td>\n",
       "      <td>14.23</td>\n",
       "      <td>27.00</td>\n",
       "      <td>52</td>\n",
       "      <td>NaT</td>\n",
       "      <td>Краснодар</td>\n",
       "      <td>Рафаил</td>\n",
       "      <td>Верещагин</td>\n",
       "      <td>2018-05-25</td>\n",
       "      <td>ultra</td>\n",
       "      <td>1000</td>\n",
       "      <td>30720</td>\n",
       "      <td>3000</td>\n",
       "      <td>1950</td>\n",
       "      <td>150</td>\n",
       "      <td>1</td>\n",
       "      <td>1</td>\n",
       "    </tr>\n",
       "    <tr>\n",
       "      <th>...</th>\n",
       "      <td>...</td>\n",
       "      <td>...</td>\n",
       "      <td>...</td>\n",
       "      <td>...</td>\n",
       "      <td>...</td>\n",
       "      <td>...</td>\n",
       "      <td>...</td>\n",
       "      <td>...</td>\n",
       "      <td>...</td>\n",
       "      <td>...</td>\n",
       "      <td>...</td>\n",
       "      <td>...</td>\n",
       "      <td>...</td>\n",
       "      <td>...</td>\n",
       "      <td>...</td>\n",
       "      <td>...</td>\n",
       "      <td>...</td>\n",
       "      <td>...</td>\n",
       "      <td>...</td>\n",
       "      <td>...</td>\n",
       "      <td>...</td>\n",
       "      <td>...</td>\n",
       "    </tr>\n",
       "    <tr>\n",
       "      <th>3211</th>\n",
       "      <td>3211</td>\n",
       "      <td>1489</td>\n",
       "      <td>10.00</td>\n",
       "      <td>NaN</td>\n",
       "      <td>NaN</td>\n",
       "      <td>21.00</td>\n",
       "      <td>19.10</td>\n",
       "      <td>63.00</td>\n",
       "      <td>35</td>\n",
       "      <td>NaT</td>\n",
       "      <td>Санкт-Петербург</td>\n",
       "      <td>Павел</td>\n",
       "      <td>Гончаров</td>\n",
       "      <td>2018-08-15</td>\n",
       "      <td>smart</td>\n",
       "      <td>50</td>\n",
       "      <td>15360</td>\n",
       "      <td>500</td>\n",
       "      <td>550</td>\n",
       "      <td>200</td>\n",
       "      <td>3</td>\n",
       "      <td>3</td>\n",
       "    </tr>\n",
       "    <tr>\n",
       "      <th>3212</th>\n",
       "      <td>3212</td>\n",
       "      <td>1489</td>\n",
       "      <td>11.00</td>\n",
       "      <td>NaN</td>\n",
       "      <td>NaN</td>\n",
       "      <td>20.00</td>\n",
       "      <td>17.08</td>\n",
       "      <td>55.00</td>\n",
       "      <td>35</td>\n",
       "      <td>NaT</td>\n",
       "      <td>Санкт-Петербург</td>\n",
       "      <td>Павел</td>\n",
       "      <td>Гончаров</td>\n",
       "      <td>2018-08-15</td>\n",
       "      <td>smart</td>\n",
       "      <td>50</td>\n",
       "      <td>15360</td>\n",
       "      <td>500</td>\n",
       "      <td>550</td>\n",
       "      <td>200</td>\n",
       "      <td>3</td>\n",
       "      <td>3</td>\n",
       "    </tr>\n",
       "    <tr>\n",
       "      <th>3213</th>\n",
       "      <td>3213</td>\n",
       "      <td>1489</td>\n",
       "      <td>12.00</td>\n",
       "      <td>NaN</td>\n",
       "      <td>NaN</td>\n",
       "      <td>35.00</td>\n",
       "      <td>16.92</td>\n",
       "      <td>51.00</td>\n",
       "      <td>35</td>\n",
       "      <td>NaT</td>\n",
       "      <td>Санкт-Петербург</td>\n",
       "      <td>Павел</td>\n",
       "      <td>Гончаров</td>\n",
       "      <td>2018-08-15</td>\n",
       "      <td>smart</td>\n",
       "      <td>50</td>\n",
       "      <td>15360</td>\n",
       "      <td>500</td>\n",
       "      <td>550</td>\n",
       "      <td>200</td>\n",
       "      <td>3</td>\n",
       "      <td>3</td>\n",
       "    </tr>\n",
       "    <tr>\n",
       "      <th>3214</th>\n",
       "      <td>3214</td>\n",
       "      <td>1128</td>\n",
       "      <td>NaN</td>\n",
       "      <td>NaN</td>\n",
       "      <td>NaN</td>\n",
       "      <td>NaN</td>\n",
       "      <td>NaN</td>\n",
       "      <td>NaN</td>\n",
       "      <td>51</td>\n",
       "      <td>2018-12-23</td>\n",
       "      <td>Волжский</td>\n",
       "      <td>Ксения</td>\n",
       "      <td>Агаева</td>\n",
       "      <td>2018-12-15</td>\n",
       "      <td>ultra</td>\n",
       "      <td>1000</td>\n",
       "      <td>30720</td>\n",
       "      <td>3000</td>\n",
       "      <td>1950</td>\n",
       "      <td>150</td>\n",
       "      <td>1</td>\n",
       "      <td>1</td>\n",
       "    </tr>\n",
       "    <tr>\n",
       "      <th>3215</th>\n",
       "      <td>3215</td>\n",
       "      <td>1371</td>\n",
       "      <td>NaN</td>\n",
       "      <td>NaN</td>\n",
       "      <td>NaN</td>\n",
       "      <td>NaN</td>\n",
       "      <td>NaN</td>\n",
       "      <td>NaN</td>\n",
       "      <td>50</td>\n",
       "      <td>2018-12-30</td>\n",
       "      <td>Омск</td>\n",
       "      <td>Ириней</td>\n",
       "      <td>Трофимов</td>\n",
       "      <td>2018-12-25</td>\n",
       "      <td>smart</td>\n",
       "      <td>50</td>\n",
       "      <td>15360</td>\n",
       "      <td>500</td>\n",
       "      <td>550</td>\n",
       "      <td>200</td>\n",
       "      <td>3</td>\n",
       "      <td>3</td>\n",
       "    </tr>\n",
       "  </tbody>\n",
       "</table>\n",
       "<p>3216 rows × 22 columns</p>\n",
       "</div>"
      ],
      "text/plain": [
       "      index  user_id  month  total_minute  total_calls  total_sms  total_mb  \\\n",
       "0         0     1000   5.00        159.00        22.00      22.00      2.20   \n",
       "1         1     1000   6.00        172.00        43.00      60.00     22.69   \n",
       "2         2     1000   7.00        340.00        47.00      75.00     13.68   \n",
       "3         3     1000   8.00        408.00        52.00      81.00     13.73   \n",
       "4         4     1000   9.00        466.00        58.00      57.00     14.23   \n",
       "...     ...      ...    ...           ...          ...        ...       ...   \n",
       "3211   3211     1489  10.00           NaN          NaN      21.00     19.10   \n",
       "3212   3212     1489  11.00           NaN          NaN      20.00     17.08   \n",
       "3213   3213     1489  12.00           NaN          NaN      35.00     16.92   \n",
       "3214   3214     1128    NaN           NaN          NaN        NaN       NaN   \n",
       "3215   3215     1371    NaN           NaN          NaN        NaN       NaN   \n",
       "\n",
       "      total_session  age churn_date             city first_name  last_name  \\\n",
       "0              5.00   52        NaT        Краснодар     Рафаил  Верещагин   \n",
       "1             49.00   52        NaT        Краснодар     Рафаил  Верещагин   \n",
       "2             29.00   52        NaT        Краснодар     Рафаил  Верещагин   \n",
       "3             29.00   52        NaT        Краснодар     Рафаил  Верещагин   \n",
       "4             27.00   52        NaT        Краснодар     Рафаил  Верещагин   \n",
       "...             ...  ...        ...              ...        ...        ...   \n",
       "3211          63.00   35        NaT  Санкт-Петербург      Павел   Гончаров   \n",
       "3212          55.00   35        NaT  Санкт-Петербург      Павел   Гончаров   \n",
       "3213          51.00   35        NaT  Санкт-Петербург      Павел   Гончаров   \n",
       "3214            NaN   51 2018-12-23         Волжский     Ксения     Агаева   \n",
       "3215            NaN   50 2018-12-30             Омск     Ириней   Трофимов   \n",
       "\n",
       "       reg_date tariff  messages_included  mb_per_month_included  \\\n",
       "0    2018-05-25  ultra               1000                  30720   \n",
       "1    2018-05-25  ultra               1000                  30720   \n",
       "2    2018-05-25  ultra               1000                  30720   \n",
       "3    2018-05-25  ultra               1000                  30720   \n",
       "4    2018-05-25  ultra               1000                  30720   \n",
       "...         ...    ...                ...                    ...   \n",
       "3211 2018-08-15  smart                 50                  15360   \n",
       "3212 2018-08-15  smart                 50                  15360   \n",
       "3213 2018-08-15  smart                 50                  15360   \n",
       "3214 2018-12-15  ultra               1000                  30720   \n",
       "3215 2018-12-25  smart                 50                  15360   \n",
       "\n",
       "      minutes_included  rub_monthly_fee  rub_per_gb  rub_per_message  \\\n",
       "0                 3000             1950         150                1   \n",
       "1                 3000             1950         150                1   \n",
       "2                 3000             1950         150                1   \n",
       "3                 3000             1950         150                1   \n",
       "4                 3000             1950         150                1   \n",
       "...                ...              ...         ...              ...   \n",
       "3211               500              550         200                3   \n",
       "3212               500              550         200                3   \n",
       "3213               500              550         200                3   \n",
       "3214              3000             1950         150                1   \n",
       "3215               500              550         200                3   \n",
       "\n",
       "      rub_per_minute  \n",
       "0                  1  \n",
       "1                  1  \n",
       "2                  1  \n",
       "3                  1  \n",
       "4                  1  \n",
       "...              ...  \n",
       "3211               3  \n",
       "3212               3  \n",
       "3213               3  \n",
       "3214               1  \n",
       "3215               3  \n",
       "\n",
       "[3216 rows x 22 columns]"
      ]
     },
     "metadata": {},
     "output_type": "display_data"
    }
   ],
   "source": [
    "#Объединяем в одну таблицу\n",
    "df = df.merge(users_tariffs,on = ['user_id'],how ='outer').reset_index()\n",
    "display(df)"
   ]
  },
  {
   "cell_type": "code",
   "execution_count": 24,
   "metadata": {},
   "outputs": [
    {
     "name": "stdout",
     "output_type": "stream",
     "text": [
      "<class 'pandas.core.frame.DataFrame'>\n",
      "RangeIndex: 3216 entries, 0 to 3215\n",
      "Data columns (total 22 columns):\n",
      " #   Column                 Non-Null Count  Dtype         \n",
      "---  ------                 --------------  -----         \n",
      " 0   index                  3216 non-null   int64         \n",
      " 1   user_id                3216 non-null   int64         \n",
      " 2   month                  3214 non-null   float64       \n",
      " 3   total_minute           3174 non-null   float64       \n",
      " 4   total_calls            3174 non-null   float64       \n",
      " 5   total_sms              2717 non-null   float64       \n",
      " 6   total_mb               3203 non-null   float64       \n",
      " 7   total_session          3203 non-null   float64       \n",
      " 8   age                    3216 non-null   int64         \n",
      " 9   churn_date             189 non-null    datetime64[ns]\n",
      " 10  city                   3216 non-null   object        \n",
      " 11  first_name             3216 non-null   object        \n",
      " 12  last_name              3216 non-null   object        \n",
      " 13  reg_date               3216 non-null   datetime64[ns]\n",
      " 14  tariff                 3216 non-null   object        \n",
      " 15  messages_included      3216 non-null   int64         \n",
      " 16  mb_per_month_included  3216 non-null   int64         \n",
      " 17  minutes_included       3216 non-null   int64         \n",
      " 18  rub_monthly_fee        3216 non-null   int64         \n",
      " 19  rub_per_gb             3216 non-null   int64         \n",
      " 20  rub_per_message        3216 non-null   int64         \n",
      " 21  rub_per_minute         3216 non-null   int64         \n",
      "dtypes: datetime64[ns](2), float64(6), int64(10), object(4)\n",
      "memory usage: 552.9+ KB\n"
     ]
    }
   ],
   "source": [
    "df.info()"
   ]
  },
  {
   "cell_type": "code",
   "execution_count": 25,
   "metadata": {},
   "outputs": [
    {
     "data": {
      "text/plain": [
       "index                       0\n",
       "user_id                     0\n",
       "month                       2\n",
       "total_minute               42\n",
       "total_calls                42\n",
       "total_sms                 499\n",
       "total_mb                   13\n",
       "total_session              13\n",
       "age                         0\n",
       "churn_date               3027\n",
       "city                        0\n",
       "first_name                  0\n",
       "last_name                   0\n",
       "reg_date                    0\n",
       "tariff                      0\n",
       "messages_included           0\n",
       "mb_per_month_included       0\n",
       "minutes_included            0\n",
       "rub_monthly_fee             0\n",
       "rub_per_gb                  0\n",
       "rub_per_message             0\n",
       "rub_per_minute              0\n",
       "dtype: int64"
      ]
     },
     "execution_count": 25,
     "metadata": {},
     "output_type": "execute_result"
    }
   ],
   "source": [
    "# Количество пропусков\n",
    "df.isna().sum()"
   ]
  },
  {
   "cell_type": "markdown",
   "metadata": {},
   "source": [
    "Пропуски в столбцах:   \n",
    "* total_minute (количество израсходованных минут в месяц)  \n",
    "* total_calls (количество звонков в месяц)  \n",
    "* total_sms (количество смс в месяц)  \n",
    "* total_mb (количество израсходованных мегабайт в месяц)  \n",
    "* total_session (количество сессий в месяц)  \n",
    "* churn_date (действующие тарифы)  \n",
    "\n",
    "Пропуски объясняются тем, что кто-то покупает услуги связи только для звонков или только для выхода в интернет. \n",
    "\n"
   ]
  },
  {
   "cell_type": "code",
   "execution_count": 26,
   "metadata": {},
   "outputs": [],
   "source": [
    "# Заменим пропуски на нули и переводим в \"int\"\n",
    "df['month'] = df['month'].fillna(0).astype('int')\n",
    "df['total_minute'] = df['total_minute'].fillna(0).astype('int')\n",
    "df['total_calls'] = df['total_calls'].fillna(0).astype('int')\n",
    "df['total_sms'] = df['total_sms'].fillna(0).astype('int')\n",
    "df['total_mb'] = df['total_mb'].fillna(0).apply(np.ceil).astype('int')\n",
    "df['total_session'] = df['total_session'].fillna(0).astype('int')\n",
    "df['churn_date'] = df['churn_date'].fillna(0)\n"
   ]
  },
  {
   "cell_type": "markdown",
   "metadata": {},
   "source": [
    "### Окончательный вариант таблицы"
   ]
  },
  {
   "cell_type": "code",
   "execution_count": 27,
   "metadata": {},
   "outputs": [
    {
     "data": {
      "text/html": [
       "<div>\n",
       "<style scoped>\n",
       "    .dataframe tbody tr th:only-of-type {\n",
       "        vertical-align: middle;\n",
       "    }\n",
       "\n",
       "    .dataframe tbody tr th {\n",
       "        vertical-align: top;\n",
       "    }\n",
       "\n",
       "    .dataframe thead th {\n",
       "        text-align: right;\n",
       "    }\n",
       "</style>\n",
       "<table border=\"1\" class=\"dataframe\">\n",
       "  <thead>\n",
       "    <tr style=\"text-align: right;\">\n",
       "      <th></th>\n",
       "      <th>index</th>\n",
       "      <th>user_id</th>\n",
       "      <th>month</th>\n",
       "      <th>total_minute</th>\n",
       "      <th>total_calls</th>\n",
       "      <th>total_sms</th>\n",
       "      <th>total_mb</th>\n",
       "      <th>total_session</th>\n",
       "      <th>age</th>\n",
       "      <th>churn_date</th>\n",
       "      <th>city</th>\n",
       "      <th>first_name</th>\n",
       "      <th>last_name</th>\n",
       "      <th>reg_date</th>\n",
       "      <th>tariff</th>\n",
       "      <th>messages_included</th>\n",
       "      <th>mb_per_month_included</th>\n",
       "      <th>minutes_included</th>\n",
       "      <th>rub_monthly_fee</th>\n",
       "      <th>rub_per_gb</th>\n",
       "      <th>rub_per_message</th>\n",
       "      <th>rub_per_minute</th>\n",
       "    </tr>\n",
       "  </thead>\n",
       "  <tbody>\n",
       "    <tr>\n",
       "      <th>0</th>\n",
       "      <td>0</td>\n",
       "      <td>1000</td>\n",
       "      <td>5</td>\n",
       "      <td>159</td>\n",
       "      <td>22</td>\n",
       "      <td>22</td>\n",
       "      <td>3</td>\n",
       "      <td>5</td>\n",
       "      <td>52</td>\n",
       "      <td>0</td>\n",
       "      <td>Краснодар</td>\n",
       "      <td>Рафаил</td>\n",
       "      <td>Верещагин</td>\n",
       "      <td>2018-05-25</td>\n",
       "      <td>ultra</td>\n",
       "      <td>1000</td>\n",
       "      <td>30720</td>\n",
       "      <td>3000</td>\n",
       "      <td>1950</td>\n",
       "      <td>150</td>\n",
       "      <td>1</td>\n",
       "      <td>1</td>\n",
       "    </tr>\n",
       "    <tr>\n",
       "      <th>1</th>\n",
       "      <td>1</td>\n",
       "      <td>1000</td>\n",
       "      <td>6</td>\n",
       "      <td>172</td>\n",
       "      <td>43</td>\n",
       "      <td>60</td>\n",
       "      <td>23</td>\n",
       "      <td>49</td>\n",
       "      <td>52</td>\n",
       "      <td>0</td>\n",
       "      <td>Краснодар</td>\n",
       "      <td>Рафаил</td>\n",
       "      <td>Верещагин</td>\n",
       "      <td>2018-05-25</td>\n",
       "      <td>ultra</td>\n",
       "      <td>1000</td>\n",
       "      <td>30720</td>\n",
       "      <td>3000</td>\n",
       "      <td>1950</td>\n",
       "      <td>150</td>\n",
       "      <td>1</td>\n",
       "      <td>1</td>\n",
       "    </tr>\n",
       "    <tr>\n",
       "      <th>2</th>\n",
       "      <td>2</td>\n",
       "      <td>1000</td>\n",
       "      <td>7</td>\n",
       "      <td>340</td>\n",
       "      <td>47</td>\n",
       "      <td>75</td>\n",
       "      <td>14</td>\n",
       "      <td>29</td>\n",
       "      <td>52</td>\n",
       "      <td>0</td>\n",
       "      <td>Краснодар</td>\n",
       "      <td>Рафаил</td>\n",
       "      <td>Верещагин</td>\n",
       "      <td>2018-05-25</td>\n",
       "      <td>ultra</td>\n",
       "      <td>1000</td>\n",
       "      <td>30720</td>\n",
       "      <td>3000</td>\n",
       "      <td>1950</td>\n",
       "      <td>150</td>\n",
       "      <td>1</td>\n",
       "      <td>1</td>\n",
       "    </tr>\n",
       "    <tr>\n",
       "      <th>3</th>\n",
       "      <td>3</td>\n",
       "      <td>1000</td>\n",
       "      <td>8</td>\n",
       "      <td>408</td>\n",
       "      <td>52</td>\n",
       "      <td>81</td>\n",
       "      <td>14</td>\n",
       "      <td>29</td>\n",
       "      <td>52</td>\n",
       "      <td>0</td>\n",
       "      <td>Краснодар</td>\n",
       "      <td>Рафаил</td>\n",
       "      <td>Верещагин</td>\n",
       "      <td>2018-05-25</td>\n",
       "      <td>ultra</td>\n",
       "      <td>1000</td>\n",
       "      <td>30720</td>\n",
       "      <td>3000</td>\n",
       "      <td>1950</td>\n",
       "      <td>150</td>\n",
       "      <td>1</td>\n",
       "      <td>1</td>\n",
       "    </tr>\n",
       "    <tr>\n",
       "      <th>4</th>\n",
       "      <td>4</td>\n",
       "      <td>1000</td>\n",
       "      <td>9</td>\n",
       "      <td>466</td>\n",
       "      <td>58</td>\n",
       "      <td>57</td>\n",
       "      <td>15</td>\n",
       "      <td>27</td>\n",
       "      <td>52</td>\n",
       "      <td>0</td>\n",
       "      <td>Краснодар</td>\n",
       "      <td>Рафаил</td>\n",
       "      <td>Верещагин</td>\n",
       "      <td>2018-05-25</td>\n",
       "      <td>ultra</td>\n",
       "      <td>1000</td>\n",
       "      <td>30720</td>\n",
       "      <td>3000</td>\n",
       "      <td>1950</td>\n",
       "      <td>150</td>\n",
       "      <td>1</td>\n",
       "      <td>1</td>\n",
       "    </tr>\n",
       "    <tr>\n",
       "      <th>...</th>\n",
       "      <td>...</td>\n",
       "      <td>...</td>\n",
       "      <td>...</td>\n",
       "      <td>...</td>\n",
       "      <td>...</td>\n",
       "      <td>...</td>\n",
       "      <td>...</td>\n",
       "      <td>...</td>\n",
       "      <td>...</td>\n",
       "      <td>...</td>\n",
       "      <td>...</td>\n",
       "      <td>...</td>\n",
       "      <td>...</td>\n",
       "      <td>...</td>\n",
       "      <td>...</td>\n",
       "      <td>...</td>\n",
       "      <td>...</td>\n",
       "      <td>...</td>\n",
       "      <td>...</td>\n",
       "      <td>...</td>\n",
       "      <td>...</td>\n",
       "      <td>...</td>\n",
       "    </tr>\n",
       "    <tr>\n",
       "      <th>3211</th>\n",
       "      <td>3211</td>\n",
       "      <td>1489</td>\n",
       "      <td>10</td>\n",
       "      <td>0</td>\n",
       "      <td>0</td>\n",
       "      <td>21</td>\n",
       "      <td>20</td>\n",
       "      <td>63</td>\n",
       "      <td>35</td>\n",
       "      <td>0</td>\n",
       "      <td>Санкт-Петербург</td>\n",
       "      <td>Павел</td>\n",
       "      <td>Гончаров</td>\n",
       "      <td>2018-08-15</td>\n",
       "      <td>smart</td>\n",
       "      <td>50</td>\n",
       "      <td>15360</td>\n",
       "      <td>500</td>\n",
       "      <td>550</td>\n",
       "      <td>200</td>\n",
       "      <td>3</td>\n",
       "      <td>3</td>\n",
       "    </tr>\n",
       "    <tr>\n",
       "      <th>3212</th>\n",
       "      <td>3212</td>\n",
       "      <td>1489</td>\n",
       "      <td>11</td>\n",
       "      <td>0</td>\n",
       "      <td>0</td>\n",
       "      <td>20</td>\n",
       "      <td>18</td>\n",
       "      <td>55</td>\n",
       "      <td>35</td>\n",
       "      <td>0</td>\n",
       "      <td>Санкт-Петербург</td>\n",
       "      <td>Павел</td>\n",
       "      <td>Гончаров</td>\n",
       "      <td>2018-08-15</td>\n",
       "      <td>smart</td>\n",
       "      <td>50</td>\n",
       "      <td>15360</td>\n",
       "      <td>500</td>\n",
       "      <td>550</td>\n",
       "      <td>200</td>\n",
       "      <td>3</td>\n",
       "      <td>3</td>\n",
       "    </tr>\n",
       "    <tr>\n",
       "      <th>3213</th>\n",
       "      <td>3213</td>\n",
       "      <td>1489</td>\n",
       "      <td>12</td>\n",
       "      <td>0</td>\n",
       "      <td>0</td>\n",
       "      <td>35</td>\n",
       "      <td>17</td>\n",
       "      <td>51</td>\n",
       "      <td>35</td>\n",
       "      <td>0</td>\n",
       "      <td>Санкт-Петербург</td>\n",
       "      <td>Павел</td>\n",
       "      <td>Гончаров</td>\n",
       "      <td>2018-08-15</td>\n",
       "      <td>smart</td>\n",
       "      <td>50</td>\n",
       "      <td>15360</td>\n",
       "      <td>500</td>\n",
       "      <td>550</td>\n",
       "      <td>200</td>\n",
       "      <td>3</td>\n",
       "      <td>3</td>\n",
       "    </tr>\n",
       "    <tr>\n",
       "      <th>3214</th>\n",
       "      <td>3214</td>\n",
       "      <td>1128</td>\n",
       "      <td>0</td>\n",
       "      <td>0</td>\n",
       "      <td>0</td>\n",
       "      <td>0</td>\n",
       "      <td>0</td>\n",
       "      <td>0</td>\n",
       "      <td>51</td>\n",
       "      <td>2018-12-23 00:00:00</td>\n",
       "      <td>Волжский</td>\n",
       "      <td>Ксения</td>\n",
       "      <td>Агаева</td>\n",
       "      <td>2018-12-15</td>\n",
       "      <td>ultra</td>\n",
       "      <td>1000</td>\n",
       "      <td>30720</td>\n",
       "      <td>3000</td>\n",
       "      <td>1950</td>\n",
       "      <td>150</td>\n",
       "      <td>1</td>\n",
       "      <td>1</td>\n",
       "    </tr>\n",
       "    <tr>\n",
       "      <th>3215</th>\n",
       "      <td>3215</td>\n",
       "      <td>1371</td>\n",
       "      <td>0</td>\n",
       "      <td>0</td>\n",
       "      <td>0</td>\n",
       "      <td>0</td>\n",
       "      <td>0</td>\n",
       "      <td>0</td>\n",
       "      <td>50</td>\n",
       "      <td>2018-12-30 00:00:00</td>\n",
       "      <td>Омск</td>\n",
       "      <td>Ириней</td>\n",
       "      <td>Трофимов</td>\n",
       "      <td>2018-12-25</td>\n",
       "      <td>smart</td>\n",
       "      <td>50</td>\n",
       "      <td>15360</td>\n",
       "      <td>500</td>\n",
       "      <td>550</td>\n",
       "      <td>200</td>\n",
       "      <td>3</td>\n",
       "      <td>3</td>\n",
       "    </tr>\n",
       "  </tbody>\n",
       "</table>\n",
       "<p>3216 rows × 22 columns</p>\n",
       "</div>"
      ],
      "text/plain": [
       "      index  user_id  month  total_minute  total_calls  total_sms  total_mb  \\\n",
       "0         0     1000      5           159           22         22         3   \n",
       "1         1     1000      6           172           43         60        23   \n",
       "2         2     1000      7           340           47         75        14   \n",
       "3         3     1000      8           408           52         81        14   \n",
       "4         4     1000      9           466           58         57        15   \n",
       "...     ...      ...    ...           ...          ...        ...       ...   \n",
       "3211   3211     1489     10             0            0         21        20   \n",
       "3212   3212     1489     11             0            0         20        18   \n",
       "3213   3213     1489     12             0            0         35        17   \n",
       "3214   3214     1128      0             0            0          0         0   \n",
       "3215   3215     1371      0             0            0          0         0   \n",
       "\n",
       "      total_session  age           churn_date             city first_name  \\\n",
       "0                 5   52                    0        Краснодар     Рафаил   \n",
       "1                49   52                    0        Краснодар     Рафаил   \n",
       "2                29   52                    0        Краснодар     Рафаил   \n",
       "3                29   52                    0        Краснодар     Рафаил   \n",
       "4                27   52                    0        Краснодар     Рафаил   \n",
       "...             ...  ...                  ...              ...        ...   \n",
       "3211             63   35                    0  Санкт-Петербург      Павел   \n",
       "3212             55   35                    0  Санкт-Петербург      Павел   \n",
       "3213             51   35                    0  Санкт-Петербург      Павел   \n",
       "3214              0   51  2018-12-23 00:00:00         Волжский     Ксения   \n",
       "3215              0   50  2018-12-30 00:00:00             Омск     Ириней   \n",
       "\n",
       "      last_name   reg_date tariff  messages_included  mb_per_month_included  \\\n",
       "0     Верещагин 2018-05-25  ultra               1000                  30720   \n",
       "1     Верещагин 2018-05-25  ultra               1000                  30720   \n",
       "2     Верещагин 2018-05-25  ultra               1000                  30720   \n",
       "3     Верещагин 2018-05-25  ultra               1000                  30720   \n",
       "4     Верещагин 2018-05-25  ultra               1000                  30720   \n",
       "...         ...        ...    ...                ...                    ...   \n",
       "3211   Гончаров 2018-08-15  smart                 50                  15360   \n",
       "3212   Гончаров 2018-08-15  smart                 50                  15360   \n",
       "3213   Гончаров 2018-08-15  smart                 50                  15360   \n",
       "3214     Агаева 2018-12-15  ultra               1000                  30720   \n",
       "3215   Трофимов 2018-12-25  smart                 50                  15360   \n",
       "\n",
       "      minutes_included  rub_monthly_fee  rub_per_gb  rub_per_message  \\\n",
       "0                 3000             1950         150                1   \n",
       "1                 3000             1950         150                1   \n",
       "2                 3000             1950         150                1   \n",
       "3                 3000             1950         150                1   \n",
       "4                 3000             1950         150                1   \n",
       "...                ...              ...         ...              ...   \n",
       "3211               500              550         200                3   \n",
       "3212               500              550         200                3   \n",
       "3213               500              550         200                3   \n",
       "3214              3000             1950         150                1   \n",
       "3215               500              550         200                3   \n",
       "\n",
       "      rub_per_minute  \n",
       "0                  1  \n",
       "1                  1  \n",
       "2                  1  \n",
       "3                  1  \n",
       "4                  1  \n",
       "...              ...  \n",
       "3211               3  \n",
       "3212               3  \n",
       "3213               3  \n",
       "3214               1  \n",
       "3215               3  \n",
       "\n",
       "[3216 rows x 22 columns]"
      ]
     },
     "metadata": {},
     "output_type": "display_data"
    },
    {
     "name": "stdout",
     "output_type": "stream",
     "text": [
      "<class 'pandas.core.frame.DataFrame'>\n",
      "RangeIndex: 3216 entries, 0 to 3215\n",
      "Data columns (total 22 columns):\n",
      " #   Column                 Non-Null Count  Dtype         \n",
      "---  ------                 --------------  -----         \n",
      " 0   index                  3216 non-null   int64         \n",
      " 1   user_id                3216 non-null   int64         \n",
      " 2   month                  3216 non-null   int64         \n",
      " 3   total_minute           3216 non-null   int64         \n",
      " 4   total_calls            3216 non-null   int64         \n",
      " 5   total_sms              3216 non-null   int64         \n",
      " 6   total_mb               3216 non-null   int64         \n",
      " 7   total_session          3216 non-null   int64         \n",
      " 8   age                    3216 non-null   int64         \n",
      " 9   churn_date             3216 non-null   object        \n",
      " 10  city                   3216 non-null   object        \n",
      " 11  first_name             3216 non-null   object        \n",
      " 12  last_name              3216 non-null   object        \n",
      " 13  reg_date               3216 non-null   datetime64[ns]\n",
      " 14  tariff                 3216 non-null   object        \n",
      " 15  messages_included      3216 non-null   int64         \n",
      " 16  mb_per_month_included  3216 non-null   int64         \n",
      " 17  minutes_included       3216 non-null   int64         \n",
      " 18  rub_monthly_fee        3216 non-null   int64         \n",
      " 19  rub_per_gb             3216 non-null   int64         \n",
      " 20  rub_per_message        3216 non-null   int64         \n",
      " 21  rub_per_minute         3216 non-null   int64         \n",
      "dtypes: datetime64[ns](1), int64(16), object(5)\n",
      "memory usage: 552.9+ KB\n"
     ]
    }
   ],
   "source": [
    "# Смотрим что получилось\n",
    "display(df)\n",
    "df.info()"
   ]
  },
  {
   "cell_type": "markdown",
   "metadata": {},
   "source": [
    "### Считаем выручку "
   ]
  },
  {
   "cell_type": "code",
   "execution_count": 28,
   "metadata": {},
   "outputs": [],
   "source": [
    "def tariffs(row):\n",
    "    if row['tariff'] == 'smart':\n",
    "        if row['total_minute'] > 500:\n",
    "            call = (row['total_minute'] - 500)*3\n",
    "        else:\n",
    "            call = 0\n",
    "        if row['total_sms'] > 50:\n",
    "            sms = (row['total_sms'] - 50)*3\n",
    "        else:\n",
    "            sms = 0\n",
    "        if row['total_mb'] > 15:\n",
    "            mgb = (row['total_mb'] - 15)*200\n",
    "        else:\n",
    "            mgb = 0\n",
    "        smart_rev =  call + mgb + sms + 550\n",
    "    if row['tariff'] == 'ultra':\n",
    "        if row['total_minute'] > 3000:\n",
    "            call = (row['total_minute'] - 3000)*1\n",
    "        else:\n",
    "            call = 0\n",
    "        if row['total_sms'] > 1000:\n",
    "            sms = (row['total_sms'] - 1000)*1\n",
    "        else:\n",
    "            sms = 0\n",
    "        if row['total_mb'] > 30:\n",
    "            mgb = (row['total_mb'] - 30)*150\n",
    "        else:\n",
    "            mgb = 0\n",
    "        smart_rev =  call + mgb + sms + 1950\n",
    "    \n",
    "    return smart_rev\n",
    "\n",
    "\n"
   ]
  },
  {
   "cell_type": "markdown",
   "metadata": {},
   "source": [
    "Это третий вариант функции, который вывел адекватные цифры. До этого получалась ерунда. Читала, что можно было обойтись без функции. Подскажите как?"
   ]
  },
  {
   "cell_type": "code",
   "execution_count": 29,
   "metadata": {},
   "outputs": [],
   "source": [
    "df['revenue'] = df.apply(tariffs, axis=1)"
   ]
  },
  {
   "cell_type": "code",
   "execution_count": 30,
   "metadata": {
    "scrolled": false
   },
   "outputs": [
    {
     "data": {
      "text/html": [
       "<div>\n",
       "<style scoped>\n",
       "    .dataframe tbody tr th:only-of-type {\n",
       "        vertical-align: middle;\n",
       "    }\n",
       "\n",
       "    .dataframe tbody tr th {\n",
       "        vertical-align: top;\n",
       "    }\n",
       "\n",
       "    .dataframe thead th {\n",
       "        text-align: right;\n",
       "    }\n",
       "</style>\n",
       "<table border=\"1\" class=\"dataframe\">\n",
       "  <thead>\n",
       "    <tr style=\"text-align: right;\">\n",
       "      <th></th>\n",
       "      <th>index</th>\n",
       "      <th>user_id</th>\n",
       "      <th>month</th>\n",
       "      <th>total_minute</th>\n",
       "      <th>total_calls</th>\n",
       "      <th>total_sms</th>\n",
       "      <th>total_mb</th>\n",
       "      <th>total_session</th>\n",
       "      <th>age</th>\n",
       "      <th>churn_date</th>\n",
       "      <th>city</th>\n",
       "      <th>first_name</th>\n",
       "      <th>last_name</th>\n",
       "      <th>reg_date</th>\n",
       "      <th>tariff</th>\n",
       "      <th>messages_included</th>\n",
       "      <th>mb_per_month_included</th>\n",
       "      <th>minutes_included</th>\n",
       "      <th>rub_monthly_fee</th>\n",
       "      <th>rub_per_gb</th>\n",
       "      <th>rub_per_message</th>\n",
       "      <th>rub_per_minute</th>\n",
       "      <th>revenue</th>\n",
       "    </tr>\n",
       "  </thead>\n",
       "  <tbody>\n",
       "    <tr>\n",
       "      <th>0</th>\n",
       "      <td>0</td>\n",
       "      <td>1000</td>\n",
       "      <td>5</td>\n",
       "      <td>159</td>\n",
       "      <td>22</td>\n",
       "      <td>22</td>\n",
       "      <td>3</td>\n",
       "      <td>5</td>\n",
       "      <td>52</td>\n",
       "      <td>0</td>\n",
       "      <td>Краснодар</td>\n",
       "      <td>Рафаил</td>\n",
       "      <td>Верещагин</td>\n",
       "      <td>2018-05-25</td>\n",
       "      <td>ultra</td>\n",
       "      <td>1000</td>\n",
       "      <td>30720</td>\n",
       "      <td>3000</td>\n",
       "      <td>1950</td>\n",
       "      <td>150</td>\n",
       "      <td>1</td>\n",
       "      <td>1</td>\n",
       "      <td>1950</td>\n",
       "    </tr>\n",
       "    <tr>\n",
       "      <th>1</th>\n",
       "      <td>1</td>\n",
       "      <td>1000</td>\n",
       "      <td>6</td>\n",
       "      <td>172</td>\n",
       "      <td>43</td>\n",
       "      <td>60</td>\n",
       "      <td>23</td>\n",
       "      <td>49</td>\n",
       "      <td>52</td>\n",
       "      <td>0</td>\n",
       "      <td>Краснодар</td>\n",
       "      <td>Рафаил</td>\n",
       "      <td>Верещагин</td>\n",
       "      <td>2018-05-25</td>\n",
       "      <td>ultra</td>\n",
       "      <td>1000</td>\n",
       "      <td>30720</td>\n",
       "      <td>3000</td>\n",
       "      <td>1950</td>\n",
       "      <td>150</td>\n",
       "      <td>1</td>\n",
       "      <td>1</td>\n",
       "      <td>1950</td>\n",
       "    </tr>\n",
       "    <tr>\n",
       "      <th>2</th>\n",
       "      <td>2</td>\n",
       "      <td>1000</td>\n",
       "      <td>7</td>\n",
       "      <td>340</td>\n",
       "      <td>47</td>\n",
       "      <td>75</td>\n",
       "      <td>14</td>\n",
       "      <td>29</td>\n",
       "      <td>52</td>\n",
       "      <td>0</td>\n",
       "      <td>Краснодар</td>\n",
       "      <td>Рафаил</td>\n",
       "      <td>Верещагин</td>\n",
       "      <td>2018-05-25</td>\n",
       "      <td>ultra</td>\n",
       "      <td>1000</td>\n",
       "      <td>30720</td>\n",
       "      <td>3000</td>\n",
       "      <td>1950</td>\n",
       "      <td>150</td>\n",
       "      <td>1</td>\n",
       "      <td>1</td>\n",
       "      <td>1950</td>\n",
       "    </tr>\n",
       "    <tr>\n",
       "      <th>3</th>\n",
       "      <td>3</td>\n",
       "      <td>1000</td>\n",
       "      <td>8</td>\n",
       "      <td>408</td>\n",
       "      <td>52</td>\n",
       "      <td>81</td>\n",
       "      <td>14</td>\n",
       "      <td>29</td>\n",
       "      <td>52</td>\n",
       "      <td>0</td>\n",
       "      <td>Краснодар</td>\n",
       "      <td>Рафаил</td>\n",
       "      <td>Верещагин</td>\n",
       "      <td>2018-05-25</td>\n",
       "      <td>ultra</td>\n",
       "      <td>1000</td>\n",
       "      <td>30720</td>\n",
       "      <td>3000</td>\n",
       "      <td>1950</td>\n",
       "      <td>150</td>\n",
       "      <td>1</td>\n",
       "      <td>1</td>\n",
       "      <td>1950</td>\n",
       "    </tr>\n",
       "    <tr>\n",
       "      <th>4</th>\n",
       "      <td>4</td>\n",
       "      <td>1000</td>\n",
       "      <td>9</td>\n",
       "      <td>466</td>\n",
       "      <td>58</td>\n",
       "      <td>57</td>\n",
       "      <td>15</td>\n",
       "      <td>27</td>\n",
       "      <td>52</td>\n",
       "      <td>0</td>\n",
       "      <td>Краснодар</td>\n",
       "      <td>Рафаил</td>\n",
       "      <td>Верещагин</td>\n",
       "      <td>2018-05-25</td>\n",
       "      <td>ultra</td>\n",
       "      <td>1000</td>\n",
       "      <td>30720</td>\n",
       "      <td>3000</td>\n",
       "      <td>1950</td>\n",
       "      <td>150</td>\n",
       "      <td>1</td>\n",
       "      <td>1</td>\n",
       "      <td>1950</td>\n",
       "    </tr>\n",
       "    <tr>\n",
       "      <th>...</th>\n",
       "      <td>...</td>\n",
       "      <td>...</td>\n",
       "      <td>...</td>\n",
       "      <td>...</td>\n",
       "      <td>...</td>\n",
       "      <td>...</td>\n",
       "      <td>...</td>\n",
       "      <td>...</td>\n",
       "      <td>...</td>\n",
       "      <td>...</td>\n",
       "      <td>...</td>\n",
       "      <td>...</td>\n",
       "      <td>...</td>\n",
       "      <td>...</td>\n",
       "      <td>...</td>\n",
       "      <td>...</td>\n",
       "      <td>...</td>\n",
       "      <td>...</td>\n",
       "      <td>...</td>\n",
       "      <td>...</td>\n",
       "      <td>...</td>\n",
       "      <td>...</td>\n",
       "      <td>...</td>\n",
       "    </tr>\n",
       "    <tr>\n",
       "      <th>3211</th>\n",
       "      <td>3211</td>\n",
       "      <td>1489</td>\n",
       "      <td>10</td>\n",
       "      <td>0</td>\n",
       "      <td>0</td>\n",
       "      <td>21</td>\n",
       "      <td>20</td>\n",
       "      <td>63</td>\n",
       "      <td>35</td>\n",
       "      <td>0</td>\n",
       "      <td>Санкт-Петербург</td>\n",
       "      <td>Павел</td>\n",
       "      <td>Гончаров</td>\n",
       "      <td>2018-08-15</td>\n",
       "      <td>smart</td>\n",
       "      <td>50</td>\n",
       "      <td>15360</td>\n",
       "      <td>500</td>\n",
       "      <td>550</td>\n",
       "      <td>200</td>\n",
       "      <td>3</td>\n",
       "      <td>3</td>\n",
       "      <td>1550</td>\n",
       "    </tr>\n",
       "    <tr>\n",
       "      <th>3212</th>\n",
       "      <td>3212</td>\n",
       "      <td>1489</td>\n",
       "      <td>11</td>\n",
       "      <td>0</td>\n",
       "      <td>0</td>\n",
       "      <td>20</td>\n",
       "      <td>18</td>\n",
       "      <td>55</td>\n",
       "      <td>35</td>\n",
       "      <td>0</td>\n",
       "      <td>Санкт-Петербург</td>\n",
       "      <td>Павел</td>\n",
       "      <td>Гончаров</td>\n",
       "      <td>2018-08-15</td>\n",
       "      <td>smart</td>\n",
       "      <td>50</td>\n",
       "      <td>15360</td>\n",
       "      <td>500</td>\n",
       "      <td>550</td>\n",
       "      <td>200</td>\n",
       "      <td>3</td>\n",
       "      <td>3</td>\n",
       "      <td>1150</td>\n",
       "    </tr>\n",
       "    <tr>\n",
       "      <th>3213</th>\n",
       "      <td>3213</td>\n",
       "      <td>1489</td>\n",
       "      <td>12</td>\n",
       "      <td>0</td>\n",
       "      <td>0</td>\n",
       "      <td>35</td>\n",
       "      <td>17</td>\n",
       "      <td>51</td>\n",
       "      <td>35</td>\n",
       "      <td>0</td>\n",
       "      <td>Санкт-Петербург</td>\n",
       "      <td>Павел</td>\n",
       "      <td>Гончаров</td>\n",
       "      <td>2018-08-15</td>\n",
       "      <td>smart</td>\n",
       "      <td>50</td>\n",
       "      <td>15360</td>\n",
       "      <td>500</td>\n",
       "      <td>550</td>\n",
       "      <td>200</td>\n",
       "      <td>3</td>\n",
       "      <td>3</td>\n",
       "      <td>950</td>\n",
       "    </tr>\n",
       "    <tr>\n",
       "      <th>3214</th>\n",
       "      <td>3214</td>\n",
       "      <td>1128</td>\n",
       "      <td>0</td>\n",
       "      <td>0</td>\n",
       "      <td>0</td>\n",
       "      <td>0</td>\n",
       "      <td>0</td>\n",
       "      <td>0</td>\n",
       "      <td>51</td>\n",
       "      <td>2018-12-23 00:00:00</td>\n",
       "      <td>Волжский</td>\n",
       "      <td>Ксения</td>\n",
       "      <td>Агаева</td>\n",
       "      <td>2018-12-15</td>\n",
       "      <td>ultra</td>\n",
       "      <td>1000</td>\n",
       "      <td>30720</td>\n",
       "      <td>3000</td>\n",
       "      <td>1950</td>\n",
       "      <td>150</td>\n",
       "      <td>1</td>\n",
       "      <td>1</td>\n",
       "      <td>1950</td>\n",
       "    </tr>\n",
       "    <tr>\n",
       "      <th>3215</th>\n",
       "      <td>3215</td>\n",
       "      <td>1371</td>\n",
       "      <td>0</td>\n",
       "      <td>0</td>\n",
       "      <td>0</td>\n",
       "      <td>0</td>\n",
       "      <td>0</td>\n",
       "      <td>0</td>\n",
       "      <td>50</td>\n",
       "      <td>2018-12-30 00:00:00</td>\n",
       "      <td>Омск</td>\n",
       "      <td>Ириней</td>\n",
       "      <td>Трофимов</td>\n",
       "      <td>2018-12-25</td>\n",
       "      <td>smart</td>\n",
       "      <td>50</td>\n",
       "      <td>15360</td>\n",
       "      <td>500</td>\n",
       "      <td>550</td>\n",
       "      <td>200</td>\n",
       "      <td>3</td>\n",
       "      <td>3</td>\n",
       "      <td>550</td>\n",
       "    </tr>\n",
       "  </tbody>\n",
       "</table>\n",
       "<p>3216 rows × 23 columns</p>\n",
       "</div>"
      ],
      "text/plain": [
       "      index  user_id  month  total_minute  total_calls  total_sms  total_mb  \\\n",
       "0         0     1000      5           159           22         22         3   \n",
       "1         1     1000      6           172           43         60        23   \n",
       "2         2     1000      7           340           47         75        14   \n",
       "3         3     1000      8           408           52         81        14   \n",
       "4         4     1000      9           466           58         57        15   \n",
       "...     ...      ...    ...           ...          ...        ...       ...   \n",
       "3211   3211     1489     10             0            0         21        20   \n",
       "3212   3212     1489     11             0            0         20        18   \n",
       "3213   3213     1489     12             0            0         35        17   \n",
       "3214   3214     1128      0             0            0          0         0   \n",
       "3215   3215     1371      0             0            0          0         0   \n",
       "\n",
       "      total_session  age           churn_date             city first_name  \\\n",
       "0                 5   52                    0        Краснодар     Рафаил   \n",
       "1                49   52                    0        Краснодар     Рафаил   \n",
       "2                29   52                    0        Краснодар     Рафаил   \n",
       "3                29   52                    0        Краснодар     Рафаил   \n",
       "4                27   52                    0        Краснодар     Рафаил   \n",
       "...             ...  ...                  ...              ...        ...   \n",
       "3211             63   35                    0  Санкт-Петербург      Павел   \n",
       "3212             55   35                    0  Санкт-Петербург      Павел   \n",
       "3213             51   35                    0  Санкт-Петербург      Павел   \n",
       "3214              0   51  2018-12-23 00:00:00         Волжский     Ксения   \n",
       "3215              0   50  2018-12-30 00:00:00             Омск     Ириней   \n",
       "\n",
       "      last_name   reg_date tariff  messages_included  mb_per_month_included  \\\n",
       "0     Верещагин 2018-05-25  ultra               1000                  30720   \n",
       "1     Верещагин 2018-05-25  ultra               1000                  30720   \n",
       "2     Верещагин 2018-05-25  ultra               1000                  30720   \n",
       "3     Верещагин 2018-05-25  ultra               1000                  30720   \n",
       "4     Верещагин 2018-05-25  ultra               1000                  30720   \n",
       "...         ...        ...    ...                ...                    ...   \n",
       "3211   Гончаров 2018-08-15  smart                 50                  15360   \n",
       "3212   Гончаров 2018-08-15  smart                 50                  15360   \n",
       "3213   Гончаров 2018-08-15  smart                 50                  15360   \n",
       "3214     Агаева 2018-12-15  ultra               1000                  30720   \n",
       "3215   Трофимов 2018-12-25  smart                 50                  15360   \n",
       "\n",
       "      minutes_included  rub_monthly_fee  rub_per_gb  rub_per_message  \\\n",
       "0                 3000             1950         150                1   \n",
       "1                 3000             1950         150                1   \n",
       "2                 3000             1950         150                1   \n",
       "3                 3000             1950         150                1   \n",
       "4                 3000             1950         150                1   \n",
       "...                ...              ...         ...              ...   \n",
       "3211               500              550         200                3   \n",
       "3212               500              550         200                3   \n",
       "3213               500              550         200                3   \n",
       "3214              3000             1950         150                1   \n",
       "3215               500              550         200                3   \n",
       "\n",
       "      rub_per_minute  revenue  \n",
       "0                  1     1950  \n",
       "1                  1     1950  \n",
       "2                  1     1950  \n",
       "3                  1     1950  \n",
       "4                  1     1950  \n",
       "...              ...      ...  \n",
       "3211               3     1550  \n",
       "3212               3     1150  \n",
       "3213               3      950  \n",
       "3214               1     1950  \n",
       "3215               3      550  \n",
       "\n",
       "[3216 rows x 23 columns]"
      ]
     },
     "metadata": {},
     "output_type": "display_data"
    }
   ],
   "source": [
    "display(df)\n"
   ]
  },
  {
   "cell_type": "markdown",
   "metadata": {},
   "source": [
    "## **Анализ данных**"
   ]
  },
  {
   "cell_type": "markdown",
   "metadata": {},
   "source": [
    "### Пользователи тарифа smart"
   ]
  },
  {
   "cell_type": "code",
   "execution_count": 31,
   "metadata": {
    "scrolled": true
   },
   "outputs": [
    {
     "data": {
      "text/html": [
       "<div>\n",
       "<style scoped>\n",
       "    .dataframe tbody tr th:only-of-type {\n",
       "        vertical-align: middle;\n",
       "    }\n",
       "\n",
       "    .dataframe tbody tr th {\n",
       "        vertical-align: top;\n",
       "    }\n",
       "\n",
       "    .dataframe thead th {\n",
       "        text-align: right;\n",
       "    }\n",
       "</style>\n",
       "<table border=\"1\" class=\"dataframe\">\n",
       "  <thead>\n",
       "    <tr style=\"text-align: right;\">\n",
       "      <th></th>\n",
       "      <th>index</th>\n",
       "      <th>user_id</th>\n",
       "      <th>month</th>\n",
       "      <th>total_minute</th>\n",
       "      <th>total_calls</th>\n",
       "      <th>total_sms</th>\n",
       "      <th>total_mb</th>\n",
       "      <th>total_session</th>\n",
       "      <th>age</th>\n",
       "      <th>churn_date</th>\n",
       "      <th>city</th>\n",
       "      <th>first_name</th>\n",
       "      <th>last_name</th>\n",
       "      <th>reg_date</th>\n",
       "      <th>tariff</th>\n",
       "      <th>messages_included</th>\n",
       "      <th>mb_per_month_included</th>\n",
       "      <th>minutes_included</th>\n",
       "      <th>rub_monthly_fee</th>\n",
       "      <th>rub_per_gb</th>\n",
       "      <th>rub_per_message</th>\n",
       "      <th>rub_per_minute</th>\n",
       "      <th>revenue</th>\n",
       "    </tr>\n",
       "  </thead>\n",
       "  <tbody>\n",
       "    <tr>\n",
       "      <th>8</th>\n",
       "      <td>8</td>\n",
       "      <td>1001</td>\n",
       "      <td>11</td>\n",
       "      <td>430</td>\n",
       "      <td>59</td>\n",
       "      <td>0</td>\n",
       "      <td>18</td>\n",
       "      <td>55</td>\n",
       "      <td>41</td>\n",
       "      <td>0</td>\n",
       "      <td>Москва</td>\n",
       "      <td>Иван</td>\n",
       "      <td>Ежов</td>\n",
       "      <td>2018-11-01</td>\n",
       "      <td>smart</td>\n",
       "      <td>50</td>\n",
       "      <td>15360</td>\n",
       "      <td>500</td>\n",
       "      <td>550</td>\n",
       "      <td>200</td>\n",
       "      <td>3</td>\n",
       "      <td>3</td>\n",
       "      <td>1150</td>\n",
       "    </tr>\n",
       "    <tr>\n",
       "      <th>9</th>\n",
       "      <td>9</td>\n",
       "      <td>1001</td>\n",
       "      <td>12</td>\n",
       "      <td>414</td>\n",
       "      <td>63</td>\n",
       "      <td>0</td>\n",
       "      <td>14</td>\n",
       "      <td>41</td>\n",
       "      <td>41</td>\n",
       "      <td>0</td>\n",
       "      <td>Москва</td>\n",
       "      <td>Иван</td>\n",
       "      <td>Ежов</td>\n",
       "      <td>2018-11-01</td>\n",
       "      <td>smart</td>\n",
       "      <td>50</td>\n",
       "      <td>15360</td>\n",
       "      <td>500</td>\n",
       "      <td>550</td>\n",
       "      <td>200</td>\n",
       "      <td>3</td>\n",
       "      <td>3</td>\n",
       "      <td>550</td>\n",
       "    </tr>\n",
       "    <tr>\n",
       "      <th>10</th>\n",
       "      <td>10</td>\n",
       "      <td>1002</td>\n",
       "      <td>6</td>\n",
       "      <td>117</td>\n",
       "      <td>15</td>\n",
       "      <td>4</td>\n",
       "      <td>11</td>\n",
       "      <td>34</td>\n",
       "      <td>59</td>\n",
       "      <td>0</td>\n",
       "      <td>Стерлитамак</td>\n",
       "      <td>Евгений</td>\n",
       "      <td>Абрамович</td>\n",
       "      <td>2018-06-17</td>\n",
       "      <td>smart</td>\n",
       "      <td>50</td>\n",
       "      <td>15360</td>\n",
       "      <td>500</td>\n",
       "      <td>550</td>\n",
       "      <td>200</td>\n",
       "      <td>3</td>\n",
       "      <td>3</td>\n",
       "      <td>550</td>\n",
       "    </tr>\n",
       "    <tr>\n",
       "      <th>11</th>\n",
       "      <td>11</td>\n",
       "      <td>1002</td>\n",
       "      <td>7</td>\n",
       "      <td>214</td>\n",
       "      <td>26</td>\n",
       "      <td>11</td>\n",
       "      <td>18</td>\n",
       "      <td>58</td>\n",
       "      <td>59</td>\n",
       "      <td>0</td>\n",
       "      <td>Стерлитамак</td>\n",
       "      <td>Евгений</td>\n",
       "      <td>Абрамович</td>\n",
       "      <td>2018-06-17</td>\n",
       "      <td>smart</td>\n",
       "      <td>50</td>\n",
       "      <td>15360</td>\n",
       "      <td>500</td>\n",
       "      <td>550</td>\n",
       "      <td>200</td>\n",
       "      <td>3</td>\n",
       "      <td>3</td>\n",
       "      <td>1150</td>\n",
       "    </tr>\n",
       "    <tr>\n",
       "      <th>12</th>\n",
       "      <td>12</td>\n",
       "      <td>1002</td>\n",
       "      <td>8</td>\n",
       "      <td>289</td>\n",
       "      <td>42</td>\n",
       "      <td>13</td>\n",
       "      <td>20</td>\n",
       "      <td>60</td>\n",
       "      <td>59</td>\n",
       "      <td>0</td>\n",
       "      <td>Стерлитамак</td>\n",
       "      <td>Евгений</td>\n",
       "      <td>Абрамович</td>\n",
       "      <td>2018-06-17</td>\n",
       "      <td>smart</td>\n",
       "      <td>50</td>\n",
       "      <td>15360</td>\n",
       "      <td>500</td>\n",
       "      <td>550</td>\n",
       "      <td>200</td>\n",
       "      <td>3</td>\n",
       "      <td>3</td>\n",
       "      <td>1550</td>\n",
       "    </tr>\n",
       "    <tr>\n",
       "      <th>...</th>\n",
       "      <td>...</td>\n",
       "      <td>...</td>\n",
       "      <td>...</td>\n",
       "      <td>...</td>\n",
       "      <td>...</td>\n",
       "      <td>...</td>\n",
       "      <td>...</td>\n",
       "      <td>...</td>\n",
       "      <td>...</td>\n",
       "      <td>...</td>\n",
       "      <td>...</td>\n",
       "      <td>...</td>\n",
       "      <td>...</td>\n",
       "      <td>...</td>\n",
       "      <td>...</td>\n",
       "      <td>...</td>\n",
       "      <td>...</td>\n",
       "      <td>...</td>\n",
       "      <td>...</td>\n",
       "      <td>...</td>\n",
       "      <td>...</td>\n",
       "      <td>...</td>\n",
       "      <td>...</td>\n",
       "    </tr>\n",
       "    <tr>\n",
       "      <th>3210</th>\n",
       "      <td>3210</td>\n",
       "      <td>1489</td>\n",
       "      <td>9</td>\n",
       "      <td>0</td>\n",
       "      <td>0</td>\n",
       "      <td>32</td>\n",
       "      <td>17</td>\n",
       "      <td>63</td>\n",
       "      <td>35</td>\n",
       "      <td>0</td>\n",
       "      <td>Санкт-Петербург</td>\n",
       "      <td>Павел</td>\n",
       "      <td>Гончаров</td>\n",
       "      <td>2018-08-15</td>\n",
       "      <td>smart</td>\n",
       "      <td>50</td>\n",
       "      <td>15360</td>\n",
       "      <td>500</td>\n",
       "      <td>550</td>\n",
       "      <td>200</td>\n",
       "      <td>3</td>\n",
       "      <td>3</td>\n",
       "      <td>950</td>\n",
       "    </tr>\n",
       "    <tr>\n",
       "      <th>3211</th>\n",
       "      <td>3211</td>\n",
       "      <td>1489</td>\n",
       "      <td>10</td>\n",
       "      <td>0</td>\n",
       "      <td>0</td>\n",
       "      <td>21</td>\n",
       "      <td>20</td>\n",
       "      <td>63</td>\n",
       "      <td>35</td>\n",
       "      <td>0</td>\n",
       "      <td>Санкт-Петербург</td>\n",
       "      <td>Павел</td>\n",
       "      <td>Гончаров</td>\n",
       "      <td>2018-08-15</td>\n",
       "      <td>smart</td>\n",
       "      <td>50</td>\n",
       "      <td>15360</td>\n",
       "      <td>500</td>\n",
       "      <td>550</td>\n",
       "      <td>200</td>\n",
       "      <td>3</td>\n",
       "      <td>3</td>\n",
       "      <td>1550</td>\n",
       "    </tr>\n",
       "    <tr>\n",
       "      <th>3212</th>\n",
       "      <td>3212</td>\n",
       "      <td>1489</td>\n",
       "      <td>11</td>\n",
       "      <td>0</td>\n",
       "      <td>0</td>\n",
       "      <td>20</td>\n",
       "      <td>18</td>\n",
       "      <td>55</td>\n",
       "      <td>35</td>\n",
       "      <td>0</td>\n",
       "      <td>Санкт-Петербург</td>\n",
       "      <td>Павел</td>\n",
       "      <td>Гончаров</td>\n",
       "      <td>2018-08-15</td>\n",
       "      <td>smart</td>\n",
       "      <td>50</td>\n",
       "      <td>15360</td>\n",
       "      <td>500</td>\n",
       "      <td>550</td>\n",
       "      <td>200</td>\n",
       "      <td>3</td>\n",
       "      <td>3</td>\n",
       "      <td>1150</td>\n",
       "    </tr>\n",
       "    <tr>\n",
       "      <th>3213</th>\n",
       "      <td>3213</td>\n",
       "      <td>1489</td>\n",
       "      <td>12</td>\n",
       "      <td>0</td>\n",
       "      <td>0</td>\n",
       "      <td>35</td>\n",
       "      <td>17</td>\n",
       "      <td>51</td>\n",
       "      <td>35</td>\n",
       "      <td>0</td>\n",
       "      <td>Санкт-Петербург</td>\n",
       "      <td>Павел</td>\n",
       "      <td>Гончаров</td>\n",
       "      <td>2018-08-15</td>\n",
       "      <td>smart</td>\n",
       "      <td>50</td>\n",
       "      <td>15360</td>\n",
       "      <td>500</td>\n",
       "      <td>550</td>\n",
       "      <td>200</td>\n",
       "      <td>3</td>\n",
       "      <td>3</td>\n",
       "      <td>950</td>\n",
       "    </tr>\n",
       "    <tr>\n",
       "      <th>3215</th>\n",
       "      <td>3215</td>\n",
       "      <td>1371</td>\n",
       "      <td>0</td>\n",
       "      <td>0</td>\n",
       "      <td>0</td>\n",
       "      <td>0</td>\n",
       "      <td>0</td>\n",
       "      <td>0</td>\n",
       "      <td>50</td>\n",
       "      <td>2018-12-30 00:00:00</td>\n",
       "      <td>Омск</td>\n",
       "      <td>Ириней</td>\n",
       "      <td>Трофимов</td>\n",
       "      <td>2018-12-25</td>\n",
       "      <td>smart</td>\n",
       "      <td>50</td>\n",
       "      <td>15360</td>\n",
       "      <td>500</td>\n",
       "      <td>550</td>\n",
       "      <td>200</td>\n",
       "      <td>3</td>\n",
       "      <td>3</td>\n",
       "      <td>550</td>\n",
       "    </tr>\n",
       "  </tbody>\n",
       "</table>\n",
       "<p>2230 rows × 23 columns</p>\n",
       "</div>"
      ],
      "text/plain": [
       "      index  user_id  month  total_minute  total_calls  total_sms  total_mb  \\\n",
       "8         8     1001     11           430           59          0        18   \n",
       "9         9     1001     12           414           63          0        14   \n",
       "10       10     1002      6           117           15          4        11   \n",
       "11       11     1002      7           214           26         11        18   \n",
       "12       12     1002      8           289           42         13        20   \n",
       "...     ...      ...    ...           ...          ...        ...       ...   \n",
       "3210   3210     1489      9             0            0         32        17   \n",
       "3211   3211     1489     10             0            0         21        20   \n",
       "3212   3212     1489     11             0            0         20        18   \n",
       "3213   3213     1489     12             0            0         35        17   \n",
       "3215   3215     1371      0             0            0          0         0   \n",
       "\n",
       "      total_session  age           churn_date             city first_name  \\\n",
       "8                55   41                    0           Москва       Иван   \n",
       "9                41   41                    0           Москва       Иван   \n",
       "10               34   59                    0      Стерлитамак    Евгений   \n",
       "11               58   59                    0      Стерлитамак    Евгений   \n",
       "12               60   59                    0      Стерлитамак    Евгений   \n",
       "...             ...  ...                  ...              ...        ...   \n",
       "3210             63   35                    0  Санкт-Петербург      Павел   \n",
       "3211             63   35                    0  Санкт-Петербург      Павел   \n",
       "3212             55   35                    0  Санкт-Петербург      Павел   \n",
       "3213             51   35                    0  Санкт-Петербург      Павел   \n",
       "3215              0   50  2018-12-30 00:00:00             Омск     Ириней   \n",
       "\n",
       "      last_name   reg_date tariff  messages_included  mb_per_month_included  \\\n",
       "8          Ежов 2018-11-01  smart                 50                  15360   \n",
       "9          Ежов 2018-11-01  smart                 50                  15360   \n",
       "10    Абрамович 2018-06-17  smart                 50                  15360   \n",
       "11    Абрамович 2018-06-17  smart                 50                  15360   \n",
       "12    Абрамович 2018-06-17  smart                 50                  15360   \n",
       "...         ...        ...    ...                ...                    ...   \n",
       "3210   Гончаров 2018-08-15  smart                 50                  15360   \n",
       "3211   Гончаров 2018-08-15  smart                 50                  15360   \n",
       "3212   Гончаров 2018-08-15  smart                 50                  15360   \n",
       "3213   Гончаров 2018-08-15  smart                 50                  15360   \n",
       "3215   Трофимов 2018-12-25  smart                 50                  15360   \n",
       "\n",
       "      minutes_included  rub_monthly_fee  rub_per_gb  rub_per_message  \\\n",
       "8                  500              550         200                3   \n",
       "9                  500              550         200                3   \n",
       "10                 500              550         200                3   \n",
       "11                 500              550         200                3   \n",
       "12                 500              550         200                3   \n",
       "...                ...              ...         ...              ...   \n",
       "3210               500              550         200                3   \n",
       "3211               500              550         200                3   \n",
       "3212               500              550         200                3   \n",
       "3213               500              550         200                3   \n",
       "3215               500              550         200                3   \n",
       "\n",
       "      rub_per_minute  revenue  \n",
       "8                  3     1150  \n",
       "9                  3      550  \n",
       "10                 3      550  \n",
       "11                 3     1150  \n",
       "12                 3     1550  \n",
       "...              ...      ...  \n",
       "3210               3      950  \n",
       "3211               3     1550  \n",
       "3212               3     1150  \n",
       "3213               3      950  \n",
       "3215               3      550  \n",
       "\n",
       "[2230 rows x 23 columns]"
      ]
     },
     "metadata": {},
     "output_type": "display_data"
    }
   ],
   "source": [
    "smart_user = df.query('tariff == \"smart\"')\n",
    "display(smart_user)"
   ]
  },
  {
   "cell_type": "code",
   "execution_count": 32,
   "metadata": {
    "scrolled": false
   },
   "outputs": [
    {
     "name": "stderr",
     "output_type": "stream",
     "text": [
      "/tmp/ipykernel_372/3571330804.py:10: SettingWithCopyWarning: \n",
      "A value is trying to be set on a copy of a slice from a DataFrame.\n",
      "Try using .loc[row_indexer,col_indexer] = value instead\n",
      "\n",
      "See the caveats in the documentation: https://pandas.pydata.org/pandas-docs/stable/user_guide/indexing.html#returning-a-view-versus-a-copy\n",
      "  smart_user[row] = quartil(smart_user, row)\n",
      "/tmp/ipykernel_372/3571330804.py:10: SettingWithCopyWarning: \n",
      "A value is trying to be set on a copy of a slice from a DataFrame.\n",
      "Try using .loc[row_indexer,col_indexer] = value instead\n",
      "\n",
      "See the caveats in the documentation: https://pandas.pydata.org/pandas-docs/stable/user_guide/indexing.html#returning-a-view-versus-a-copy\n",
      "  smart_user[row] = quartil(smart_user, row)\n",
      "/tmp/ipykernel_372/3571330804.py:10: SettingWithCopyWarning: \n",
      "A value is trying to be set on a copy of a slice from a DataFrame.\n",
      "Try using .loc[row_indexer,col_indexer] = value instead\n",
      "\n",
      "See the caveats in the documentation: https://pandas.pydata.org/pandas-docs/stable/user_guide/indexing.html#returning-a-view-versus-a-copy\n",
      "  smart_user[row] = quartil(smart_user, row)\n"
     ]
    },
    {
     "data": {
      "text/html": [
       "<div>\n",
       "<style scoped>\n",
       "    .dataframe tbody tr th:only-of-type {\n",
       "        vertical-align: middle;\n",
       "    }\n",
       "\n",
       "    .dataframe tbody tr th {\n",
       "        vertical-align: top;\n",
       "    }\n",
       "\n",
       "    .dataframe thead th {\n",
       "        text-align: right;\n",
       "    }\n",
       "</style>\n",
       "<table border=\"1\" class=\"dataframe\">\n",
       "  <thead>\n",
       "    <tr style=\"text-align: right;\">\n",
       "      <th></th>\n",
       "      <th>index</th>\n",
       "      <th>user_id</th>\n",
       "      <th>month</th>\n",
       "      <th>total_minute</th>\n",
       "      <th>total_calls</th>\n",
       "      <th>total_sms</th>\n",
       "      <th>total_mb</th>\n",
       "      <th>total_session</th>\n",
       "      <th>age</th>\n",
       "      <th>messages_included</th>\n",
       "      <th>mb_per_month_included</th>\n",
       "      <th>minutes_included</th>\n",
       "      <th>rub_monthly_fee</th>\n",
       "      <th>rub_per_gb</th>\n",
       "      <th>rub_per_message</th>\n",
       "      <th>rub_per_minute</th>\n",
       "      <th>revenue</th>\n",
       "    </tr>\n",
       "  </thead>\n",
       "  <tbody>\n",
       "    <tr>\n",
       "      <th>count</th>\n",
       "      <td>2,230.00</td>\n",
       "      <td>2,230.00</td>\n",
       "      <td>2,230.00</td>\n",
       "      <td>2,220.00</td>\n",
       "      <td>2,230.00</td>\n",
       "      <td>2,216.00</td>\n",
       "      <td>2,176.00</td>\n",
       "      <td>2,230.00</td>\n",
       "      <td>2,230.00</td>\n",
       "      <td>2,230.00</td>\n",
       "      <td>2,230.00</td>\n",
       "      <td>2,230.00</td>\n",
       "      <td>2,230.00</td>\n",
       "      <td>2,230.00</td>\n",
       "      <td>2,230.00</td>\n",
       "      <td>2,230.00</td>\n",
       "      <td>2,230.00</td>\n",
       "    </tr>\n",
       "    <tr>\n",
       "      <th>mean</th>\n",
       "      <td>1,556.59</td>\n",
       "      <td>1,246.56</td>\n",
       "      <td>8.34</td>\n",
       "      <td>414.87</td>\n",
       "      <td>58.44</td>\n",
       "      <td>32.77</td>\n",
       "      <td>16.43</td>\n",
       "      <td>50.02</td>\n",
       "      <td>46.56</td>\n",
       "      <td>50.00</td>\n",
       "      <td>15,360.00</td>\n",
       "      <td>500.00</td>\n",
       "      <td>550.00</td>\n",
       "      <td>200.00</td>\n",
       "      <td>3.00</td>\n",
       "      <td>3.00</td>\n",
       "      <td>1,289.64</td>\n",
       "    </tr>\n",
       "    <tr>\n",
       "      <th>std</th>\n",
       "      <td>928.60</td>\n",
       "      <td>146.11</td>\n",
       "      <td>2.93</td>\n",
       "      <td>185.77</td>\n",
       "      <td>25.96</td>\n",
       "      <td>27.28</td>\n",
       "      <td>5.27</td>\n",
       "      <td>17.40</td>\n",
       "      <td>16.35</td>\n",
       "      <td>0.00</td>\n",
       "      <td>0.00</td>\n",
       "      <td>0.00</td>\n",
       "      <td>0.00</td>\n",
       "      <td>0.00</td>\n",
       "      <td>0.00</td>\n",
       "      <td>0.00</td>\n",
       "      <td>818.37</td>\n",
       "    </tr>\n",
       "    <tr>\n",
       "      <th>min</th>\n",
       "      <td>8.00</td>\n",
       "      <td>1,001.00</td>\n",
       "      <td>0.00</td>\n",
       "      <td>0.00</td>\n",
       "      <td>0.00</td>\n",
       "      <td>0.00</td>\n",
       "      <td>3.00</td>\n",
       "      <td>0.00</td>\n",
       "      <td>18.00</td>\n",
       "      <td>50.00</td>\n",
       "      <td>15,360.00</td>\n",
       "      <td>500.00</td>\n",
       "      <td>550.00</td>\n",
       "      <td>200.00</td>\n",
       "      <td>3.00</td>\n",
       "      <td>3.00</td>\n",
       "      <td>550.00</td>\n",
       "    </tr>\n",
       "    <tr>\n",
       "      <th>25%</th>\n",
       "      <td>765.25</td>\n",
       "      <td>1,121.00</td>\n",
       "      <td>6.00</td>\n",
       "      <td>281.75</td>\n",
       "      <td>40.00</td>\n",
       "      <td>10.00</td>\n",
       "      <td>13.00</td>\n",
       "      <td>40.00</td>\n",
       "      <td>32.00</td>\n",
       "      <td>50.00</td>\n",
       "      <td>15,360.00</td>\n",
       "      <td>500.00</td>\n",
       "      <td>550.00</td>\n",
       "      <td>200.00</td>\n",
       "      <td>3.00</td>\n",
       "      <td>3.00</td>\n",
       "      <td>550.00</td>\n",
       "    </tr>\n",
       "    <tr>\n",
       "      <th>50%</th>\n",
       "      <td>1,498.00</td>\n",
       "      <td>1,240.00</td>\n",
       "      <td>9.00</td>\n",
       "      <td>421.00</td>\n",
       "      <td>60.00</td>\n",
       "      <td>28.00</td>\n",
       "      <td>17.00</td>\n",
       "      <td>51.00</td>\n",
       "      <td>47.00</td>\n",
       "      <td>50.00</td>\n",
       "      <td>15,360.00</td>\n",
       "      <td>500.00</td>\n",
       "      <td>550.00</td>\n",
       "      <td>200.00</td>\n",
       "      <td>3.00</td>\n",
       "      <td>3.00</td>\n",
       "      <td>1,021.00</td>\n",
       "    </tr>\n",
       "    <tr>\n",
       "      <th>75%</th>\n",
       "      <td>2,356.75</td>\n",
       "      <td>1,376.00</td>\n",
       "      <td>11.00</td>\n",
       "      <td>544.00</td>\n",
       "      <td>76.00</td>\n",
       "      <td>50.00</td>\n",
       "      <td>20.00</td>\n",
       "      <td>61.00</td>\n",
       "      <td>62.00</td>\n",
       "      <td>50.00</td>\n",
       "      <td>15,360.00</td>\n",
       "      <td>500.00</td>\n",
       "      <td>550.00</td>\n",
       "      <td>200.00</td>\n",
       "      <td>3.00</td>\n",
       "      <td>3.00</td>\n",
       "      <td>1,750.00</td>\n",
       "    </tr>\n",
       "    <tr>\n",
       "      <th>max</th>\n",
       "      <td>3,215.00</td>\n",
       "      <td>1,499.00</td>\n",
       "      <td>12.00</td>\n",
       "      <td>933.00</td>\n",
       "      <td>198.00</td>\n",
       "      <td>112.00</td>\n",
       "      <td>30.00</td>\n",
       "      <td>118.00</td>\n",
       "      <td>75.00</td>\n",
       "      <td>50.00</td>\n",
       "      <td>15,360.00</td>\n",
       "      <td>500.00</td>\n",
       "      <td>550.00</td>\n",
       "      <td>200.00</td>\n",
       "      <td>3.00</td>\n",
       "      <td>3.00</td>\n",
       "      <td>6,770.00</td>\n",
       "    </tr>\n",
       "  </tbody>\n",
       "</table>\n",
       "</div>"
      ],
      "text/plain": [
       "         index  user_id    month  total_minute  total_calls  total_sms  \\\n",
       "count 2,230.00 2,230.00 2,230.00      2,220.00     2,230.00   2,216.00   \n",
       "mean  1,556.59 1,246.56     8.34        414.87        58.44      32.77   \n",
       "std     928.60   146.11     2.93        185.77        25.96      27.28   \n",
       "min       8.00 1,001.00     0.00          0.00         0.00       0.00   \n",
       "25%     765.25 1,121.00     6.00        281.75        40.00      10.00   \n",
       "50%   1,498.00 1,240.00     9.00        421.00        60.00      28.00   \n",
       "75%   2,356.75 1,376.00    11.00        544.00        76.00      50.00   \n",
       "max   3,215.00 1,499.00    12.00        933.00       198.00     112.00   \n",
       "\n",
       "       total_mb  total_session      age  messages_included  \\\n",
       "count  2,176.00       2,230.00 2,230.00           2,230.00   \n",
       "mean      16.43          50.02    46.56              50.00   \n",
       "std        5.27          17.40    16.35               0.00   \n",
       "min        3.00           0.00    18.00              50.00   \n",
       "25%       13.00          40.00    32.00              50.00   \n",
       "50%       17.00          51.00    47.00              50.00   \n",
       "75%       20.00          61.00    62.00              50.00   \n",
       "max       30.00         118.00    75.00              50.00   \n",
       "\n",
       "       mb_per_month_included  minutes_included  rub_monthly_fee  rub_per_gb  \\\n",
       "count               2,230.00          2,230.00         2,230.00    2,230.00   \n",
       "mean               15,360.00            500.00           550.00      200.00   \n",
       "std                     0.00              0.00             0.00        0.00   \n",
       "min                15,360.00            500.00           550.00      200.00   \n",
       "25%                15,360.00            500.00           550.00      200.00   \n",
       "50%                15,360.00            500.00           550.00      200.00   \n",
       "75%                15,360.00            500.00           550.00      200.00   \n",
       "max                15,360.00            500.00           550.00      200.00   \n",
       "\n",
       "       rub_per_message  rub_per_minute  revenue  \n",
       "count         2,230.00        2,230.00 2,230.00  \n",
       "mean              3.00            3.00 1,289.64  \n",
       "std               0.00            0.00   818.37  \n",
       "min               3.00            3.00   550.00  \n",
       "25%               3.00            3.00   550.00  \n",
       "50%               3.00            3.00 1,021.00  \n",
       "75%               3.00            3.00 1,750.00  \n",
       "max               3.00            3.00 6,770.00  "
      ]
     },
     "execution_count": 32,
     "metadata": {},
     "output_type": "execute_result"
    }
   ],
   "source": [
    "def quartil(smart_user, column):\n",
    "    q1 = smart_user[column].quantile(0.25)\n",
    "    q3 = smart_user[column].quantile(0.75)\n",
    "    iqr = q3 - q1\n",
    "    dfq = smart_user.loc[(smart_user[column] < q3 + 1.5*iqr) & (smart_user[column] > q1 - 1.5*iqr), column]\n",
    "    return dfq\n",
    "\n",
    "columns = ['total_minute','total_sms', 'total_mb']\n",
    "for row in columns:\n",
    "    smart_user[row] = quartil(smart_user, row)\n",
    "smart_user.describe()"
   ]
  },
  {
   "cell_type": "markdown",
   "metadata": {},
   "source": [
    "### *Звонки*"
   ]
  },
  {
   "cell_type": "code",
   "execution_count": 33,
   "metadata": {},
   "outputs": [
    {
     "data": {
      "image/png": "[encoded data removed]",
      "text/plain": [
       "<Figure size 432x288 with 1 Axes>"
      ]
     },
     "metadata": {},
     "output_type": "display_data"
    },
    {
     "name": "stdout",
     "output_type": "stream",
     "text": [
      "count   2,220.00\n",
      "mean      414.87\n",
      "std       185.77\n",
      "min         0.00\n",
      "25%       281.75\n",
      "50%       421.00\n",
      "75%       544.00\n",
      "max       933.00\n",
      "Name: total_minute, dtype: float64\n",
      "34510.24800778696\n"
     ]
    }
   ],
   "source": [
    "smart_user['total_minute'].plot(kind='hist', bins=10)\n",
    "plt.title('Звонки')\n",
    "plt.xlabel('количество минут')\n",
    "plt.ylabel('Абоненты')\n",
    "plt.show()\n",
    "print(smart_user['total_minute'].describe())\n",
    "print(np.var(smart_user['total_minute'], ddof=1))"
   ]
  },
  {
   "cell_type": "markdown",
   "metadata": {},
   "source": [
    "60 % абонентов не выходит за рамки 500 минут"
   ]
  },
  {
   "cell_type": "markdown",
   "metadata": {},
   "source": [
    "### *Сообщения*"
   ]
  },
  {
   "cell_type": "code",
   "execution_count": 34,
   "metadata": {
    "scrolled": false
   },
   "outputs": [
    {
     "data": {
      "image/png": "[encoded data removed]",
      "text/plain": [
       "<Figure size 432x288 with 1 Axes>"
      ]
     },
     "metadata": {},
     "output_type": "display_data"
    },
    {
     "data": {
      "text/plain": [
       "count   2,216.00\n",
       "mean       32.77\n",
       "std        27.28\n",
       "min         0.00\n",
       "25%        10.00\n",
       "50%        28.00\n",
       "75%        50.00\n",
       "max       112.00\n",
       "Name: total_sms, dtype: float64"
      ]
     },
     "execution_count": 34,
     "metadata": {},
     "output_type": "execute_result"
    }
   ],
   "source": [
    "smart_user['total_sms'].plot(kind='hist', bins=10)\n",
    "plt.title('Sms')\n",
    "plt.xlabel('количество смс')\n",
    "plt.ylabel('Абоненты')\n",
    "plt.show()\n",
    "smart_user['total_sms'].describe()"
   ]
  },
  {
   "cell_type": "markdown",
   "metadata": {},
   "source": [
    "Услуга смс сообщений не пользуется популярностью, 75% пользователей не выходит за рамки тарифа"
   ]
  },
  {
   "cell_type": "markdown",
   "metadata": {},
   "source": [
    "### *Интернет*"
   ]
  },
  {
   "cell_type": "code",
   "execution_count": 35,
   "metadata": {},
   "outputs": [
    {
     "data": {
      "image/png": "[encoded data removed]",
      "text/plain": [
       "<Figure size 432x288 with 1 Axes>"
      ]
     },
     "metadata": {},
     "output_type": "display_data"
    },
    {
     "data": {
      "text/plain": [
       "count   2,176.00\n",
       "mean       16.43\n",
       "std         5.27\n",
       "min         3.00\n",
       "25%        13.00\n",
       "50%        17.00\n",
       "75%        20.00\n",
       "max        30.00\n",
       "Name: total_mb, dtype: float64"
      ]
     },
     "execution_count": 35,
     "metadata": {},
     "output_type": "execute_result"
    }
   ],
   "source": [
    "smart_user['total_mb'].plot(kind='hist', bins=10)\n",
    "plt.title('Интернет')\n",
    "plt.xlabel('количество Гб')\n",
    "plt.ylabel('Абоненты')\n",
    "plt.show()\n",
    "smart_user['total_mb'].describe()"
   ]
  },
  {
   "cell_type": "markdown",
   "metadata": {},
   "source": [
    "Интернета абонентам тарифа смарт не хватает. Примерно 55%  пользователям приходиться докупать мегабайты. "
   ]
  },
  {
   "cell_type": "markdown",
   "metadata": {},
   "source": [
    "### *Выручка*"
   ]
  },
  {
   "cell_type": "code",
   "execution_count": 36,
   "metadata": {},
   "outputs": [
    {
     "data": {
      "image/png": "[encoded data removed]",
      "text/plain": [
       "<Figure size 432x288 with 1 Axes>"
      ]
     },
     "metadata": {},
     "output_type": "display_data"
    },
    {
     "data": {
      "text/plain": [
       "count   2,230.00\n",
       "mean    1,289.64\n",
       "std       818.37\n",
       "min       550.00\n",
       "25%       550.00\n",
       "50%     1,021.00\n",
       "75%     1,750.00\n",
       "max     6,770.00\n",
       "Name: revenue, dtype: float64"
      ]
     },
     "execution_count": 36,
     "metadata": {},
     "output_type": "execute_result"
    }
   ],
   "source": [
    "smart_user['revenue'].plot(kind='hist', bins= 10)\n",
    "plt.title('Выручка')\n",
    "plt.xlabel('рубли')\n",
    "plt.ylabel('Абоненты')\n",
    "plt.show()\n",
    "smart_user['revenue'].describe()"
   ]
  },
  {
   "cell_type": "markdown",
   "metadata": {},
   "source": [
    "По распределению выручки видно, что только 25% пользователей укладываются в абонентскую плату. 50% превышают лимит в два раза и 75 % аж в три раза! "
   ]
  },
  {
   "cell_type": "markdown",
   "metadata": {},
   "source": [
    "### Пользователи тарифа ultra\t"
   ]
  },
  {
   "cell_type": "code",
   "execution_count": 37,
   "metadata": {
    "scrolled": false
   },
   "outputs": [
    {
     "data": {
      "text/html": [
       "<div>\n",
       "<style scoped>\n",
       "    .dataframe tbody tr th:only-of-type {\n",
       "        vertical-align: middle;\n",
       "    }\n",
       "\n",
       "    .dataframe tbody tr th {\n",
       "        vertical-align: top;\n",
       "    }\n",
       "\n",
       "    .dataframe thead th {\n",
       "        text-align: right;\n",
       "    }\n",
       "</style>\n",
       "<table border=\"1\" class=\"dataframe\">\n",
       "  <thead>\n",
       "    <tr style=\"text-align: right;\">\n",
       "      <th></th>\n",
       "      <th>index</th>\n",
       "      <th>user_id</th>\n",
       "      <th>month</th>\n",
       "      <th>total_minute</th>\n",
       "      <th>total_calls</th>\n",
       "      <th>total_sms</th>\n",
       "      <th>total_mb</th>\n",
       "      <th>total_session</th>\n",
       "      <th>age</th>\n",
       "      <th>churn_date</th>\n",
       "      <th>city</th>\n",
       "      <th>first_name</th>\n",
       "      <th>last_name</th>\n",
       "      <th>reg_date</th>\n",
       "      <th>tariff</th>\n",
       "      <th>messages_included</th>\n",
       "      <th>mb_per_month_included</th>\n",
       "      <th>minutes_included</th>\n",
       "      <th>rub_monthly_fee</th>\n",
       "      <th>rub_per_gb</th>\n",
       "      <th>rub_per_message</th>\n",
       "      <th>rub_per_minute</th>\n",
       "      <th>revenue</th>\n",
       "    </tr>\n",
       "  </thead>\n",
       "  <tbody>\n",
       "    <tr>\n",
       "      <th>0</th>\n",
       "      <td>0</td>\n",
       "      <td>1000</td>\n",
       "      <td>5</td>\n",
       "      <td>159</td>\n",
       "      <td>22</td>\n",
       "      <td>22</td>\n",
       "      <td>3</td>\n",
       "      <td>5</td>\n",
       "      <td>52</td>\n",
       "      <td>0</td>\n",
       "      <td>Краснодар</td>\n",
       "      <td>Рафаил</td>\n",
       "      <td>Верещагин</td>\n",
       "      <td>2018-05-25</td>\n",
       "      <td>ultra</td>\n",
       "      <td>1000</td>\n",
       "      <td>30720</td>\n",
       "      <td>3000</td>\n",
       "      <td>1950</td>\n",
       "      <td>150</td>\n",
       "      <td>1</td>\n",
       "      <td>1</td>\n",
       "      <td>1950</td>\n",
       "    </tr>\n",
       "    <tr>\n",
       "      <th>1</th>\n",
       "      <td>1</td>\n",
       "      <td>1000</td>\n",
       "      <td>6</td>\n",
       "      <td>172</td>\n",
       "      <td>43</td>\n",
       "      <td>60</td>\n",
       "      <td>23</td>\n",
       "      <td>49</td>\n",
       "      <td>52</td>\n",
       "      <td>0</td>\n",
       "      <td>Краснодар</td>\n",
       "      <td>Рафаил</td>\n",
       "      <td>Верещагин</td>\n",
       "      <td>2018-05-25</td>\n",
       "      <td>ultra</td>\n",
       "      <td>1000</td>\n",
       "      <td>30720</td>\n",
       "      <td>3000</td>\n",
       "      <td>1950</td>\n",
       "      <td>150</td>\n",
       "      <td>1</td>\n",
       "      <td>1</td>\n",
       "      <td>1950</td>\n",
       "    </tr>\n",
       "    <tr>\n",
       "      <th>2</th>\n",
       "      <td>2</td>\n",
       "      <td>1000</td>\n",
       "      <td>7</td>\n",
       "      <td>340</td>\n",
       "      <td>47</td>\n",
       "      <td>75</td>\n",
       "      <td>14</td>\n",
       "      <td>29</td>\n",
       "      <td>52</td>\n",
       "      <td>0</td>\n",
       "      <td>Краснодар</td>\n",
       "      <td>Рафаил</td>\n",
       "      <td>Верещагин</td>\n",
       "      <td>2018-05-25</td>\n",
       "      <td>ultra</td>\n",
       "      <td>1000</td>\n",
       "      <td>30720</td>\n",
       "      <td>3000</td>\n",
       "      <td>1950</td>\n",
       "      <td>150</td>\n",
       "      <td>1</td>\n",
       "      <td>1</td>\n",
       "      <td>1950</td>\n",
       "    </tr>\n",
       "    <tr>\n",
       "      <th>3</th>\n",
       "      <td>3</td>\n",
       "      <td>1000</td>\n",
       "      <td>8</td>\n",
       "      <td>408</td>\n",
       "      <td>52</td>\n",
       "      <td>81</td>\n",
       "      <td>14</td>\n",
       "      <td>29</td>\n",
       "      <td>52</td>\n",
       "      <td>0</td>\n",
       "      <td>Краснодар</td>\n",
       "      <td>Рафаил</td>\n",
       "      <td>Верещагин</td>\n",
       "      <td>2018-05-25</td>\n",
       "      <td>ultra</td>\n",
       "      <td>1000</td>\n",
       "      <td>30720</td>\n",
       "      <td>3000</td>\n",
       "      <td>1950</td>\n",
       "      <td>150</td>\n",
       "      <td>1</td>\n",
       "      <td>1</td>\n",
       "      <td>1950</td>\n",
       "    </tr>\n",
       "    <tr>\n",
       "      <th>4</th>\n",
       "      <td>4</td>\n",
       "      <td>1000</td>\n",
       "      <td>9</td>\n",
       "      <td>466</td>\n",
       "      <td>58</td>\n",
       "      <td>57</td>\n",
       "      <td>15</td>\n",
       "      <td>27</td>\n",
       "      <td>52</td>\n",
       "      <td>0</td>\n",
       "      <td>Краснодар</td>\n",
       "      <td>Рафаил</td>\n",
       "      <td>Верещагин</td>\n",
       "      <td>2018-05-25</td>\n",
       "      <td>ultra</td>\n",
       "      <td>1000</td>\n",
       "      <td>30720</td>\n",
       "      <td>3000</td>\n",
       "      <td>1950</td>\n",
       "      <td>150</td>\n",
       "      <td>1</td>\n",
       "      <td>1</td>\n",
       "      <td>1950</td>\n",
       "    </tr>\n",
       "    <tr>\n",
       "      <th>...</th>\n",
       "      <td>...</td>\n",
       "      <td>...</td>\n",
       "      <td>...</td>\n",
       "      <td>...</td>\n",
       "      <td>...</td>\n",
       "      <td>...</td>\n",
       "      <td>...</td>\n",
       "      <td>...</td>\n",
       "      <td>...</td>\n",
       "      <td>...</td>\n",
       "      <td>...</td>\n",
       "      <td>...</td>\n",
       "      <td>...</td>\n",
       "      <td>...</td>\n",
       "      <td>...</td>\n",
       "      <td>...</td>\n",
       "      <td>...</td>\n",
       "      <td>...</td>\n",
       "      <td>...</td>\n",
       "      <td>...</td>\n",
       "      <td>...</td>\n",
       "      <td>...</td>\n",
       "      <td>...</td>\n",
       "    </tr>\n",
       "    <tr>\n",
       "      <th>3205</th>\n",
       "      <td>3205</td>\n",
       "      <td>1473</td>\n",
       "      <td>9</td>\n",
       "      <td>0</td>\n",
       "      <td>0</td>\n",
       "      <td>19</td>\n",
       "      <td>17</td>\n",
       "      <td>34</td>\n",
       "      <td>18</td>\n",
       "      <td>0</td>\n",
       "      <td>Красноярск</td>\n",
       "      <td>Николай</td>\n",
       "      <td>Лебедев</td>\n",
       "      <td>2018-08-05</td>\n",
       "      <td>ultra</td>\n",
       "      <td>1000</td>\n",
       "      <td>30720</td>\n",
       "      <td>3000</td>\n",
       "      <td>1950</td>\n",
       "      <td>150</td>\n",
       "      <td>1</td>\n",
       "      <td>1</td>\n",
       "      <td>1950</td>\n",
       "    </tr>\n",
       "    <tr>\n",
       "      <th>3206</th>\n",
       "      <td>3206</td>\n",
       "      <td>1473</td>\n",
       "      <td>10</td>\n",
       "      <td>0</td>\n",
       "      <td>0</td>\n",
       "      <td>20</td>\n",
       "      <td>14</td>\n",
       "      <td>32</td>\n",
       "      <td>18</td>\n",
       "      <td>0</td>\n",
       "      <td>Красноярск</td>\n",
       "      <td>Николай</td>\n",
       "      <td>Лебедев</td>\n",
       "      <td>2018-08-05</td>\n",
       "      <td>ultra</td>\n",
       "      <td>1000</td>\n",
       "      <td>30720</td>\n",
       "      <td>3000</td>\n",
       "      <td>1950</td>\n",
       "      <td>150</td>\n",
       "      <td>1</td>\n",
       "      <td>1</td>\n",
       "      <td>1950</td>\n",
       "    </tr>\n",
       "    <tr>\n",
       "      <th>3207</th>\n",
       "      <td>3207</td>\n",
       "      <td>1473</td>\n",
       "      <td>11</td>\n",
       "      <td>0</td>\n",
       "      <td>0</td>\n",
       "      <td>14</td>\n",
       "      <td>22</td>\n",
       "      <td>41</td>\n",
       "      <td>18</td>\n",
       "      <td>0</td>\n",
       "      <td>Красноярск</td>\n",
       "      <td>Николай</td>\n",
       "      <td>Лебедев</td>\n",
       "      <td>2018-08-05</td>\n",
       "      <td>ultra</td>\n",
       "      <td>1000</td>\n",
       "      <td>30720</td>\n",
       "      <td>3000</td>\n",
       "      <td>1950</td>\n",
       "      <td>150</td>\n",
       "      <td>1</td>\n",
       "      <td>1</td>\n",
       "      <td>1950</td>\n",
       "    </tr>\n",
       "    <tr>\n",
       "      <th>3208</th>\n",
       "      <td>3208</td>\n",
       "      <td>1473</td>\n",
       "      <td>12</td>\n",
       "      <td>0</td>\n",
       "      <td>0</td>\n",
       "      <td>20</td>\n",
       "      <td>18</td>\n",
       "      <td>31</td>\n",
       "      <td>18</td>\n",
       "      <td>0</td>\n",
       "      <td>Красноярск</td>\n",
       "      <td>Николай</td>\n",
       "      <td>Лебедев</td>\n",
       "      <td>2018-08-05</td>\n",
       "      <td>ultra</td>\n",
       "      <td>1000</td>\n",
       "      <td>30720</td>\n",
       "      <td>3000</td>\n",
       "      <td>1950</td>\n",
       "      <td>150</td>\n",
       "      <td>1</td>\n",
       "      <td>1</td>\n",
       "      <td>1950</td>\n",
       "    </tr>\n",
       "    <tr>\n",
       "      <th>3214</th>\n",
       "      <td>3214</td>\n",
       "      <td>1128</td>\n",
       "      <td>0</td>\n",
       "      <td>0</td>\n",
       "      <td>0</td>\n",
       "      <td>0</td>\n",
       "      <td>0</td>\n",
       "      <td>0</td>\n",
       "      <td>51</td>\n",
       "      <td>2018-12-23 00:00:00</td>\n",
       "      <td>Волжский</td>\n",
       "      <td>Ксения</td>\n",
       "      <td>Агаева</td>\n",
       "      <td>2018-12-15</td>\n",
       "      <td>ultra</td>\n",
       "      <td>1000</td>\n",
       "      <td>30720</td>\n",
       "      <td>3000</td>\n",
       "      <td>1950</td>\n",
       "      <td>150</td>\n",
       "      <td>1</td>\n",
       "      <td>1</td>\n",
       "      <td>1950</td>\n",
       "    </tr>\n",
       "  </tbody>\n",
       "</table>\n",
       "<p>986 rows × 23 columns</p>\n",
       "</div>"
      ],
      "text/plain": [
       "      index  user_id  month  total_minute  total_calls  total_sms  total_mb  \\\n",
       "0         0     1000      5           159           22         22         3   \n",
       "1         1     1000      6           172           43         60        23   \n",
       "2         2     1000      7           340           47         75        14   \n",
       "3         3     1000      8           408           52         81        14   \n",
       "4         4     1000      9           466           58         57        15   \n",
       "...     ...      ...    ...           ...          ...        ...       ...   \n",
       "3205   3205     1473      9             0            0         19        17   \n",
       "3206   3206     1473     10             0            0         20        14   \n",
       "3207   3207     1473     11             0            0         14        22   \n",
       "3208   3208     1473     12             0            0         20        18   \n",
       "3214   3214     1128      0             0            0          0         0   \n",
       "\n",
       "      total_session  age           churn_date        city first_name  \\\n",
       "0                 5   52                    0   Краснодар     Рафаил   \n",
       "1                49   52                    0   Краснодар     Рафаил   \n",
       "2                29   52                    0   Краснодар     Рафаил   \n",
       "3                29   52                    0   Краснодар     Рафаил   \n",
       "4                27   52                    0   Краснодар     Рафаил   \n",
       "...             ...  ...                  ...         ...        ...   \n",
       "3205             34   18                    0  Красноярск    Николай   \n",
       "3206             32   18                    0  Красноярск    Николай   \n",
       "3207             41   18                    0  Красноярск    Николай   \n",
       "3208             31   18                    0  Красноярск    Николай   \n",
       "3214              0   51  2018-12-23 00:00:00    Волжский     Ксения   \n",
       "\n",
       "      last_name   reg_date tariff  messages_included  mb_per_month_included  \\\n",
       "0     Верещагин 2018-05-25  ultra               1000                  30720   \n",
       "1     Верещагин 2018-05-25  ultra               1000                  30720   \n",
       "2     Верещагин 2018-05-25  ultra               1000                  30720   \n",
       "3     Верещагин 2018-05-25  ultra               1000                  30720   \n",
       "4     Верещагин 2018-05-25  ultra               1000                  30720   \n",
       "...         ...        ...    ...                ...                    ...   \n",
       "3205    Лебедев 2018-08-05  ultra               1000                  30720   \n",
       "3206    Лебедев 2018-08-05  ultra               1000                  30720   \n",
       "3207    Лебедев 2018-08-05  ultra               1000                  30720   \n",
       "3208    Лебедев 2018-08-05  ultra               1000                  30720   \n",
       "3214     Агаева 2018-12-15  ultra               1000                  30720   \n",
       "\n",
       "      minutes_included  rub_monthly_fee  rub_per_gb  rub_per_message  \\\n",
       "0                 3000             1950         150                1   \n",
       "1                 3000             1950         150                1   \n",
       "2                 3000             1950         150                1   \n",
       "3                 3000             1950         150                1   \n",
       "4                 3000             1950         150                1   \n",
       "...                ...              ...         ...              ...   \n",
       "3205              3000             1950         150                1   \n",
       "3206              3000             1950         150                1   \n",
       "3207              3000             1950         150                1   \n",
       "3208              3000             1950         150                1   \n",
       "3214              3000             1950         150                1   \n",
       "\n",
       "      rub_per_minute  revenue  \n",
       "0                  1     1950  \n",
       "1                  1     1950  \n",
       "2                  1     1950  \n",
       "3                  1     1950  \n",
       "4                  1     1950  \n",
       "...              ...      ...  \n",
       "3205               1     1950  \n",
       "3206               1     1950  \n",
       "3207               1     1950  \n",
       "3208               1     1950  \n",
       "3214               1     1950  \n",
       "\n",
       "[986 rows x 23 columns]"
      ]
     },
     "metadata": {},
     "output_type": "display_data"
    }
   ],
   "source": [
    "ultra_user = df.query('tariff == \"ultra\"')\n",
    "display(ultra_user)"
   ]
  },
  {
   "cell_type": "code",
   "execution_count": 38,
   "metadata": {},
   "outputs": [
    {
     "name": "stderr",
     "output_type": "stream",
     "text": [
      "/tmp/ipykernel_372/1680168109.py:10: SettingWithCopyWarning: \n",
      "A value is trying to be set on a copy of a slice from a DataFrame.\n",
      "Try using .loc[row_indexer,col_indexer] = value instead\n",
      "\n",
      "See the caveats in the documentation: https://pandas.pydata.org/pandas-docs/stable/user_guide/indexing.html#returning-a-view-versus-a-copy\n",
      "  ultra_user[row] = quartil(ultra_user, row)\n",
      "/tmp/ipykernel_372/1680168109.py:10: SettingWithCopyWarning: \n",
      "A value is trying to be set on a copy of a slice from a DataFrame.\n",
      "Try using .loc[row_indexer,col_indexer] = value instead\n",
      "\n",
      "See the caveats in the documentation: https://pandas.pydata.org/pandas-docs/stable/user_guide/indexing.html#returning-a-view-versus-a-copy\n",
      "  ultra_user[row] = quartil(ultra_user, row)\n",
      "/tmp/ipykernel_372/1680168109.py:10: SettingWithCopyWarning: \n",
      "A value is trying to be set on a copy of a slice from a DataFrame.\n",
      "Try using .loc[row_indexer,col_indexer] = value instead\n",
      "\n",
      "See the caveats in the documentation: https://pandas.pydata.org/pandas-docs/stable/user_guide/indexing.html#returning-a-view-versus-a-copy\n",
      "  ultra_user[row] = quartil(ultra_user, row)\n"
     ]
    },
    {
     "data": {
      "text/html": [
       "<div>\n",
       "<style scoped>\n",
       "    .dataframe tbody tr th:only-of-type {\n",
       "        vertical-align: middle;\n",
       "    }\n",
       "\n",
       "    .dataframe tbody tr th {\n",
       "        vertical-align: top;\n",
       "    }\n",
       "\n",
       "    .dataframe thead th {\n",
       "        text-align: right;\n",
       "    }\n",
       "</style>\n",
       "<table border=\"1\" class=\"dataframe\">\n",
       "  <thead>\n",
       "    <tr style=\"text-align: right;\">\n",
       "      <th></th>\n",
       "      <th>index</th>\n",
       "      <th>user_id</th>\n",
       "      <th>month</th>\n",
       "      <th>total_minute</th>\n",
       "      <th>total_calls</th>\n",
       "      <th>total_sms</th>\n",
       "      <th>total_mb</th>\n",
       "      <th>total_session</th>\n",
       "      <th>age</th>\n",
       "      <th>messages_included</th>\n",
       "      <th>mb_per_month_included</th>\n",
       "      <th>minutes_included</th>\n",
       "      <th>rub_monthly_fee</th>\n",
       "      <th>rub_per_gb</th>\n",
       "      <th>rub_per_message</th>\n",
       "      <th>rub_per_minute</th>\n",
       "      <th>revenue</th>\n",
       "    </tr>\n",
       "  </thead>\n",
       "  <tbody>\n",
       "    <tr>\n",
       "      <th>count</th>\n",
       "      <td>986.00</td>\n",
       "      <td>986.00</td>\n",
       "      <td>986.00</td>\n",
       "      <td>984.00</td>\n",
       "      <td>986.00</td>\n",
       "      <td>977.00</td>\n",
       "      <td>986.00</td>\n",
       "      <td>986.00</td>\n",
       "      <td>986.00</td>\n",
       "      <td>986.00</td>\n",
       "      <td>986.00</td>\n",
       "      <td>986.00</td>\n",
       "      <td>986.00</td>\n",
       "      <td>986.00</td>\n",
       "      <td>986.00</td>\n",
       "      <td>986.00</td>\n",
       "      <td>986.00</td>\n",
       "    </tr>\n",
       "    <tr>\n",
       "      <th>mean</th>\n",
       "      <td>1,722.65</td>\n",
       "      <td>1,262.96</td>\n",
       "      <td>8.24</td>\n",
       "      <td>523.82</td>\n",
       "      <td>73.32</td>\n",
       "      <td>47.91</td>\n",
       "      <td>19.47</td>\n",
       "      <td>38.39</td>\n",
       "      <td>46.84</td>\n",
       "      <td>1,000.00</td>\n",
       "      <td>30,720.00</td>\n",
       "      <td>3,000.00</td>\n",
       "      <td>1,950.00</td>\n",
       "      <td>150.00</td>\n",
       "      <td>1.00</td>\n",
       "      <td>1.00</td>\n",
       "      <td>2,070.03</td>\n",
       "    </tr>\n",
       "    <tr>\n",
       "      <th>std</th>\n",
       "      <td>918.46</td>\n",
       "      <td>140.69</td>\n",
       "      <td>2.88</td>\n",
       "      <td>314.20</td>\n",
       "      <td>43.96</td>\n",
       "      <td>45.70</td>\n",
       "      <td>9.87</td>\n",
       "      <td>19.65</td>\n",
       "      <td>17.10</td>\n",
       "      <td>0.00</td>\n",
       "      <td>0.00</td>\n",
       "      <td>0.00</td>\n",
       "      <td>0.00</td>\n",
       "      <td>0.00</td>\n",
       "      <td>0.00</td>\n",
       "      <td>0.00</td>\n",
       "      <td>376.02</td>\n",
       "    </tr>\n",
       "    <tr>\n",
       "      <th>min</th>\n",
       "      <td>0.00</td>\n",
       "      <td>1,000.00</td>\n",
       "      <td>0.00</td>\n",
       "      <td>0.00</td>\n",
       "      <td>0.00</td>\n",
       "      <td>0.00</td>\n",
       "      <td>0.00</td>\n",
       "      <td>0.00</td>\n",
       "      <td>18.00</td>\n",
       "      <td>1,000.00</td>\n",
       "      <td>30,720.00</td>\n",
       "      <td>3,000.00</td>\n",
       "      <td>1,950.00</td>\n",
       "      <td>150.00</td>\n",
       "      <td>1.00</td>\n",
       "      <td>1.00</td>\n",
       "      <td>1,950.00</td>\n",
       "    </tr>\n",
       "    <tr>\n",
       "      <th>25%</th>\n",
       "      <td>935.25</td>\n",
       "      <td>1,143.00</td>\n",
       "      <td>6.00</td>\n",
       "      <td>282.00</td>\n",
       "      <td>41.00</td>\n",
       "      <td>6.00</td>\n",
       "      <td>12.00</td>\n",
       "      <td>24.00</td>\n",
       "      <td>30.00</td>\n",
       "      <td>1,000.00</td>\n",
       "      <td>30,720.00</td>\n",
       "      <td>3,000.00</td>\n",
       "      <td>1,950.00</td>\n",
       "      <td>150.00</td>\n",
       "      <td>1.00</td>\n",
       "      <td>1.00</td>\n",
       "      <td>1,950.00</td>\n",
       "    </tr>\n",
       "    <tr>\n",
       "      <th>50%</th>\n",
       "      <td>1,833.50</td>\n",
       "      <td>1,277.00</td>\n",
       "      <td>9.00</td>\n",
       "      <td>517.00</td>\n",
       "      <td>73.50</td>\n",
       "      <td>37.00</td>\n",
       "      <td>19.00</td>\n",
       "      <td>38.00</td>\n",
       "      <td>45.00</td>\n",
       "      <td>1,000.00</td>\n",
       "      <td>30,720.00</td>\n",
       "      <td>3,000.00</td>\n",
       "      <td>1,950.00</td>\n",
       "      <td>150.00</td>\n",
       "      <td>1.00</td>\n",
       "      <td>1.00</td>\n",
       "      <td>1,950.00</td>\n",
       "    </tr>\n",
       "    <tr>\n",
       "      <th>75%</th>\n",
       "      <td>2,436.75</td>\n",
       "      <td>1,381.00</td>\n",
       "      <td>11.00</td>\n",
       "      <td>751.00</td>\n",
       "      <td>103.75</td>\n",
       "      <td>77.00</td>\n",
       "      <td>27.00</td>\n",
       "      <td>52.00</td>\n",
       "      <td>63.00</td>\n",
       "      <td>1,000.00</td>\n",
       "      <td>30,720.00</td>\n",
       "      <td>3,000.00</td>\n",
       "      <td>1,950.00</td>\n",
       "      <td>150.00</td>\n",
       "      <td>1.00</td>\n",
       "      <td>1.00</td>\n",
       "      <td>1,950.00</td>\n",
       "    </tr>\n",
       "    <tr>\n",
       "      <th>max</th>\n",
       "      <td>3,214.00</td>\n",
       "      <td>1,495.00</td>\n",
       "      <td>12.00</td>\n",
       "      <td>1,410.00</td>\n",
       "      <td>244.00</td>\n",
       "      <td>185.00</td>\n",
       "      <td>49.00</td>\n",
       "      <td>97.00</td>\n",
       "      <td>75.00</td>\n",
       "      <td>1,000.00</td>\n",
       "      <td>30,720.00</td>\n",
       "      <td>3,000.00</td>\n",
       "      <td>1,950.00</td>\n",
       "      <td>150.00</td>\n",
       "      <td>1.00</td>\n",
       "      <td>1.00</td>\n",
       "      <td>4,800.00</td>\n",
       "    </tr>\n",
       "  </tbody>\n",
       "</table>\n",
       "</div>"
      ],
      "text/plain": [
       "         index  user_id  month  total_minute  total_calls  total_sms  \\\n",
       "count   986.00   986.00 986.00        984.00       986.00     977.00   \n",
       "mean  1,722.65 1,262.96   8.24        523.82        73.32      47.91   \n",
       "std     918.46   140.69   2.88        314.20        43.96      45.70   \n",
       "min       0.00 1,000.00   0.00          0.00         0.00       0.00   \n",
       "25%     935.25 1,143.00   6.00        282.00        41.00       6.00   \n",
       "50%   1,833.50 1,277.00   9.00        517.00        73.50      37.00   \n",
       "75%   2,436.75 1,381.00  11.00        751.00       103.75      77.00   \n",
       "max   3,214.00 1,495.00  12.00      1,410.00       244.00     185.00   \n",
       "\n",
       "       total_mb  total_session    age  messages_included  \\\n",
       "count    986.00         986.00 986.00             986.00   \n",
       "mean      19.47          38.39  46.84           1,000.00   \n",
       "std        9.87          19.65  17.10               0.00   \n",
       "min        0.00           0.00  18.00           1,000.00   \n",
       "25%       12.00          24.00  30.00           1,000.00   \n",
       "50%       19.00          38.00  45.00           1,000.00   \n",
       "75%       27.00          52.00  63.00           1,000.00   \n",
       "max       49.00          97.00  75.00           1,000.00   \n",
       "\n",
       "       mb_per_month_included  minutes_included  rub_monthly_fee  rub_per_gb  \\\n",
       "count                 986.00            986.00           986.00      986.00   \n",
       "mean               30,720.00          3,000.00         1,950.00      150.00   \n",
       "std                     0.00              0.00             0.00        0.00   \n",
       "min                30,720.00          3,000.00         1,950.00      150.00   \n",
       "25%                30,720.00          3,000.00         1,950.00      150.00   \n",
       "50%                30,720.00          3,000.00         1,950.00      150.00   \n",
       "75%                30,720.00          3,000.00         1,950.00      150.00   \n",
       "max                30,720.00          3,000.00         1,950.00      150.00   \n",
       "\n",
       "       rub_per_message  rub_per_minute  revenue  \n",
       "count           986.00          986.00   986.00  \n",
       "mean              1.00            1.00 2,070.03  \n",
       "std               0.00            0.00   376.02  \n",
       "min               1.00            1.00 1,950.00  \n",
       "25%               1.00            1.00 1,950.00  \n",
       "50%               1.00            1.00 1,950.00  \n",
       "75%               1.00            1.00 1,950.00  \n",
       "max               1.00            1.00 4,800.00  "
      ]
     },
     "execution_count": 38,
     "metadata": {},
     "output_type": "execute_result"
    }
   ],
   "source": [
    "def quartil(ultra_user, column):\n",
    "    q1 = ultra_user[column].quantile(0.25)\n",
    "    q3 = ultra_user[column].quantile(0.75)\n",
    "    iqr = q3 - q1\n",
    "    dfq = ultra_user.loc[(ultra_user[column] < q3 + 1.5*iqr) & (ultra_user[column] > q1 - 1.5*iqr), column]\n",
    "    return dfq\n",
    "\n",
    "columns = ['total_minute','total_sms', 'total_mb']\n",
    "for row in columns:\n",
    "    ultra_user[row] = quartil(ultra_user, row)\n",
    "ultra_user.describe()"
   ]
  },
  {
   "cell_type": "markdown",
   "metadata": {},
   "source": [
    "### *Звонки*"
   ]
  },
  {
   "cell_type": "code",
   "execution_count": 39,
   "metadata": {
    "scrolled": false
   },
   "outputs": [
    {
     "data": {
      "image/png": "[encoded data removed]",
      "text/plain": [
       "<Figure size 432x288 with 1 Axes>"
      ]
     },
     "metadata": {},
     "output_type": "display_data"
    },
    {
     "data": {
      "text/plain": [
       "count     984.00\n",
       "mean      523.82\n",
       "std       314.20\n",
       "min         0.00\n",
       "25%       282.00\n",
       "50%       517.00\n",
       "75%       751.00\n",
       "max     1,410.00\n",
       "Name: total_minute, dtype: float64"
      ]
     },
     "execution_count": 39,
     "metadata": {},
     "output_type": "execute_result"
    }
   ],
   "source": [
    "ultra_user['total_minute'].plot(kind='hist', bins=30)\n",
    "plt.title('Звонки')\n",
    "plt.xlabel('количество минут')\n",
    "plt.ylabel('Абоненты')\n",
    "plt.show()\n",
    "ultra_user['total_minute'].describe()"
   ]
  },
  {
   "cell_type": "markdown",
   "metadata": {},
   "source": [
    "Абоненты тарифа «Ультра» не выговаривают половины купленных минут."
   ]
  },
  {
   "cell_type": "markdown",
   "metadata": {},
   "source": [
    "### *Сообщения*"
   ]
  },
  {
   "cell_type": "code",
   "execution_count": 40,
   "metadata": {},
   "outputs": [
    {
     "data": {
      "image/png": "[encoded data removed]",
      "text/plain": [
       "<Figure size 432x288 with 1 Axes>"
      ]
     },
     "metadata": {},
     "output_type": "display_data"
    },
    {
     "data": {
      "text/plain": [
       "count   977.00\n",
       "mean     47.91\n",
       "std      45.70\n",
       "min       0.00\n",
       "25%       6.00\n",
       "50%      37.00\n",
       "75%      77.00\n",
       "max     185.00\n",
       "Name: total_sms, dtype: float64"
      ]
     },
     "execution_count": 40,
     "metadata": {},
     "output_type": "execute_result"
    }
   ],
   "source": [
    "ultra_user['total_sms'].plot(kind='hist', bins=10)\n",
    "plt.title('Sms')\n",
    "plt.xlabel('количество смс')\n",
    "plt.ylabel('Абоненты')\n",
    "plt.show()\n",
    "ultra_user['total_sms'].describe()"
   ]
  },
  {
   "cell_type": "markdown",
   "metadata": {},
   "source": [
    "Смс тоже покупается с большим излишком"
   ]
  },
  {
   "cell_type": "markdown",
   "metadata": {},
   "source": [
    "### *Интернет*"
   ]
  },
  {
   "cell_type": "code",
   "execution_count": 41,
   "metadata": {},
   "outputs": [
    {
     "data": {
      "image/png": "[encoded data removed]",
      "text/plain": [
       "<Figure size 432x288 with 1 Axes>"
      ]
     },
     "metadata": {},
     "output_type": "display_data"
    },
    {
     "data": {
      "text/plain": [
       "count   986.00\n",
       "mean     19.47\n",
       "std       9.87\n",
       "min       0.00\n",
       "25%      12.00\n",
       "50%      19.00\n",
       "75%      27.00\n",
       "max      49.00\n",
       "Name: total_mb, dtype: float64"
      ]
     },
     "execution_count": 41,
     "metadata": {},
     "output_type": "execute_result"
    }
   ],
   "source": [
    "ultra_user['total_mb'].plot(kind='hist', bins= 100)\n",
    "plt.title('Интернет')\n",
    "plt.xlabel('количество Гб')\n",
    "plt.ylabel('Абоненты')\n",
    "plt.show()\n",
    "ultra_user['total_mb'].describe()"
   ]
  },
  {
   "cell_type": "markdown",
   "metadata": {},
   "source": [
    "75 % клиентов тарифа «Ультра» укладываются в купленный трафик, остальные 25% доплачивают. "
   ]
  },
  {
   "cell_type": "markdown",
   "metadata": {},
   "source": [
    "### *Выручка*"
   ]
  },
  {
   "cell_type": "code",
   "execution_count": 42,
   "metadata": {},
   "outputs": [
    {
     "data": {
      "image/png": "[encoded data removed]",
      "text/plain": [
       "<Figure size 432x288 with 1 Axes>"
      ]
     },
     "metadata": {},
     "output_type": "display_data"
    },
    {
     "data": {
      "text/plain": [
       "count     986.00\n",
       "mean    2,070.03\n",
       "std       376.02\n",
       "min     1,950.00\n",
       "25%     1,950.00\n",
       "50%     1,950.00\n",
       "75%     1,950.00\n",
       "max     4,800.00\n",
       "Name: revenue, dtype: float64"
      ]
     },
     "execution_count": 42,
     "metadata": {},
     "output_type": "execute_result"
    }
   ],
   "source": [
    "ultra_user['revenue'].plot(kind='hist', bins= 10)\n",
    "plt.title('Выручка')\n",
    "plt.xlabel('рубли')\n",
    "plt.ylabel('Абоненты')\n",
    "plt.show()\n",
    "ultra_user['revenue'].describe()"
   ]
  },
  {
   "cell_type": "markdown",
   "metadata": {},
   "source": [
    "Распределение выручки в тарифе «Ультра» показывает нам, что основная часть пользователей не выход за рамки абонентской платы."
   ]
  },
  {
   "cell_type": "markdown",
   "metadata": {},
   "source": [
    "### **Итог по блоку:**"
   ]
  },
  {
   "cell_type": "markdown",
   "metadata": {},
   "source": [
    "Вывод:  \n",
    "* Любителям поболтать тариф «Смарт» не совсем подходит, 40% доплачивают за минуты разговора.  \n",
    "А тариф «Ультра» подойдёт что бы обсудить по телефону любимые темы и ещё останется половина.  \n",
    "* Для 25% абонентов тарифа «Смарт» можно добавить количество сообщений, в «Ультра» смс можно убавить на ¾.  \n",
    "Но в целом услугой пользуются не активно там и там.  \n",
    "* Интернета не хватает пользователям «Смарт» здесь большая часть доплачивает – 55%.  \n",
    "А в тарифе «Ультра» 25% выходят за рамки оплаченного.   \n",
    "\n",
    "\n",
    "Выручка:\n",
    "* Тариф «Смарт»  \n",
    "Среднее = 1,289.64   \n",
    "Стандартное отклонение = 816.74\n",
    "\n",
    "* Тариф «Ультра»  \n",
    "Среднее =  2,070.03  \n",
    "Стандартное отклонение = 374.51\n",
    "\n",
    "\n",
    "\n",
    "    "
   ]
  },
  {
   "cell_type": "markdown",
   "metadata": {},
   "source": [
    "### **Дисперсия**"
   ]
  },
  {
   "cell_type": "markdown",
   "metadata": {},
   "source": [
    "Изучаем разницу разброса данных двух тарифов по выручке, звонкам, смс и Гб"
   ]
  },
  {
   "cell_type": "code",
   "execution_count": 43,
   "metadata": {},
   "outputs": [],
   "source": [
    "# Смарт\n",
    "x = ['total_minute','total_sms','total_mb','revenue'] # выборка\n",
    "def var_x (row):\n",
    "    return np.var(x, ddof=1)\n",
    "smart_var = smart_user.pivot_table(index = 'tariff',values = ['total_minute','total_sms','total_mb','revenue'], aggfunc = 'var' )\n"
   ]
  },
  {
   "cell_type": "code",
   "execution_count": 44,
   "metadata": {},
   "outputs": [],
   "source": [
    "# Ультра\n",
    "x = ['total_minute','total_sms','total_mb','revenue'] # выборка\n",
    "def var_x (row):\n",
    "    return np.var(x, ddof=1)\n",
    "ultra_var = ultra_user.pivot_table(index = 'tariff',values = ['total_minute','total_sms','total_mb','revenue'], aggfunc = 'var' )"
   ]
  },
  {
   "cell_type": "code",
   "execution_count": 45,
   "metadata": {},
   "outputs": [
    {
     "data": {
      "text/html": [
       "<div>\n",
       "<style scoped>\n",
       "    .dataframe tbody tr th:only-of-type {\n",
       "        vertical-align: middle;\n",
       "    }\n",
       "\n",
       "    .dataframe tbody tr th {\n",
       "        vertical-align: top;\n",
       "    }\n",
       "\n",
       "    .dataframe thead th {\n",
       "        text-align: right;\n",
       "    }\n",
       "</style>\n",
       "<table border=\"1\" class=\"dataframe\">\n",
       "  <thead>\n",
       "    <tr style=\"text-align: right;\">\n",
       "      <th></th>\n",
       "      <th>revenue</th>\n",
       "      <th>total_mb</th>\n",
       "      <th>total_minute</th>\n",
       "      <th>total_sms</th>\n",
       "    </tr>\n",
       "    <tr>\n",
       "      <th>tariff</th>\n",
       "      <th></th>\n",
       "      <th></th>\n",
       "      <th></th>\n",
       "      <th></th>\n",
       "    </tr>\n",
       "  </thead>\n",
       "  <tbody>\n",
       "    <tr>\n",
       "      <th>smart</th>\n",
       "      <td>669,730.76</td>\n",
       "      <td>27.81</td>\n",
       "      <td>34,510.25</td>\n",
       "      <td>744.27</td>\n",
       "    </tr>\n",
       "    <tr>\n",
       "      <th>ultra</th>\n",
       "      <td>141,387.71</td>\n",
       "      <td>97.38</td>\n",
       "      <td>98,721.82</td>\n",
       "      <td>2,088.51</td>\n",
       "    </tr>\n",
       "  </tbody>\n",
       "</table>\n",
       "</div>"
      ],
      "text/plain": [
       "          revenue  total_mb  total_minute  total_sms\n",
       "tariff                                              \n",
       "smart  669,730.76     27.81     34,510.25     744.27\n",
       "ultra  141,387.71     97.38     98,721.82   2,088.51"
      ]
     },
     "metadata": {},
     "output_type": "display_data"
    }
   ],
   "source": [
    "# Сравниваем\n",
    "tariffs_var = pd. concat([smart_var,ultra_var],sort=False,axis = 0)\n",
    "display(tariffs_var)"
   ]
  },
  {
   "cell_type": "markdown",
   "metadata": {},
   "source": [
    "Если смотреть на такие метрики как звонки, смс и количество потраченных Гб, то увидим, что в тарифе «Ультра» разброс больше.  \n",
    "В целом это очевидно, в «Ультра» доступных единиц по опциям намного больше чем в «Смарт», следовательно вариативность их использования тоже увеличивается.   \n",
    "А вот дисперсия по выручке больше в «Смарт». Вероятно из за того, что большинству абонентам приходиться постоянно доплачивать за ту или иную опцию. В «Ультра» с этим более стабильно.\n",
    "\n",
    "\n",
    "Я пыталась добавить сюда сравнительную гистограмму.Получилась ерунда.\n"
   ]
  },
  {
   "cell_type": "markdown",
   "metadata": {},
   "source": [
    "## **Проверка гипотез**"
   ]
  },
  {
   "cell_type": "markdown",
   "metadata": {},
   "source": [
    "### Гипотеза №1"
   ]
  },
  {
   "cell_type": "markdown",
   "metadata": {},
   "source": [
    "* H0: Средняя выручка пользователей тарифов «Ультра» и «Смарт» **одинакова**.  \n",
    "* H1: Средняя выручка пользователей тарифов «Ультра» и «Смарт» **различаются**.\n"
   ]
  },
  {
   "cell_type": "code",
   "execution_count": 46,
   "metadata": {},
   "outputs": [
    {
     "name": "stdout",
     "output_type": "stream",
     "text": [
      "p-значение: 8.081909555489933e-161\n",
      "Отвергаем нулевую гипотезу\n"
     ]
    }
   ],
   "source": [
    "# сопоставляем среднее двух выборок, используем st.ttest_ind\n",
    "alpha = 0.05\n",
    "results = st.ttest_ind(smart_user['revenue'], ultra_user['revenue'])\n",
    "print('p-значение:', results.pvalue)\n",
    "if results.pvalue < alpha:\n",
    "    print('Отвергаем нулевую гипотезу')\n",
    "else:\n",
    "    print('Не получилось отвергнуть нулевую гипотезу')"
   ]
  },
  {
   "cell_type": "markdown",
   "metadata": {},
   "source": [
    "Т.е Средняя выручка пользователей тарифов «Ультра» и «Смарт» **различаются**.\n"
   ]
  },
  {
   "cell_type": "markdown",
   "metadata": {},
   "source": [
    "### Гипотеза №2"
   ]
  },
  {
   "cell_type": "markdown",
   "metadata": {},
   "source": [
    "* H0: Средняя выручка пользователей из Москвы **не отличается** от выручки пользователей из других регионов.  \n",
    "* H1: Средняя выручка пользователей из Москвы **отличается** от выручки пользователей из других регионов."
   ]
  },
  {
   "cell_type": "code",
   "execution_count": 47,
   "metadata": {},
   "outputs": [],
   "source": [
    "other_region = df[df['city'] != 'Москва']\n"
   ]
  },
  {
   "cell_type": "code",
   "execution_count": 48,
   "metadata": {},
   "outputs": [],
   "source": [
    "moscow = df[df['city'] == 'Москва']\n"
   ]
  },
  {
   "cell_type": "code",
   "execution_count": 49,
   "metadata": {},
   "outputs": [
    {
     "name": "stdout",
     "output_type": "stream",
     "text": [
      "p-значение: 0.5400751614511182\n",
      "Не получилось отвергнуть нулевую гипотезу. 8.081909555489933e-161\n"
     ]
    }
   ],
   "source": [
    "# тут тоже две выборки, тоже использую st.ttest_ind\n",
    "city_revenue = st.ttest_ind(other_region['revenue'], moscow['revenue'])\n",
    "print('p-значение:', city_revenue.pvalue)\n",
    "if city_revenue.pvalue < alpha:\n",
    "    print('Отвергаем нулевую гипотезу.')\n",
    "else:\n",
    "    print('Не получилось отвергнуть нулевую гипотезу.', results.pvalue)"
   ]
  },
  {
   "cell_type": "markdown",
   "metadata": {},
   "source": [
    "Абоненты  Москвы и других регионов примерно одинаково приносят прибыль компании "
   ]
  },
  {
   "cell_type": "markdown",
   "metadata": {},
   "source": [
    "## **Вывод**"
   ]
  },
  {
   "cell_type": "markdown",
   "metadata": {},
   "source": [
    " **В ходе подготовки данных было подсчитано:**  \n",
    "\n",
    "* количество израсходованных минут разговора;  \n",
    "* количество отправленных сообщений;  \n",
    "* объем израсходованного интернет-трафика;  \n",
    "* помесячную выручку с каждого пользователя \n",
    "\n",
    "**Из этих данных сделали вывод:**\n",
    "* Тариф «Смарт» не совсем подходит тем, кто часто и много говорит по телефону, 40% пользователей доплачивают за минуты разговора.  А в тарифе «Ультра» половина пакетных минут остаётся не расходованной \n",
    "* Для 25% абонентов тарифа «Смарт» можно добавить количество сообщений, в «Ультра» смс можно убавить на ¾.  \n",
    "Но в целом услугой пользуются не активно там и там.  \n",
    "* Интернета не хватает пользователям «Смарт», 55% абонентов доплачивают за гигабайты. А в тарифе «Ультра» за рамки оплаченного выходят 25%.  \n",
    " \n",
    "\n",
    "**Выручка:**\n",
    "* Тариф «Смарт»  \n",
    "Среднее = 1,289.64   \n",
    "Стандартное отклонение = 816.74\n",
    "\n",
    "* Тариф «Ультра»  \n",
    "Среднее = 2,070.03  \n",
    "Стандартное отклонение = 374.51  \n",
    "\n",
    "**Дисперсия**  \n",
    " Если смотреть на такие метрики как звонки, смс и количество потраченных Гб, то увидим, что в тарифе «Ультра» разброс больше.  \n",
    "А вот дисперсия по выручке больше в «Смарт». Вероятно, из-за того, что большинству абонентам приходиться постоянно доплачивать за ту или иную опцию. В «Ультра» с этим более стабильно. \n",
    "\n",
    "**Москва и другие области**  \n",
    " Также сравнили среднюю прибыль, которую приносят абоненты Москвы и абоненты других регионов вместе.  И выяснили, что средняя выручка пользователей из Москвы не отличается от выручки пользователей из других регионов.  \n",
    "Из анализа данных делаем вывод, что тариф «Ультра» выгодней и удовлетворяет потребностям большинства пользователей.   \n",
    "\n",
    "***Тариф «Смарт» уступает тарифу «Ультра» по всем критериям. Он не удобен для пользователей т.к. часто приходиться доплачивать за ту или иную услугу. И менее выгоден для оператора. Поэтому стоит пересмотреть опции для данного тарифа или поменять его в корне: увеличить количество минут для звонков, добавить гигабайты и, следовательно, придётся поднять цену. В результате можем получить новый тариф, что то между старым \"Смарт\" и \"Ультра\"***  \n",
    "\n",
    "***Тариф «Ультра» изменять не стоит если резерв 3000 минут и 1000 сообщений не несёт какой-либо нагрузки. Несмотря на то, что здесь не используется весь потенциал, абонентам не понравиться если чего-то станет меньше.*** \n",
    "\n"
   ]
  }
 ],
 "metadata": {
  "ExecuteTimeLog": [
   {
    "duration": 2154,
    "start_time": "2022-03-20T14:49:23.959Z"
   },
   {
    "duration": 18,
    "start_time": "2022-03-20T14:50:13.837Z"
   },
   {
    "duration": 140,
    "start_time": "2022-03-20T14:59:13.415Z"
   },
   {
    "duration": 92,
    "start_time": "2022-03-20T15:09:44.053Z"
   },
   {
    "duration": 102,
    "start_time": "2022-03-20T15:09:53.673Z"
   },
   {
    "duration": 35,
    "start_time": "2022-03-20T15:10:21.986Z"
   },
   {
    "duration": 17,
    "start_time": "2022-03-20T15:10:39.539Z"
   },
   {
    "duration": 40,
    "start_time": "2022-03-20T15:11:07.739Z"
   },
   {
    "duration": 23,
    "start_time": "2022-03-20T15:11:22.342Z"
   },
   {
    "duration": 10,
    "start_time": "2022-03-20T15:18:24.271Z"
   },
   {
    "duration": 11,
    "start_time": "2022-03-20T15:19:33.048Z"
   },
   {
    "duration": 15,
    "start_time": "2022-03-20T15:19:52.522Z"
   },
   {
    "duration": 19,
    "start_time": "2022-03-20T15:20:37.346Z"
   },
   {
    "duration": 15,
    "start_time": "2022-03-20T15:21:23.185Z"
   },
   {
    "duration": 15,
    "start_time": "2022-03-20T15:23:26.005Z"
   },
   {
    "duration": 21,
    "start_time": "2022-03-20T15:23:27.028Z"
   },
   {
    "duration": 14,
    "start_time": "2022-03-20T15:23:28.016Z"
   },
   {
    "duration": 12,
    "start_time": "2022-03-20T15:23:29.343Z"
   },
   {
    "duration": 18,
    "start_time": "2022-03-20T15:23:30.648Z"
   },
   {
    "duration": 24,
    "start_time": "2022-03-20T15:26:49.136Z"
   },
   {
    "duration": 2309,
    "start_time": "2022-03-21T10:44:08.917Z"
   },
   {
    "duration": 23,
    "start_time": "2022-03-21T10:48:20.724Z"
   },
   {
    "duration": 107,
    "start_time": "2022-03-21T10:50:58.681Z"
   },
   {
    "duration": 36,
    "start_time": "2022-03-21T10:51:04.343Z"
   },
   {
    "duration": 40,
    "start_time": "2022-03-21T10:52:10.525Z"
   },
   {
    "duration": 17,
    "start_time": "2022-03-21T11:02:28.061Z"
   },
   {
    "duration": 571,
    "start_time": "2022-03-21T11:06:10.525Z"
   },
   {
    "duration": 24,
    "start_time": "2022-03-21T11:06:13.687Z"
   },
   {
    "duration": 57,
    "start_time": "2022-03-21T11:06:16.461Z"
   },
   {
    "duration": 60,
    "start_time": "2022-03-21T11:06:17.501Z"
   },
   {
    "duration": 554,
    "start_time": "2022-03-21T11:13:38.262Z"
   },
   {
    "duration": 23,
    "start_time": "2022-03-21T11:13:40.991Z"
   },
   {
    "duration": 16,
    "start_time": "2022-03-21T11:13:42.669Z"
   },
   {
    "duration": 23,
    "start_time": "2022-03-21T11:13:43.409Z"
   },
   {
    "duration": 15,
    "start_time": "2022-03-21T11:13:44.543Z"
   },
   {
    "duration": 14,
    "start_time": "2022-03-21T11:13:45.093Z"
   },
   {
    "duration": 19,
    "start_time": "2022-03-21T11:13:45.567Z"
   },
   {
    "duration": 13,
    "start_time": "2022-03-21T11:13:46.108Z"
   },
   {
    "duration": 99,
    "start_time": "2022-03-21T11:33:23.833Z"
   },
   {
    "duration": 118,
    "start_time": "2022-03-21T11:34:05.533Z"
   },
   {
    "duration": 127,
    "start_time": "2022-03-21T11:34:58.429Z"
   },
   {
    "duration": 9,
    "start_time": "2022-03-21T11:38:04.071Z"
   },
   {
    "duration": 26,
    "start_time": "2022-03-21T11:38:28.703Z"
   },
   {
    "duration": 124,
    "start_time": "2022-03-21T11:44:02.297Z"
   },
   {
    "duration": 26,
    "start_time": "2022-03-21T11:44:05.933Z"
   },
   {
    "duration": 27,
    "start_time": "2022-03-21T11:44:17.962Z"
   },
   {
    "duration": 10,
    "start_time": "2022-03-21T11:56:30.881Z"
   },
   {
    "duration": 26,
    "start_time": "2022-03-21T11:56:31.705Z"
   },
   {
    "duration": 36,
    "start_time": "2022-03-21T12:04:43.322Z"
   },
   {
    "duration": 16,
    "start_time": "2022-03-21T12:08:33.274Z"
   },
   {
    "duration": 142,
    "start_time": "2022-03-21T12:21:35.473Z"
   },
   {
    "duration": 16,
    "start_time": "2022-03-21T12:22:21.513Z"
   },
   {
    "duration": 6,
    "start_time": "2022-03-21T12:28:07.034Z"
   },
   {
    "duration": 16,
    "start_time": "2022-03-21T12:28:24.650Z"
   },
   {
    "duration": 11,
    "start_time": "2022-03-21T14:47:56.376Z"
   },
   {
    "duration": 520,
    "start_time": "2022-03-21T14:48:16.309Z"
   },
   {
    "duration": 20,
    "start_time": "2022-03-21T14:48:17.767Z"
   },
   {
    "duration": 17,
    "start_time": "2022-03-21T14:48:18.503Z"
   },
   {
    "duration": 23,
    "start_time": "2022-03-21T14:48:19.255Z"
   },
   {
    "duration": 16,
    "start_time": "2022-03-21T14:48:21.951Z"
   },
   {
    "duration": 35,
    "start_time": "2022-03-21T14:48:25.628Z"
   },
   {
    "duration": 12,
    "start_time": "2022-03-21T14:48:27.093Z"
   },
   {
    "duration": 528,
    "start_time": "2022-03-21T15:00:22.389Z"
   },
   {
    "duration": 20,
    "start_time": "2022-03-21T15:00:25.016Z"
   },
   {
    "duration": 15,
    "start_time": "2022-03-21T15:00:26.172Z"
   },
   {
    "duration": 25,
    "start_time": "2022-03-21T15:00:26.916Z"
   },
   {
    "duration": 16,
    "start_time": "2022-03-21T15:00:29.136Z"
   },
   {
    "duration": 35,
    "start_time": "2022-03-21T15:00:29.794Z"
   },
   {
    "duration": 16,
    "start_time": "2022-03-21T15:00:31.072Z"
   },
   {
    "duration": 8,
    "start_time": "2022-03-21T15:03:21.716Z"
   },
   {
    "duration": 48,
    "start_time": "2022-03-21T15:06:29.252Z"
   },
   {
    "duration": 17,
    "start_time": "2022-03-21T15:06:30.120Z"
   },
   {
    "duration": 26,
    "start_time": "2022-03-21T15:07:37.409Z"
   },
   {
    "duration": 14,
    "start_time": "2022-03-21T15:08:41.966Z"
   },
   {
    "duration": 28,
    "start_time": "2022-03-21T15:19:59.001Z"
   },
   {
    "duration": 20,
    "start_time": "2022-03-21T15:27:10.619Z"
   },
   {
    "duration": 12,
    "start_time": "2022-03-21T15:27:19.386Z"
   },
   {
    "duration": 35,
    "start_time": "2022-03-21T17:05:14.151Z"
   },
   {
    "duration": 11,
    "start_time": "2022-03-21T17:08:35.533Z"
   },
   {
    "duration": 10,
    "start_time": "2022-03-21T17:09:05.170Z"
   },
   {
    "duration": 11,
    "start_time": "2022-03-21T17:11:05.909Z"
   },
   {
    "duration": 6,
    "start_time": "2022-03-21T17:18:01.407Z"
   },
   {
    "duration": 93,
    "start_time": "2022-03-21T17:42:16.315Z"
   },
   {
    "duration": 110,
    "start_time": "2022-03-21T17:42:49.908Z"
   },
   {
    "duration": 91,
    "start_time": "2022-03-21T17:59:25.153Z"
   },
   {
    "duration": 102,
    "start_time": "2022-03-21T18:12:14.615Z"
   },
   {
    "duration": 99,
    "start_time": "2022-03-21T18:14:45.375Z"
   },
   {
    "duration": 101,
    "start_time": "2022-03-21T18:15:18.119Z"
   },
   {
    "duration": 100,
    "start_time": "2022-03-21T18:16:07.712Z"
   },
   {
    "duration": 108,
    "start_time": "2022-03-21T18:16:43.005Z"
   },
   {
    "duration": 119,
    "start_time": "2022-03-21T18:17:02.336Z"
   },
   {
    "duration": 112,
    "start_time": "2022-03-21T18:17:20.775Z"
   },
   {
    "duration": 180,
    "start_time": "2022-03-21T18:18:58.355Z"
   },
   {
    "duration": 157,
    "start_time": "2022-03-21T18:19:19.193Z"
   },
   {
    "duration": 201,
    "start_time": "2022-03-21T18:20:40.091Z"
   },
   {
    "duration": 206,
    "start_time": "2022-03-21T18:26:46.184Z"
   },
   {
    "duration": 114,
    "start_time": "2022-03-21T18:27:56.423Z"
   },
   {
    "duration": 144,
    "start_time": "2022-03-21T18:29:34.481Z"
   },
   {
    "duration": 144,
    "start_time": "2022-03-21T18:30:13.192Z"
   },
   {
    "duration": 155,
    "start_time": "2022-03-21T18:31:25.494Z"
   },
   {
    "duration": 119,
    "start_time": "2022-03-21T18:31:45.324Z"
   },
   {
    "duration": 239,
    "start_time": "2022-03-21T18:31:54.998Z"
   },
   {
    "duration": 74,
    "start_time": "2022-03-21T18:33:32.431Z"
   },
   {
    "duration": 92,
    "start_time": "2022-03-21T18:34:00.068Z"
   },
   {
    "duration": 197,
    "start_time": "2022-03-21T18:34:25.196Z"
   },
   {
    "duration": 155,
    "start_time": "2022-03-21T18:34:41.860Z"
   },
   {
    "duration": 160,
    "start_time": "2022-03-21T18:34:46.049Z"
   },
   {
    "duration": 116,
    "start_time": "2022-03-21T18:39:50.069Z"
   },
   {
    "duration": 12,
    "start_time": "2022-03-21T18:40:49.893Z"
   },
   {
    "duration": 2429,
    "start_time": "2022-03-21T18:41:36.645Z"
   },
   {
    "duration": 39,
    "start_time": "2022-03-21T18:41:39.078Z"
   },
   {
    "duration": 25,
    "start_time": "2022-03-21T18:41:39.120Z"
   },
   {
    "duration": 12,
    "start_time": "2022-03-21T18:41:39.435Z"
   },
   {
    "duration": 28,
    "start_time": "2022-03-21T18:41:40.373Z"
   },
   {
    "duration": 57,
    "start_time": "2022-03-21T18:41:41.077Z"
   },
   {
    "duration": 51,
    "start_time": "2022-03-21T18:41:42.666Z"
   },
   {
    "duration": 6,
    "start_time": "2022-03-21T18:41:43.143Z"
   },
   {
    "duration": 15,
    "start_time": "2022-03-21T18:41:44.027Z"
   },
   {
    "duration": 27,
    "start_time": "2022-03-21T18:41:44.515Z"
   },
   {
    "duration": 29,
    "start_time": "2022-03-21T18:41:45.547Z"
   },
   {
    "duration": 25,
    "start_time": "2022-03-21T18:41:46.675Z"
   },
   {
    "duration": 37,
    "start_time": "2022-03-21T18:41:47.183Z"
   },
   {
    "duration": 12,
    "start_time": "2022-03-21T18:41:48.222Z"
   },
   {
    "duration": 140,
    "start_time": "2022-03-21T18:41:50.319Z"
   },
   {
    "duration": 136,
    "start_time": "2022-03-21T18:41:53.065Z"
   },
   {
    "duration": 247,
    "start_time": "2022-03-21T18:42:44.125Z"
   },
   {
    "duration": 212,
    "start_time": "2022-03-21T18:43:11.919Z"
   },
   {
    "duration": 120,
    "start_time": "2022-03-21T18:43:25.882Z"
   },
   {
    "duration": 188,
    "start_time": "2022-03-21T18:44:00.527Z"
   },
   {
    "duration": 220,
    "start_time": "2022-03-21T18:44:21.111Z"
   },
   {
    "duration": 165,
    "start_time": "2022-03-21T18:44:42.893Z"
   },
   {
    "duration": 377,
    "start_time": "2022-03-21T18:45:06.210Z"
   },
   {
    "duration": 143,
    "start_time": "2022-03-21T18:46:06.644Z"
   },
   {
    "duration": 163,
    "start_time": "2022-03-21T18:47:30.666Z"
   },
   {
    "duration": 78,
    "start_time": "2022-03-21T18:48:02.363Z"
   },
   {
    "duration": 5,
    "start_time": "2022-03-21T18:51:24.111Z"
   },
   {
    "duration": 116,
    "start_time": "2022-03-21T18:58:44.456Z"
   },
   {
    "duration": 28,
    "start_time": "2022-03-21T19:00:32.094Z"
   },
   {
    "duration": 19,
    "start_time": "2022-03-21T19:01:57.593Z"
   },
   {
    "duration": 1565,
    "start_time": "2022-03-21T19:03:34.753Z"
   },
   {
    "duration": 508,
    "start_time": "2022-03-21T19:11:28.983Z"
   },
   {
    "duration": 20,
    "start_time": "2022-03-21T19:11:30.273Z"
   },
   {
    "duration": 20,
    "start_time": "2022-03-21T19:11:30.871Z"
   },
   {
    "duration": 8,
    "start_time": "2022-03-21T19:11:32.087Z"
   },
   {
    "duration": 26,
    "start_time": "2022-03-21T19:11:33.672Z"
   },
   {
    "duration": 36,
    "start_time": "2022-03-21T19:11:34.407Z"
   },
   {
    "duration": 46,
    "start_time": "2022-03-21T19:11:35.943Z"
   },
   {
    "duration": 6,
    "start_time": "2022-03-21T19:11:36.576Z"
   },
   {
    "duration": 15,
    "start_time": "2022-03-21T19:11:39.792Z"
   },
   {
    "duration": 27,
    "start_time": "2022-03-21T19:11:40.605Z"
   },
   {
    "duration": 30,
    "start_time": "2022-03-21T19:11:42.078Z"
   },
   {
    "duration": 21,
    "start_time": "2022-03-21T19:11:43.335Z"
   },
   {
    "duration": 36,
    "start_time": "2022-03-21T19:11:44.214Z"
   },
   {
    "duration": 12,
    "start_time": "2022-03-21T19:11:51.137Z"
   },
   {
    "duration": 274,
    "start_time": "2022-03-21T19:11:56.113Z"
   },
   {
    "duration": 188,
    "start_time": "2022-03-21T19:11:57.255Z"
   },
   {
    "duration": 144,
    "start_time": "2022-03-21T19:11:58.343Z"
   },
   {
    "duration": 16,
    "start_time": "2022-03-21T19:12:53.505Z"
   },
   {
    "duration": 16,
    "start_time": "2022-03-21T19:12:58.559Z"
   },
   {
    "duration": 3059,
    "start_time": "2022-03-21T19:13:17.597Z"
   },
   {
    "duration": 26,
    "start_time": "2022-03-21T19:13:20.659Z"
   },
   {
    "duration": 18,
    "start_time": "2022-03-21T19:13:20.687Z"
   },
   {
    "duration": 11,
    "start_time": "2022-03-21T19:13:20.708Z"
   },
   {
    "duration": 19,
    "start_time": "2022-03-21T19:13:21.753Z"
   },
   {
    "duration": 36,
    "start_time": "2022-03-21T19:13:22.337Z"
   },
   {
    "duration": 47,
    "start_time": "2022-03-21T19:13:23.727Z"
   },
   {
    "duration": 7,
    "start_time": "2022-03-21T19:13:24.283Z"
   },
   {
    "duration": 17,
    "start_time": "2022-03-21T19:13:25.643Z"
   },
   {
    "duration": 27,
    "start_time": "2022-03-21T19:13:26.331Z"
   },
   {
    "duration": 29,
    "start_time": "2022-03-21T19:13:28.349Z"
   },
   {
    "duration": 21,
    "start_time": "2022-03-21T19:13:30.101Z"
   },
   {
    "duration": 37,
    "start_time": "2022-03-21T19:13:30.885Z"
   },
   {
    "duration": 13,
    "start_time": "2022-03-21T19:13:33.219Z"
   },
   {
    "duration": 293,
    "start_time": "2022-03-21T19:13:37.553Z"
   },
   {
    "duration": 167,
    "start_time": "2022-03-21T19:13:38.809Z"
   },
   {
    "duration": 146,
    "start_time": "2022-03-21T19:13:40.089Z"
   },
   {
    "duration": 168,
    "start_time": "2022-03-21T19:32:26.387Z"
   },
   {
    "duration": 167,
    "start_time": "2022-03-21T19:38:30.533Z"
   },
   {
    "duration": 168,
    "start_time": "2022-03-21T19:39:48.524Z"
   },
   {
    "duration": 159,
    "start_time": "2022-03-21T19:40:09.336Z"
   },
   {
    "duration": 204,
    "start_time": "2022-03-21T19:41:07.436Z"
   },
   {
    "duration": 11,
    "start_time": "2022-03-21T19:42:42.115Z"
   },
   {
    "duration": 154,
    "start_time": "2022-03-21T19:42:56.859Z"
   },
   {
    "duration": 3057,
    "start_time": "2022-03-21T19:44:02.408Z"
   },
   {
    "duration": 549,
    "start_time": "2022-03-21T19:44:06.465Z"
   },
   {
    "duration": 26,
    "start_time": "2022-03-21T19:44:07.016Z"
   },
   {
    "duration": 24,
    "start_time": "2022-03-21T19:44:07.044Z"
   },
   {
    "duration": 25,
    "start_time": "2022-03-21T19:44:07.072Z"
   },
   {
    "duration": 38,
    "start_time": "2022-03-21T19:44:07.100Z"
   },
   {
    "duration": 47,
    "start_time": "2022-03-21T19:44:07.140Z"
   },
   {
    "duration": 48,
    "start_time": "2022-03-21T19:44:07.189Z"
   },
   {
    "duration": 5,
    "start_time": "2022-03-21T19:44:07.239Z"
   },
   {
    "duration": 37,
    "start_time": "2022-03-21T19:44:07.246Z"
   },
   {
    "duration": 30,
    "start_time": "2022-03-21T19:44:07.287Z"
   },
   {
    "duration": 29,
    "start_time": "2022-03-21T19:44:07.320Z"
   },
   {
    "duration": 46,
    "start_time": "2022-03-21T19:44:07.351Z"
   },
   {
    "duration": 38,
    "start_time": "2022-03-21T19:44:07.399Z"
   },
   {
    "duration": 13,
    "start_time": "2022-03-21T19:44:07.439Z"
   },
   {
    "duration": 325,
    "start_time": "2022-03-21T19:44:07.454Z"
   },
   {
    "duration": 179,
    "start_time": "2022-03-21T19:44:07.784Z"
   },
   {
    "duration": 156,
    "start_time": "2022-03-21T19:44:07.965Z"
   },
   {
    "duration": 76,
    "start_time": "2022-03-21T19:47:04.953Z"
   },
   {
    "duration": 2600,
    "start_time": "2022-03-21T19:47:16.536Z"
   },
   {
    "duration": 25,
    "start_time": "2022-03-21T19:47:19.139Z"
   },
   {
    "duration": 16,
    "start_time": "2022-03-21T19:47:19.167Z"
   },
   {
    "duration": 9,
    "start_time": "2022-03-21T19:47:19.630Z"
   },
   {
    "duration": 18,
    "start_time": "2022-03-21T19:47:20.822Z"
   },
   {
    "duration": 34,
    "start_time": "2022-03-21T19:47:21.400Z"
   },
   {
    "duration": 73,
    "start_time": "2022-03-21T19:47:22.552Z"
   },
   {
    "duration": 5,
    "start_time": "2022-03-21T19:47:23.063Z"
   },
   {
    "duration": 15,
    "start_time": "2022-03-21T19:47:23.964Z"
   },
   {
    "duration": 27,
    "start_time": "2022-03-21T19:47:24.388Z"
   },
   {
    "duration": 31,
    "start_time": "2022-03-21T19:47:25.020Z"
   },
   {
    "duration": 20,
    "start_time": "2022-03-21T19:47:25.488Z"
   },
   {
    "duration": 37,
    "start_time": "2022-03-21T19:47:25.710Z"
   },
   {
    "duration": 12,
    "start_time": "2022-03-21T19:47:26.367Z"
   },
   {
    "duration": 292,
    "start_time": "2022-03-21T19:47:29.610Z"
   },
   {
    "duration": 169,
    "start_time": "2022-03-21T19:47:30.336Z"
   },
   {
    "duration": 144,
    "start_time": "2022-03-21T19:47:31.539Z"
   },
   {
    "duration": 170,
    "start_time": "2022-03-21T19:47:31.862Z"
   },
   {
    "duration": 80,
    "start_time": "2022-03-21T19:48:43.889Z"
   },
   {
    "duration": 9,
    "start_time": "2022-03-21T19:48:50.132Z"
   },
   {
    "duration": 2056,
    "start_time": "2022-03-21T19:49:03.692Z"
   },
   {
    "duration": 26,
    "start_time": "2022-03-21T19:49:05.751Z"
   },
   {
    "duration": 18,
    "start_time": "2022-03-21T19:49:05.784Z"
   },
   {
    "duration": 29,
    "start_time": "2022-03-21T19:49:05.806Z"
   },
   {
    "duration": 44,
    "start_time": "2022-03-21T19:49:05.838Z"
   },
   {
    "duration": 59,
    "start_time": "2022-03-21T19:49:05.885Z"
   },
   {
    "duration": 49,
    "start_time": "2022-03-21T19:49:05.946Z"
   },
   {
    "duration": 6,
    "start_time": "2022-03-21T19:49:05.997Z"
   },
   {
    "duration": 19,
    "start_time": "2022-03-21T19:49:06.005Z"
   },
   {
    "duration": 32,
    "start_time": "2022-03-21T19:49:06.027Z"
   },
   {
    "duration": 54,
    "start_time": "2022-03-21T19:49:06.062Z"
   },
   {
    "duration": 23,
    "start_time": "2022-03-21T19:49:06.118Z"
   },
   {
    "duration": 63,
    "start_time": "2022-03-21T19:49:06.144Z"
   },
   {
    "duration": 12,
    "start_time": "2022-03-21T19:49:06.210Z"
   },
   {
    "duration": 304,
    "start_time": "2022-03-21T19:49:06.224Z"
   },
   {
    "duration": 192,
    "start_time": "2022-03-21T19:49:06.530Z"
   },
   {
    "duration": 170,
    "start_time": "2022-03-21T19:49:06.725Z"
   },
   {
    "duration": 71,
    "start_time": "2022-03-21T19:50:28.945Z"
   },
   {
    "duration": 9,
    "start_time": "2022-03-21T19:50:31.896Z"
   },
   {
    "duration": 10,
    "start_time": "2022-03-21T19:50:39.800Z"
   },
   {
    "duration": 11,
    "start_time": "2022-03-21T19:50:40.778Z"
   },
   {
    "duration": 9,
    "start_time": "2022-03-21T19:50:41.482Z"
   },
   {
    "duration": 9,
    "start_time": "2022-03-21T19:50:41.811Z"
   },
   {
    "duration": 2599,
    "start_time": "2022-03-21T19:50:47.740Z"
   },
   {
    "duration": 25,
    "start_time": "2022-03-21T19:50:50.342Z"
   },
   {
    "duration": 26,
    "start_time": "2022-03-21T19:50:50.369Z"
   },
   {
    "duration": 26,
    "start_time": "2022-03-21T19:50:50.398Z"
   },
   {
    "duration": 32,
    "start_time": "2022-03-21T19:50:50.426Z"
   },
   {
    "duration": 54,
    "start_time": "2022-03-21T19:50:50.461Z"
   },
   {
    "duration": 51,
    "start_time": "2022-03-21T19:50:50.519Z"
   },
   {
    "duration": 6,
    "start_time": "2022-03-21T19:50:50.682Z"
   },
   {
    "duration": 15,
    "start_time": "2022-03-21T19:50:51.171Z"
   },
   {
    "duration": 28,
    "start_time": "2022-03-21T19:50:51.381Z"
   },
   {
    "duration": 32,
    "start_time": "2022-03-21T19:50:52.073Z"
   },
   {
    "duration": 21,
    "start_time": "2022-03-21T19:50:52.579Z"
   },
   {
    "duration": 41,
    "start_time": "2022-03-21T19:50:52.840Z"
   },
   {
    "duration": 12,
    "start_time": "2022-03-21T19:50:54.313Z"
   },
   {
    "duration": 311,
    "start_time": "2022-03-21T19:50:57.069Z"
   },
   {
    "duration": 267,
    "start_time": "2022-03-21T19:51:09.290Z"
   },
   {
    "duration": 181,
    "start_time": "2022-03-21T19:51:10.691Z"
   },
   {
    "duration": 154,
    "start_time": "2022-03-21T19:51:11.151Z"
   },
   {
    "duration": 191,
    "start_time": "2022-03-21T19:51:11.631Z"
   },
   {
    "duration": 114,
    "start_time": "2022-03-21T19:52:02.193Z"
   },
   {
    "duration": 70,
    "start_time": "2022-03-21T19:55:41.706Z"
   },
   {
    "duration": 9,
    "start_time": "2022-03-21T19:55:44.673Z"
   },
   {
    "duration": 8,
    "start_time": "2022-03-21T19:55:57.993Z"
   },
   {
    "duration": 8,
    "start_time": "2022-03-21T19:55:58.506Z"
   },
   {
    "duration": 2242,
    "start_time": "2022-03-21T19:56:17.129Z"
   },
   {
    "duration": 25,
    "start_time": "2022-03-21T19:56:19.374Z"
   },
   {
    "duration": 16,
    "start_time": "2022-03-21T19:56:19.402Z"
   },
   {
    "duration": 9,
    "start_time": "2022-03-21T19:56:19.421Z"
   },
   {
    "duration": 22,
    "start_time": "2022-03-21T19:56:19.432Z"
   },
   {
    "duration": 33,
    "start_time": "2022-03-21T19:56:19.484Z"
   },
   {
    "duration": 69,
    "start_time": "2022-03-21T19:56:19.520Z"
   },
   {
    "duration": 7,
    "start_time": "2022-03-21T19:56:19.591Z"
   },
   {
    "duration": 20,
    "start_time": "2022-03-21T19:56:19.601Z"
   },
   {
    "duration": 60,
    "start_time": "2022-03-21T19:56:19.626Z"
   },
   {
    "duration": 31,
    "start_time": "2022-03-21T19:56:19.689Z"
   },
   {
    "duration": 22,
    "start_time": "2022-03-21T19:56:19.723Z"
   },
   {
    "duration": 62,
    "start_time": "2022-03-21T19:56:19.747Z"
   },
   {
    "duration": 14,
    "start_time": "2022-03-21T19:56:19.811Z"
   },
   {
    "duration": 396,
    "start_time": "2022-03-21T19:56:19.828Z"
   },
   {
    "duration": 191,
    "start_time": "2022-03-21T19:56:20.227Z"
   },
   {
    "duration": 152,
    "start_time": "2022-03-21T19:56:20.420Z"
   },
   {
    "duration": 112,
    "start_time": "2022-03-21T19:56:53.872Z"
   },
   {
    "duration": 1921,
    "start_time": "2022-03-22T09:16:15.569Z"
   },
   {
    "duration": 18,
    "start_time": "2022-03-22T09:16:17.492Z"
   },
   {
    "duration": 14,
    "start_time": "2022-03-22T09:16:17.512Z"
   },
   {
    "duration": 16,
    "start_time": "2022-03-22T09:16:17.528Z"
   },
   {
    "duration": 18,
    "start_time": "2022-03-22T09:16:17.546Z"
   },
   {
    "duration": 43,
    "start_time": "2022-03-22T09:16:17.566Z"
   },
   {
    "duration": 36,
    "start_time": "2022-03-22T09:16:17.611Z"
   },
   {
    "duration": 6,
    "start_time": "2022-03-22T09:16:17.648Z"
   },
   {
    "duration": 13,
    "start_time": "2022-03-22T09:16:17.656Z"
   },
   {
    "duration": 47,
    "start_time": "2022-03-22T09:16:17.671Z"
   },
   {
    "duration": 22,
    "start_time": "2022-03-22T09:16:17.719Z"
   },
   {
    "duration": 16,
    "start_time": "2022-03-22T09:16:17.743Z"
   },
   {
    "duration": 54,
    "start_time": "2022-03-22T09:16:17.761Z"
   },
   {
    "duration": 10,
    "start_time": "2022-03-22T09:16:17.818Z"
   },
   {
    "duration": 233,
    "start_time": "2022-03-22T09:16:17.830Z"
   },
   {
    "duration": 139,
    "start_time": "2022-03-22T09:16:18.065Z"
   },
   {
    "duration": 106,
    "start_time": "2022-03-22T09:16:18.205Z"
   },
   {
    "duration": 61,
    "start_time": "2022-03-22T09:19:30.989Z"
   },
   {
    "duration": 1743,
    "start_time": "2022-03-22T09:19:49.361Z"
   },
   {
    "duration": 20,
    "start_time": "2022-03-22T09:19:51.106Z"
   },
   {
    "duration": 13,
    "start_time": "2022-03-22T09:19:51.128Z"
   },
   {
    "duration": 10,
    "start_time": "2022-03-22T09:19:51.144Z"
   },
   {
    "duration": 17,
    "start_time": "2022-03-22T09:19:51.156Z"
   },
   {
    "duration": 50,
    "start_time": "2022-03-22T09:19:51.175Z"
   },
   {
    "duration": 34,
    "start_time": "2022-03-22T09:19:51.226Z"
   },
   {
    "duration": 5,
    "start_time": "2022-03-22T09:19:51.261Z"
   },
   {
    "duration": 38,
    "start_time": "2022-03-22T09:19:51.268Z"
   },
   {
    "duration": 25,
    "start_time": "2022-03-22T09:19:51.309Z"
   },
   {
    "duration": 23,
    "start_time": "2022-03-22T09:19:51.336Z"
   },
   {
    "duration": 15,
    "start_time": "2022-03-22T09:19:51.361Z"
   },
   {
    "duration": 27,
    "start_time": "2022-03-22T09:19:51.400Z"
   },
   {
    "duration": 9,
    "start_time": "2022-03-22T09:19:51.429Z"
   },
   {
    "duration": 214,
    "start_time": "2022-03-22T09:19:51.440Z"
   },
   {
    "duration": 130,
    "start_time": "2022-03-22T09:19:51.656Z"
   },
   {
    "duration": 114,
    "start_time": "2022-03-22T09:19:51.788Z"
   },
   {
    "duration": 105,
    "start_time": "2022-03-22T09:26:55.378Z"
   },
   {
    "duration": 9,
    "start_time": "2022-03-22T09:27:53.608Z"
   },
   {
    "duration": 14,
    "start_time": "2022-03-22T09:28:07.916Z"
   },
   {
    "duration": 7,
    "start_time": "2022-03-22T09:31:14.863Z"
   },
   {
    "duration": 20,
    "start_time": "2022-03-22T09:31:35.257Z"
   },
   {
    "duration": 32,
    "start_time": "2022-03-22T09:32:25.039Z"
   },
   {
    "duration": 18,
    "start_time": "2022-03-22T09:33:36.835Z"
   },
   {
    "duration": 195,
    "start_time": "2022-03-22T09:34:10.028Z"
   },
   {
    "duration": 136,
    "start_time": "2022-03-22T09:34:11.070Z"
   },
   {
    "duration": 14,
    "start_time": "2022-03-22T09:34:11.964Z"
   },
   {
    "duration": 17,
    "start_time": "2022-03-22T09:34:12.931Z"
   },
   {
    "duration": 420,
    "start_time": "2022-03-22T09:34:52.483Z"
   },
   {
    "duration": 14,
    "start_time": "2022-03-22T09:34:52.905Z"
   },
   {
    "duration": 16,
    "start_time": "2022-03-22T09:34:52.921Z"
   },
   {
    "duration": 12,
    "start_time": "2022-03-22T09:34:52.939Z"
   },
   {
    "duration": 16,
    "start_time": "2022-03-22T09:34:52.953Z"
   },
   {
    "duration": 50,
    "start_time": "2022-03-22T09:34:52.971Z"
   },
   {
    "duration": 35,
    "start_time": "2022-03-22T09:34:53.023Z"
   },
   {
    "duration": 5,
    "start_time": "2022-03-22T09:34:53.059Z"
   },
   {
    "duration": 37,
    "start_time": "2022-03-22T09:34:53.065Z"
   },
   {
    "duration": 23,
    "start_time": "2022-03-22T09:34:53.105Z"
   },
   {
    "duration": 23,
    "start_time": "2022-03-22T09:34:53.130Z"
   },
   {
    "duration": 16,
    "start_time": "2022-03-22T09:34:53.155Z"
   },
   {
    "duration": 53,
    "start_time": "2022-03-22T09:34:53.173Z"
   },
   {
    "duration": 10,
    "start_time": "2022-03-22T09:34:53.227Z"
   },
   {
    "duration": 216,
    "start_time": "2022-03-22T09:34:53.239Z"
   },
   {
    "duration": 147,
    "start_time": "2022-03-22T09:34:53.457Z"
   },
   {
    "duration": 114,
    "start_time": "2022-03-22T09:34:53.606Z"
   },
   {
    "duration": 16,
    "start_time": "2022-03-22T09:34:53.723Z"
   },
   {
    "duration": 13,
    "start_time": "2022-03-22T09:45:01.739Z"
   },
   {
    "duration": 7,
    "start_time": "2022-03-22T09:49:10.154Z"
   },
   {
    "duration": 18,
    "start_time": "2022-03-22T09:49:49.168Z"
   },
   {
    "duration": 20,
    "start_time": "2022-03-22T09:50:56.739Z"
   },
   {
    "duration": 20,
    "start_time": "2022-03-22T09:51:40.065Z"
   },
   {
    "duration": 16,
    "start_time": "2022-03-22T09:54:08.650Z"
   },
   {
    "duration": 18,
    "start_time": "2022-03-22T09:54:59.246Z"
   },
   {
    "duration": 22,
    "start_time": "2022-03-22T09:57:51.914Z"
   },
   {
    "duration": 13,
    "start_time": "2022-03-22T10:00:19.686Z"
   },
   {
    "duration": 413,
    "start_time": "2022-03-22T10:00:33.140Z"
   },
   {
    "duration": 15,
    "start_time": "2022-03-22T10:00:33.943Z"
   },
   {
    "duration": 12,
    "start_time": "2022-03-22T10:00:34.371Z"
   },
   {
    "duration": 8,
    "start_time": "2022-03-22T10:00:35.336Z"
   },
   {
    "duration": 13,
    "start_time": "2022-03-22T10:00:36.227Z"
   },
   {
    "duration": 29,
    "start_time": "2022-03-22T10:00:36.625Z"
   },
   {
    "duration": 34,
    "start_time": "2022-03-22T10:00:37.868Z"
   },
   {
    "duration": 5,
    "start_time": "2022-03-22T10:00:38.207Z"
   },
   {
    "duration": 10,
    "start_time": "2022-03-22T10:00:39.048Z"
   },
   {
    "duration": 24,
    "start_time": "2022-03-22T10:00:39.483Z"
   },
   {
    "duration": 23,
    "start_time": "2022-03-22T10:00:40.324Z"
   },
   {
    "duration": 15,
    "start_time": "2022-03-22T10:00:41.156Z"
   },
   {
    "duration": 24,
    "start_time": "2022-03-22T10:00:41.724Z"
   },
   {
    "duration": 10,
    "start_time": "2022-03-22T10:00:43.175Z"
   },
   {
    "duration": 148,
    "start_time": "2022-03-22T10:00:45.515Z"
   },
   {
    "duration": 191,
    "start_time": "2022-03-22T10:00:46.035Z"
   },
   {
    "duration": 154,
    "start_time": "2022-03-22T10:00:46.944Z"
   },
   {
    "duration": 18,
    "start_time": "2022-03-22T10:00:47.704Z"
   },
   {
    "duration": 14,
    "start_time": "2022-03-22T10:00:48.451Z"
   },
   {
    "duration": 20,
    "start_time": "2022-03-22T10:03:09.975Z"
   },
   {
    "duration": 50,
    "start_time": "2022-03-22T10:18:26.212Z"
   },
   {
    "duration": 1945,
    "start_time": "2022-03-22T10:18:36.652Z"
   },
   {
    "duration": 19,
    "start_time": "2022-03-22T10:18:38.600Z"
   },
   {
    "duration": 14,
    "start_time": "2022-03-22T10:18:38.621Z"
   },
   {
    "duration": 10,
    "start_time": "2022-03-22T10:18:38.638Z"
   },
   {
    "duration": 16,
    "start_time": "2022-03-22T10:18:38.650Z"
   },
   {
    "duration": 52,
    "start_time": "2022-03-22T10:18:38.669Z"
   },
   {
    "duration": 35,
    "start_time": "2022-03-22T10:18:38.724Z"
   },
   {
    "duration": 6,
    "start_time": "2022-03-22T10:18:38.762Z"
   },
   {
    "duration": 12,
    "start_time": "2022-03-22T10:18:39.165Z"
   },
   {
    "duration": 22,
    "start_time": "2022-03-22T10:18:39.556Z"
   },
   {
    "duration": 22,
    "start_time": "2022-03-22T10:18:39.980Z"
   },
   {
    "duration": 15,
    "start_time": "2022-03-22T10:18:40.420Z"
   },
   {
    "duration": 27,
    "start_time": "2022-03-22T10:18:40.610Z"
   },
   {
    "duration": 9,
    "start_time": "2022-03-22T10:18:41.234Z"
   },
   {
    "duration": 132,
    "start_time": "2022-03-22T10:18:42.350Z"
   },
   {
    "duration": 196,
    "start_time": "2022-03-22T10:18:42.568Z"
   },
   {
    "duration": 251,
    "start_time": "2022-03-22T10:18:42.773Z"
   },
   {
    "duration": 36,
    "start_time": "2022-03-22T10:18:43.203Z"
   },
   {
    "duration": 95,
    "start_time": "2022-03-22T10:19:10.314Z"
   },
   {
    "duration": 54,
    "start_time": "2022-03-22T10:19:33.343Z"
   },
   {
    "duration": 40,
    "start_time": "2022-03-22T10:21:20.618Z"
   },
   {
    "duration": 138,
    "start_time": "2022-03-22T10:29:57.535Z"
   },
   {
    "duration": 136,
    "start_time": "2022-03-22T10:30:09.751Z"
   },
   {
    "duration": 143,
    "start_time": "2022-03-22T10:30:17.673Z"
   },
   {
    "duration": 4535,
    "start_time": "2022-03-22T10:30:40.320Z"
   },
   {
    "duration": 14,
    "start_time": "2022-03-22T10:31:14.449Z"
   },
   {
    "duration": 29,
    "start_time": "2022-03-22T10:31:14.931Z"
   },
   {
    "duration": 5330,
    "start_time": "2022-03-22T10:31:15.923Z"
   },
   {
    "duration": 0,
    "start_time": "2022-03-22T10:31:21.256Z"
   },
   {
    "duration": 0,
    "start_time": "2022-03-22T10:31:21.257Z"
   },
   {
    "duration": 0,
    "start_time": "2022-03-22T10:31:21.259Z"
   },
   {
    "duration": 0,
    "start_time": "2022-03-22T10:31:21.260Z"
   },
   {
    "duration": 0,
    "start_time": "2022-03-22T10:31:21.261Z"
   },
   {
    "duration": 0,
    "start_time": "2022-03-22T10:31:21.262Z"
   },
   {
    "duration": 9,
    "start_time": "2022-03-22T10:31:22.123Z"
   },
   {
    "duration": 113,
    "start_time": "2022-03-22T10:31:24.767Z"
   },
   {
    "duration": 4932,
    "start_time": "2022-03-22T10:31:31.859Z"
   },
   {
    "duration": 1668,
    "start_time": "2022-03-22T10:32:08.945Z"
   },
   {
    "duration": 18,
    "start_time": "2022-03-22T10:32:10.615Z"
   },
   {
    "duration": 15,
    "start_time": "2022-03-22T10:32:10.635Z"
   },
   {
    "duration": 11,
    "start_time": "2022-03-22T10:32:10.651Z"
   },
   {
    "duration": 15,
    "start_time": "2022-03-22T10:32:10.664Z"
   },
   {
    "duration": 41,
    "start_time": "2022-03-22T10:32:10.681Z"
   },
   {
    "duration": 33,
    "start_time": "2022-03-22T10:32:10.724Z"
   },
   {
    "duration": 5,
    "start_time": "2022-03-22T10:32:10.759Z"
   },
   {
    "duration": 16,
    "start_time": "2022-03-22T10:32:10.765Z"
   },
   {
    "duration": 40,
    "start_time": "2022-03-22T10:32:10.783Z"
   },
   {
    "duration": 23,
    "start_time": "2022-03-22T10:32:10.824Z"
   },
   {
    "duration": 15,
    "start_time": "2022-03-22T10:32:10.849Z"
   },
   {
    "duration": 53,
    "start_time": "2022-03-22T10:32:10.865Z"
   },
   {
    "duration": 9,
    "start_time": "2022-03-22T10:32:10.921Z"
   },
   {
    "duration": 149,
    "start_time": "2022-03-22T10:32:10.932Z"
   },
   {
    "duration": 179,
    "start_time": "2022-03-22T10:32:11.083Z"
   },
   {
    "duration": 153,
    "start_time": "2022-03-22T10:32:11.263Z"
   },
   {
    "duration": 100,
    "start_time": "2022-03-22T10:36:24.637Z"
   },
   {
    "duration": 12,
    "start_time": "2022-03-22T10:38:01.483Z"
   },
   {
    "duration": 403,
    "start_time": "2022-03-22T10:40:21.657Z"
   },
   {
    "duration": 14,
    "start_time": "2022-03-22T10:40:22.233Z"
   },
   {
    "duration": 11,
    "start_time": "2022-03-22T10:40:22.461Z"
   },
   {
    "duration": 6,
    "start_time": "2022-03-22T10:40:22.871Z"
   },
   {
    "duration": 14,
    "start_time": "2022-03-22T10:40:23.266Z"
   },
   {
    "duration": 31,
    "start_time": "2022-03-22T10:40:23.464Z"
   },
   {
    "duration": 35,
    "start_time": "2022-03-22T10:40:23.867Z"
   },
   {
    "duration": 5,
    "start_time": "2022-03-22T10:40:24.038Z"
   },
   {
    "duration": 11,
    "start_time": "2022-03-22T10:40:24.585Z"
   },
   {
    "duration": 23,
    "start_time": "2022-03-22T10:40:24.805Z"
   },
   {
    "duration": 21,
    "start_time": "2022-03-22T10:40:25.214Z"
   },
   {
    "duration": 15,
    "start_time": "2022-03-22T10:40:25.636Z"
   },
   {
    "duration": 27,
    "start_time": "2022-03-22T10:40:25.869Z"
   },
   {
    "duration": 9,
    "start_time": "2022-03-22T10:40:26.564Z"
   },
   {
    "duration": 107,
    "start_time": "2022-03-22T10:40:27.594Z"
   },
   {
    "duration": 178,
    "start_time": "2022-03-22T10:40:27.801Z"
   },
   {
    "duration": 126,
    "start_time": "2022-03-22T10:40:28.501Z"
   },
   {
    "duration": 6432,
    "start_time": "2022-03-22T10:57:34.647Z"
   },
   {
    "duration": 0,
    "start_time": "2022-03-22T10:57:41.081Z"
   },
   {
    "duration": 0,
    "start_time": "2022-03-22T10:57:41.082Z"
   },
   {
    "duration": 8143,
    "start_time": "2022-03-22T10:58:02.098Z"
   },
   {
    "duration": 0,
    "start_time": "2022-03-22T10:58:10.243Z"
   },
   {
    "duration": 0,
    "start_time": "2022-03-22T10:58:10.244Z"
   },
   {
    "duration": 400,
    "start_time": "2022-03-22T10:58:26.439Z"
   },
   {
    "duration": 18,
    "start_time": "2022-03-22T10:58:27.309Z"
   },
   {
    "duration": 12,
    "start_time": "2022-03-22T10:58:27.695Z"
   },
   {
    "duration": 6,
    "start_time": "2022-03-22T10:58:28.531Z"
   },
   {
    "duration": 12,
    "start_time": "2022-03-22T10:58:29.156Z"
   },
   {
    "duration": 29,
    "start_time": "2022-03-22T10:58:29.355Z"
   },
   {
    "duration": 34,
    "start_time": "2022-03-22T10:58:29.745Z"
   },
   {
    "duration": 4,
    "start_time": "2022-03-22T10:58:29.937Z"
   },
   {
    "duration": 12,
    "start_time": "2022-03-22T10:58:30.355Z"
   },
   {
    "duration": 24,
    "start_time": "2022-03-22T10:58:30.539Z"
   },
   {
    "duration": 21,
    "start_time": "2022-03-22T10:58:30.921Z"
   },
   {
    "duration": 16,
    "start_time": "2022-03-22T10:58:31.331Z"
   },
   {
    "duration": 27,
    "start_time": "2022-03-22T10:58:31.521Z"
   },
   {
    "duration": 9,
    "start_time": "2022-03-22T10:58:32.127Z"
   },
   {
    "duration": 112,
    "start_time": "2022-03-22T10:58:33.131Z"
   },
   {
    "duration": 177,
    "start_time": "2022-03-22T10:58:33.593Z"
   },
   {
    "duration": 6770,
    "start_time": "2022-03-22T10:58:55.211Z"
   },
   {
    "duration": 0,
    "start_time": "2022-03-22T10:59:01.983Z"
   },
   {
    "duration": 455,
    "start_time": "2022-03-22T11:05:45.931Z"
   },
   {
    "duration": 20,
    "start_time": "2022-03-22T11:05:46.753Z"
   },
   {
    "duration": 12,
    "start_time": "2022-03-22T11:05:47.153Z"
   },
   {
    "duration": 8,
    "start_time": "2022-03-22T11:05:47.961Z"
   },
   {
    "duration": 14,
    "start_time": "2022-03-22T11:05:48.702Z"
   },
   {
    "duration": 32,
    "start_time": "2022-03-22T11:05:49.116Z"
   },
   {
    "duration": 36,
    "start_time": "2022-03-22T11:05:49.865Z"
   },
   {
    "duration": 4,
    "start_time": "2022-03-22T11:05:50.267Z"
   },
   {
    "duration": 11,
    "start_time": "2022-03-22T11:05:50.941Z"
   },
   {
    "duration": 23,
    "start_time": "2022-03-22T11:05:52.577Z"
   },
   {
    "duration": 23,
    "start_time": "2022-03-22T11:05:55.291Z"
   },
   {
    "duration": 15,
    "start_time": "2022-03-22T11:05:56.791Z"
   },
   {
    "duration": 27,
    "start_time": "2022-03-22T11:05:58.513Z"
   },
   {
    "duration": 9,
    "start_time": "2022-03-22T11:06:00.769Z"
   },
   {
    "duration": 108,
    "start_time": "2022-03-22T11:06:05.671Z"
   },
   {
    "duration": 49,
    "start_time": "2022-03-22T11:07:42.483Z"
   },
   {
    "duration": 294,
    "start_time": "2022-03-22T11:08:35.683Z"
   },
   {
    "duration": 354,
    "start_time": "2022-03-22T11:09:03.830Z"
   },
   {
    "duration": 14,
    "start_time": "2022-03-22T11:10:47.427Z"
   },
   {
    "duration": 15,
    "start_time": "2022-03-22T11:11:11.804Z"
   },
   {
    "duration": 16,
    "start_time": "2022-03-22T11:12:03.607Z"
   },
   {
    "duration": 16,
    "start_time": "2022-03-22T11:12:26.600Z"
   },
   {
    "duration": 44,
    "start_time": "2022-03-23T06:40:26.517Z"
   },
   {
    "duration": 2941,
    "start_time": "2022-03-23T06:40:37.635Z"
   },
   {
    "duration": 17,
    "start_time": "2022-03-23T06:40:40.578Z"
   },
   {
    "duration": 10,
    "start_time": "2022-03-23T06:40:40.596Z"
   },
   {
    "duration": 9,
    "start_time": "2022-03-23T06:40:40.608Z"
   },
   {
    "duration": 14,
    "start_time": "2022-03-23T06:40:40.618Z"
   },
   {
    "duration": 25,
    "start_time": "2022-03-23T06:40:40.633Z"
   },
   {
    "duration": 33,
    "start_time": "2022-03-23T06:40:40.681Z"
   },
   {
    "duration": 5,
    "start_time": "2022-03-23T06:40:40.715Z"
   },
   {
    "duration": 11,
    "start_time": "2022-03-23T06:40:40.721Z"
   },
   {
    "duration": 17,
    "start_time": "2022-03-23T06:40:40.734Z"
   },
   {
    "duration": 40,
    "start_time": "2022-03-23T06:40:40.753Z"
   },
   {
    "duration": 12,
    "start_time": "2022-03-23T06:40:40.795Z"
   },
   {
    "duration": 26,
    "start_time": "2022-03-23T06:40:40.808Z"
   },
   {
    "duration": 7,
    "start_time": "2022-03-23T06:40:40.836Z"
   },
   {
    "duration": 107,
    "start_time": "2022-03-23T06:40:40.845Z"
   },
   {
    "duration": 151,
    "start_time": "2022-03-23T06:40:40.954Z"
   },
   {
    "duration": 114,
    "start_time": "2022-03-23T06:40:41.107Z"
   },
   {
    "duration": 13,
    "start_time": "2022-03-23T06:40:41.223Z"
   },
   {
    "duration": 32,
    "start_time": "2022-03-23T06:41:07.813Z"
   },
   {
    "duration": 73,
    "start_time": "2022-03-23T06:41:37.295Z"
   },
   {
    "duration": 15,
    "start_time": "2022-03-23T06:42:00.249Z"
   },
   {
    "duration": 15,
    "start_time": "2022-03-23T06:42:26.677Z"
   },
   {
    "duration": 20,
    "start_time": "2022-03-23T06:48:32.933Z"
   },
   {
    "duration": 20,
    "start_time": "2022-03-23T06:48:38.448Z"
   },
   {
    "duration": 26,
    "start_time": "2022-03-23T06:48:47.161Z"
   },
   {
    "duration": 58,
    "start_time": "2022-03-23T06:49:38.593Z"
   },
   {
    "duration": 70,
    "start_time": "2022-03-23T06:52:14.741Z"
   },
   {
    "duration": 29,
    "start_time": "2022-03-23T06:58:57.496Z"
   },
   {
    "duration": 19,
    "start_time": "2022-03-23T06:59:15.736Z"
   },
   {
    "duration": 1154,
    "start_time": "2022-03-23T07:02:20.804Z"
   },
   {
    "duration": 1574,
    "start_time": "2022-03-23T07:08:35.699Z"
   },
   {
    "duration": 17,
    "start_time": "2022-03-23T07:08:37.275Z"
   },
   {
    "duration": 10,
    "start_time": "2022-03-23T07:08:37.294Z"
   },
   {
    "duration": 6,
    "start_time": "2022-03-23T07:08:37.306Z"
   },
   {
    "duration": 17,
    "start_time": "2022-03-23T07:08:37.313Z"
   },
   {
    "duration": 25,
    "start_time": "2022-03-23T07:08:37.332Z"
   },
   {
    "duration": 47,
    "start_time": "2022-03-23T07:08:37.359Z"
   },
   {
    "duration": 5,
    "start_time": "2022-03-23T07:08:37.408Z"
   },
   {
    "duration": 11,
    "start_time": "2022-03-23T07:08:37.414Z"
   },
   {
    "duration": 23,
    "start_time": "2022-03-23T07:08:37.428Z"
   },
   {
    "duration": 46,
    "start_time": "2022-03-23T07:08:37.452Z"
   },
   {
    "duration": 13,
    "start_time": "2022-03-23T07:08:37.500Z"
   },
   {
    "duration": 25,
    "start_time": "2022-03-23T07:08:37.515Z"
   },
   {
    "duration": 8,
    "start_time": "2022-03-23T07:08:37.543Z"
   },
   {
    "duration": 115,
    "start_time": "2022-03-23T07:08:37.553Z"
   },
   {
    "duration": 165,
    "start_time": "2022-03-23T07:08:37.670Z"
   },
   {
    "duration": 119,
    "start_time": "2022-03-23T07:08:37.837Z"
   },
   {
    "duration": 48,
    "start_time": "2022-03-23T07:13:54.317Z"
   },
   {
    "duration": 1614,
    "start_time": "2022-03-23T07:14:26.959Z"
   },
   {
    "duration": 16,
    "start_time": "2022-03-23T07:14:28.574Z"
   },
   {
    "duration": 9,
    "start_time": "2022-03-23T07:14:28.592Z"
   },
   {
    "duration": 11,
    "start_time": "2022-03-23T07:14:28.602Z"
   },
   {
    "duration": 12,
    "start_time": "2022-03-23T07:14:28.615Z"
   },
   {
    "duration": 25,
    "start_time": "2022-03-23T07:14:28.629Z"
   },
   {
    "duration": 45,
    "start_time": "2022-03-23T07:14:28.655Z"
   },
   {
    "duration": 5,
    "start_time": "2022-03-23T07:14:28.703Z"
   },
   {
    "duration": 14,
    "start_time": "2022-03-23T07:14:28.710Z"
   },
   {
    "duration": 34,
    "start_time": "2022-03-23T07:14:28.726Z"
   },
   {
    "duration": 51,
    "start_time": "2022-03-23T07:14:28.762Z"
   },
   {
    "duration": 19,
    "start_time": "2022-03-23T07:14:28.815Z"
   },
   {
    "duration": 62,
    "start_time": "2022-03-23T07:14:28.835Z"
   },
   {
    "duration": 10,
    "start_time": "2022-03-23T07:14:28.901Z"
   },
   {
    "duration": 164,
    "start_time": "2022-03-23T07:14:28.913Z"
   },
   {
    "duration": 289,
    "start_time": "2022-03-23T07:14:29.081Z"
   },
   {
    "duration": 115,
    "start_time": "2022-03-23T07:14:29.372Z"
   },
   {
    "duration": 45,
    "start_time": "2022-03-23T07:15:12.925Z"
   },
   {
    "duration": 1589,
    "start_time": "2022-03-23T07:15:26.618Z"
   },
   {
    "duration": 17,
    "start_time": "2022-03-23T07:15:28.209Z"
   },
   {
    "duration": 10,
    "start_time": "2022-03-23T07:15:28.227Z"
   },
   {
    "duration": 8,
    "start_time": "2022-03-23T07:15:28.239Z"
   },
   {
    "duration": 14,
    "start_time": "2022-03-23T07:15:28.249Z"
   },
   {
    "duration": 30,
    "start_time": "2022-03-23T07:15:28.265Z"
   },
   {
    "duration": 33,
    "start_time": "2022-03-23T07:15:28.297Z"
   },
   {
    "duration": 5,
    "start_time": "2022-03-23T07:15:28.331Z"
   },
   {
    "duration": 13,
    "start_time": "2022-03-23T07:15:28.337Z"
   },
   {
    "duration": 39,
    "start_time": "2022-03-23T07:15:28.352Z"
   },
   {
    "duration": 20,
    "start_time": "2022-03-23T07:15:28.393Z"
   },
   {
    "duration": 13,
    "start_time": "2022-03-23T07:15:28.414Z"
   },
   {
    "duration": 29,
    "start_time": "2022-03-23T07:15:28.428Z"
   },
   {
    "duration": 28,
    "start_time": "2022-03-23T07:15:28.458Z"
   },
   {
    "duration": 98,
    "start_time": "2022-03-23T07:15:28.488Z"
   },
   {
    "duration": 161,
    "start_time": "2022-03-23T07:15:28.588Z"
   },
   {
    "duration": 182,
    "start_time": "2022-03-23T07:15:28.751Z"
   },
   {
    "duration": 1236,
    "start_time": "2022-03-23T07:15:28.935Z"
   },
   {
    "duration": 195,
    "start_time": "2022-03-23T07:16:41.616Z"
   },
   {
    "duration": 184,
    "start_time": "2022-03-23T07:17:12.685Z"
   },
   {
    "duration": 198,
    "start_time": "2022-03-23T07:18:24.986Z"
   },
   {
    "duration": 20,
    "start_time": "2022-03-23T07:18:34.193Z"
   },
   {
    "duration": 44,
    "start_time": "2022-03-23T07:18:50.343Z"
   },
   {
    "duration": 18,
    "start_time": "2022-03-23T07:19:27.001Z"
   },
   {
    "duration": 27,
    "start_time": "2022-03-23T07:20:02.904Z"
   },
   {
    "duration": 31,
    "start_time": "2022-03-23T07:20:42.951Z"
   },
   {
    "duration": 17,
    "start_time": "2022-03-23T07:20:52.860Z"
   },
   {
    "duration": 32,
    "start_time": "2022-03-23T07:21:02.539Z"
   },
   {
    "duration": 45,
    "start_time": "2022-03-23T07:22:10.293Z"
   },
   {
    "duration": 392,
    "start_time": "2022-03-23T07:22:38.814Z"
   },
   {
    "duration": 13,
    "start_time": "2022-03-23T07:22:39.208Z"
   },
   {
    "duration": 12,
    "start_time": "2022-03-23T07:22:39.222Z"
   },
   {
    "duration": 7,
    "start_time": "2022-03-23T07:22:39.236Z"
   },
   {
    "duration": 14,
    "start_time": "2022-03-23T07:22:39.244Z"
   },
   {
    "duration": 25,
    "start_time": "2022-03-23T07:22:39.259Z"
   },
   {
    "duration": 32,
    "start_time": "2022-03-23T07:22:39.286Z"
   },
   {
    "duration": 5,
    "start_time": "2022-03-23T07:22:39.320Z"
   },
   {
    "duration": 12,
    "start_time": "2022-03-23T07:22:39.326Z"
   },
   {
    "duration": 44,
    "start_time": "2022-03-23T07:22:39.340Z"
   },
   {
    "duration": 18,
    "start_time": "2022-03-23T07:22:39.386Z"
   },
   {
    "duration": 12,
    "start_time": "2022-03-23T07:22:39.406Z"
   },
   {
    "duration": 23,
    "start_time": "2022-03-23T07:22:39.419Z"
   },
   {
    "duration": 7,
    "start_time": "2022-03-23T07:22:39.443Z"
   },
   {
    "duration": 117,
    "start_time": "2022-03-23T07:22:39.452Z"
   },
   {
    "duration": 156,
    "start_time": "2022-03-23T07:22:39.571Z"
   },
   {
    "duration": 115,
    "start_time": "2022-03-23T07:22:39.728Z"
   },
   {
    "duration": 38,
    "start_time": "2022-03-23T07:22:39.846Z"
   },
   {
    "duration": 212,
    "start_time": "2022-03-23T07:23:26.554Z"
   },
   {
    "duration": 186,
    "start_time": "2022-03-23T07:23:37.124Z"
   },
   {
    "duration": 46,
    "start_time": "2022-03-23T07:24:10.218Z"
   },
   {
    "duration": 48,
    "start_time": "2022-03-23T07:26:10.909Z"
   },
   {
    "duration": 74,
    "start_time": "2022-03-23T14:08:06.789Z"
   },
   {
    "duration": 2312,
    "start_time": "2022-03-23T14:08:18.717Z"
   },
   {
    "duration": 27,
    "start_time": "2022-03-23T14:08:21.032Z"
   },
   {
    "duration": 32,
    "start_time": "2022-03-23T14:08:21.061Z"
   },
   {
    "duration": 8,
    "start_time": "2022-03-23T14:08:21.096Z"
   },
   {
    "duration": 26,
    "start_time": "2022-03-23T14:08:21.107Z"
   },
   {
    "duration": 51,
    "start_time": "2022-03-23T14:08:21.135Z"
   },
   {
    "duration": 66,
    "start_time": "2022-03-23T14:08:21.189Z"
   },
   {
    "duration": 27,
    "start_time": "2022-03-23T14:08:21.258Z"
   },
   {
    "duration": 25,
    "start_time": "2022-03-23T14:08:21.287Z"
   },
   {
    "duration": 27,
    "start_time": "2022-03-23T14:08:21.314Z"
   },
   {
    "duration": 54,
    "start_time": "2022-03-23T14:08:21.344Z"
   },
   {
    "duration": 22,
    "start_time": "2022-03-23T14:08:21.400Z"
   },
   {
    "duration": 63,
    "start_time": "2022-03-23T14:08:21.426Z"
   },
   {
    "duration": 13,
    "start_time": "2022-03-23T14:08:21.493Z"
   },
   {
    "duration": 165,
    "start_time": "2022-03-23T14:08:21.509Z"
   },
   {
    "duration": 111,
    "start_time": "2022-03-23T14:08:21.677Z"
   },
   {
    "duration": 0,
    "start_time": "2022-03-23T14:08:21.791Z"
   },
   {
    "duration": 0,
    "start_time": "2022-03-23T14:08:21.792Z"
   },
   {
    "duration": 0,
    "start_time": "2022-03-23T14:08:21.794Z"
   },
   {
    "duration": 60,
    "start_time": "2022-03-23T14:11:23.990Z"
   },
   {
    "duration": 74,
    "start_time": "2022-03-23T14:12:00.736Z"
   },
   {
    "duration": 220,
    "start_time": "2022-03-23T14:12:38.856Z"
   },
   {
    "duration": 16,
    "start_time": "2022-03-23T14:15:54.460Z"
   },
   {
    "duration": 892,
    "start_time": "2022-03-23T14:16:10.672Z"
   },
   {
    "duration": 19,
    "start_time": "2022-03-23T14:16:11.567Z"
   },
   {
    "duration": 19,
    "start_time": "2022-03-23T14:16:11.589Z"
   },
   {
    "duration": 10,
    "start_time": "2022-03-23T14:16:11.611Z"
   },
   {
    "duration": 18,
    "start_time": "2022-03-23T14:16:11.623Z"
   },
   {
    "duration": 54,
    "start_time": "2022-03-23T14:16:11.643Z"
   },
   {
    "duration": 45,
    "start_time": "2022-03-23T14:16:11.700Z"
   },
   {
    "duration": 6,
    "start_time": "2022-03-23T14:16:11.747Z"
   },
   {
    "duration": 35,
    "start_time": "2022-03-23T14:16:11.755Z"
   },
   {
    "duration": 25,
    "start_time": "2022-03-23T14:16:11.794Z"
   },
   {
    "duration": 28,
    "start_time": "2022-03-23T14:16:11.821Z"
   },
   {
    "duration": 49,
    "start_time": "2022-03-23T14:16:11.851Z"
   },
   {
    "duration": 33,
    "start_time": "2022-03-23T14:16:11.903Z"
   },
   {
    "duration": 11,
    "start_time": "2022-03-23T14:16:11.939Z"
   },
   {
    "duration": 134,
    "start_time": "2022-03-23T14:16:11.983Z"
   },
   {
    "duration": 76,
    "start_time": "2022-03-23T14:16:12.119Z"
   },
   {
    "duration": 222,
    "start_time": "2022-03-23T14:16:12.197Z"
   },
   {
    "duration": 169,
    "start_time": "2022-03-23T14:16:12.422Z"
   },
   {
    "duration": 108,
    "start_time": "2022-03-23T14:16:12.593Z"
   },
   {
    "duration": 19,
    "start_time": "2022-03-23T14:17:12.679Z"
   },
   {
    "duration": 467,
    "start_time": "2022-03-23T14:17:21.399Z"
   },
   {
    "duration": 20,
    "start_time": "2022-03-23T14:17:21.868Z"
   },
   {
    "duration": 19,
    "start_time": "2022-03-23T14:17:21.890Z"
   },
   {
    "duration": 11,
    "start_time": "2022-03-23T14:17:21.911Z"
   },
   {
    "duration": 19,
    "start_time": "2022-03-23T14:17:21.925Z"
   },
   {
    "duration": 56,
    "start_time": "2022-03-23T14:17:21.947Z"
   },
   {
    "duration": 45,
    "start_time": "2022-03-23T14:17:22.005Z"
   },
   {
    "duration": 5,
    "start_time": "2022-03-23T14:17:22.053Z"
   },
   {
    "duration": 14,
    "start_time": "2022-03-23T14:17:22.082Z"
   },
   {
    "duration": 28,
    "start_time": "2022-03-23T14:17:22.098Z"
   },
   {
    "duration": 57,
    "start_time": "2022-03-23T14:17:22.129Z"
   },
   {
    "duration": 21,
    "start_time": "2022-03-23T14:17:22.188Z"
   },
   {
    "duration": 44,
    "start_time": "2022-03-23T14:17:22.211Z"
   },
   {
    "duration": 28,
    "start_time": "2022-03-23T14:17:22.260Z"
   },
   {
    "duration": 146,
    "start_time": "2022-03-23T14:17:22.291Z"
   },
   {
    "duration": 78,
    "start_time": "2022-03-23T14:17:22.439Z"
   },
   {
    "duration": 238,
    "start_time": "2022-03-23T14:17:22.519Z"
   },
   {
    "duration": 175,
    "start_time": "2022-03-23T14:17:22.759Z"
   },
   {
    "duration": 105,
    "start_time": "2022-03-23T14:17:22.936Z"
   },
   {
    "duration": 473,
    "start_time": "2022-03-23T14:22:08.268Z"
   },
   {
    "duration": 20,
    "start_time": "2022-03-23T14:22:08.744Z"
   },
   {
    "duration": 26,
    "start_time": "2022-03-23T14:22:08.766Z"
   },
   {
    "duration": 8,
    "start_time": "2022-03-23T14:22:08.795Z"
   },
   {
    "duration": 19,
    "start_time": "2022-03-23T14:22:08.805Z"
   },
   {
    "duration": 59,
    "start_time": "2022-03-23T14:22:08.827Z"
   },
   {
    "duration": 46,
    "start_time": "2022-03-23T14:22:08.888Z"
   },
   {
    "duration": 5,
    "start_time": "2022-03-23T14:22:08.937Z"
   },
   {
    "duration": 40,
    "start_time": "2022-03-23T14:22:08.945Z"
   },
   {
    "duration": 27,
    "start_time": "2022-03-23T14:22:08.989Z"
   },
   {
    "duration": 29,
    "start_time": "2022-03-23T14:22:09.019Z"
   },
   {
    "duration": 47,
    "start_time": "2022-03-23T14:22:09.051Z"
   },
   {
    "duration": 36,
    "start_time": "2022-03-23T14:22:09.101Z"
   },
   {
    "duration": 12,
    "start_time": "2022-03-23T14:22:09.139Z"
   },
   {
    "duration": 164,
    "start_time": "2022-03-23T14:22:09.153Z"
   },
   {
    "duration": 247,
    "start_time": "2022-03-23T14:22:09.320Z"
   },
   {
    "duration": 276,
    "start_time": "2022-03-23T14:22:09.570Z"
   },
   {
    "duration": 116,
    "start_time": "2022-03-23T14:22:09.849Z"
   },
   {
    "duration": 267,
    "start_time": "2022-03-23T14:27:44.838Z"
   },
   {
    "duration": 2647,
    "start_time": "2022-03-23T14:32:29.228Z"
   },
   {
    "duration": 20,
    "start_time": "2022-03-23T14:33:06.696Z"
   },
   {
    "duration": 29,
    "start_time": "2022-03-23T14:33:06.962Z"
   },
   {
    "duration": 2639,
    "start_time": "2022-03-23T14:33:07.648Z"
   },
   {
    "duration": 0,
    "start_time": "2022-03-23T14:33:10.290Z"
   },
   {
    "duration": 0,
    "start_time": "2022-03-23T14:33:10.292Z"
   },
   {
    "duration": 0,
    "start_time": "2022-03-23T14:33:10.293Z"
   },
   {
    "duration": 238,
    "start_time": "2022-03-23T14:33:11.400Z"
   },
   {
    "duration": 2605,
    "start_time": "2022-03-23T14:33:12.041Z"
   },
   {
    "duration": 470,
    "start_time": "2022-03-23T14:33:27.171Z"
   },
   {
    "duration": 20,
    "start_time": "2022-03-23T14:33:27.644Z"
   },
   {
    "duration": 25,
    "start_time": "2022-03-23T14:33:27.666Z"
   },
   {
    "duration": 9,
    "start_time": "2022-03-23T14:33:27.693Z"
   },
   {
    "duration": 18,
    "start_time": "2022-03-23T14:33:27.706Z"
   },
   {
    "duration": 65,
    "start_time": "2022-03-23T14:33:27.727Z"
   },
   {
    "duration": 46,
    "start_time": "2022-03-23T14:33:27.795Z"
   },
   {
    "duration": 5,
    "start_time": "2022-03-23T14:33:27.844Z"
   },
   {
    "duration": 37,
    "start_time": "2022-03-23T14:33:27.851Z"
   },
   {
    "duration": 31,
    "start_time": "2022-03-23T14:33:27.890Z"
   },
   {
    "duration": 40,
    "start_time": "2022-03-23T14:33:27.924Z"
   },
   {
    "duration": 33,
    "start_time": "2022-03-23T14:33:27.966Z"
   },
   {
    "duration": 46,
    "start_time": "2022-03-23T14:33:28.003Z"
   },
   {
    "duration": 18,
    "start_time": "2022-03-23T14:33:28.053Z"
   },
   {
    "duration": 253,
    "start_time": "2022-03-23T14:33:28.074Z"
   },
   {
    "duration": 164,
    "start_time": "2022-03-23T14:33:28.329Z"
   },
   {
    "duration": 174,
    "start_time": "2022-03-23T14:33:28.495Z"
   },
   {
    "duration": 134,
    "start_time": "2022-03-23T14:33:28.671Z"
   },
   {
    "duration": 138,
    "start_time": "2022-03-23T14:34:02.988Z"
   },
   {
    "duration": 2054,
    "start_time": "2022-03-23T14:37:52.941Z"
   },
   {
    "duration": 25,
    "start_time": "2022-03-23T14:37:54.999Z"
   },
   {
    "duration": 27,
    "start_time": "2022-03-23T14:37:55.027Z"
   },
   {
    "duration": 35,
    "start_time": "2022-03-23T14:37:55.056Z"
   },
   {
    "duration": 31,
    "start_time": "2022-03-23T14:37:55.094Z"
   },
   {
    "duration": 53,
    "start_time": "2022-03-23T14:37:55.127Z"
   },
   {
    "duration": 48,
    "start_time": "2022-03-23T14:37:55.183Z"
   },
   {
    "duration": 5,
    "start_time": "2022-03-23T14:37:55.234Z"
   },
   {
    "duration": 49,
    "start_time": "2022-03-23T14:37:55.241Z"
   },
   {
    "duration": 55,
    "start_time": "2022-03-23T14:37:55.292Z"
   },
   {
    "duration": 39,
    "start_time": "2022-03-23T14:37:55.349Z"
   },
   {
    "duration": 38,
    "start_time": "2022-03-23T14:37:55.390Z"
   },
   {
    "duration": 68,
    "start_time": "2022-03-23T14:37:55.430Z"
   },
   {
    "duration": 41,
    "start_time": "2022-03-23T14:37:55.501Z"
   },
   {
    "duration": 292,
    "start_time": "2022-03-23T14:37:55.544Z"
   },
   {
    "duration": 156,
    "start_time": "2022-03-23T14:37:55.839Z"
   },
   {
    "duration": 191,
    "start_time": "2022-03-23T14:37:55.998Z"
   },
   {
    "duration": 135,
    "start_time": "2022-03-23T14:37:56.192Z"
   },
   {
    "duration": 399,
    "start_time": "2022-03-23T14:39:25.197Z"
   },
   {
    "duration": 146,
    "start_time": "2022-03-23T14:40:10.873Z"
   },
   {
    "duration": 20,
    "start_time": "2022-03-23T14:42:46.381Z"
   },
   {
    "duration": 492,
    "start_time": "2022-03-23T14:43:15.592Z"
   },
   {
    "duration": 19,
    "start_time": "2022-03-23T14:43:16.090Z"
   },
   {
    "duration": 19,
    "start_time": "2022-03-23T14:43:16.111Z"
   },
   {
    "duration": 15,
    "start_time": "2022-03-23T14:43:16.133Z"
   },
   {
    "duration": 37,
    "start_time": "2022-03-23T14:43:16.152Z"
   },
   {
    "duration": 54,
    "start_time": "2022-03-23T14:43:16.192Z"
   },
   {
    "duration": 55,
    "start_time": "2022-03-23T14:43:16.249Z"
   },
   {
    "duration": 6,
    "start_time": "2022-03-23T14:43:16.307Z"
   },
   {
    "duration": 22,
    "start_time": "2022-03-23T14:43:16.316Z"
   },
   {
    "duration": 50,
    "start_time": "2022-03-23T14:43:16.341Z"
   },
   {
    "duration": 37,
    "start_time": "2022-03-23T14:43:16.393Z"
   },
   {
    "duration": 21,
    "start_time": "2022-03-23T14:43:16.432Z"
   },
   {
    "duration": 54,
    "start_time": "2022-03-23T14:43:16.455Z"
   },
   {
    "duration": 12,
    "start_time": "2022-03-23T14:43:16.513Z"
   },
   {
    "duration": 241,
    "start_time": "2022-03-23T14:43:16.527Z"
   },
   {
    "duration": 155,
    "start_time": "2022-03-23T14:43:16.771Z"
   },
   {
    "duration": 141,
    "start_time": "2022-03-23T14:43:16.929Z"
   },
   {
    "duration": 0,
    "start_time": "2022-03-23T14:43:17.072Z"
   },
   {
    "duration": 18,
    "start_time": "2022-03-23T14:44:52.761Z"
   },
   {
    "duration": 477,
    "start_time": "2022-03-23T14:45:50.551Z"
   },
   {
    "duration": 19,
    "start_time": "2022-03-23T14:45:51.031Z"
   },
   {
    "duration": 33,
    "start_time": "2022-03-23T14:45:51.054Z"
   },
   {
    "duration": 32,
    "start_time": "2022-03-23T14:45:51.090Z"
   },
   {
    "duration": 20,
    "start_time": "2022-03-23T14:45:51.124Z"
   },
   {
    "duration": 34,
    "start_time": "2022-03-23T14:45:51.146Z"
   },
   {
    "duration": 45,
    "start_time": "2022-03-23T14:45:51.183Z"
   },
   {
    "duration": 4,
    "start_time": "2022-03-23T14:45:51.231Z"
   },
   {
    "duration": 15,
    "start_time": "2022-03-23T14:45:51.238Z"
   },
   {
    "duration": 27,
    "start_time": "2022-03-23T14:45:51.286Z"
   },
   {
    "duration": 28,
    "start_time": "2022-03-23T14:45:51.315Z"
   },
   {
    "duration": 47,
    "start_time": "2022-03-23T14:45:51.345Z"
   },
   {
    "duration": 36,
    "start_time": "2022-03-23T14:45:51.394Z"
   },
   {
    "duration": 12,
    "start_time": "2022-03-23T14:45:51.432Z"
   },
   {
    "duration": 260,
    "start_time": "2022-03-23T14:45:51.446Z"
   },
   {
    "duration": 157,
    "start_time": "2022-03-23T14:45:51.708Z"
   },
   {
    "duration": 153,
    "start_time": "2022-03-23T14:45:51.867Z"
   },
   {
    "duration": 0,
    "start_time": "2022-03-23T14:45:52.023Z"
   },
   {
    "duration": 1997,
    "start_time": "2022-03-23T14:46:19.977Z"
   },
   {
    "duration": 25,
    "start_time": "2022-03-23T14:46:21.976Z"
   },
   {
    "duration": 16,
    "start_time": "2022-03-23T14:46:22.003Z"
   },
   {
    "duration": 24,
    "start_time": "2022-03-23T14:46:22.022Z"
   },
   {
    "duration": 36,
    "start_time": "2022-03-23T14:46:22.048Z"
   },
   {
    "duration": 55,
    "start_time": "2022-03-23T14:46:22.086Z"
   },
   {
    "duration": 49,
    "start_time": "2022-03-23T14:46:22.144Z"
   },
   {
    "duration": 6,
    "start_time": "2022-03-23T14:46:22.195Z"
   },
   {
    "duration": 44,
    "start_time": "2022-03-23T14:46:22.203Z"
   },
   {
    "duration": 29,
    "start_time": "2022-03-23T14:46:22.251Z"
   },
   {
    "duration": 41,
    "start_time": "2022-03-23T14:46:22.283Z"
   },
   {
    "duration": 29,
    "start_time": "2022-03-23T14:46:22.326Z"
   },
   {
    "duration": 50,
    "start_time": "2022-03-23T14:46:22.358Z"
   },
   {
    "duration": 12,
    "start_time": "2022-03-23T14:46:22.410Z"
   },
   {
    "duration": 278,
    "start_time": "2022-03-23T14:46:22.424Z"
   },
   {
    "duration": 160,
    "start_time": "2022-03-23T14:46:22.706Z"
   },
   {
    "duration": 279,
    "start_time": "2022-03-23T14:46:22.869Z"
   },
   {
    "duration": 0,
    "start_time": "2022-03-23T14:46:23.150Z"
   },
   {
    "duration": 20,
    "start_time": "2022-03-23T14:47:10.398Z"
   },
   {
    "duration": 17,
    "start_time": "2022-03-23T14:49:06.262Z"
   },
   {
    "duration": 17,
    "start_time": "2022-03-23T14:50:07.958Z"
   },
   {
    "duration": 19,
    "start_time": "2022-03-23T14:50:58.050Z"
   },
   {
    "duration": 15,
    "start_time": "2022-03-23T14:51:03.356Z"
   },
   {
    "duration": 18,
    "start_time": "2022-03-23T14:51:04.766Z"
   },
   {
    "duration": 500,
    "start_time": "2022-03-23T14:51:13.276Z"
   },
   {
    "duration": 20,
    "start_time": "2022-03-23T14:51:13.779Z"
   },
   {
    "duration": 19,
    "start_time": "2022-03-23T14:51:13.802Z"
   },
   {
    "duration": 9,
    "start_time": "2022-03-23T14:51:13.824Z"
   },
   {
    "duration": 46,
    "start_time": "2022-03-23T14:51:13.836Z"
   },
   {
    "duration": 32,
    "start_time": "2022-03-23T14:51:13.884Z"
   },
   {
    "duration": 66,
    "start_time": "2022-03-23T14:51:13.919Z"
   },
   {
    "duration": 5,
    "start_time": "2022-03-23T14:51:13.988Z"
   },
   {
    "duration": 20,
    "start_time": "2022-03-23T14:51:13.995Z"
   },
   {
    "duration": 25,
    "start_time": "2022-03-23T14:51:14.019Z"
   },
   {
    "duration": 57,
    "start_time": "2022-03-23T14:51:14.047Z"
   },
   {
    "duration": 19,
    "start_time": "2022-03-23T14:51:14.106Z"
   },
   {
    "duration": 62,
    "start_time": "2022-03-23T14:51:14.127Z"
   },
   {
    "duration": 11,
    "start_time": "2022-03-23T14:51:14.191Z"
   },
   {
    "duration": 246,
    "start_time": "2022-03-23T14:51:14.205Z"
   },
   {
    "duration": 161,
    "start_time": "2022-03-23T14:51:14.453Z"
   },
   {
    "duration": 134,
    "start_time": "2022-03-23T14:51:14.616Z"
   },
   {
    "duration": 31,
    "start_time": "2022-03-23T14:51:14.753Z"
   },
   {
    "duration": 0,
    "start_time": "2022-03-23T14:51:14.786Z"
   },
   {
    "duration": 471,
    "start_time": "2022-03-23T14:52:12.102Z"
   },
   {
    "duration": 19,
    "start_time": "2022-03-23T14:52:13.962Z"
   },
   {
    "duration": 18,
    "start_time": "2022-03-23T14:52:14.890Z"
   },
   {
    "duration": 8,
    "start_time": "2022-03-23T14:52:16.622Z"
   },
   {
    "duration": 18,
    "start_time": "2022-03-23T14:52:17.962Z"
   },
   {
    "duration": 34,
    "start_time": "2022-03-23T14:52:18.574Z"
   },
   {
    "duration": 47,
    "start_time": "2022-03-23T14:52:19.929Z"
   },
   {
    "duration": 7,
    "start_time": "2022-03-23T14:52:20.498Z"
   },
   {
    "duration": 15,
    "start_time": "2022-03-23T14:52:22.058Z"
   },
   {
    "duration": 28,
    "start_time": "2022-03-23T14:52:22.928Z"
   },
   {
    "duration": 29,
    "start_time": "2022-03-23T14:52:24.389Z"
   },
   {
    "duration": 21,
    "start_time": "2022-03-23T14:52:25.646Z"
   },
   {
    "duration": 38,
    "start_time": "2022-03-23T14:52:26.934Z"
   },
   {
    "duration": 12,
    "start_time": "2022-03-23T14:52:28.426Z"
   },
   {
    "duration": 258,
    "start_time": "2022-03-23T14:52:32.298Z"
   },
   {
    "duration": 142,
    "start_time": "2022-03-23T14:52:33.816Z"
   },
   {
    "duration": 130,
    "start_time": "2022-03-23T14:52:35.012Z"
   },
   {
    "duration": 20,
    "start_time": "2022-03-23T14:52:35.630Z"
   },
   {
    "duration": 25,
    "start_time": "2022-03-23T14:53:21.808Z"
   },
   {
    "duration": 17,
    "start_time": "2022-03-23T14:54:39.646Z"
   },
   {
    "duration": 1820,
    "start_time": "2022-03-23T14:55:13.779Z"
   },
   {
    "duration": 0,
    "start_time": "2022-03-23T14:55:15.601Z"
   },
   {
    "duration": 470,
    "start_time": "2022-03-23T14:55:29.033Z"
   },
   {
    "duration": 20,
    "start_time": "2022-03-23T14:55:30.190Z"
   },
   {
    "duration": 17,
    "start_time": "2022-03-23T14:55:30.691Z"
   },
   {
    "duration": 9,
    "start_time": "2022-03-23T14:55:31.673Z"
   },
   {
    "duration": 18,
    "start_time": "2022-03-23T14:55:33.056Z"
   },
   {
    "duration": 37,
    "start_time": "2022-03-23T14:55:33.725Z"
   },
   {
    "duration": 46,
    "start_time": "2022-03-23T14:55:34.862Z"
   },
   {
    "duration": 5,
    "start_time": "2022-03-23T14:55:35.378Z"
   },
   {
    "duration": 15,
    "start_time": "2022-03-23T14:55:36.589Z"
   },
   {
    "duration": 27,
    "start_time": "2022-03-23T14:55:37.195Z"
   },
   {
    "duration": 29,
    "start_time": "2022-03-23T14:55:38.252Z"
   },
   {
    "duration": 21,
    "start_time": "2022-03-23T14:55:39.193Z"
   },
   {
    "duration": 36,
    "start_time": "2022-03-23T14:55:39.690Z"
   },
   {
    "duration": 11,
    "start_time": "2022-03-23T14:55:41.252Z"
   },
   {
    "duration": 226,
    "start_time": "2022-03-23T14:55:44.691Z"
   },
   {
    "duration": 144,
    "start_time": "2022-03-23T14:55:46.079Z"
   },
   {
    "duration": 128,
    "start_time": "2022-03-23T14:55:49.406Z"
   },
   {
    "duration": 17,
    "start_time": "2022-03-23T14:56:04.482Z"
   },
   {
    "duration": 20,
    "start_time": "2022-03-23T14:56:32.498Z"
   },
   {
    "duration": 24,
    "start_time": "2022-03-23T14:57:26.552Z"
   },
   {
    "duration": 26,
    "start_time": "2022-03-23T14:58:05.295Z"
   },
   {
    "duration": 21,
    "start_time": "2022-03-23T14:58:51.825Z"
   },
   {
    "duration": 19,
    "start_time": "2022-03-23T14:59:42.241Z"
   },
   {
    "duration": 2075,
    "start_time": "2022-03-23T15:00:04.466Z"
   },
   {
    "duration": 27,
    "start_time": "2022-03-23T15:00:06.544Z"
   },
   {
    "duration": 35,
    "start_time": "2022-03-23T15:00:06.573Z"
   },
   {
    "duration": 42,
    "start_time": "2022-03-23T15:00:06.611Z"
   },
   {
    "duration": 41,
    "start_time": "2022-03-23T15:00:06.656Z"
   },
   {
    "duration": 70,
    "start_time": "2022-03-23T15:00:06.699Z"
   },
   {
    "duration": 54,
    "start_time": "2022-03-23T15:00:06.771Z"
   },
   {
    "duration": 6,
    "start_time": "2022-03-23T15:00:06.828Z"
   },
   {
    "duration": 32,
    "start_time": "2022-03-23T15:00:06.836Z"
   },
   {
    "duration": 55,
    "start_time": "2022-03-23T15:00:06.872Z"
   },
   {
    "duration": 50,
    "start_time": "2022-03-23T15:00:06.929Z"
   },
   {
    "duration": 26,
    "start_time": "2022-03-23T15:00:06.981Z"
   },
   {
    "duration": 84,
    "start_time": "2022-03-23T15:00:07.010Z"
   },
   {
    "duration": 12,
    "start_time": "2022-03-23T15:00:07.096Z"
   },
   {
    "duration": 292,
    "start_time": "2022-03-23T15:00:07.112Z"
   },
   {
    "duration": 174,
    "start_time": "2022-03-23T15:00:07.406Z"
   },
   {
    "duration": 152,
    "start_time": "2022-03-23T15:00:07.584Z"
   },
   {
    "duration": 154,
    "start_time": "2022-03-23T15:00:07.739Z"
   },
   {
    "duration": 0,
    "start_time": "2022-03-23T15:00:07.896Z"
   },
   {
    "duration": 17,
    "start_time": "2022-03-23T15:03:58.610Z"
   },
   {
    "duration": 112,
    "start_time": "2022-03-23T15:04:20.132Z"
   },
   {
    "duration": 23,
    "start_time": "2022-03-23T15:05:03.646Z"
   },
   {
    "duration": 1968,
    "start_time": "2022-03-23T15:05:05.624Z"
   },
   {
    "duration": 12,
    "start_time": "2022-03-23T15:05:20.287Z"
   },
   {
    "duration": 513,
    "start_time": "2022-03-23T15:05:57.680Z"
   },
   {
    "duration": 2030,
    "start_time": "2022-03-23T15:06:13.676Z"
   },
   {
    "duration": 28,
    "start_time": "2022-03-23T15:06:15.709Z"
   },
   {
    "duration": 16,
    "start_time": "2022-03-23T15:06:15.740Z"
   },
   {
    "duration": 30,
    "start_time": "2022-03-23T15:06:15.759Z"
   },
   {
    "duration": 20,
    "start_time": "2022-03-23T15:06:15.793Z"
   },
   {
    "duration": 35,
    "start_time": "2022-03-23T15:06:15.815Z"
   },
   {
    "duration": 65,
    "start_time": "2022-03-23T15:06:15.853Z"
   },
   {
    "duration": 6,
    "start_time": "2022-03-23T15:06:15.920Z"
   },
   {
    "duration": 19,
    "start_time": "2022-03-23T15:06:15.928Z"
   },
   {
    "duration": 53,
    "start_time": "2022-03-23T15:06:15.950Z"
   },
   {
    "duration": 29,
    "start_time": "2022-03-23T15:06:16.005Z"
   },
   {
    "duration": 20,
    "start_time": "2022-03-23T15:06:16.036Z"
   },
   {
    "duration": 38,
    "start_time": "2022-03-23T15:06:16.082Z"
   },
   {
    "duration": 12,
    "start_time": "2022-03-23T15:06:16.123Z"
   },
   {
    "duration": 268,
    "start_time": "2022-03-23T15:06:16.137Z"
   },
   {
    "duration": 163,
    "start_time": "2022-03-23T15:06:16.407Z"
   },
   {
    "duration": 73,
    "start_time": "2022-03-23T15:06:16.572Z"
   },
   {
    "duration": 148,
    "start_time": "2022-03-23T15:06:16.647Z"
   },
   {
    "duration": 118,
    "start_time": "2022-03-23T15:06:55.769Z"
   },
   {
    "duration": 66,
    "start_time": "2022-03-23T15:06:57.107Z"
   },
   {
    "duration": 149,
    "start_time": "2022-03-23T15:14:27.648Z"
   },
   {
    "duration": 155,
    "start_time": "2022-03-23T15:14:35.000Z"
   },
   {
    "duration": 12,
    "start_time": "2022-03-23T15:15:29.228Z"
   },
   {
    "duration": 151,
    "start_time": "2022-03-23T15:17:43.595Z"
   },
   {
    "duration": 22,
    "start_time": "2022-03-23T15:19:46.177Z"
   },
   {
    "duration": 18,
    "start_time": "2022-03-23T15:22:29.220Z"
   },
   {
    "duration": 19,
    "start_time": "2022-03-23T15:23:29.800Z"
   },
   {
    "duration": 192,
    "start_time": "2022-03-23T15:23:45.792Z"
   },
   {
    "duration": 279,
    "start_time": "2022-03-23T15:24:17.626Z"
   },
   {
    "duration": 235,
    "start_time": "2022-03-23T15:25:07.904Z"
   },
   {
    "duration": 24,
    "start_time": "2022-03-23T15:26:00.998Z"
   },
   {
    "duration": 22,
    "start_time": "2022-03-23T15:26:12.880Z"
   },
   {
    "duration": 241,
    "start_time": "2022-03-23T16:00:21.781Z"
   },
   {
    "duration": 19,
    "start_time": "2022-03-23T16:05:23.376Z"
   },
   {
    "duration": 2264,
    "start_time": "2022-03-24T12:04:37.987Z"
   },
   {
    "duration": 31,
    "start_time": "2022-03-24T12:04:40.254Z"
   },
   {
    "duration": 16,
    "start_time": "2022-03-24T12:04:40.288Z"
   },
   {
    "duration": 9,
    "start_time": "2022-03-24T12:04:40.308Z"
   },
   {
    "duration": 17,
    "start_time": "2022-03-24T12:04:40.319Z"
   },
   {
    "duration": 50,
    "start_time": "2022-03-24T12:04:40.374Z"
   },
   {
    "duration": 72,
    "start_time": "2022-03-24T12:04:40.426Z"
   },
   {
    "duration": 6,
    "start_time": "2022-03-24T12:04:40.500Z"
   },
   {
    "duration": 15,
    "start_time": "2022-03-24T12:04:40.508Z"
   },
   {
    "duration": 52,
    "start_time": "2022-03-24T12:04:40.527Z"
   },
   {
    "duration": 31,
    "start_time": "2022-03-24T12:04:40.581Z"
   },
   {
    "duration": 21,
    "start_time": "2022-03-24T12:04:40.614Z"
   },
   {
    "duration": 83,
    "start_time": "2022-03-24T12:04:40.638Z"
   },
   {
    "duration": 17,
    "start_time": "2022-03-24T12:04:40.724Z"
   },
   {
    "duration": 265,
    "start_time": "2022-03-24T12:04:40.742Z"
   },
   {
    "duration": 171,
    "start_time": "2022-03-24T12:04:41.010Z"
   },
   {
    "duration": 144,
    "start_time": "2022-03-24T12:04:41.183Z"
   },
   {
    "duration": 70,
    "start_time": "2022-03-24T12:04:41.330Z"
   },
   {
    "duration": 258,
    "start_time": "2022-03-24T12:04:41.402Z"
   },
   {
    "duration": 2670,
    "start_time": "2022-03-24T12:06:12.378Z"
   },
   {
    "duration": 3601,
    "start_time": "2022-03-24T12:07:26.552Z"
   },
   {
    "duration": 161,
    "start_time": "2022-03-24T12:11:05.377Z"
   },
   {
    "duration": 18,
    "start_time": "2022-03-24T12:11:31.444Z"
   },
   {
    "duration": 18,
    "start_time": "2022-03-24T12:12:05.692Z"
   },
   {
    "duration": 5,
    "start_time": "2022-03-24T12:19:03.366Z"
   },
   {
    "duration": 34,
    "start_time": "2022-03-24T12:20:22.740Z"
   },
   {
    "duration": 11,
    "start_time": "2022-03-24T12:24:23.498Z"
   },
   {
    "duration": 2294,
    "start_time": "2022-03-24T13:58:06.756Z"
   },
   {
    "duration": 31,
    "start_time": "2022-03-24T13:58:09.053Z"
   },
   {
    "duration": 25,
    "start_time": "2022-03-24T13:58:09.086Z"
   },
   {
    "duration": 40,
    "start_time": "2022-03-24T13:58:09.114Z"
   },
   {
    "duration": 48,
    "start_time": "2022-03-24T13:58:09.156Z"
   },
   {
    "duration": 71,
    "start_time": "2022-03-24T13:58:09.207Z"
   },
   {
    "duration": 81,
    "start_time": "2022-03-24T13:58:09.281Z"
   },
   {
    "duration": 7,
    "start_time": "2022-03-24T13:58:09.364Z"
   },
   {
    "duration": 47,
    "start_time": "2022-03-24T13:58:09.373Z"
   },
   {
    "duration": 54,
    "start_time": "2022-03-24T13:58:09.424Z"
   },
   {
    "duration": 48,
    "start_time": "2022-03-24T13:58:09.481Z"
   },
   {
    "duration": 43,
    "start_time": "2022-03-24T13:58:09.532Z"
   },
   {
    "duration": 59,
    "start_time": "2022-03-24T13:58:09.577Z"
   },
   {
    "duration": 25,
    "start_time": "2022-03-24T13:58:09.638Z"
   },
   {
    "duration": 277,
    "start_time": "2022-03-24T13:58:09.666Z"
   },
   {
    "duration": 177,
    "start_time": "2022-03-24T13:58:09.945Z"
   },
   {
    "duration": 122,
    "start_time": "2022-03-24T13:58:10.125Z"
   },
   {
    "duration": 74,
    "start_time": "2022-03-24T13:58:10.249Z"
   },
   {
    "duration": 3532,
    "start_time": "2022-03-24T13:58:10.325Z"
   },
   {
    "duration": 5,
    "start_time": "2022-03-24T13:58:13.860Z"
   },
   {
    "duration": 34,
    "start_time": "2022-03-24T13:58:13.882Z"
   },
   {
    "duration": 71,
    "start_time": "2022-03-24T13:59:55.141Z"
   },
   {
    "duration": 1951,
    "start_time": "2022-03-24T14:00:03.815Z"
   },
   {
    "duration": 26,
    "start_time": "2022-03-24T14:00:05.768Z"
   },
   {
    "duration": 51,
    "start_time": "2022-03-24T14:00:05.796Z"
   },
   {
    "duration": 8,
    "start_time": "2022-03-24T14:00:05.994Z"
   },
   {
    "duration": 17,
    "start_time": "2022-03-24T14:00:06.990Z"
   },
   {
    "duration": 35,
    "start_time": "2022-03-24T14:00:07.543Z"
   },
   {
    "duration": 50,
    "start_time": "2022-03-24T14:00:08.603Z"
   },
   {
    "duration": 6,
    "start_time": "2022-03-24T14:00:09.102Z"
   },
   {
    "duration": 15,
    "start_time": "2022-03-24T14:00:10.095Z"
   },
   {
    "duration": 25,
    "start_time": "2022-03-24T14:00:10.662Z"
   },
   {
    "duration": 31,
    "start_time": "2022-03-24T14:00:12.468Z"
   },
   {
    "duration": 20,
    "start_time": "2022-03-24T14:00:13.479Z"
   },
   {
    "duration": 37,
    "start_time": "2022-03-24T14:00:14.108Z"
   },
   {
    "duration": 11,
    "start_time": "2022-03-24T14:00:15.574Z"
   },
   {
    "duration": 239,
    "start_time": "2022-03-24T14:00:18.519Z"
   },
   {
    "duration": 135,
    "start_time": "2022-03-24T14:00:19.648Z"
   },
   {
    "duration": 126,
    "start_time": "2022-03-24T14:00:23.180Z"
   },
   {
    "duration": 65,
    "start_time": "2022-03-24T14:00:24.695Z"
   },
   {
    "duration": 3867,
    "start_time": "2022-03-24T14:00:28.115Z"
   },
   {
    "duration": 109,
    "start_time": "2022-03-24T14:01:10.289Z"
   },
   {
    "duration": 25,
    "start_time": "2022-03-24T14:02:49.193Z"
   },
   {
    "duration": 460,
    "start_time": "2022-03-24T14:02:57.621Z"
   },
   {
    "duration": 20,
    "start_time": "2022-03-24T14:02:58.181Z"
   },
   {
    "duration": 18,
    "start_time": "2022-03-24T14:02:58.611Z"
   },
   {
    "duration": 8,
    "start_time": "2022-03-24T14:02:59.311Z"
   },
   {
    "duration": 17,
    "start_time": "2022-03-24T14:02:59.837Z"
   },
   {
    "duration": 35,
    "start_time": "2022-03-24T14:03:00.081Z"
   },
   {
    "duration": 47,
    "start_time": "2022-03-24T14:03:00.529Z"
   },
   {
    "duration": 6,
    "start_time": "2022-03-24T14:03:00.804Z"
   },
   {
    "duration": 14,
    "start_time": "2022-03-24T14:03:01.269Z"
   },
   {
    "duration": 29,
    "start_time": "2022-03-24T14:03:01.502Z"
   },
   {
    "duration": 29,
    "start_time": "2022-03-24T14:03:01.931Z"
   },
   {
    "duration": 21,
    "start_time": "2022-03-24T14:03:02.395Z"
   },
   {
    "duration": 35,
    "start_time": "2022-03-24T14:03:02.622Z"
   },
   {
    "duration": 12,
    "start_time": "2022-03-24T14:03:03.342Z"
   },
   {
    "duration": 229,
    "start_time": "2022-03-24T14:03:05.185Z"
   },
   {
    "duration": 163,
    "start_time": "2022-03-24T14:03:06.074Z"
   },
   {
    "duration": 122,
    "start_time": "2022-03-24T14:03:08.717Z"
   },
   {
    "duration": 65,
    "start_time": "2022-03-24T14:03:10.133Z"
   },
   {
    "duration": 25,
    "start_time": "2022-03-24T14:03:13.713Z"
   },
   {
    "duration": 25,
    "start_time": "2022-03-24T14:03:49.698Z"
   },
   {
    "duration": 3652,
    "start_time": "2022-03-24T14:04:20.015Z"
   },
   {
    "duration": 3883,
    "start_time": "2022-03-24T14:05:04.641Z"
   },
   {
    "duration": 3967,
    "start_time": "2022-03-24T14:06:03.689Z"
   },
   {
    "duration": 4,
    "start_time": "2022-03-24T14:06:07.659Z"
   },
   {
    "duration": 51,
    "start_time": "2022-03-24T14:06:07.666Z"
   },
   {
    "duration": 11,
    "start_time": "2022-03-24T14:06:21.385Z"
   },
   {
    "duration": 1916,
    "start_time": "2022-03-24T14:06:42.637Z"
   },
   {
    "duration": 153,
    "start_time": "2022-03-24T14:09:31.363Z"
   },
   {
    "duration": 72,
    "start_time": "2022-03-24T14:11:38.541Z"
   },
   {
    "duration": 2319,
    "start_time": "2022-03-24T14:11:49.396Z"
   },
   {
    "duration": 27,
    "start_time": "2022-03-24T14:11:51.718Z"
   },
   {
    "duration": 34,
    "start_time": "2022-03-24T14:11:51.748Z"
   },
   {
    "duration": 9,
    "start_time": "2022-03-24T14:11:52.147Z"
   },
   {
    "duration": 17,
    "start_time": "2022-03-24T14:11:53.255Z"
   },
   {
    "duration": 34,
    "start_time": "2022-03-24T14:11:53.776Z"
   },
   {
    "duration": 46,
    "start_time": "2022-03-24T14:11:54.855Z"
   },
   {
    "duration": 5,
    "start_time": "2022-03-24T14:11:55.186Z"
   },
   {
    "duration": 14,
    "start_time": "2022-03-24T14:11:55.679Z"
   },
   {
    "duration": 25,
    "start_time": "2022-03-24T14:11:55.823Z"
   },
   {
    "duration": 27,
    "start_time": "2022-03-24T14:11:56.261Z"
   },
   {
    "duration": 21,
    "start_time": "2022-03-24T14:11:56.954Z"
   },
   {
    "duration": 35,
    "start_time": "2022-03-24T14:11:57.208Z"
   },
   {
    "duration": 11,
    "start_time": "2022-03-24T14:11:57.967Z"
   },
   {
    "duration": 277,
    "start_time": "2022-03-24T14:11:59.755Z"
   },
   {
    "duration": 143,
    "start_time": "2022-03-24T14:12:01.325Z"
   },
   {
    "duration": 130,
    "start_time": "2022-03-24T14:12:04.065Z"
   },
   {
    "duration": 66,
    "start_time": "2022-03-24T14:12:05.055Z"
   },
   {
    "duration": 99,
    "start_time": "2022-03-24T14:12:07.930Z"
   },
   {
    "duration": 19,
    "start_time": "2022-03-24T14:12:57.748Z"
   },
   {
    "duration": 31,
    "start_time": "2022-03-24T14:13:11.610Z"
   },
   {
    "duration": 20,
    "start_time": "2022-03-24T14:13:34.936Z"
   },
   {
    "duration": 24,
    "start_time": "2022-03-24T14:13:56.195Z"
   },
   {
    "duration": 26,
    "start_time": "2022-03-24T14:16:30.506Z"
   },
   {
    "duration": 27,
    "start_time": "2022-03-24T14:16:43.713Z"
   },
   {
    "duration": 17,
    "start_time": "2022-03-24T14:16:44.523Z"
   },
   {
    "duration": 8,
    "start_time": "2022-03-24T14:16:45.419Z"
   },
   {
    "duration": 23,
    "start_time": "2022-03-24T14:16:46.151Z"
   },
   {
    "duration": 37,
    "start_time": "2022-03-24T14:16:46.366Z"
   },
   {
    "duration": 21,
    "start_time": "2022-03-24T14:16:46.970Z"
   },
   {
    "duration": 5,
    "start_time": "2022-03-24T14:16:47.191Z"
   },
   {
    "duration": 23,
    "start_time": "2022-03-24T14:16:47.666Z"
   },
   {
    "duration": 29,
    "start_time": "2022-03-24T14:16:47.890Z"
   },
   {
    "duration": 19,
    "start_time": "2022-03-24T14:16:48.386Z"
   },
   {
    "duration": 22,
    "start_time": "2022-03-24T14:16:48.856Z"
   },
   {
    "duration": 2002,
    "start_time": "2022-03-24T14:16:49.090Z"
   },
   {
    "duration": 0,
    "start_time": "2022-03-24T14:16:51.095Z"
   },
   {
    "duration": 0,
    "start_time": "2022-03-24T14:16:51.098Z"
   },
   {
    "duration": 143,
    "start_time": "2022-03-24T14:16:51.535Z"
   },
   {
    "duration": 18,
    "start_time": "2022-03-24T14:16:52.067Z"
   },
   {
    "duration": 59,
    "start_time": "2022-03-24T14:16:52.769Z"
   },
   {
    "duration": 273,
    "start_time": "2022-03-24T14:17:05.229Z"
   },
   {
    "duration": 208,
    "start_time": "2022-03-24T14:17:08.154Z"
   },
   {
    "duration": 15,
    "start_time": "2022-03-24T14:17:11.161Z"
   },
   {
    "duration": 17,
    "start_time": "2022-03-24T14:17:15.342Z"
   },
   {
    "duration": 2116,
    "start_time": "2022-03-24T14:17:40.491Z"
   },
   {
    "duration": 27,
    "start_time": "2022-03-24T14:17:42.611Z"
   },
   {
    "duration": 26,
    "start_time": "2022-03-24T14:17:42.640Z"
   },
   {
    "duration": 58,
    "start_time": "2022-03-24T14:17:42.669Z"
   },
   {
    "duration": 67,
    "start_time": "2022-03-24T14:17:42.731Z"
   },
   {
    "duration": 54,
    "start_time": "2022-03-24T14:17:42.801Z"
   },
   {
    "duration": 50,
    "start_time": "2022-03-24T14:17:42.858Z"
   },
   {
    "duration": 7,
    "start_time": "2022-03-24T14:17:42.910Z"
   },
   {
    "duration": 34,
    "start_time": "2022-03-24T14:17:42.919Z"
   },
   {
    "duration": 44,
    "start_time": "2022-03-24T14:17:42.955Z"
   },
   {
    "duration": 48,
    "start_time": "2022-03-24T14:17:43.001Z"
   },
   {
    "duration": 21,
    "start_time": "2022-03-24T14:17:43.052Z"
   },
   {
    "duration": 46,
    "start_time": "2022-03-24T14:17:43.082Z"
   },
   {
    "duration": 19,
    "start_time": "2022-03-24T14:17:43.132Z"
   },
   {
    "duration": 279,
    "start_time": "2022-03-24T14:17:43.154Z"
   },
   {
    "duration": 172,
    "start_time": "2022-03-24T14:17:43.436Z"
   },
   {
    "duration": 128,
    "start_time": "2022-03-24T14:17:43.611Z"
   },
   {
    "duration": 83,
    "start_time": "2022-03-24T14:17:43.742Z"
   },
   {
    "duration": 172,
    "start_time": "2022-03-24T14:17:43.827Z"
   },
   {
    "duration": 0,
    "start_time": "2022-03-24T14:17:44.001Z"
   },
   {
    "duration": 0,
    "start_time": "2022-03-24T14:17:44.003Z"
   },
   {
    "duration": 0,
    "start_time": "2022-03-24T14:17:44.005Z"
   },
   {
    "duration": 359,
    "start_time": "2022-03-24T14:18:04.007Z"
   },
   {
    "duration": 216,
    "start_time": "2022-03-24T14:19:06.856Z"
   },
   {
    "duration": 248,
    "start_time": "2022-03-24T14:20:18.641Z"
   },
   {
    "duration": 2968,
    "start_time": "2022-03-24T14:26:20.205Z"
   },
   {
    "duration": 3043,
    "start_time": "2022-03-24T14:32:27.480Z"
   },
   {
    "duration": 318,
    "start_time": "2022-03-24T14:33:43.142Z"
   },
   {
    "duration": 5,
    "start_time": "2022-03-24T14:34:24.642Z"
   },
   {
    "duration": 39,
    "start_time": "2022-03-24T14:34:26.156Z"
   },
   {
    "duration": 1879,
    "start_time": "2022-03-24T14:34:51.812Z"
   },
   {
    "duration": 80,
    "start_time": "2022-03-24T15:02:01.038Z"
   },
   {
    "duration": 75,
    "start_time": "2022-03-24T15:02:39.142Z"
   },
   {
    "duration": 75,
    "start_time": "2022-03-24T15:03:38.344Z"
   },
   {
    "duration": 5,
    "start_time": "2022-03-24T15:03:39.154Z"
   },
   {
    "duration": 36,
    "start_time": "2022-03-24T15:03:39.863Z"
   },
   {
    "duration": 93,
    "start_time": "2022-03-24T15:03:40.582Z"
   },
   {
    "duration": 83,
    "start_time": "2022-03-24T15:06:00.350Z"
   },
   {
    "duration": 98,
    "start_time": "2022-03-24T15:06:06.617Z"
   },
   {
    "duration": 2094,
    "start_time": "2022-03-24T15:06:25.639Z"
   },
   {
    "duration": 31,
    "start_time": "2022-03-24T15:06:27.736Z"
   },
   {
    "duration": 27,
    "start_time": "2022-03-24T15:06:27.770Z"
   },
   {
    "duration": 12,
    "start_time": "2022-03-24T15:06:27.800Z"
   },
   {
    "duration": 24,
    "start_time": "2022-03-24T15:06:27.814Z"
   },
   {
    "duration": 64,
    "start_time": "2022-03-24T15:06:27.840Z"
   },
   {
    "duration": 49,
    "start_time": "2022-03-24T15:06:27.907Z"
   },
   {
    "duration": 24,
    "start_time": "2022-03-24T15:06:27.958Z"
   },
   {
    "duration": 16,
    "start_time": "2022-03-24T15:06:27.985Z"
   },
   {
    "duration": 25,
    "start_time": "2022-03-24T15:06:28.007Z"
   },
   {
    "duration": 65,
    "start_time": "2022-03-24T15:06:28.034Z"
   },
   {
    "duration": 21,
    "start_time": "2022-03-24T15:06:28.101Z"
   },
   {
    "duration": 86,
    "start_time": "2022-03-24T15:06:28.125Z"
   },
   {
    "duration": 18,
    "start_time": "2022-03-24T15:06:28.214Z"
   },
   {
    "duration": 323,
    "start_time": "2022-03-24T15:06:28.235Z"
   },
   {
    "duration": 264,
    "start_time": "2022-03-24T15:06:28.561Z"
   },
   {
    "duration": 153,
    "start_time": "2022-03-24T15:06:28.829Z"
   },
   {
    "duration": 72,
    "start_time": "2022-03-24T15:06:28.988Z"
   },
   {
    "duration": 153,
    "start_time": "2022-03-24T15:06:29.064Z"
   },
   {
    "duration": 7,
    "start_time": "2022-03-24T15:06:29.220Z"
   },
   {
    "duration": 58,
    "start_time": "2022-03-24T15:06:29.230Z"
   },
   {
    "duration": 159,
    "start_time": "2022-03-24T15:06:29.291Z"
   },
   {
    "duration": 124,
    "start_time": "2022-03-24T15:06:53.118Z"
   },
   {
    "duration": 4,
    "start_time": "2022-03-24T15:06:55.972Z"
   },
   {
    "duration": 59,
    "start_time": "2022-03-24T15:06:57.440Z"
   },
   {
    "duration": 16,
    "start_time": "2022-03-24T15:07:01.888Z"
   },
   {
    "duration": 13,
    "start_time": "2022-03-24T15:07:06.893Z"
   },
   {
    "duration": 521,
    "start_time": "2022-03-24T15:07:13.800Z"
   },
   {
    "duration": 22,
    "start_time": "2022-03-24T15:07:14.324Z"
   },
   {
    "duration": 41,
    "start_time": "2022-03-24T15:07:14.350Z"
   },
   {
    "duration": 13,
    "start_time": "2022-03-24T15:07:14.395Z"
   },
   {
    "duration": 32,
    "start_time": "2022-03-24T15:07:14.411Z"
   },
   {
    "duration": 80,
    "start_time": "2022-03-24T15:07:14.446Z"
   },
   {
    "duration": 60,
    "start_time": "2022-03-24T15:07:14.528Z"
   },
   {
    "duration": 6,
    "start_time": "2022-03-24T15:07:14.591Z"
   },
   {
    "duration": 19,
    "start_time": "2022-03-24T15:07:14.600Z"
   },
   {
    "duration": 60,
    "start_time": "2022-03-24T15:07:14.623Z"
   },
   {
    "duration": 34,
    "start_time": "2022-03-24T15:07:14.685Z"
   },
   {
    "duration": 23,
    "start_time": "2022-03-24T15:07:14.722Z"
   },
   {
    "duration": 97,
    "start_time": "2022-03-24T15:07:14.747Z"
   },
   {
    "duration": 22,
    "start_time": "2022-03-24T15:07:14.847Z"
   },
   {
    "duration": 461,
    "start_time": "2022-03-24T15:07:14.883Z"
   },
   {
    "duration": 269,
    "start_time": "2022-03-24T15:07:15.348Z"
   },
   {
    "duration": 148,
    "start_time": "2022-03-24T15:07:15.620Z"
   },
   {
    "duration": 69,
    "start_time": "2022-03-24T15:07:15.771Z"
   },
   {
    "duration": 121,
    "start_time": "2022-03-24T15:07:15.842Z"
   },
   {
    "duration": 5,
    "start_time": "2022-03-24T15:07:15.966Z"
   },
   {
    "duration": 37,
    "start_time": "2022-03-24T15:07:15.982Z"
   },
   {
    "duration": 14,
    "start_time": "2022-03-24T15:07:16.022Z"
   },
   {
    "duration": 41,
    "start_time": "2022-03-24T15:07:35.231Z"
   },
   {
    "duration": 768,
    "start_time": "2022-03-24T15:07:55.418Z"
   },
   {
    "duration": 31,
    "start_time": "2022-03-24T15:07:56.190Z"
   },
   {
    "duration": 28,
    "start_time": "2022-03-24T15:07:56.224Z"
   },
   {
    "duration": 9,
    "start_time": "2022-03-24T15:07:56.282Z"
   },
   {
    "duration": 23,
    "start_time": "2022-03-24T15:07:56.294Z"
   },
   {
    "duration": 74,
    "start_time": "2022-03-24T15:07:56.320Z"
   },
   {
    "duration": 89,
    "start_time": "2022-03-24T15:07:56.397Z"
   },
   {
    "duration": 7,
    "start_time": "2022-03-24T15:07:56.489Z"
   },
   {
    "duration": 30,
    "start_time": "2022-03-24T15:07:56.498Z"
   },
   {
    "duration": 98,
    "start_time": "2022-03-24T15:07:56.533Z"
   },
   {
    "duration": 34,
    "start_time": "2022-03-24T15:07:56.634Z"
   },
   {
    "duration": 26,
    "start_time": "2022-03-24T15:07:56.670Z"
   },
   {
    "duration": 43,
    "start_time": "2022-03-24T15:07:56.698Z"
   },
   {
    "duration": 38,
    "start_time": "2022-03-24T15:07:56.745Z"
   },
   {
    "duration": 261,
    "start_time": "2022-03-24T15:07:56.785Z"
   },
   {
    "duration": 197,
    "start_time": "2022-03-24T15:07:57.049Z"
   },
   {
    "duration": 166,
    "start_time": "2022-03-24T15:07:57.248Z"
   },
   {
    "duration": 99,
    "start_time": "2022-03-24T15:07:57.416Z"
   },
   {
    "duration": 96,
    "start_time": "2022-03-24T15:07:57.517Z"
   },
   {
    "duration": 5,
    "start_time": "2022-03-24T15:07:57.615Z"
   },
   {
    "duration": 58,
    "start_time": "2022-03-24T15:07:57.622Z"
   },
   {
    "duration": 53,
    "start_time": "2022-03-24T15:07:57.683Z"
   },
   {
    "duration": 143,
    "start_time": "2022-03-24T15:17:16.476Z"
   },
   {
    "duration": 314,
    "start_time": "2022-03-24T15:17:40.205Z"
   },
   {
    "duration": 201,
    "start_time": "2022-03-24T15:19:03.889Z"
   },
   {
    "duration": 685,
    "start_time": "2022-03-24T15:31:20.315Z"
   },
   {
    "duration": 27,
    "start_time": "2022-03-24T15:31:21.004Z"
   },
   {
    "duration": 22,
    "start_time": "2022-03-24T15:31:21.034Z"
   },
   {
    "duration": 34,
    "start_time": "2022-03-24T15:31:21.058Z"
   },
   {
    "duration": 21,
    "start_time": "2022-03-24T15:31:21.097Z"
   },
   {
    "duration": 34,
    "start_time": "2022-03-24T15:31:21.121Z"
   },
   {
    "duration": 47,
    "start_time": "2022-03-24T15:31:21.183Z"
   },
   {
    "duration": 5,
    "start_time": "2022-03-24T15:31:21.233Z"
   },
   {
    "duration": 17,
    "start_time": "2022-03-24T15:31:21.240Z"
   },
   {
    "duration": 26,
    "start_time": "2022-03-24T15:31:21.283Z"
   },
   {
    "duration": 30,
    "start_time": "2022-03-24T15:31:21.311Z"
   },
   {
    "duration": 47,
    "start_time": "2022-03-24T15:31:21.344Z"
   },
   {
    "duration": 44,
    "start_time": "2022-03-24T15:31:21.394Z"
   },
   {
    "duration": 14,
    "start_time": "2022-03-24T15:31:21.442Z"
   },
   {
    "duration": 257,
    "start_time": "2022-03-24T15:31:21.459Z"
   },
   {
    "duration": 155,
    "start_time": "2022-03-24T15:31:21.718Z"
   },
   {
    "duration": 184,
    "start_time": "2022-03-24T15:31:21.882Z"
   },
   {
    "duration": 60,
    "start_time": "2022-03-24T15:31:22.068Z"
   },
   {
    "duration": 96,
    "start_time": "2022-03-24T15:31:22.131Z"
   },
   {
    "duration": 4,
    "start_time": "2022-03-24T15:31:22.230Z"
   },
   {
    "duration": 54,
    "start_time": "2022-03-24T15:31:22.236Z"
   },
   {
    "duration": 313,
    "start_time": "2022-03-24T15:31:22.292Z"
   },
   {
    "duration": 106,
    "start_time": "2022-03-24T15:31:22.608Z"
   },
   {
    "duration": 330,
    "start_time": "2022-03-24T15:48:24.723Z"
   },
   {
    "duration": 131,
    "start_time": "2022-03-24T15:49:28.870Z"
   },
   {
    "duration": 424,
    "start_time": "2022-03-24T15:49:39.112Z"
   },
   {
    "duration": 154,
    "start_time": "2022-03-24T15:50:25.661Z"
   },
   {
    "duration": 612,
    "start_time": "2022-03-24T15:54:29.509Z"
   },
   {
    "duration": 660,
    "start_time": "2022-03-24T15:54:47.598Z"
   },
   {
    "duration": 1862,
    "start_time": "2022-03-25T13:29:06.731Z"
   },
   {
    "duration": 19,
    "start_time": "2022-03-25T13:29:08.595Z"
   },
   {
    "duration": 12,
    "start_time": "2022-03-25T13:29:08.616Z"
   },
   {
    "duration": 7,
    "start_time": "2022-03-25T13:29:08.631Z"
   },
   {
    "duration": 15,
    "start_time": "2022-03-25T13:29:08.640Z"
   },
   {
    "duration": 52,
    "start_time": "2022-03-25T13:29:08.658Z"
   },
   {
    "duration": 35,
    "start_time": "2022-03-25T13:29:08.712Z"
   },
   {
    "duration": 5,
    "start_time": "2022-03-25T13:29:08.748Z"
   },
   {
    "duration": 11,
    "start_time": "2022-03-25T13:29:08.755Z"
   },
   {
    "duration": 44,
    "start_time": "2022-03-25T13:29:08.769Z"
   },
   {
    "duration": 23,
    "start_time": "2022-03-25T13:29:08.815Z"
   },
   {
    "duration": 14,
    "start_time": "2022-03-25T13:29:08.839Z"
   },
   {
    "duration": 53,
    "start_time": "2022-03-25T13:29:08.855Z"
   },
   {
    "duration": 8,
    "start_time": "2022-03-25T13:29:08.910Z"
   },
   {
    "duration": 206,
    "start_time": "2022-03-25T13:29:08.920Z"
   },
   {
    "duration": 135,
    "start_time": "2022-03-25T13:29:09.128Z"
   },
   {
    "duration": 103,
    "start_time": "2022-03-25T13:29:09.265Z"
   },
   {
    "duration": 63,
    "start_time": "2022-03-25T13:29:09.369Z"
   },
   {
    "duration": 448,
    "start_time": "2022-03-25T13:29:09.434Z"
   },
   {
    "duration": 3,
    "start_time": "2022-03-25T13:29:09.884Z"
   },
   {
    "duration": 32,
    "start_time": "2022-03-25T13:29:09.889Z"
   },
   {
    "duration": 3669,
    "start_time": "2022-03-25T13:29:09.923Z"
   },
   {
    "duration": 14,
    "start_time": "2022-03-25T13:29:13.594Z"
   },
   {
    "duration": 157,
    "start_time": "2022-03-25T13:31:55.172Z"
   },
   {
    "duration": 109,
    "start_time": "2022-03-25T13:32:20.166Z"
   },
   {
    "duration": 107,
    "start_time": "2022-03-25T13:33:09.188Z"
   },
   {
    "duration": 15,
    "start_time": "2022-03-25T13:33:16.822Z"
   },
   {
    "duration": 14,
    "start_time": "2022-03-25T13:33:18.546Z"
   },
   {
    "duration": 14,
    "start_time": "2022-03-25T13:33:28.518Z"
   },
   {
    "duration": 12,
    "start_time": "2022-03-25T13:33:47.224Z"
   },
   {
    "duration": 16,
    "start_time": "2022-03-25T13:33:48.244Z"
   },
   {
    "duration": 474,
    "start_time": "2022-03-25T13:34:09.373Z"
   },
   {
    "duration": 14,
    "start_time": "2022-03-25T13:34:09.850Z"
   },
   {
    "duration": 12,
    "start_time": "2022-03-25T13:34:09.866Z"
   },
   {
    "duration": 7,
    "start_time": "2022-03-25T13:34:09.880Z"
   },
   {
    "duration": 19,
    "start_time": "2022-03-25T13:34:09.890Z"
   },
   {
    "duration": 29,
    "start_time": "2022-03-25T13:34:09.911Z"
   },
   {
    "duration": 34,
    "start_time": "2022-03-25T13:34:09.942Z"
   },
   {
    "duration": 25,
    "start_time": "2022-03-25T13:34:09.978Z"
   },
   {
    "duration": 11,
    "start_time": "2022-03-25T13:34:10.005Z"
   },
   {
    "duration": 28,
    "start_time": "2022-03-25T13:34:10.018Z"
   },
   {
    "duration": 34,
    "start_time": "2022-03-25T13:34:10.047Z"
   },
   {
    "duration": 31,
    "start_time": "2022-03-25T13:34:10.083Z"
   },
   {
    "duration": 26,
    "start_time": "2022-03-25T13:34:10.116Z"
   },
   {
    "duration": 9,
    "start_time": "2022-03-25T13:34:10.145Z"
   },
   {
    "duration": 211,
    "start_time": "2022-03-25T13:34:10.156Z"
   },
   {
    "duration": 138,
    "start_time": "2022-03-25T13:34:10.369Z"
   },
   {
    "duration": 104,
    "start_time": "2022-03-25T13:34:10.509Z"
   },
   {
    "duration": 45,
    "start_time": "2022-03-25T13:34:10.615Z"
   },
   {
    "duration": 427,
    "start_time": "2022-03-25T13:34:10.662Z"
   },
   {
    "duration": 4,
    "start_time": "2022-03-25T13:34:11.091Z"
   },
   {
    "duration": 25,
    "start_time": "2022-03-25T13:34:11.101Z"
   },
   {
    "duration": 3218,
    "start_time": "2022-03-25T13:34:11.128Z"
   },
   {
    "duration": 10,
    "start_time": "2022-03-25T13:34:14.348Z"
   },
   {
    "duration": 66,
    "start_time": "2022-03-25T13:34:39.410Z"
   },
   {
    "duration": 53,
    "start_time": "2022-03-25T13:35:28.200Z"
   },
   {
    "duration": 5,
    "start_time": "2022-03-25T13:35:32.333Z"
   },
   {
    "duration": 26,
    "start_time": "2022-03-25T13:35:33.632Z"
   },
   {
    "duration": 315,
    "start_time": "2022-03-25T13:35:39.808Z"
   },
   {
    "duration": 89,
    "start_time": "2022-03-25T13:35:40.887Z"
   },
   {
    "duration": 16,
    "start_time": "2022-03-25T13:37:09.217Z"
   },
   {
    "duration": 26,
    "start_time": "2022-03-25T13:37:16.758Z"
   },
   {
    "duration": 15,
    "start_time": "2022-03-25T13:37:17.387Z"
   },
   {
    "duration": 94,
    "start_time": "2022-03-25T13:37:18.395Z"
   },
   {
    "duration": 440,
    "start_time": "2022-03-25T13:37:24.418Z"
   },
   {
    "duration": 13,
    "start_time": "2022-03-25T13:37:24.860Z"
   },
   {
    "duration": 14,
    "start_time": "2022-03-25T13:37:24.875Z"
   },
   {
    "duration": 16,
    "start_time": "2022-03-25T13:37:24.891Z"
   },
   {
    "duration": 26,
    "start_time": "2022-03-25T13:37:24.910Z"
   },
   {
    "duration": 31,
    "start_time": "2022-03-25T13:37:24.937Z"
   },
   {
    "duration": 39,
    "start_time": "2022-03-25T13:37:24.970Z"
   },
   {
    "duration": 4,
    "start_time": "2022-03-25T13:37:25.011Z"
   },
   {
    "duration": 19,
    "start_time": "2022-03-25T13:37:25.017Z"
   },
   {
    "duration": 29,
    "start_time": "2022-03-25T13:37:25.039Z"
   },
   {
    "duration": 20,
    "start_time": "2022-03-25T13:37:25.070Z"
   },
   {
    "duration": 21,
    "start_time": "2022-03-25T13:37:25.092Z"
   },
   {
    "duration": 33,
    "start_time": "2022-03-25T13:37:25.114Z"
   },
   {
    "duration": 7,
    "start_time": "2022-03-25T13:37:25.150Z"
   },
   {
    "duration": 198,
    "start_time": "2022-03-25T13:37:25.159Z"
   },
   {
    "duration": 116,
    "start_time": "2022-03-25T13:37:25.359Z"
   },
   {
    "duration": 100,
    "start_time": "2022-03-25T13:37:25.477Z"
   },
   {
    "duration": 56,
    "start_time": "2022-03-25T13:37:25.579Z"
   },
   {
    "duration": 76,
    "start_time": "2022-03-25T13:37:25.638Z"
   },
   {
    "duration": 3,
    "start_time": "2022-03-25T13:37:25.716Z"
   },
   {
    "duration": 32,
    "start_time": "2022-03-25T13:37:25.721Z"
   },
   {
    "duration": 13,
    "start_time": "2022-03-25T13:37:25.755Z"
   },
   {
    "duration": 0,
    "start_time": "2022-03-25T13:37:25.770Z"
   },
   {
    "duration": 265,
    "start_time": "2022-03-25T13:38:52.317Z"
   },
   {
    "duration": 15,
    "start_time": "2022-03-25T13:39:50.360Z"
   },
   {
    "duration": 1774,
    "start_time": "2022-03-25T13:40:01.666Z"
   },
   {
    "duration": 14,
    "start_time": "2022-03-25T13:40:03.443Z"
   },
   {
    "duration": 12,
    "start_time": "2022-03-25T13:40:03.459Z"
   },
   {
    "duration": 7,
    "start_time": "2022-03-25T13:40:03.473Z"
   },
   {
    "duration": 12,
    "start_time": "2022-03-25T13:40:03.483Z"
   },
   {
    "duration": 29,
    "start_time": "2022-03-25T13:40:03.497Z"
   },
   {
    "duration": 35,
    "start_time": "2022-03-25T13:40:03.528Z"
   },
   {
    "duration": 5,
    "start_time": "2022-03-25T13:40:03.565Z"
   },
   {
    "duration": 33,
    "start_time": "2022-03-25T13:40:03.571Z"
   },
   {
    "duration": 22,
    "start_time": "2022-03-25T13:40:03.606Z"
   },
   {
    "duration": 23,
    "start_time": "2022-03-25T13:40:03.629Z"
   },
   {
    "duration": 15,
    "start_time": "2022-03-25T13:40:03.653Z"
   },
   {
    "duration": 54,
    "start_time": "2022-03-25T13:40:03.670Z"
   },
   {
    "duration": 8,
    "start_time": "2022-03-25T13:40:03.727Z"
   },
   {
    "duration": 227,
    "start_time": "2022-03-25T13:40:03.737Z"
   },
   {
    "duration": 161,
    "start_time": "2022-03-25T13:40:03.966Z"
   },
   {
    "duration": 110,
    "start_time": "2022-03-25T13:40:04.130Z"
   },
   {
    "duration": 46,
    "start_time": "2022-03-25T13:40:04.242Z"
   },
   {
    "duration": 54,
    "start_time": "2022-03-25T13:40:04.302Z"
   },
   {
    "duration": 4,
    "start_time": "2022-03-25T13:40:04.357Z"
   },
   {
    "duration": 46,
    "start_time": "2022-03-25T13:40:04.363Z"
   },
   {
    "duration": 17,
    "start_time": "2022-03-25T13:40:04.411Z"
   },
   {
    "duration": 0,
    "start_time": "2022-03-25T13:40:04.430Z"
   },
   {
    "duration": 288,
    "start_time": "2022-03-25T13:44:14.871Z"
   },
   {
    "duration": 88,
    "start_time": "2022-03-25T13:44:32.093Z"
   },
   {
    "duration": 274,
    "start_time": "2022-03-25T13:45:12.471Z"
   },
   {
    "duration": 281,
    "start_time": "2022-03-25T13:45:45.851Z"
   },
   {
    "duration": 264,
    "start_time": "2022-03-25T13:46:03.511Z"
   },
   {
    "duration": 92,
    "start_time": "2022-03-25T13:46:05.747Z"
   },
   {
    "duration": 59,
    "start_time": "2022-03-25T14:03:44.219Z"
   },
   {
    "duration": 26,
    "start_time": "2022-03-25T14:03:52.010Z"
   },
   {
    "duration": 388,
    "start_time": "2022-03-25T14:03:57.581Z"
   },
   {
    "duration": 86,
    "start_time": "2022-03-25T14:18:58.425Z"
   },
   {
    "duration": 33,
    "start_time": "2022-03-25T14:30:10.442Z"
   },
   {
    "duration": 45,
    "start_time": "2022-03-25T14:30:28.112Z"
   },
   {
    "duration": 35,
    "start_time": "2022-03-25T14:33:15.302Z"
   },
   {
    "duration": 15,
    "start_time": "2022-03-25T14:33:27.526Z"
   },
   {
    "duration": 43,
    "start_time": "2022-03-25T14:34:01.696Z"
   },
   {
    "duration": 54,
    "start_time": "2022-03-25T14:34:03.878Z"
   },
   {
    "duration": 25,
    "start_time": "2022-03-25T14:38:14.770Z"
   },
   {
    "duration": 27,
    "start_time": "2022-03-25T14:38:26.275Z"
   },
   {
    "duration": 178,
    "start_time": "2022-03-25T14:38:28.386Z"
   },
   {
    "duration": 30,
    "start_time": "2022-03-25T14:38:41.594Z"
   },
   {
    "duration": 4169,
    "start_time": "2022-03-25T14:39:38.605Z"
   },
   {
    "duration": 12,
    "start_time": "2022-03-25T14:47:38.574Z"
   },
   {
    "duration": 21,
    "start_time": "2022-03-25T14:48:09.414Z"
   },
   {
    "duration": 51,
    "start_time": "2022-03-26T12:12:10.013Z"
   },
   {
    "duration": 1869,
    "start_time": "2022-03-26T12:12:18.340Z"
   },
   {
    "duration": 18,
    "start_time": "2022-03-26T12:12:20.211Z"
   },
   {
    "duration": 17,
    "start_time": "2022-03-26T12:12:20.231Z"
   },
   {
    "duration": 7,
    "start_time": "2022-03-26T12:12:21.445Z"
   },
   {
    "duration": 12,
    "start_time": "2022-03-26T12:12:22.915Z"
   },
   {
    "duration": 26,
    "start_time": "2022-03-26T12:12:24.929Z"
   },
   {
    "duration": 33,
    "start_time": "2022-03-26T12:12:26.097Z"
   },
   {
    "duration": 5,
    "start_time": "2022-03-26T12:12:26.613Z"
   },
   {
    "duration": 10,
    "start_time": "2022-03-26T12:12:27.797Z"
   },
   {
    "duration": 19,
    "start_time": "2022-03-26T12:12:30.221Z"
   },
   {
    "duration": 21,
    "start_time": "2022-03-26T12:12:33.065Z"
   },
   {
    "duration": 14,
    "start_time": "2022-03-26T12:12:33.961Z"
   },
   {
    "duration": 26,
    "start_time": "2022-03-26T12:12:34.641Z"
   },
   {
    "duration": 8,
    "start_time": "2022-03-26T12:12:36.429Z"
   },
   {
    "duration": 505,
    "start_time": "2022-03-26T12:12:40.215Z"
   },
   {
    "duration": 19,
    "start_time": "2022-03-26T12:18:46.587Z"
   },
   {
    "duration": 11,
    "start_time": "2022-03-26T12:18:49.025Z"
   },
   {
    "duration": 6,
    "start_time": "2022-03-26T12:18:50.761Z"
   },
   {
    "duration": 15,
    "start_time": "2022-03-26T12:18:52.793Z"
   },
   {
    "duration": 30,
    "start_time": "2022-03-26T12:18:53.740Z"
   },
   {
    "duration": 36,
    "start_time": "2022-03-26T12:18:55.969Z"
   },
   {
    "duration": 6,
    "start_time": "2022-03-26T12:20:03.369Z"
   },
   {
    "duration": 5,
    "start_time": "2022-03-26T12:22:16.341Z"
   },
   {
    "duration": 15,
    "start_time": "2022-03-26T12:22:34.548Z"
   },
   {
    "duration": 5,
    "start_time": "2022-03-26T12:24:40.664Z"
   },
   {
    "duration": 11,
    "start_time": "2022-03-26T12:24:49.292Z"
   },
   {
    "duration": 33,
    "start_time": "2022-03-26T12:26:09.044Z"
   },
   {
    "duration": 163,
    "start_time": "2022-03-26T12:28:22.324Z"
   },
   {
    "duration": 183,
    "start_time": "2022-03-26T12:35:09.908Z"
   },
   {
    "duration": 180,
    "start_time": "2022-03-26T12:35:33.112Z"
   },
   {
    "duration": 118,
    "start_time": "2022-03-26T12:37:03.589Z"
   },
   {
    "duration": 196,
    "start_time": "2022-03-26T12:38:29.663Z"
   },
   {
    "duration": 16,
    "start_time": "2022-03-26T12:38:44.090Z"
   },
   {
    "duration": 100,
    "start_time": "2022-03-26T12:39:02.173Z"
   },
   {
    "duration": 49,
    "start_time": "2022-03-26T12:39:03.275Z"
   },
   {
    "duration": 33,
    "start_time": "2022-03-26T12:43:13.428Z"
   },
   {
    "duration": 9,
    "start_time": "2022-03-26T12:47:55.190Z"
   },
   {
    "duration": 16,
    "start_time": "2022-03-26T12:50:37.684Z"
   },
   {
    "duration": 19,
    "start_time": "2022-03-26T12:52:37.074Z"
   },
   {
    "duration": 17,
    "start_time": "2022-03-26T12:53:09.634Z"
   },
   {
    "duration": 454,
    "start_time": "2022-03-26T12:53:37.178Z"
   },
   {
    "duration": 14,
    "start_time": "2022-03-26T12:53:38.244Z"
   },
   {
    "duration": 12,
    "start_time": "2022-03-26T12:53:38.787Z"
   },
   {
    "duration": 6,
    "start_time": "2022-03-26T12:53:39.780Z"
   },
   {
    "duration": 11,
    "start_time": "2022-03-26T12:53:40.768Z"
   },
   {
    "duration": 28,
    "start_time": "2022-03-26T12:53:41.328Z"
   },
   {
    "duration": 58,
    "start_time": "2022-03-26T12:53:42.356Z"
   },
   {
    "duration": 5,
    "start_time": "2022-03-26T12:53:42.916Z"
   },
   {
    "duration": 11,
    "start_time": "2022-03-26T12:53:43.760Z"
   },
   {
    "duration": 21,
    "start_time": "2022-03-26T12:53:44.318Z"
   },
   {
    "duration": 23,
    "start_time": "2022-03-26T12:53:45.300Z"
   },
   {
    "duration": 15,
    "start_time": "2022-03-26T12:53:46.374Z"
   },
   {
    "duration": 43,
    "start_time": "2022-03-26T12:53:47.098Z"
   },
   {
    "duration": 8,
    "start_time": "2022-03-26T12:53:48.586Z"
   },
   {
    "duration": 163,
    "start_time": "2022-03-26T12:53:52.098Z"
   },
   {
    "duration": 112,
    "start_time": "2022-03-26T12:53:53.382Z"
   },
   {
    "duration": 94,
    "start_time": "2022-03-26T12:53:55.098Z"
   },
   {
    "duration": 38,
    "start_time": "2022-03-26T12:53:56.044Z"
   },
   {
    "duration": 14,
    "start_time": "2022-03-26T12:53:58.400Z"
   },
   {
    "duration": 103,
    "start_time": "2022-03-26T12:54:12.452Z"
   },
   {
    "duration": 35,
    "start_time": "2022-03-26T12:54:13.434Z"
   },
   {
    "duration": 14,
    "start_time": "2022-03-26T12:54:15.522Z"
   },
   {
    "duration": 1627,
    "start_time": "2022-03-26T12:54:59.065Z"
   },
   {
    "duration": 19,
    "start_time": "2022-03-26T12:55:00.973Z"
   },
   {
    "duration": 15,
    "start_time": "2022-03-26T12:55:01.889Z"
   },
   {
    "duration": 7,
    "start_time": "2022-03-26T12:55:03.241Z"
   },
   {
    "duration": 14,
    "start_time": "2022-03-26T12:55:04.419Z"
   },
   {
    "duration": 29,
    "start_time": "2022-03-26T12:55:05.085Z"
   },
   {
    "duration": 73,
    "start_time": "2022-03-26T12:55:06.375Z"
   },
   {
    "duration": 6,
    "start_time": "2022-03-26T12:55:06.989Z"
   },
   {
    "duration": 15,
    "start_time": "2022-03-26T12:55:08.357Z"
   },
   {
    "duration": 31,
    "start_time": "2022-03-26T12:55:08.937Z"
   },
   {
    "duration": 24,
    "start_time": "2022-03-26T12:55:10.162Z"
   },
   {
    "duration": 15,
    "start_time": "2022-03-26T12:55:11.377Z"
   },
   {
    "duration": 43,
    "start_time": "2022-03-26T12:55:12.069Z"
   },
   {
    "duration": 9,
    "start_time": "2022-03-26T12:55:14.041Z"
   },
   {
    "duration": 183,
    "start_time": "2022-03-26T12:55:17.921Z"
   },
   {
    "duration": 108,
    "start_time": "2022-03-26T12:55:19.176Z"
   },
   {
    "duration": 96,
    "start_time": "2022-03-26T12:55:20.461Z"
   },
   {
    "duration": 43,
    "start_time": "2022-03-26T12:55:22.019Z"
   },
   {
    "duration": 116,
    "start_time": "2022-03-26T12:55:23.295Z"
   },
   {
    "duration": 13,
    "start_time": "2022-03-26T12:56:49.200Z"
   },
   {
    "duration": 63,
    "start_time": "2022-03-26T12:57:01.625Z"
   },
   {
    "duration": 10,
    "start_time": "2022-03-26T12:57:03.323Z"
   },
   {
    "duration": 10,
    "start_time": "2022-03-26T13:03:40.734Z"
   },
   {
    "duration": 14,
    "start_time": "2022-03-26T13:04:53.905Z"
   },
   {
    "duration": 40,
    "start_time": "2022-03-26T13:06:09.693Z"
   },
   {
    "duration": 32,
    "start_time": "2022-03-26T13:06:43.074Z"
   },
   {
    "duration": 34,
    "start_time": "2022-03-26T13:09:10.134Z"
   },
   {
    "duration": 3,
    "start_time": "2022-03-26T13:09:53.531Z"
   },
   {
    "duration": 25,
    "start_time": "2022-03-26T13:09:54.355Z"
   },
   {
    "duration": 41,
    "start_time": "2022-03-26T13:10:10.714Z"
   },
   {
    "duration": 21,
    "start_time": "2022-03-26T13:10:12.192Z"
   },
   {
    "duration": 48,
    "start_time": "2022-03-26T13:10:46.753Z"
   },
   {
    "duration": 24,
    "start_time": "2022-03-26T13:10:52.486Z"
   },
   {
    "duration": 11,
    "start_time": "2022-03-26T13:11:01.782Z"
   },
   {
    "duration": 31,
    "start_time": "2022-03-26T13:25:16.017Z"
   },
   {
    "duration": 1701,
    "start_time": "2022-03-26T13:26:36.411Z"
   },
   {
    "duration": 18,
    "start_time": "2022-03-26T13:26:38.114Z"
   },
   {
    "duration": 12,
    "start_time": "2022-03-26T13:26:38.134Z"
   },
   {
    "duration": 7,
    "start_time": "2022-03-26T13:26:38.148Z"
   },
   {
    "duration": 15,
    "start_time": "2022-03-26T13:26:38.157Z"
   },
   {
    "duration": 29,
    "start_time": "2022-03-26T13:26:38.174Z"
   },
   {
    "duration": 57,
    "start_time": "2022-03-26T13:26:38.232Z"
   },
   {
    "duration": 5,
    "start_time": "2022-03-26T13:26:38.291Z"
   },
   {
    "duration": 14,
    "start_time": "2022-03-26T13:26:38.297Z"
   },
   {
    "duration": 20,
    "start_time": "2022-03-26T13:26:38.333Z"
   },
   {
    "duration": 22,
    "start_time": "2022-03-26T13:26:38.355Z"
   },
   {
    "duration": 15,
    "start_time": "2022-03-26T13:26:38.379Z"
   },
   {
    "duration": 74,
    "start_time": "2022-03-26T13:26:38.396Z"
   },
   {
    "duration": 9,
    "start_time": "2022-03-26T13:26:38.472Z"
   },
   {
    "duration": 187,
    "start_time": "2022-03-26T13:26:38.483Z"
   },
   {
    "duration": 126,
    "start_time": "2022-03-26T13:26:38.672Z"
   },
   {
    "duration": 93,
    "start_time": "2022-03-26T13:26:38.800Z"
   },
   {
    "duration": 58,
    "start_time": "2022-03-26T13:26:38.895Z"
   },
   {
    "duration": 30,
    "start_time": "2022-03-26T13:26:38.955Z"
   },
   {
    "duration": 4,
    "start_time": "2022-03-26T13:26:38.987Z"
   },
   {
    "duration": 46,
    "start_time": "2022-03-26T13:26:38.992Z"
   },
   {
    "duration": 41,
    "start_time": "2022-03-26T13:26:39.039Z"
   },
   {
    "duration": 15,
    "start_time": "2022-03-26T13:26:39.082Z"
   },
   {
    "duration": 38,
    "start_time": "2022-03-26T13:26:39.099Z"
   },
   {
    "duration": 13,
    "start_time": "2022-03-26T13:40:40.824Z"
   },
   {
    "duration": 16,
    "start_time": "2022-03-26T13:41:57.102Z"
   },
   {
    "duration": 8,
    "start_time": "2022-03-26T13:43:47.504Z"
   },
   {
    "duration": 44,
    "start_time": "2022-03-26T13:43:49.353Z"
   },
   {
    "duration": 5,
    "start_time": "2022-03-26T14:44:33.442Z"
   },
   {
    "duration": 5,
    "start_time": "2022-03-26T14:45:28.816Z"
   },
   {
    "duration": 6,
    "start_time": "2022-03-26T14:46:37.166Z"
   },
   {
    "duration": 105,
    "start_time": "2022-03-26T14:47:25.913Z"
   },
   {
    "duration": 9,
    "start_time": "2022-03-26T14:48:00.035Z"
   },
   {
    "duration": 10,
    "start_time": "2022-03-26T14:50:24.843Z"
   },
   {
    "duration": 36,
    "start_time": "2022-03-26T14:50:28.604Z"
   },
   {
    "duration": 3,
    "start_time": "2022-03-26T14:50:36.913Z"
   },
   {
    "duration": 9,
    "start_time": "2022-03-26T14:50:41.935Z"
   },
   {
    "duration": 8,
    "start_time": "2022-03-26T14:50:47.845Z"
   },
   {
    "duration": 10,
    "start_time": "2022-03-26T14:52:20.894Z"
   },
   {
    "duration": 9,
    "start_time": "2022-03-26T14:53:00.888Z"
   },
   {
    "duration": 185,
    "start_time": "2022-03-26T15:16:01.411Z"
   },
   {
    "duration": 167,
    "start_time": "2022-03-26T15:16:11.134Z"
   },
   {
    "duration": 168,
    "start_time": "2022-03-26T15:16:59.521Z"
   },
   {
    "duration": 166,
    "start_time": "2022-03-26T15:17:06.133Z"
   },
   {
    "duration": 167,
    "start_time": "2022-03-26T15:17:29.098Z"
   },
   {
    "duration": 200,
    "start_time": "2022-03-26T15:17:48.084Z"
   },
   {
    "duration": 179,
    "start_time": "2022-03-26T15:19:00.802Z"
   },
   {
    "duration": 177,
    "start_time": "2022-03-26T15:20:40.489Z"
   },
   {
    "duration": 444,
    "start_time": "2022-03-26T15:21:03.456Z"
   },
   {
    "duration": 15,
    "start_time": "2022-03-26T15:21:03.902Z"
   },
   {
    "duration": 20,
    "start_time": "2022-03-26T15:21:03.919Z"
   },
   {
    "duration": 14,
    "start_time": "2022-03-26T15:21:03.942Z"
   },
   {
    "duration": 16,
    "start_time": "2022-03-26T15:21:03.960Z"
   },
   {
    "duration": 31,
    "start_time": "2022-03-26T15:21:03.978Z"
   },
   {
    "duration": 71,
    "start_time": "2022-03-26T15:21:04.011Z"
   },
   {
    "duration": 5,
    "start_time": "2022-03-26T15:21:04.083Z"
   },
   {
    "duration": 13,
    "start_time": "2022-03-26T15:21:04.091Z"
   },
   {
    "duration": 53,
    "start_time": "2022-03-26T15:21:04.107Z"
   },
   {
    "duration": 23,
    "start_time": "2022-03-26T15:21:04.162Z"
   },
   {
    "duration": 16,
    "start_time": "2022-03-26T15:21:04.187Z"
   },
   {
    "duration": 66,
    "start_time": "2022-03-26T15:21:04.204Z"
   },
   {
    "duration": 9,
    "start_time": "2022-03-26T15:21:04.273Z"
   },
   {
    "duration": 182,
    "start_time": "2022-03-26T15:21:04.283Z"
   },
   {
    "duration": 120,
    "start_time": "2022-03-26T15:21:04.467Z"
   },
   {
    "duration": 101,
    "start_time": "2022-03-26T15:21:04.589Z"
   },
   {
    "duration": 61,
    "start_time": "2022-03-26T15:21:04.692Z"
   },
   {
    "duration": 28,
    "start_time": "2022-03-26T15:21:04.755Z"
   },
   {
    "duration": 3,
    "start_time": "2022-03-26T15:21:04.784Z"
   },
   {
    "duration": 45,
    "start_time": "2022-03-26T15:21:04.789Z"
   },
   {
    "duration": 39,
    "start_time": "2022-03-26T15:21:04.836Z"
   },
   {
    "duration": 14,
    "start_time": "2022-03-26T15:21:04.876Z"
   },
   {
    "duration": 21,
    "start_time": "2022-03-26T15:21:04.892Z"
   },
   {
    "duration": 35,
    "start_time": "2022-03-26T15:21:04.914Z"
   },
   {
    "duration": 71,
    "start_time": "2022-03-26T15:21:04.951Z"
   },
   {
    "duration": 170,
    "start_time": "2022-03-26T15:21:05.024Z"
   },
   {
    "duration": 0,
    "start_time": "2022-03-26T15:21:05.196Z"
   },
   {
    "duration": 179,
    "start_time": "2022-03-26T15:27:50.339Z"
   },
   {
    "duration": 1603,
    "start_time": "2022-03-28T05:47:31.481Z"
   },
   {
    "duration": 17,
    "start_time": "2022-03-28T05:47:33.087Z"
   },
   {
    "duration": 11,
    "start_time": "2022-03-28T05:47:33.105Z"
   },
   {
    "duration": 6,
    "start_time": "2022-03-28T05:47:33.118Z"
   },
   {
    "duration": 12,
    "start_time": "2022-03-28T05:47:33.126Z"
   },
   {
    "duration": 40,
    "start_time": "2022-03-28T05:47:33.140Z"
   },
   {
    "duration": 49,
    "start_time": "2022-03-28T05:47:33.182Z"
   },
   {
    "duration": 4,
    "start_time": "2022-03-28T05:47:33.233Z"
   },
   {
    "duration": 27,
    "start_time": "2022-03-28T05:47:33.239Z"
   },
   {
    "duration": 18,
    "start_time": "2022-03-28T05:47:33.270Z"
   },
   {
    "duration": 20,
    "start_time": "2022-03-28T05:47:33.289Z"
   },
   {
    "duration": 12,
    "start_time": "2022-03-28T05:47:33.310Z"
   },
   {
    "duration": 68,
    "start_time": "2022-03-28T05:47:33.324Z"
   },
   {
    "duration": 9,
    "start_time": "2022-03-28T05:47:33.393Z"
   },
   {
    "duration": 163,
    "start_time": "2022-03-28T05:47:33.403Z"
   },
   {
    "duration": 98,
    "start_time": "2022-03-28T05:47:33.568Z"
   },
   {
    "duration": 78,
    "start_time": "2022-03-28T05:47:33.668Z"
   },
   {
    "duration": 52,
    "start_time": "2022-03-28T05:47:33.748Z"
   },
   {
    "duration": 25,
    "start_time": "2022-03-28T05:47:33.801Z"
   },
   {
    "duration": 3,
    "start_time": "2022-03-28T05:47:33.828Z"
   },
   {
    "duration": 37,
    "start_time": "2022-03-28T05:47:33.832Z"
   },
   {
    "duration": 29,
    "start_time": "2022-03-28T05:47:33.871Z"
   },
   {
    "duration": 11,
    "start_time": "2022-03-28T05:47:33.902Z"
   },
   {
    "duration": 8,
    "start_time": "2022-03-28T05:47:33.915Z"
   },
   {
    "duration": 39,
    "start_time": "2022-03-28T05:47:33.924Z"
   },
   {
    "duration": 35,
    "start_time": "2022-03-28T05:47:33.964Z"
   },
   {
    "duration": 157,
    "start_time": "2022-03-28T05:47:34.001Z"
   },
   {
    "duration": 0,
    "start_time": "2022-03-28T05:47:34.160Z"
   },
   {
    "duration": 175,
    "start_time": "2022-03-28T05:51:27.969Z"
   },
   {
    "duration": 172,
    "start_time": "2022-03-28T05:51:52.832Z"
   },
   {
    "duration": 357,
    "start_time": "2022-03-28T05:52:20.294Z"
   },
   {
    "duration": 184,
    "start_time": "2022-03-28T05:52:48.377Z"
   },
   {
    "duration": 151,
    "start_time": "2022-03-28T05:53:14.393Z"
   },
   {
    "duration": 160,
    "start_time": "2022-03-28T05:53:24.873Z"
   },
   {
    "duration": 140,
    "start_time": "2022-03-28T05:54:12.737Z"
   },
   {
    "duration": 132,
    "start_time": "2022-03-28T05:54:33.530Z"
   },
   {
    "duration": 292,
    "start_time": "2022-03-28T05:54:50.496Z"
   },
   {
    "duration": 246,
    "start_time": "2022-03-28T05:55:24.049Z"
   },
   {
    "duration": 137,
    "start_time": "2022-03-28T05:55:34.125Z"
   },
   {
    "duration": 228,
    "start_time": "2022-03-28T05:55:50.841Z"
   },
   {
    "duration": 139,
    "start_time": "2022-03-28T05:56:43.281Z"
   },
   {
    "duration": 370,
    "start_time": "2022-03-28T05:59:20.747Z"
   },
   {
    "duration": 12,
    "start_time": "2022-03-28T05:59:21.120Z"
   },
   {
    "duration": 16,
    "start_time": "2022-03-28T05:59:21.133Z"
   },
   {
    "duration": 11,
    "start_time": "2022-03-28T05:59:21.152Z"
   },
   {
    "duration": 15,
    "start_time": "2022-03-28T05:59:21.164Z"
   },
   {
    "duration": 30,
    "start_time": "2022-03-28T05:59:21.181Z"
   },
   {
    "duration": 58,
    "start_time": "2022-03-28T05:59:21.213Z"
   },
   {
    "duration": 5,
    "start_time": "2022-03-28T05:59:21.273Z"
   },
   {
    "duration": 11,
    "start_time": "2022-03-28T05:59:21.280Z"
   },
   {
    "duration": 19,
    "start_time": "2022-03-28T05:59:21.294Z"
   },
   {
    "duration": 19,
    "start_time": "2022-03-28T05:59:21.314Z"
   },
   {
    "duration": 35,
    "start_time": "2022-03-28T05:59:21.334Z"
   },
   {
    "duration": 38,
    "start_time": "2022-03-28T05:59:21.371Z"
   },
   {
    "duration": 7,
    "start_time": "2022-03-28T05:59:21.411Z"
   },
   {
    "duration": 173,
    "start_time": "2022-03-28T05:59:21.420Z"
   },
   {
    "duration": 105,
    "start_time": "2022-03-28T05:59:21.594Z"
   },
   {
    "duration": 90,
    "start_time": "2022-03-28T05:59:21.701Z"
   },
   {
    "duration": 44,
    "start_time": "2022-03-28T05:59:21.793Z"
   },
   {
    "duration": 39,
    "start_time": "2022-03-28T05:59:21.839Z"
   },
   {
    "duration": 3,
    "start_time": "2022-03-28T05:59:21.879Z"
   },
   {
    "duration": 25,
    "start_time": "2022-03-28T05:59:21.883Z"
   },
   {
    "duration": 33,
    "start_time": "2022-03-28T05:59:21.910Z"
   },
   {
    "duration": 13,
    "start_time": "2022-03-28T05:59:21.962Z"
   },
   {
    "duration": 7,
    "start_time": "2022-03-28T05:59:21.976Z"
   },
   {
    "duration": 13,
    "start_time": "2022-03-28T05:59:21.985Z"
   },
   {
    "duration": 33,
    "start_time": "2022-03-28T05:59:21.999Z"
   },
   {
    "duration": 144,
    "start_time": "2022-03-28T05:59:22.062Z"
   },
   {
    "duration": 153,
    "start_time": "2022-03-28T06:02:02.853Z"
   },
   {
    "duration": 5,
    "start_time": "2022-03-28T06:05:43.705Z"
   },
   {
    "duration": 23,
    "start_time": "2022-03-28T06:06:12.201Z"
   },
   {
    "duration": 3,
    "start_time": "2022-03-28T06:07:29.449Z"
   },
   {
    "duration": 9,
    "start_time": "2022-03-28T06:31:12.869Z"
   },
   {
    "duration": 9,
    "start_time": "2022-03-28T06:32:01.171Z"
   },
   {
    "duration": 9,
    "start_time": "2022-03-28T06:33:39.588Z"
   },
   {
    "duration": 8,
    "start_time": "2022-03-28T06:33:40.676Z"
   },
   {
    "duration": 1504,
    "start_time": "2022-03-28T06:34:21.919Z"
   },
   {
    "duration": 20,
    "start_time": "2022-03-28T06:34:23.427Z"
   },
   {
    "duration": 14,
    "start_time": "2022-03-28T06:34:23.448Z"
   },
   {
    "duration": 7,
    "start_time": "2022-03-28T06:34:23.465Z"
   },
   {
    "duration": 12,
    "start_time": "2022-03-28T06:34:23.473Z"
   },
   {
    "duration": 25,
    "start_time": "2022-03-28T06:34:23.486Z"
   },
   {
    "duration": 74,
    "start_time": "2022-03-28T06:34:23.513Z"
   },
   {
    "duration": 4,
    "start_time": "2022-03-28T06:34:23.589Z"
   },
   {
    "duration": 10,
    "start_time": "2022-03-28T06:34:23.595Z"
   },
   {
    "duration": 18,
    "start_time": "2022-03-28T06:34:23.608Z"
   },
   {
    "duration": 41,
    "start_time": "2022-03-28T06:34:23.627Z"
   },
   {
    "duration": 12,
    "start_time": "2022-03-28T06:34:23.670Z"
   },
   {
    "duration": 39,
    "start_time": "2022-03-28T06:34:23.684Z"
   },
   {
    "duration": 7,
    "start_time": "2022-03-28T06:34:23.725Z"
   },
   {
    "duration": 170,
    "start_time": "2022-03-28T06:34:23.733Z"
   },
   {
    "duration": 113,
    "start_time": "2022-03-28T06:34:23.905Z"
   },
   {
    "duration": 90,
    "start_time": "2022-03-28T06:34:24.020Z"
   },
   {
    "duration": 39,
    "start_time": "2022-03-28T06:34:24.111Z"
   },
   {
    "duration": 37,
    "start_time": "2022-03-28T06:34:24.152Z"
   },
   {
    "duration": 3,
    "start_time": "2022-03-28T06:34:24.192Z"
   },
   {
    "duration": 22,
    "start_time": "2022-03-28T06:34:24.197Z"
   },
   {
    "duration": 53,
    "start_time": "2022-03-28T06:34:24.220Z"
   },
   {
    "duration": 12,
    "start_time": "2022-03-28T06:34:24.275Z"
   },
   {
    "duration": 7,
    "start_time": "2022-03-28T06:34:24.289Z"
   },
   {
    "duration": 11,
    "start_time": "2022-03-28T06:34:24.298Z"
   },
   {
    "duration": 56,
    "start_time": "2022-03-28T06:34:24.311Z"
   },
   {
    "duration": 101,
    "start_time": "2022-03-28T06:34:24.369Z"
   },
   {
    "duration": 0,
    "start_time": "2022-03-28T06:34:24.472Z"
   },
   {
    "duration": 0,
    "start_time": "2022-03-28T06:34:24.473Z"
   },
   {
    "duration": 6,
    "start_time": "2022-03-28T06:35:16.286Z"
   },
   {
    "duration": 10,
    "start_time": "2022-03-28T06:35:18.807Z"
   },
   {
    "duration": 221,
    "start_time": "2022-03-28T06:40:09.555Z"
   },
   {
    "duration": 3,
    "start_time": "2022-03-28T06:40:31.228Z"
   },
   {
    "duration": 4,
    "start_time": "2022-03-28T06:44:08.819Z"
   },
   {
    "duration": 9,
    "start_time": "2022-03-28T06:44:09.509Z"
   },
   {
    "duration": 3,
    "start_time": "2022-03-28T06:48:30.891Z"
   },
   {
    "duration": 23,
    "start_time": "2022-03-28T06:48:52.735Z"
   },
   {
    "duration": 2285,
    "start_time": "2022-03-28T07:07:18.718Z"
   },
   {
    "duration": 0,
    "start_time": "2022-03-28T07:07:21.005Z"
   },
   {
    "duration": 10,
    "start_time": "2022-03-28T07:09:19.132Z"
   },
   {
    "duration": 370,
    "start_time": "2022-03-28T07:09:41.208Z"
   },
   {
    "duration": 13,
    "start_time": "2022-03-28T07:09:41.580Z"
   },
   {
    "duration": 12,
    "start_time": "2022-03-28T07:09:41.594Z"
   },
   {
    "duration": 7,
    "start_time": "2022-03-28T07:09:41.608Z"
   },
   {
    "duration": 12,
    "start_time": "2022-03-28T07:09:41.616Z"
   },
   {
    "duration": 41,
    "start_time": "2022-03-28T07:09:41.630Z"
   },
   {
    "duration": 49,
    "start_time": "2022-03-28T07:09:41.672Z"
   },
   {
    "duration": 6,
    "start_time": "2022-03-28T07:09:41.723Z"
   },
   {
    "duration": 35,
    "start_time": "2022-03-28T07:09:41.730Z"
   },
   {
    "duration": 23,
    "start_time": "2022-03-28T07:09:41.768Z"
   },
   {
    "duration": 21,
    "start_time": "2022-03-28T07:09:41.793Z"
   },
   {
    "duration": 13,
    "start_time": "2022-03-28T07:09:41.815Z"
   },
   {
    "duration": 55,
    "start_time": "2022-03-28T07:09:41.830Z"
   },
   {
    "duration": 8,
    "start_time": "2022-03-28T07:09:41.887Z"
   },
   {
    "duration": 157,
    "start_time": "2022-03-28T07:09:41.897Z"
   },
   {
    "duration": 110,
    "start_time": "2022-03-28T07:09:42.056Z"
   },
   {
    "duration": 84,
    "start_time": "2022-03-28T07:09:42.168Z"
   },
   {
    "duration": 43,
    "start_time": "2022-03-28T07:09:42.263Z"
   },
   {
    "duration": 25,
    "start_time": "2022-03-28T07:09:42.307Z"
   },
   {
    "duration": 3,
    "start_time": "2022-03-28T07:09:42.333Z"
   },
   {
    "duration": 45,
    "start_time": "2022-03-28T07:09:42.338Z"
   },
   {
    "duration": 33,
    "start_time": "2022-03-28T07:09:42.385Z"
   },
   {
    "duration": 11,
    "start_time": "2022-03-28T07:09:42.420Z"
   },
   {
    "duration": 32,
    "start_time": "2022-03-28T07:09:42.432Z"
   },
   {
    "duration": 13,
    "start_time": "2022-03-28T07:09:42.466Z"
   },
   {
    "duration": 48,
    "start_time": "2022-03-28T07:09:42.480Z"
   },
   {
    "duration": 4,
    "start_time": "2022-03-28T07:09:42.531Z"
   },
   {
    "duration": 32,
    "start_time": "2022-03-28T07:09:42.538Z"
   },
   {
    "duration": 0,
    "start_time": "2022-03-28T07:09:42.572Z"
   },
   {
    "duration": 4,
    "start_time": "2022-03-28T07:10:00.749Z"
   },
   {
    "duration": 10,
    "start_time": "2022-03-28T07:10:02.708Z"
   },
   {
    "duration": 28,
    "start_time": "2022-03-28T07:11:25.400Z"
   },
   {
    "duration": 1928,
    "start_time": "2022-03-28T07:12:02.503Z"
   },
   {
    "duration": 24,
    "start_time": "2022-03-28T07:12:04.434Z"
   },
   {
    "duration": 14,
    "start_time": "2022-03-28T07:12:04.464Z"
   },
   {
    "duration": 9,
    "start_time": "2022-03-28T07:12:04.479Z"
   },
   {
    "duration": 15,
    "start_time": "2022-03-28T07:12:04.492Z"
   },
   {
    "duration": 25,
    "start_time": "2022-03-28T07:12:04.509Z"
   },
   {
    "duration": 71,
    "start_time": "2022-03-28T07:12:04.536Z"
   },
   {
    "duration": 5,
    "start_time": "2022-03-28T07:12:04.609Z"
   },
   {
    "duration": 14,
    "start_time": "2022-03-28T07:12:04.615Z"
   },
   {
    "duration": 34,
    "start_time": "2022-03-28T07:12:04.631Z"
   },
   {
    "duration": 20,
    "start_time": "2022-03-28T07:12:04.667Z"
   },
   {
    "duration": 14,
    "start_time": "2022-03-28T07:12:04.689Z"
   },
   {
    "duration": 59,
    "start_time": "2022-03-28T07:12:04.705Z"
   },
   {
    "duration": 8,
    "start_time": "2022-03-28T07:12:04.767Z"
   },
   {
    "duration": 168,
    "start_time": "2022-03-28T07:12:04.777Z"
   },
   {
    "duration": 103,
    "start_time": "2022-03-28T07:12:04.946Z"
   },
   {
    "duration": 94,
    "start_time": "2022-03-28T07:12:05.050Z"
   },
   {
    "duration": 47,
    "start_time": "2022-03-28T07:12:05.145Z"
   },
   {
    "duration": 28,
    "start_time": "2022-03-28T07:12:05.194Z"
   },
   {
    "duration": 3,
    "start_time": "2022-03-28T07:12:05.223Z"
   },
   {
    "duration": 44,
    "start_time": "2022-03-28T07:12:05.228Z"
   },
   {
    "duration": 32,
    "start_time": "2022-03-28T07:12:05.274Z"
   },
   {
    "duration": 18,
    "start_time": "2022-03-28T07:12:05.308Z"
   },
   {
    "duration": 9,
    "start_time": "2022-03-28T07:12:05.327Z"
   },
   {
    "duration": 17,
    "start_time": "2022-03-28T07:12:05.363Z"
   },
   {
    "duration": 49,
    "start_time": "2022-03-28T07:12:05.382Z"
   },
   {
    "duration": 4,
    "start_time": "2022-03-28T07:12:05.433Z"
   },
   {
    "duration": 178,
    "start_time": "2022-03-28T07:12:05.439Z"
   },
   {
    "duration": 0,
    "start_time": "2022-03-28T07:12:05.619Z"
   },
   {
    "duration": 5,
    "start_time": "2022-03-28T07:12:33.668Z"
   },
   {
    "duration": 37,
    "start_time": "2022-03-28T07:12:36.324Z"
   },
   {
    "duration": 16,
    "start_time": "2022-03-28T07:21:35.717Z"
   },
   {
    "duration": 98,
    "start_time": "2022-03-28T07:27:21.467Z"
   },
   {
    "duration": 23,
    "start_time": "2022-03-28T07:27:23.375Z"
   },
   {
    "duration": 4,
    "start_time": "2022-03-28T07:46:46.957Z"
   },
   {
    "duration": 4,
    "start_time": "2022-03-28T07:47:15.638Z"
   },
   {
    "duration": 4,
    "start_time": "2022-03-28T07:53:04.407Z"
   },
   {
    "duration": 8,
    "start_time": "2022-03-28T07:53:39.919Z"
   },
   {
    "duration": 3,
    "start_time": "2022-03-28T07:53:45.599Z"
   },
   {
    "duration": 4,
    "start_time": "2022-03-28T07:53:46.171Z"
   },
   {
    "duration": 3,
    "start_time": "2022-03-28T07:54:21.863Z"
   },
   {
    "duration": 4,
    "start_time": "2022-03-28T07:54:37.139Z"
   },
   {
    "duration": 9,
    "start_time": "2022-03-28T07:55:15.613Z"
   },
   {
    "duration": 9,
    "start_time": "2022-03-28T07:55:46.611Z"
   },
   {
    "duration": 10,
    "start_time": "2022-03-28T07:57:23.551Z"
   },
   {
    "duration": 8,
    "start_time": "2022-03-28T07:57:42.015Z"
   },
   {
    "duration": 9,
    "start_time": "2022-03-28T07:57:44.671Z"
   },
   {
    "duration": 363,
    "start_time": "2022-03-28T07:57:59.601Z"
   },
   {
    "duration": 15,
    "start_time": "2022-03-28T07:58:00.010Z"
   },
   {
    "duration": 11,
    "start_time": "2022-03-28T07:58:00.205Z"
   },
   {
    "duration": 7,
    "start_time": "2022-03-28T07:58:00.550Z"
   },
   {
    "duration": 11,
    "start_time": "2022-03-28T07:58:00.919Z"
   },
   {
    "duration": 26,
    "start_time": "2022-03-28T07:58:01.109Z"
   },
   {
    "duration": 56,
    "start_time": "2022-03-28T07:58:01.515Z"
   },
   {
    "duration": 5,
    "start_time": "2022-03-28T07:58:01.701Z"
   },
   {
    "duration": 10,
    "start_time": "2022-03-28T07:58:02.105Z"
   },
   {
    "duration": 31,
    "start_time": "2022-03-28T07:58:02.455Z"
   },
   {
    "duration": 23,
    "start_time": "2022-03-28T07:58:02.847Z"
   },
   {
    "duration": 14,
    "start_time": "2022-03-28T07:58:03.263Z"
   },
   {
    "duration": 40,
    "start_time": "2022-03-28T07:58:03.455Z"
   },
   {
    "duration": 8,
    "start_time": "2022-03-28T07:58:04.069Z"
   },
   {
    "duration": 155,
    "start_time": "2022-03-28T07:58:05.254Z"
   },
   {
    "duration": 100,
    "start_time": "2022-03-28T07:58:05.653Z"
   },
   {
    "duration": 92,
    "start_time": "2022-03-28T07:58:06.042Z"
   },
   {
    "duration": 43,
    "start_time": "2022-03-28T07:58:06.231Z"
   },
   {
    "duration": 25,
    "start_time": "2022-03-28T07:58:06.655Z"
   },
   {
    "duration": 3,
    "start_time": "2022-03-28T07:58:06.838Z"
   },
   {
    "duration": 25,
    "start_time": "2022-03-28T07:58:07.033Z"
   },
   {
    "duration": 33,
    "start_time": "2022-03-28T07:58:07.411Z"
   },
   {
    "duration": 19,
    "start_time": "2022-03-28T07:58:07.613Z"
   },
   {
    "duration": 10,
    "start_time": "2022-03-28T07:58:07.856Z"
   },
   {
    "duration": 14,
    "start_time": "2022-03-28T07:58:08.301Z"
   },
   {
    "duration": 46,
    "start_time": "2022-03-28T07:58:08.679Z"
   },
   {
    "duration": 4,
    "start_time": "2022-03-28T07:58:09.118Z"
   },
   {
    "duration": 91,
    "start_time": "2022-03-28T07:58:09.881Z"
   },
   {
    "duration": 25,
    "start_time": "2022-03-28T07:58:10.415Z"
   },
   {
    "duration": 9,
    "start_time": "2022-03-28T07:58:11.695Z"
   },
   {
    "duration": 11,
    "start_time": "2022-03-28T07:58:12.314Z"
   },
   {
    "duration": 3,
    "start_time": "2022-03-28T08:01:06.984Z"
   },
   {
    "duration": 11,
    "start_time": "2022-03-28T08:01:08.764Z"
   },
   {
    "duration": 3,
    "start_time": "2022-03-28T08:01:26.890Z"
   },
   {
    "duration": 5,
    "start_time": "2022-03-28T08:02:27.081Z"
   },
   {
    "duration": 8,
    "start_time": "2022-03-28T08:03:53.121Z"
   },
   {
    "duration": 4,
    "start_time": "2022-03-28T08:03:59.659Z"
   },
   {
    "duration": 3,
    "start_time": "2022-03-28T08:04:00.244Z"
   },
   {
    "duration": 226,
    "start_time": "2022-03-28T08:12:54.576Z"
   },
   {
    "duration": 163,
    "start_time": "2022-03-28T08:12:55.445Z"
   },
   {
    "duration": 4,
    "start_time": "2022-03-28T08:13:05.406Z"
   },
   {
    "duration": 148,
    "start_time": "2022-03-28T08:13:06.348Z"
   },
   {
    "duration": 24,
    "start_time": "2022-03-28T08:13:07.380Z"
   },
   {
    "duration": 4,
    "start_time": "2022-03-28T08:13:15.040Z"
   },
   {
    "duration": 4,
    "start_time": "2022-03-28T08:13:15.916Z"
   },
   {
    "duration": 4,
    "start_time": "2022-03-28T08:13:26.086Z"
   },
   {
    "duration": 4,
    "start_time": "2022-03-28T08:14:44.449Z"
   },
   {
    "duration": 95,
    "start_time": "2022-03-28T08:14:45.068Z"
   },
   {
    "duration": 25,
    "start_time": "2022-03-28T08:14:45.774Z"
   },
   {
    "duration": 4,
    "start_time": "2022-03-28T08:14:47.232Z"
   },
   {
    "duration": 4,
    "start_time": "2022-03-28T08:14:47.842Z"
   },
   {
    "duration": 12,
    "start_time": "2022-03-28T08:16:22.091Z"
   },
   {
    "duration": 27,
    "start_time": "2022-03-28T08:16:23.038Z"
   },
   {
    "duration": 93,
    "start_time": "2022-03-28T08:16:33.052Z"
   },
   {
    "duration": 24,
    "start_time": "2022-03-28T08:16:34.031Z"
   },
   {
    "duration": 4,
    "start_time": "2022-03-28T08:16:53.087Z"
   },
   {
    "duration": 155,
    "start_time": "2022-03-28T08:16:54.018Z"
   },
   {
    "duration": 24,
    "start_time": "2022-03-28T08:16:55.044Z"
   },
   {
    "duration": 4,
    "start_time": "2022-03-28T08:17:12.264Z"
   },
   {
    "duration": 5,
    "start_time": "2022-03-28T08:17:12.850Z"
   },
   {
    "duration": 4,
    "start_time": "2022-03-28T08:18:36.911Z"
   },
   {
    "duration": 4,
    "start_time": "2022-03-28T08:20:47.949Z"
   },
   {
    "duration": 11,
    "start_time": "2022-03-28T08:25:50.303Z"
   },
   {
    "duration": 10,
    "start_time": "2022-03-28T08:26:59.691Z"
   },
   {
    "duration": 4,
    "start_time": "2022-03-28T08:27:25.599Z"
   },
   {
    "duration": 10,
    "start_time": "2022-03-28T08:29:35.499Z"
   },
   {
    "duration": 5,
    "start_time": "2022-03-28T08:30:59.286Z"
   },
   {
    "duration": 93,
    "start_time": "2022-03-28T08:37:01.645Z"
   },
   {
    "duration": 23,
    "start_time": "2022-03-28T08:37:07.893Z"
   },
   {
    "duration": 5,
    "start_time": "2022-03-28T08:37:22.866Z"
   },
   {
    "duration": 2366,
    "start_time": "2022-03-28T09:05:46.687Z"
   },
   {
    "duration": 27,
    "start_time": "2022-03-28T09:05:49.056Z"
   },
   {
    "duration": 17,
    "start_time": "2022-03-28T09:05:49.085Z"
   },
   {
    "duration": 15,
    "start_time": "2022-03-28T09:05:49.104Z"
   },
   {
    "duration": 21,
    "start_time": "2022-03-28T09:05:49.146Z"
   },
   {
    "duration": 36,
    "start_time": "2022-03-28T09:05:49.352Z"
   },
   {
    "duration": 82,
    "start_time": "2022-03-28T09:05:49.736Z"
   },
   {
    "duration": 6,
    "start_time": "2022-03-28T09:05:49.928Z"
   },
   {
    "duration": 16,
    "start_time": "2022-03-28T09:05:50.346Z"
   },
   {
    "duration": 27,
    "start_time": "2022-03-28T09:05:50.526Z"
   },
   {
    "duration": 30,
    "start_time": "2022-03-28T09:05:50.920Z"
   },
   {
    "duration": 21,
    "start_time": "2022-03-28T09:05:51.360Z"
   },
   {
    "duration": 61,
    "start_time": "2022-03-28T09:05:51.552Z"
   },
   {
    "duration": 15,
    "start_time": "2022-03-28T09:05:52.222Z"
   },
   {
    "duration": 245,
    "start_time": "2022-03-28T09:05:56.716Z"
   },
   {
    "duration": 144,
    "start_time": "2022-03-28T10:13:18.927Z"
   },
   {
    "duration": 508,
    "start_time": "2022-03-28T10:13:28.864Z"
   },
   {
    "duration": 20,
    "start_time": "2022-03-28T10:13:29.874Z"
   },
   {
    "duration": 16,
    "start_time": "2022-03-28T10:13:30.186Z"
   },
   {
    "duration": 8,
    "start_time": "2022-03-28T10:13:30.649Z"
   },
   {
    "duration": 17,
    "start_time": "2022-03-28T10:13:31.064Z"
   },
   {
    "duration": 36,
    "start_time": "2022-03-28T10:13:31.264Z"
   },
   {
    "duration": 79,
    "start_time": "2022-03-28T10:13:31.690Z"
   },
   {
    "duration": 6,
    "start_time": "2022-03-28T10:13:31.910Z"
   },
   {
    "duration": 16,
    "start_time": "2022-03-28T10:13:32.320Z"
   },
   {
    "duration": 28,
    "start_time": "2022-03-28T10:13:32.534Z"
   },
   {
    "duration": 30,
    "start_time": "2022-03-28T10:13:32.943Z"
   },
   {
    "duration": 21,
    "start_time": "2022-03-28T10:13:33.390Z"
   },
   {
    "duration": 61,
    "start_time": "2022-03-28T10:13:33.598Z"
   },
   {
    "duration": 13,
    "start_time": "2022-03-28T10:13:34.270Z"
   },
   {
    "duration": 244,
    "start_time": "2022-03-28T10:13:35.559Z"
   },
   {
    "duration": 150,
    "start_time": "2022-03-28T10:13:36.000Z"
   },
   {
    "duration": 135,
    "start_time": "2022-03-28T10:13:36.426Z"
   },
   {
    "duration": 63,
    "start_time": "2022-03-28T10:13:36.646Z"
   },
   {
    "duration": 41,
    "start_time": "2022-03-28T10:13:37.070Z"
   },
   {
    "duration": 5,
    "start_time": "2022-03-28T10:13:37.318Z"
   },
   {
    "duration": 35,
    "start_time": "2022-03-28T10:13:37.518Z"
   },
   {
    "duration": 62,
    "start_time": "2022-03-28T10:13:37.742Z"
   },
   {
    "duration": 21,
    "start_time": "2022-03-28T10:13:37.966Z"
   },
   {
    "duration": 13,
    "start_time": "2022-03-28T10:13:38.190Z"
   },
   {
    "duration": 24,
    "start_time": "2022-03-28T10:13:38.630Z"
   },
   {
    "duration": 58,
    "start_time": "2022-03-28T10:13:39.104Z"
   },
   {
    "duration": 6,
    "start_time": "2022-03-28T10:13:39.575Z"
   },
   {
    "duration": 170,
    "start_time": "2022-03-28T10:13:39.806Z"
   },
   {
    "duration": 40,
    "start_time": "2022-03-28T10:13:40.046Z"
   },
   {
    "duration": 12,
    "start_time": "2022-03-28T10:13:41.513Z"
   },
   {
    "duration": 14,
    "start_time": "2022-03-28T10:14:00.992Z"
   },
   {
    "duration": 173,
    "start_time": "2022-03-28T10:14:35.558Z"
   },
   {
    "duration": 108,
    "start_time": "2022-03-28T10:14:50.271Z"
   },
   {
    "duration": 2479,
    "start_time": "2022-03-28T10:15:11.507Z"
   },
   {
    "duration": 47,
    "start_time": "2022-03-28T10:16:23.853Z"
   },
   {
    "duration": 45,
    "start_time": "2022-03-28T10:16:42.501Z"
   },
   {
    "duration": 2139,
    "start_time": "2022-03-28T10:18:01.668Z"
   },
   {
    "duration": 5,
    "start_time": "2022-03-28T10:20:53.801Z"
   },
   {
    "duration": 4,
    "start_time": "2022-03-28T10:21:39.027Z"
   },
   {
    "duration": 10,
    "start_time": "2022-03-28T10:24:19.546Z"
   },
   {
    "duration": 16,
    "start_time": "2022-03-28T10:29:14.919Z"
   },
   {
    "duration": 169,
    "start_time": "2022-03-28T10:29:28.326Z"
   },
   {
    "duration": 37,
    "start_time": "2022-03-28T10:29:29.273Z"
   },
   {
    "duration": 16,
    "start_time": "2022-03-28T10:29:32.049Z"
   },
   {
    "duration": 7,
    "start_time": "2022-03-28T10:30:11.881Z"
   },
   {
    "duration": 111,
    "start_time": "2022-03-28T10:32:30.524Z"
   },
   {
    "duration": 42,
    "start_time": "2022-03-28T10:32:40.607Z"
   },
   {
    "duration": 189,
    "start_time": "2022-03-28T10:35:43.387Z"
   },
   {
    "duration": 17,
    "start_time": "2022-03-28T10:35:54.875Z"
   },
   {
    "duration": 16,
    "start_time": "2022-03-28T10:36:25.236Z"
   },
   {
    "duration": 51,
    "start_time": "2022-03-28T10:36:46.725Z"
   },
   {
    "duration": 20,
    "start_time": "2022-03-28T10:37:21.963Z"
   },
   {
    "duration": 18,
    "start_time": "2022-03-28T10:37:30.233Z"
   },
   {
    "duration": 26,
    "start_time": "2022-03-28T10:38:06.983Z"
   },
   {
    "duration": 26,
    "start_time": "2022-03-28T10:40:22.048Z"
   },
   {
    "duration": 26,
    "start_time": "2022-03-28T10:40:38.032Z"
   },
   {
    "duration": 25,
    "start_time": "2022-03-28T10:45:34.862Z"
   },
   {
    "duration": 254,
    "start_time": "2022-03-28T10:47:20.355Z"
   },
   {
    "duration": 40,
    "start_time": "2022-03-28T10:47:35.395Z"
   },
   {
    "duration": 13,
    "start_time": "2022-03-28T10:48:09.314Z"
   },
   {
    "duration": 164,
    "start_time": "2022-03-28T10:48:38.924Z"
   },
   {
    "duration": 97,
    "start_time": "2022-03-28T10:50:09.202Z"
   },
   {
    "duration": 68,
    "start_time": "2022-03-28T10:50:16.570Z"
   },
   {
    "duration": 155,
    "start_time": "2022-03-28T10:51:32.090Z"
   },
   {
    "duration": 68,
    "start_time": "2022-03-28T10:51:56.844Z"
   },
   {
    "duration": 67,
    "start_time": "2022-03-28T10:52:39.142Z"
   },
   {
    "duration": 52,
    "start_time": "2022-03-28T10:52:53.519Z"
   },
   {
    "duration": 28,
    "start_time": "2022-03-28T10:53:09.932Z"
   },
   {
    "duration": 37,
    "start_time": "2022-03-28T10:53:11.456Z"
   },
   {
    "duration": 37,
    "start_time": "2022-03-28T10:53:18.036Z"
   },
   {
    "duration": 11,
    "start_time": "2022-03-28T10:53:18.756Z"
   },
   {
    "duration": 17,
    "start_time": "2022-03-28T10:53:19.365Z"
   },
   {
    "duration": 59,
    "start_time": "2022-03-28T10:53:20.435Z"
   },
   {
    "duration": 20,
    "start_time": "2022-03-28T10:53:21.604Z"
   },
   {
    "duration": 11,
    "start_time": "2022-03-28T10:53:22.241Z"
   },
   {
    "duration": 20,
    "start_time": "2022-03-28T10:53:23.444Z"
   },
   {
    "duration": 59,
    "start_time": "2022-03-28T10:53:24.588Z"
   },
   {
    "duration": 8,
    "start_time": "2022-03-28T10:53:26.268Z"
   },
   {
    "duration": 166,
    "start_time": "2022-03-28T10:53:26.789Z"
   },
   {
    "duration": 38,
    "start_time": "2022-03-28T10:53:28.411Z"
   },
   {
    "duration": 11,
    "start_time": "2022-03-28T10:54:04.453Z"
   },
   {
    "duration": 38,
    "start_time": "2022-03-28T10:54:16.916Z"
   },
   {
    "duration": 11,
    "start_time": "2022-03-28T10:54:17.677Z"
   },
   {
    "duration": 18,
    "start_time": "2022-03-28T10:54:21.024Z"
   },
   {
    "duration": 58,
    "start_time": "2022-03-28T10:54:22.569Z"
   },
   {
    "duration": 20,
    "start_time": "2022-03-28T10:54:23.696Z"
   },
   {
    "duration": 12,
    "start_time": "2022-03-28T10:54:24.300Z"
   },
   {
    "duration": 20,
    "start_time": "2022-03-28T10:54:25.445Z"
   },
   {
    "duration": 57,
    "start_time": "2022-03-28T10:54:26.693Z"
   },
   {
    "duration": 2018,
    "start_time": "2022-03-28T10:54:47.780Z"
   },
   {
    "duration": 25,
    "start_time": "2022-03-28T10:54:49.801Z"
   },
   {
    "duration": 16,
    "start_time": "2022-03-28T10:54:49.828Z"
   },
   {
    "duration": 13,
    "start_time": "2022-03-28T10:54:49.847Z"
   },
   {
    "duration": 32,
    "start_time": "2022-03-28T10:54:49.864Z"
   },
   {
    "duration": 35,
    "start_time": "2022-03-28T10:54:49.898Z"
   },
   {
    "duration": 101,
    "start_time": "2022-03-28T10:54:49.935Z"
   },
   {
    "duration": 6,
    "start_time": "2022-03-28T10:54:50.038Z"
   },
   {
    "duration": 19,
    "start_time": "2022-03-28T10:54:50.046Z"
   },
   {
    "duration": 28,
    "start_time": "2022-03-28T10:54:50.085Z"
   },
   {
    "duration": 32,
    "start_time": "2022-03-28T10:54:50.116Z"
   },
   {
    "duration": 46,
    "start_time": "2022-03-28T10:54:50.151Z"
   },
   {
    "duration": 61,
    "start_time": "2022-03-28T10:54:50.200Z"
   },
   {
    "duration": 28,
    "start_time": "2022-03-28T10:54:50.265Z"
   },
   {
    "duration": 88,
    "start_time": "2022-03-28T10:54:50.296Z"
   },
   {
    "duration": 50,
    "start_time": "2022-03-28T10:54:50.386Z"
   },
   {
    "duration": 23,
    "start_time": "2022-03-28T10:54:50.438Z"
   },
   {
    "duration": 41,
    "start_time": "2022-03-28T10:54:50.485Z"
   },
   {
    "duration": 37,
    "start_time": "2022-03-28T10:54:50.528Z"
   },
   {
    "duration": 18,
    "start_time": "2022-03-28T10:54:50.567Z"
   },
   {
    "duration": 48,
    "start_time": "2022-03-28T10:54:50.587Z"
   },
   {
    "duration": 80,
    "start_time": "2022-03-28T10:54:50.637Z"
   },
   {
    "duration": 21,
    "start_time": "2022-03-28T10:54:50.719Z"
   },
   {
    "duration": 19,
    "start_time": "2022-03-28T10:54:50.742Z"
   },
   {
    "duration": 22,
    "start_time": "2022-03-28T10:54:50.783Z"
   },
   {
    "duration": 81,
    "start_time": "2022-03-28T10:54:50.807Z"
   },
   {
    "duration": 6,
    "start_time": "2022-03-28T10:54:50.890Z"
   },
   {
    "duration": 192,
    "start_time": "2022-03-28T10:54:50.899Z"
   },
   {
    "duration": 42,
    "start_time": "2022-03-28T10:54:51.093Z"
   },
   {
    "duration": 52,
    "start_time": "2022-03-28T10:54:51.138Z"
   },
   {
    "duration": 12,
    "start_time": "2022-03-28T10:55:27.014Z"
   },
   {
    "duration": 48,
    "start_time": "2022-03-28T10:55:29.089Z"
   },
   {
    "duration": 6,
    "start_time": "2022-03-28T10:55:30.761Z"
   },
   {
    "duration": 173,
    "start_time": "2022-03-28T10:55:31.245Z"
   },
   {
    "duration": 33,
    "start_time": "2022-03-28T10:55:31.721Z"
   },
   {
    "duration": 23,
    "start_time": "2022-03-28T10:55:33.879Z"
   },
   {
    "duration": 16,
    "start_time": "2022-03-28T10:58:57.636Z"
   },
   {
    "duration": 145,
    "start_time": "2022-03-28T11:17:18.127Z"
   },
   {
    "duration": 18,
    "start_time": "2022-03-28T11:17:29.495Z"
   },
   {
    "duration": 42,
    "start_time": "2022-03-28T11:19:27.267Z"
   },
   {
    "duration": 42,
    "start_time": "2022-03-28T11:19:45.600Z"
   },
   {
    "duration": 41,
    "start_time": "2022-03-28T11:20:32.622Z"
   },
   {
    "duration": 38,
    "start_time": "2022-03-28T11:20:53.833Z"
   },
   {
    "duration": 11,
    "start_time": "2022-03-28T11:20:55.561Z"
   },
   {
    "duration": 20,
    "start_time": "2022-03-28T11:20:56.371Z"
   },
   {
    "duration": 59,
    "start_time": "2022-03-28T11:20:57.459Z"
   },
   {
    "duration": 22,
    "start_time": "2022-03-28T11:20:59.264Z"
   },
   {
    "duration": 14,
    "start_time": "2022-03-28T11:20:59.891Z"
   },
   {
    "duration": 23,
    "start_time": "2022-03-28T11:21:01.191Z"
   },
   {
    "duration": 53,
    "start_time": "2022-03-28T11:21:02.722Z"
   },
   {
    "duration": 6,
    "start_time": "2022-03-28T11:21:04.317Z"
   },
   {
    "duration": 172,
    "start_time": "2022-03-28T11:21:06.159Z"
   },
   {
    "duration": 36,
    "start_time": "2022-03-28T11:21:07.243Z"
   },
   {
    "duration": 25,
    "start_time": "2022-03-28T11:21:10.761Z"
   },
   {
    "duration": 16,
    "start_time": "2022-03-28T11:21:14.207Z"
   },
   {
    "duration": 6,
    "start_time": "2022-03-28T11:23:57.173Z"
   },
   {
    "duration": 11,
    "start_time": "2022-03-28T11:24:27.685Z"
   },
   {
    "duration": 47,
    "start_time": "2022-03-28T11:24:29.621Z"
   },
   {
    "duration": 6,
    "start_time": "2022-03-28T11:24:30.381Z"
   },
   {
    "duration": 47,
    "start_time": "2022-03-28T11:25:45.522Z"
   },
   {
    "duration": 5,
    "start_time": "2022-03-28T11:25:47.125Z"
   },
   {
    "duration": 6,
    "start_time": "2022-03-28T11:25:48.860Z"
   },
   {
    "duration": 171,
    "start_time": "2022-03-28T11:25:49.892Z"
   },
   {
    "duration": 35,
    "start_time": "2022-03-28T11:25:52.074Z"
   },
   {
    "duration": 25,
    "start_time": "2022-03-28T11:25:54.980Z"
   },
   {
    "duration": 2176,
    "start_time": "2022-03-28T11:26:14.250Z"
   },
   {
    "duration": 26,
    "start_time": "2022-03-28T11:26:16.428Z"
   },
   {
    "duration": 16,
    "start_time": "2022-03-28T11:26:16.456Z"
   },
   {
    "duration": 9,
    "start_time": "2022-03-28T11:26:16.484Z"
   },
   {
    "duration": 20,
    "start_time": "2022-03-28T11:26:16.495Z"
   },
   {
    "duration": 34,
    "start_time": "2022-03-28T11:26:16.517Z"
   },
   {
    "duration": 105,
    "start_time": "2022-03-28T11:26:16.553Z"
   },
   {
    "duration": 5,
    "start_time": "2022-03-28T11:26:16.661Z"
   },
   {
    "duration": 15,
    "start_time": "2022-03-28T11:26:16.684Z"
   },
   {
    "duration": 26,
    "start_time": "2022-03-28T11:26:16.704Z"
   },
   {
    "duration": 60,
    "start_time": "2022-03-28T11:26:16.733Z"
   },
   {
    "duration": 20,
    "start_time": "2022-03-28T11:26:16.795Z"
   },
   {
    "duration": 81,
    "start_time": "2022-03-28T11:26:16.817Z"
   },
   {
    "duration": 12,
    "start_time": "2022-03-28T11:26:16.900Z"
   },
   {
    "duration": 86,
    "start_time": "2022-03-28T11:26:16.914Z"
   },
   {
    "duration": 51,
    "start_time": "2022-03-28T11:26:17.002Z"
   },
   {
    "duration": 48,
    "start_time": "2022-03-28T11:26:17.056Z"
   },
   {
    "duration": 42,
    "start_time": "2022-03-28T11:26:17.106Z"
   },
   {
    "duration": 58,
    "start_time": "2022-03-28T11:26:17.151Z"
   },
   {
    "duration": 6,
    "start_time": "2022-03-28T11:26:17.211Z"
   },
   {
    "duration": 37,
    "start_time": "2022-03-28T11:26:17.219Z"
   },
   {
    "duration": 56,
    "start_time": "2022-03-28T11:26:17.283Z"
   },
   {
    "duration": 43,
    "start_time": "2022-03-28T11:26:17.341Z"
   },
   {
    "duration": 15,
    "start_time": "2022-03-28T11:26:17.387Z"
   },
   {
    "duration": 82,
    "start_time": "2022-03-28T11:26:17.405Z"
   },
   {
    "duration": 8,
    "start_time": "2022-03-28T11:26:17.489Z"
   },
   {
    "duration": 21,
    "start_time": "2022-03-28T11:26:17.500Z"
   },
   {
    "duration": 196,
    "start_time": "2022-03-28T11:26:17.527Z"
   },
   {
    "duration": 62,
    "start_time": "2022-03-28T11:26:17.725Z"
   },
   {
    "duration": 24,
    "start_time": "2022-03-28T11:26:17.789Z"
   },
   {
    "duration": 15,
    "start_time": "2022-03-28T11:26:17.815Z"
   },
   {
    "duration": 24,
    "start_time": "2022-03-28T11:27:11.439Z"
   },
   {
    "duration": 16,
    "start_time": "2022-03-28T11:27:12.449Z"
   },
   {
    "duration": 21,
    "start_time": "2022-03-28T11:27:48.925Z"
   },
   {
    "duration": 51,
    "start_time": "2022-03-28T11:27:51.303Z"
   },
   {
    "duration": 7,
    "start_time": "2022-03-28T11:27:52.455Z"
   },
   {
    "duration": 6,
    "start_time": "2022-03-28T11:28:02.361Z"
   },
   {
    "duration": 167,
    "start_time": "2022-03-28T11:28:03.275Z"
   },
   {
    "duration": 33,
    "start_time": "2022-03-28T11:28:04.582Z"
   },
   {
    "duration": 24,
    "start_time": "2022-03-28T11:28:08.879Z"
   },
   {
    "duration": 14,
    "start_time": "2022-03-28T11:28:09.951Z"
   },
   {
    "duration": 11,
    "start_time": "2022-03-28T11:28:59.073Z"
   },
   {
    "duration": 47,
    "start_time": "2022-03-28T11:29:00.001Z"
   },
   {
    "duration": 7,
    "start_time": "2022-03-28T11:29:00.760Z"
   },
   {
    "duration": 5,
    "start_time": "2022-03-28T11:29:01.993Z"
   },
   {
    "duration": 168,
    "start_time": "2022-03-28T11:29:02.894Z"
   },
   {
    "duration": 6,
    "start_time": "2022-03-28T11:29:15.123Z"
   },
   {
    "duration": 163,
    "start_time": "2022-03-28T11:29:15.539Z"
   },
   {
    "duration": 33,
    "start_time": "2022-03-28T11:29:15.943Z"
   },
   {
    "duration": 24,
    "start_time": "2022-03-28T11:29:18.914Z"
   },
   {
    "duration": 168,
    "start_time": "2022-03-28T11:32:34.862Z"
   },
   {
    "duration": 30,
    "start_time": "2022-03-28T11:32:36.724Z"
   },
   {
    "duration": 172,
    "start_time": "2022-03-28T11:33:29.794Z"
   },
   {
    "duration": 32,
    "start_time": "2022-03-28T11:33:32.251Z"
   },
   {
    "duration": 172,
    "start_time": "2022-03-28T11:33:43.062Z"
   },
   {
    "duration": 32,
    "start_time": "2022-03-28T11:33:43.646Z"
   },
   {
    "duration": 2500,
    "start_time": "2022-03-28T11:37:48.621Z"
   },
   {
    "duration": 41,
    "start_time": "2022-03-28T11:37:51.125Z"
   },
   {
    "duration": 27,
    "start_time": "2022-03-28T11:37:51.169Z"
   },
   {
    "duration": 37,
    "start_time": "2022-03-28T11:37:51.198Z"
   },
   {
    "duration": 50,
    "start_time": "2022-03-28T11:37:51.238Z"
   },
   {
    "duration": 36,
    "start_time": "2022-03-28T11:37:51.290Z"
   },
   {
    "duration": 88,
    "start_time": "2022-03-28T11:37:51.329Z"
   },
   {
    "duration": 7,
    "start_time": "2022-03-28T11:37:51.420Z"
   },
   {
    "duration": 21,
    "start_time": "2022-03-28T11:37:51.429Z"
   },
   {
    "duration": 70,
    "start_time": "2022-03-28T11:37:51.452Z"
   },
   {
    "duration": 29,
    "start_time": "2022-03-28T11:37:51.524Z"
   },
   {
    "duration": 36,
    "start_time": "2022-03-28T11:37:51.555Z"
   },
   {
    "duration": 61,
    "start_time": "2022-03-28T11:37:51.594Z"
   },
   {
    "duration": 29,
    "start_time": "2022-03-28T11:37:51.659Z"
   },
   {
    "duration": 82,
    "start_time": "2022-03-28T11:37:51.690Z"
   },
   {
    "duration": 51,
    "start_time": "2022-03-28T11:37:51.785Z"
   },
   {
    "duration": 48,
    "start_time": "2022-03-28T11:37:51.839Z"
   },
   {
    "duration": 43,
    "start_time": "2022-03-28T11:37:51.889Z"
   },
   {
    "duration": 61,
    "start_time": "2022-03-28T11:37:51.934Z"
   },
   {
    "duration": 5,
    "start_time": "2022-03-28T11:37:51.997Z"
   },
   {
    "duration": 38,
    "start_time": "2022-03-28T11:37:52.004Z"
   },
   {
    "duration": 85,
    "start_time": "2022-03-28T11:37:52.044Z"
   },
   {
    "duration": 21,
    "start_time": "2022-03-28T11:37:52.131Z"
   },
   {
    "duration": 39,
    "start_time": "2022-03-28T11:37:52.154Z"
   },
   {
    "duration": 22,
    "start_time": "2022-03-28T11:37:52.195Z"
   },
   {
    "duration": 121,
    "start_time": "2022-03-28T11:37:52.219Z"
   },
   {
    "duration": 8,
    "start_time": "2022-03-28T11:37:52.343Z"
   },
   {
    "duration": 316,
    "start_time": "2022-03-28T11:37:52.354Z"
   },
   {
    "duration": 41,
    "start_time": "2022-03-28T11:37:52.673Z"
   },
   {
    "duration": 26,
    "start_time": "2022-03-28T11:37:52.716Z"
   },
   {
    "duration": 46,
    "start_time": "2022-03-28T11:37:52.744Z"
   },
   {
    "duration": 28,
    "start_time": "2022-03-28T11:55:22.488Z"
   },
   {
    "duration": 24,
    "start_time": "2022-03-28T11:55:29.906Z"
   },
   {
    "duration": 6,
    "start_time": "2022-03-28T11:55:35.224Z"
   },
   {
    "duration": 174,
    "start_time": "2022-03-28T11:55:35.791Z"
   },
   {
    "duration": 35,
    "start_time": "2022-03-28T11:55:36.501Z"
   },
   {
    "duration": 25,
    "start_time": "2022-03-28T11:55:39.330Z"
   },
   {
    "duration": 2125,
    "start_time": "2022-03-28T11:56:08.149Z"
   },
   {
    "duration": 29,
    "start_time": "2022-03-28T11:56:10.278Z"
   },
   {
    "duration": 396,
    "start_time": "2022-03-28T11:56:10.309Z"
   },
   {
    "duration": 13,
    "start_time": "2022-03-28T11:56:10.709Z"
   },
   {
    "duration": 21,
    "start_time": "2022-03-28T11:56:10.724Z"
   },
   {
    "duration": 50,
    "start_time": "2022-03-28T11:56:10.748Z"
   },
   {
    "duration": 88,
    "start_time": "2022-03-28T11:56:10.800Z"
   },
   {
    "duration": 6,
    "start_time": "2022-03-28T11:56:10.890Z"
   },
   {
    "duration": 18,
    "start_time": "2022-03-28T11:56:10.899Z"
   },
   {
    "duration": 36,
    "start_time": "2022-03-28T11:56:10.921Z"
   },
   {
    "duration": 52,
    "start_time": "2022-03-28T11:56:10.959Z"
   },
   {
    "duration": 22,
    "start_time": "2022-03-28T11:56:11.014Z"
   },
   {
    "duration": 90,
    "start_time": "2022-03-28T11:56:11.038Z"
   },
   {
    "duration": 12,
    "start_time": "2022-03-28T11:56:11.130Z"
   },
   {
    "duration": 91,
    "start_time": "2022-03-28T11:56:11.144Z"
   },
   {
    "duration": 61,
    "start_time": "2022-03-28T11:56:11.237Z"
   },
   {
    "duration": 25,
    "start_time": "2022-03-28T11:56:11.300Z"
   },
   {
    "duration": 65,
    "start_time": "2022-03-28T11:56:11.328Z"
   },
   {
    "duration": 38,
    "start_time": "2022-03-28T11:56:11.396Z"
   },
   {
    "duration": 6,
    "start_time": "2022-03-28T11:56:11.437Z"
   },
   {
    "duration": 71,
    "start_time": "2022-03-28T11:56:11.445Z"
   },
   {
    "duration": 73,
    "start_time": "2022-03-28T11:56:11.518Z"
   },
   {
    "duration": 22,
    "start_time": "2022-03-28T11:56:11.594Z"
   },
   {
    "duration": 15,
    "start_time": "2022-03-28T11:56:11.618Z"
   },
   {
    "duration": 52,
    "start_time": "2022-03-28T11:56:11.635Z"
   },
   {
    "duration": 64,
    "start_time": "2022-03-28T11:56:11.689Z"
   },
   {
    "duration": 6,
    "start_time": "2022-03-28T11:56:11.755Z"
   },
   {
    "duration": 184,
    "start_time": "2022-03-28T11:56:11.783Z"
   },
   {
    "duration": 38,
    "start_time": "2022-03-28T11:56:11.969Z"
   },
   {
    "duration": 25,
    "start_time": "2022-03-28T11:56:12.010Z"
   },
   {
    "duration": 17,
    "start_time": "2022-03-28T11:56:12.037Z"
   },
   {
    "duration": 23,
    "start_time": "2022-03-28T11:56:57.227Z"
   },
   {
    "duration": 11,
    "start_time": "2022-03-28T11:57:05.294Z"
   },
   {
    "duration": 40,
    "start_time": "2022-03-28T11:58:25.383Z"
   },
   {
    "duration": 79,
    "start_time": "2022-03-28T11:58:29.349Z"
   },
   {
    "duration": 14,
    "start_time": "2022-03-28T12:04:01.463Z"
   },
   {
    "duration": 19,
    "start_time": "2022-03-28T12:04:12.461Z"
   },
   {
    "duration": 1726,
    "start_time": "2022-03-28T12:15:22.580Z"
   },
   {
    "duration": 17,
    "start_time": "2022-03-28T12:15:24.308Z"
   },
   {
    "duration": 15,
    "start_time": "2022-03-28T12:15:24.326Z"
   },
   {
    "duration": 6,
    "start_time": "2022-03-28T12:15:24.343Z"
   },
   {
    "duration": 13,
    "start_time": "2022-03-28T12:15:24.351Z"
   },
   {
    "duration": 25,
    "start_time": "2022-03-28T12:15:24.366Z"
   },
   {
    "duration": 78,
    "start_time": "2022-03-28T12:15:24.393Z"
   },
   {
    "duration": 4,
    "start_time": "2022-03-28T12:15:24.473Z"
   },
   {
    "duration": 11,
    "start_time": "2022-03-28T12:15:24.479Z"
   },
   {
    "duration": 18,
    "start_time": "2022-03-28T12:15:24.493Z"
   },
   {
    "duration": 20,
    "start_time": "2022-03-28T12:15:24.533Z"
   },
   {
    "duration": 13,
    "start_time": "2022-03-28T12:15:24.554Z"
   },
   {
    "duration": 39,
    "start_time": "2022-03-28T12:15:24.568Z"
   },
   {
    "duration": 29,
    "start_time": "2022-03-28T12:15:24.609Z"
   },
   {
    "duration": 55,
    "start_time": "2022-03-28T12:15:24.640Z"
   },
   {
    "duration": 48,
    "start_time": "2022-03-28T12:15:24.697Z"
   },
   {
    "duration": 18,
    "start_time": "2022-03-28T12:15:24.747Z"
   },
   {
    "duration": 29,
    "start_time": "2022-03-28T12:15:24.766Z"
   },
   {
    "duration": 43,
    "start_time": "2022-03-28T12:15:24.796Z"
   },
   {
    "duration": 3,
    "start_time": "2022-03-28T12:15:24.841Z"
   },
   {
    "duration": 26,
    "start_time": "2022-03-28T12:15:24.846Z"
   },
   {
    "duration": 34,
    "start_time": "2022-03-28T12:15:24.874Z"
   },
   {
    "duration": 35,
    "start_time": "2022-03-28T12:15:24.910Z"
   },
   {
    "duration": 9,
    "start_time": "2022-03-28T12:15:24.947Z"
   },
   {
    "duration": 16,
    "start_time": "2022-03-28T12:15:24.957Z"
   },
   {
    "duration": 64,
    "start_time": "2022-03-28T12:15:24.975Z"
   },
   {
    "duration": 4,
    "start_time": "2022-03-28T12:15:25.041Z"
   },
   {
    "duration": 110,
    "start_time": "2022-03-28T12:15:25.049Z"
   },
   {
    "duration": 21,
    "start_time": "2022-03-28T12:15:25.161Z"
   },
   {
    "duration": 24,
    "start_time": "2022-03-28T12:15:25.184Z"
   },
   {
    "duration": 14,
    "start_time": "2022-03-28T12:15:25.232Z"
   },
   {
    "duration": 90,
    "start_time": "2022-03-28T12:25:27.906Z"
   },
   {
    "duration": 5,
    "start_time": "2022-03-28T12:26:35.676Z"
   },
   {
    "duration": 7,
    "start_time": "2022-03-28T12:26:44.844Z"
   },
   {
    "duration": 12,
    "start_time": "2022-03-28T12:44:00.349Z"
   },
   {
    "duration": 18,
    "start_time": "2022-03-28T12:44:11.749Z"
   },
   {
    "duration": 10,
    "start_time": "2022-03-28T12:44:12.285Z"
   },
   {
    "duration": 6,
    "start_time": "2022-03-28T12:44:13.630Z"
   },
   {
    "duration": 14,
    "start_time": "2022-03-28T12:44:14.861Z"
   },
   {
    "duration": 11,
    "start_time": "2022-03-28T12:44:15.486Z"
   },
   {
    "duration": 16,
    "start_time": "2022-03-28T12:44:16.754Z"
   },
   {
    "duration": 4,
    "start_time": "2022-03-28T12:44:17.866Z"
   },
   {
    "duration": 13,
    "start_time": "2022-03-28T12:44:19.117Z"
   },
   {
    "duration": 16,
    "start_time": "2022-03-28T12:44:20.048Z"
   },
   {
    "duration": 15,
    "start_time": "2022-03-28T12:44:21.745Z"
   },
   {
    "duration": 14,
    "start_time": "2022-03-28T12:44:23.261Z"
   },
   {
    "duration": 15,
    "start_time": "2022-03-28T12:44:24.256Z"
   },
   {
    "duration": 4,
    "start_time": "2022-03-28T12:44:32.117Z"
   },
   {
    "duration": 46,
    "start_time": "2022-03-28T12:44:36.365Z"
   },
   {
    "duration": 36,
    "start_time": "2022-03-28T12:44:39.773Z"
   },
   {
    "duration": 16,
    "start_time": "2022-03-28T12:44:41.886Z"
   },
   {
    "duration": 25,
    "start_time": "2022-03-28T12:44:42.438Z"
   },
   {
    "duration": 24,
    "start_time": "2022-03-28T12:44:48.078Z"
   },
   {
    "duration": 8,
    "start_time": "2022-03-28T12:44:49.149Z"
   },
   {
    "duration": 14,
    "start_time": "2022-03-28T12:44:49.671Z"
   },
   {
    "duration": 34,
    "start_time": "2022-03-28T12:44:50.641Z"
   },
   {
    "duration": 14,
    "start_time": "2022-03-28T12:45:18.093Z"
   },
   {
    "duration": 15,
    "start_time": "2022-03-28T12:45:18.459Z"
   },
   {
    "duration": 4,
    "start_time": "2022-03-28T12:45:21.777Z"
   },
   {
    "duration": 4,
    "start_time": "2022-03-28T12:45:39.489Z"
   },
   {
    "duration": 48,
    "start_time": "2022-03-28T12:45:43.493Z"
   },
   {
    "duration": 37,
    "start_time": "2022-03-28T12:45:48.872Z"
   },
   {
    "duration": 18,
    "start_time": "2022-03-28T12:45:50.034Z"
   },
   {
    "duration": 25,
    "start_time": "2022-03-28T12:45:50.601Z"
   },
   {
    "duration": 22,
    "start_time": "2022-03-28T12:45:51.532Z"
   },
   {
    "duration": 9,
    "start_time": "2022-03-28T12:45:52.237Z"
   },
   {
    "duration": 12,
    "start_time": "2022-03-28T12:45:53.093Z"
   },
   {
    "duration": 34,
    "start_time": "2022-03-28T12:45:53.792Z"
   },
   {
    "duration": 13,
    "start_time": "2022-03-28T12:45:56.597Z"
   },
   {
    "duration": 8,
    "start_time": "2022-03-28T12:45:57.019Z"
   },
   {
    "duration": 13,
    "start_time": "2022-03-28T12:45:58.713Z"
   },
   {
    "duration": 36,
    "start_time": "2022-03-28T12:46:01.529Z"
   },
   {
    "duration": 157,
    "start_time": "2022-03-28T12:46:42.969Z"
   },
   {
    "duration": 4,
    "start_time": "2022-03-28T12:46:49.805Z"
   },
   {
    "duration": 105,
    "start_time": "2022-03-28T12:46:51.473Z"
   },
   {
    "duration": 23,
    "start_time": "2022-03-28T12:47:02.250Z"
   },
   {
    "duration": 26,
    "start_time": "2022-03-28T12:47:12.777Z"
   },
   {
    "duration": 13,
    "start_time": "2022-03-28T12:47:15.078Z"
   },
   {
    "duration": 4,
    "start_time": "2022-03-28T12:47:30.478Z"
   },
   {
    "duration": 99,
    "start_time": "2022-03-28T12:47:31.383Z"
   },
   {
    "duration": 23,
    "start_time": "2022-03-28T12:47:31.963Z"
   },
   {
    "duration": 1667,
    "start_time": "2022-03-28T12:48:26.740Z"
   },
   {
    "duration": 17,
    "start_time": "2022-03-28T12:48:28.409Z"
   },
   {
    "duration": 12,
    "start_time": "2022-03-28T12:48:28.427Z"
   },
   {
    "duration": 6,
    "start_time": "2022-03-28T12:48:28.441Z"
   },
   {
    "duration": 19,
    "start_time": "2022-03-28T12:48:28.448Z"
   },
   {
    "duration": 27,
    "start_time": "2022-03-28T12:48:28.469Z"
   },
   {
    "duration": 67,
    "start_time": "2022-03-28T12:48:28.498Z"
   },
   {
    "duration": 5,
    "start_time": "2022-03-28T12:48:28.567Z"
   },
   {
    "duration": 13,
    "start_time": "2022-03-28T12:48:28.574Z"
   },
   {
    "duration": 21,
    "start_time": "2022-03-28T12:48:28.589Z"
   },
   {
    "duration": 37,
    "start_time": "2022-03-28T12:48:28.612Z"
   },
   {
    "duration": 15,
    "start_time": "2022-03-28T12:48:28.650Z"
   },
   {
    "duration": 42,
    "start_time": "2022-03-28T12:48:28.666Z"
   },
   {
    "duration": 24,
    "start_time": "2022-03-28T12:48:28.710Z"
   },
   {
    "duration": 54,
    "start_time": "2022-03-28T12:48:28.736Z"
   },
   {
    "duration": 55,
    "start_time": "2022-03-28T12:48:28.792Z"
   },
   {
    "duration": 17,
    "start_time": "2022-03-28T12:48:28.849Z"
   },
   {
    "duration": 27,
    "start_time": "2022-03-28T12:48:28.867Z"
   },
   {
    "duration": 44,
    "start_time": "2022-03-28T12:48:28.895Z"
   },
   {
    "duration": 3,
    "start_time": "2022-03-28T12:48:28.941Z"
   },
   {
    "duration": 24,
    "start_time": "2022-03-28T12:48:28.945Z"
   },
   {
    "duration": 33,
    "start_time": "2022-03-28T12:48:28.971Z"
   },
   {
    "duration": 37,
    "start_time": "2022-03-28T12:48:29.006Z"
   },
   {
    "duration": 7,
    "start_time": "2022-03-28T12:48:29.045Z"
   },
   {
    "duration": 12,
    "start_time": "2022-03-28T12:48:29.054Z"
   },
   {
    "duration": 32,
    "start_time": "2022-03-28T12:48:29.068Z"
   },
   {
    "duration": 32,
    "start_time": "2022-03-28T12:48:29.102Z"
   },
   {
    "duration": 103,
    "start_time": "2022-03-28T12:48:29.137Z"
   },
   {
    "duration": 26,
    "start_time": "2022-03-28T12:48:29.242Z"
   },
   {
    "duration": 26,
    "start_time": "2022-03-28T12:48:29.270Z"
   },
   {
    "duration": 38,
    "start_time": "2022-03-28T12:48:29.298Z"
   },
   {
    "duration": 4,
    "start_time": "2022-03-28T13:05:00.216Z"
   },
   {
    "duration": 97,
    "start_time": "2022-03-28T13:05:26.446Z"
   },
   {
    "duration": 6,
    "start_time": "2022-03-28T13:12:27.942Z"
   },
   {
    "duration": 6,
    "start_time": "2022-03-28T13:13:58.115Z"
   },
   {
    "duration": 81,
    "start_time": "2022-03-28T13:13:59.216Z"
   },
   {
    "duration": 25,
    "start_time": "2022-03-28T13:14:03.734Z"
   },
   {
    "duration": 27,
    "start_time": "2022-03-28T13:14:17.279Z"
   },
   {
    "duration": 13,
    "start_time": "2022-03-28T13:14:18.083Z"
   },
   {
    "duration": 9,
    "start_time": "2022-03-28T13:16:42.883Z"
   },
   {
    "duration": 37,
    "start_time": "2022-03-28T13:16:47.010Z"
   },
   {
    "duration": 6,
    "start_time": "2022-03-28T13:16:54.150Z"
   },
   {
    "duration": 76,
    "start_time": "2022-03-28T13:16:54.958Z"
   },
   {
    "duration": 23,
    "start_time": "2022-03-28T13:16:55.769Z"
   },
   {
    "duration": 29,
    "start_time": "2022-03-28T13:16:59.142Z"
   },
   {
    "duration": 14,
    "start_time": "2022-03-28T13:17:01.268Z"
   },
   {
    "duration": 8,
    "start_time": "2022-03-28T13:19:34.756Z"
   },
   {
    "duration": 122,
    "start_time": "2022-03-28T13:22:42.265Z"
   },
   {
    "duration": 14,
    "start_time": "2022-03-28T13:23:18.983Z"
   },
   {
    "duration": 10,
    "start_time": "2022-03-28T13:24:36.279Z"
   },
   {
    "duration": 28,
    "start_time": "2022-03-28T13:24:38.605Z"
   },
   {
    "duration": 5,
    "start_time": "2022-03-28T13:24:47.877Z"
   },
   {
    "duration": 77,
    "start_time": "2022-03-28T13:24:50.420Z"
   },
   {
    "duration": 24,
    "start_time": "2022-03-28T13:24:51.106Z"
   },
   {
    "duration": 24,
    "start_time": "2022-03-28T13:24:55.203Z"
   },
   {
    "duration": 15,
    "start_time": "2022-03-28T13:24:58.463Z"
   },
   {
    "duration": 7,
    "start_time": "2022-03-28T13:24:59.187Z"
   },
   {
    "duration": 6,
    "start_time": "2022-03-28T13:27:29.744Z"
   },
   {
    "duration": 70,
    "start_time": "2022-03-28T13:27:30.511Z"
   },
   {
    "duration": 20,
    "start_time": "2022-03-28T13:27:31.270Z"
   },
   {
    "duration": 24,
    "start_time": "2022-03-28T13:27:34.534Z"
   },
   {
    "duration": 13,
    "start_time": "2022-03-28T13:27:35.598Z"
   },
   {
    "duration": 7,
    "start_time": "2022-03-28T13:27:36.487Z"
   },
   {
    "duration": 1543,
    "start_time": "2022-03-28T13:28:03.276Z"
   },
   {
    "duration": 19,
    "start_time": "2022-03-28T13:28:04.821Z"
   },
   {
    "duration": 12,
    "start_time": "2022-03-28T13:28:04.842Z"
   },
   {
    "duration": 7,
    "start_time": "2022-03-28T13:28:04.857Z"
   },
   {
    "duration": 13,
    "start_time": "2022-03-28T13:28:04.866Z"
   },
   {
    "duration": 59,
    "start_time": "2022-03-28T13:28:04.881Z"
   },
   {
    "duration": 53,
    "start_time": "2022-03-28T13:28:04.942Z"
   },
   {
    "duration": 4,
    "start_time": "2022-03-28T13:28:04.997Z"
   },
   {
    "duration": 31,
    "start_time": "2022-03-28T13:28:05.003Z"
   },
   {
    "duration": 20,
    "start_time": "2022-03-28T13:28:05.037Z"
   },
   {
    "duration": 21,
    "start_time": "2022-03-28T13:28:05.058Z"
   },
   {
    "duration": 14,
    "start_time": "2022-03-28T13:28:05.080Z"
   },
   {
    "duration": 66,
    "start_time": "2022-03-28T13:28:05.096Z"
   },
   {
    "duration": 8,
    "start_time": "2022-03-28T13:28:05.164Z"
   },
   {
    "duration": 63,
    "start_time": "2022-03-28T13:28:05.174Z"
   },
   {
    "duration": 37,
    "start_time": "2022-03-28T13:28:05.239Z"
   },
   {
    "duration": 17,
    "start_time": "2022-03-28T13:28:05.277Z"
   },
   {
    "duration": 48,
    "start_time": "2022-03-28T13:28:05.296Z"
   },
   {
    "duration": 23,
    "start_time": "2022-03-28T13:28:05.346Z"
   },
   {
    "duration": 4,
    "start_time": "2022-03-28T13:28:05.370Z"
   },
   {
    "duration": 25,
    "start_time": "2022-03-28T13:28:05.375Z"
   },
   {
    "duration": 62,
    "start_time": "2022-03-28T13:28:05.402Z"
   },
   {
    "duration": 12,
    "start_time": "2022-03-28T13:28:05.466Z"
   },
   {
    "duration": 26,
    "start_time": "2022-03-28T13:28:05.480Z"
   },
   {
    "duration": 14,
    "start_time": "2022-03-28T13:28:05.508Z"
   },
   {
    "duration": 39,
    "start_time": "2022-03-28T13:28:05.523Z"
   },
   {
    "duration": 5,
    "start_time": "2022-03-28T13:28:05.564Z"
   },
   {
    "duration": 86,
    "start_time": "2022-03-28T13:28:05.574Z"
   },
   {
    "duration": 22,
    "start_time": "2022-03-28T13:28:05.662Z"
   },
   {
    "duration": 25,
    "start_time": "2022-03-28T13:28:05.686Z"
   },
   {
    "duration": 14,
    "start_time": "2022-03-28T13:28:05.733Z"
   },
   {
    "duration": 15,
    "start_time": "2022-03-28T13:28:05.749Z"
   },
   {
    "duration": 5,
    "start_time": "2022-03-28T13:30:19.314Z"
   },
   {
    "duration": 69,
    "start_time": "2022-03-28T13:30:20.173Z"
   },
   {
    "duration": 21,
    "start_time": "2022-03-28T13:30:21.275Z"
   },
   {
    "duration": 25,
    "start_time": "2022-03-28T13:30:25.006Z"
   },
   {
    "duration": 14,
    "start_time": "2022-03-28T13:30:33.071Z"
   },
   {
    "duration": 8,
    "start_time": "2022-03-28T13:30:33.809Z"
   },
   {
    "duration": 374,
    "start_time": "2022-03-28T13:31:28.946Z"
   },
   {
    "duration": 12,
    "start_time": "2022-03-28T13:31:32.357Z"
   },
   {
    "duration": 10,
    "start_time": "2022-03-28T13:31:33.054Z"
   },
   {
    "duration": 7,
    "start_time": "2022-03-28T13:31:34.307Z"
   },
   {
    "duration": 11,
    "start_time": "2022-03-28T13:31:35.549Z"
   },
   {
    "duration": 23,
    "start_time": "2022-03-28T13:31:36.374Z"
   },
   {
    "duration": 49,
    "start_time": "2022-03-28T13:31:44.181Z"
   },
   {
    "duration": 5,
    "start_time": "2022-03-28T13:31:44.801Z"
   },
   {
    "duration": 9,
    "start_time": "2022-03-28T13:31:46.702Z"
   },
   {
    "duration": 18,
    "start_time": "2022-03-28T13:31:47.426Z"
   },
   {
    "duration": 20,
    "start_time": "2022-03-28T13:31:49.270Z"
   },
   {
    "duration": 12,
    "start_time": "2022-03-28T13:31:50.478Z"
   },
   {
    "duration": 38,
    "start_time": "2022-03-28T13:31:51.342Z"
   },
   {
    "duration": 9,
    "start_time": "2022-03-28T13:31:52.901Z"
   },
   {
    "duration": 45,
    "start_time": "2022-03-28T13:31:56.718Z"
   },
   {
    "duration": 34,
    "start_time": "2022-03-28T13:32:03.447Z"
   },
   {
    "duration": 18,
    "start_time": "2022-03-28T13:32:05.461Z"
   },
   {
    "duration": 27,
    "start_time": "2022-03-28T13:32:06.261Z"
   },
   {
    "duration": 23,
    "start_time": "2022-03-28T13:32:08.653Z"
   },
   {
    "duration": 4,
    "start_time": "2022-03-28T13:32:10.813Z"
   },
   {
    "duration": 24,
    "start_time": "2022-03-28T13:32:11.390Z"
   },
   {
    "duration": 36,
    "start_time": "2022-03-28T13:32:11.999Z"
   },
   {
    "duration": 15,
    "start_time": "2022-03-28T13:32:13.013Z"
   },
   {
    "duration": 8,
    "start_time": "2022-03-28T13:32:13.829Z"
   },
   {
    "duration": 15,
    "start_time": "2022-03-28T13:32:15.677Z"
   },
   {
    "duration": 36,
    "start_time": "2022-03-28T13:32:17.498Z"
   },
   {
    "duration": 5,
    "start_time": "2022-03-28T13:32:21.662Z"
   },
   {
    "duration": 71,
    "start_time": "2022-03-28T13:32:25.501Z"
   },
   {
    "duration": 23,
    "start_time": "2022-03-28T13:32:26.541Z"
   },
   {
    "duration": 24,
    "start_time": "2022-03-28T13:32:34.125Z"
   },
   {
    "duration": 14,
    "start_time": "2022-03-28T13:32:34.757Z"
   },
   {
    "duration": 8,
    "start_time": "2022-03-28T13:32:35.471Z"
   },
   {
    "duration": 5,
    "start_time": "2022-03-28T13:35:35.881Z"
   },
   {
    "duration": 76,
    "start_time": "2022-03-28T13:35:36.749Z"
   },
   {
    "duration": 20,
    "start_time": "2022-03-28T13:35:37.538Z"
   },
   {
    "duration": 23,
    "start_time": "2022-03-28T13:35:51.852Z"
   },
   {
    "duration": 13,
    "start_time": "2022-03-28T13:35:52.437Z"
   },
   {
    "duration": 7,
    "start_time": "2022-03-28T13:35:53.271Z"
   },
   {
    "duration": 382,
    "start_time": "2022-03-28T13:36:54.721Z"
   },
   {
    "duration": 12,
    "start_time": "2022-03-28T13:36:55.433Z"
   },
   {
    "duration": 11,
    "start_time": "2022-03-28T13:36:55.707Z"
   },
   {
    "duration": 6,
    "start_time": "2022-03-28T13:36:56.232Z"
   },
   {
    "duration": 11,
    "start_time": "2022-03-28T13:36:56.641Z"
   },
   {
    "duration": 25,
    "start_time": "2022-03-28T13:36:57.065Z"
   },
   {
    "duration": 52,
    "start_time": "2022-03-28T13:36:57.433Z"
   },
   {
    "duration": 5,
    "start_time": "2022-03-28T13:36:57.761Z"
   },
   {
    "duration": 9,
    "start_time": "2022-03-28T13:36:58.457Z"
   },
   {
    "duration": 19,
    "start_time": "2022-03-28T13:36:58.745Z"
   },
   {
    "duration": 19,
    "start_time": "2022-03-28T13:36:59.209Z"
   },
   {
    "duration": 12,
    "start_time": "2022-03-28T13:36:59.713Z"
   },
   {
    "duration": 41,
    "start_time": "2022-03-28T13:36:59.960Z"
   },
   {
    "duration": 11,
    "start_time": "2022-03-28T13:37:00.697Z"
   },
   {
    "duration": 44,
    "start_time": "2022-03-28T13:37:02.120Z"
   },
   {
    "duration": 35,
    "start_time": "2022-03-28T13:37:02.657Z"
   },
   {
    "duration": 17,
    "start_time": "2022-03-28T13:37:03.137Z"
   },
   {
    "duration": 23,
    "start_time": "2022-03-28T13:37:03.569Z"
   },
   {
    "duration": 23,
    "start_time": "2022-03-28T13:37:04.113Z"
   },
   {
    "duration": 4,
    "start_time": "2022-03-28T13:37:04.361Z"
   },
   {
    "duration": 24,
    "start_time": "2022-03-28T13:37:04.592Z"
   },
   {
    "duration": 36,
    "start_time": "2022-03-28T13:37:04.865Z"
   },
   {
    "duration": 13,
    "start_time": "2022-03-28T13:37:05.152Z"
   },
   {
    "duration": 8,
    "start_time": "2022-03-28T13:37:05.905Z"
   },
   {
    "duration": 15,
    "start_time": "2022-03-28T13:37:06.836Z"
   },
   {
    "duration": 33,
    "start_time": "2022-03-28T13:37:07.905Z"
   },
   {
    "duration": 6,
    "start_time": "2022-03-28T13:37:10.057Z"
   },
   {
    "duration": 71,
    "start_time": "2022-03-28T13:37:10.898Z"
   },
   {
    "duration": 21,
    "start_time": "2022-03-28T13:37:11.575Z"
   },
   {
    "duration": 23,
    "start_time": "2022-03-28T13:37:14.541Z"
   },
   {
    "duration": 14,
    "start_time": "2022-03-28T13:37:16.305Z"
   },
   {
    "duration": 8,
    "start_time": "2022-03-28T13:37:17.125Z"
   },
   {
    "duration": 3,
    "start_time": "2022-03-28T13:39:32.693Z"
   },
   {
    "duration": 96,
    "start_time": "2022-03-28T13:39:33.553Z"
   },
   {
    "duration": 20,
    "start_time": "2022-03-28T13:39:34.425Z"
   },
   {
    "duration": 22,
    "start_time": "2022-03-28T13:39:43.613Z"
   },
   {
    "duration": 13,
    "start_time": "2022-03-28T13:39:49.468Z"
   },
   {
    "duration": 8,
    "start_time": "2022-03-28T13:39:50.241Z"
   },
   {
    "duration": 13,
    "start_time": "2022-03-28T13:44:49.914Z"
   },
   {
    "duration": 7,
    "start_time": "2022-03-28T13:44:57.133Z"
   },
   {
    "duration": 6,
    "start_time": "2022-03-28T13:46:10.264Z"
   },
   {
    "duration": 126,
    "start_time": "2022-03-28T13:46:11.132Z"
   },
   {
    "duration": 19,
    "start_time": "2022-03-28T13:46:11.913Z"
   },
   {
    "duration": 24,
    "start_time": "2022-03-28T13:46:24.640Z"
   },
   {
    "duration": 6,
    "start_time": "2022-03-28T13:49:34.147Z"
   },
   {
    "duration": 22,
    "start_time": "2022-03-28T13:49:36.492Z"
   },
   {
    "duration": 6,
    "start_time": "2022-03-28T13:50:09.756Z"
   },
   {
    "duration": 111,
    "start_time": "2022-03-28T13:50:11.416Z"
   },
   {
    "duration": 5,
    "start_time": "2022-03-28T13:51:27.576Z"
   },
   {
    "duration": 73,
    "start_time": "2022-03-28T13:51:28.428Z"
   },
   {
    "duration": 22,
    "start_time": "2022-03-28T13:51:30.311Z"
   },
   {
    "duration": 25,
    "start_time": "2022-03-28T13:51:47.535Z"
   },
   {
    "duration": 13,
    "start_time": "2022-03-28T13:51:54.112Z"
   },
   {
    "duration": 7,
    "start_time": "2022-03-28T13:51:54.896Z"
   },
   {
    "duration": 382,
    "start_time": "2022-03-28T13:53:19.475Z"
   },
   {
    "duration": 13,
    "start_time": "2022-03-28T13:53:19.858Z"
   },
   {
    "duration": 11,
    "start_time": "2022-03-28T13:53:19.873Z"
   },
   {
    "duration": 7,
    "start_time": "2022-03-28T13:53:19.886Z"
   },
   {
    "duration": 12,
    "start_time": "2022-03-28T13:53:19.895Z"
   },
   {
    "duration": 44,
    "start_time": "2022-03-28T13:53:19.909Z"
   },
   {
    "duration": 52,
    "start_time": "2022-03-28T13:53:19.954Z"
   },
   {
    "duration": 25,
    "start_time": "2022-03-28T13:53:20.008Z"
   },
   {
    "duration": 11,
    "start_time": "2022-03-28T13:53:20.035Z"
   },
   {
    "duration": 21,
    "start_time": "2022-03-28T13:53:20.048Z"
   },
   {
    "duration": 21,
    "start_time": "2022-03-28T13:53:20.071Z"
   },
   {
    "duration": 41,
    "start_time": "2022-03-28T13:53:20.093Z"
   },
   {
    "duration": 40,
    "start_time": "2022-03-28T13:53:20.136Z"
   },
   {
    "duration": 8,
    "start_time": "2022-03-28T13:53:20.180Z"
   },
   {
    "duration": 69,
    "start_time": "2022-03-28T13:53:20.190Z"
   },
   {
    "duration": 33,
    "start_time": "2022-03-28T13:53:20.261Z"
   },
   {
    "duration": 18,
    "start_time": "2022-03-28T13:53:20.295Z"
   },
   {
    "duration": 25,
    "start_time": "2022-03-28T13:53:20.332Z"
   },
   {
    "duration": 23,
    "start_time": "2022-03-28T13:53:20.359Z"
   },
   {
    "duration": 4,
    "start_time": "2022-03-28T13:53:20.384Z"
   },
   {
    "duration": 51,
    "start_time": "2022-03-28T13:53:20.390Z"
   },
   {
    "duration": 35,
    "start_time": "2022-03-28T13:53:20.443Z"
   },
   {
    "duration": 13,
    "start_time": "2022-03-28T13:53:20.480Z"
   },
   {
    "duration": 7,
    "start_time": "2022-03-28T13:53:20.495Z"
   },
   {
    "duration": 15,
    "start_time": "2022-03-28T13:53:20.532Z"
   },
   {
    "duration": 40,
    "start_time": "2022-03-28T13:53:20.549Z"
   },
   {
    "duration": 5,
    "start_time": "2022-03-28T13:53:20.591Z"
   },
   {
    "duration": 83,
    "start_time": "2022-03-28T13:53:20.598Z"
   },
   {
    "duration": 21,
    "start_time": "2022-03-28T13:53:20.682Z"
   },
   {
    "duration": 39,
    "start_time": "2022-03-28T13:53:20.705Z"
   },
   {
    "duration": 13,
    "start_time": "2022-03-28T13:53:20.746Z"
   },
   {
    "duration": 9,
    "start_time": "2022-03-28T13:53:20.760Z"
   },
   {
    "duration": 71,
    "start_time": "2022-03-28T13:54:04.207Z"
   },
   {
    "duration": 20,
    "start_time": "2022-03-28T13:54:04.984Z"
   },
   {
    "duration": 26,
    "start_time": "2022-03-28T13:54:16.228Z"
   },
   {
    "duration": 13,
    "start_time": "2022-03-28T13:54:21.646Z"
   },
   {
    "duration": 8,
    "start_time": "2022-03-28T13:54:22.414Z"
   },
   {
    "duration": 7,
    "start_time": "2022-03-28T14:20:32.798Z"
   },
   {
    "duration": 14,
    "start_time": "2022-03-28T14:21:58.667Z"
   },
   {
    "duration": 13,
    "start_time": "2022-03-28T14:22:02.078Z"
   },
   {
    "duration": 8,
    "start_time": "2022-03-28T14:22:02.999Z"
   },
   {
    "duration": 5,
    "start_time": "2022-03-28T14:22:10.659Z"
   },
   {
    "duration": 75,
    "start_time": "2022-03-28T14:22:11.431Z"
   },
   {
    "duration": 20,
    "start_time": "2022-03-28T14:22:12.139Z"
   },
   {
    "duration": 26,
    "start_time": "2022-03-28T14:22:15.163Z"
   },
   {
    "duration": 12,
    "start_time": "2022-03-28T14:22:16.367Z"
   },
   {
    "duration": 7,
    "start_time": "2022-03-28T14:22:17.667Z"
   },
   {
    "duration": 13,
    "start_time": "2022-03-28T14:23:58.637Z"
   },
   {
    "duration": 9,
    "start_time": "2022-03-28T14:24:00.346Z"
   },
   {
    "duration": 2,
    "start_time": "2022-03-28T14:24:01.240Z"
   },
   {
    "duration": 372,
    "start_time": "2022-03-28T14:24:17.091Z"
   },
   {
    "duration": 13,
    "start_time": "2022-03-28T14:24:17.465Z"
   },
   {
    "duration": 10,
    "start_time": "2022-03-28T14:24:17.480Z"
   },
   {
    "duration": 9,
    "start_time": "2022-03-28T14:24:17.492Z"
   },
   {
    "duration": 11,
    "start_time": "2022-03-28T14:24:17.504Z"
   },
   {
    "duration": 25,
    "start_time": "2022-03-28T14:24:17.534Z"
   },
   {
    "duration": 50,
    "start_time": "2022-03-28T14:24:17.561Z"
   },
   {
    "duration": 5,
    "start_time": "2022-03-28T14:24:17.632Z"
   },
   {
    "duration": 14,
    "start_time": "2022-03-28T14:24:17.639Z"
   },
   {
    "duration": 20,
    "start_time": "2022-03-28T14:24:17.654Z"
   },
   {
    "duration": 19,
    "start_time": "2022-03-28T14:24:17.675Z"
   },
   {
    "duration": 37,
    "start_time": "2022-03-28T14:24:17.696Z"
   },
   {
    "duration": 39,
    "start_time": "2022-03-28T14:24:17.735Z"
   },
   {
    "duration": 8,
    "start_time": "2022-03-28T14:24:17.777Z"
   },
   {
    "duration": 66,
    "start_time": "2022-03-28T14:24:17.787Z"
   },
   {
    "duration": 34,
    "start_time": "2022-03-28T14:24:17.855Z"
   },
   {
    "duration": 18,
    "start_time": "2022-03-28T14:24:17.890Z"
   },
   {
    "duration": 44,
    "start_time": "2022-03-28T14:24:17.909Z"
   },
   {
    "duration": 23,
    "start_time": "2022-03-28T14:24:17.955Z"
   },
   {
    "duration": 3,
    "start_time": "2022-03-28T14:24:17.979Z"
   },
   {
    "duration": 50,
    "start_time": "2022-03-28T14:24:17.984Z"
   },
   {
    "duration": 34,
    "start_time": "2022-03-28T14:24:18.036Z"
   },
   {
    "duration": 13,
    "start_time": "2022-03-28T14:24:18.072Z"
   },
   {
    "duration": 8,
    "start_time": "2022-03-28T14:24:18.087Z"
   },
   {
    "duration": 47,
    "start_time": "2022-03-28T14:24:18.096Z"
   },
   {
    "duration": 34,
    "start_time": "2022-03-28T14:24:18.145Z"
   },
   {
    "duration": 6,
    "start_time": "2022-03-28T14:24:18.180Z"
   },
   {
    "duration": 94,
    "start_time": "2022-03-28T14:24:18.188Z"
   },
   {
    "duration": 21,
    "start_time": "2022-03-28T14:24:18.284Z"
   },
   {
    "duration": 40,
    "start_time": "2022-03-28T14:24:18.306Z"
   },
   {
    "duration": 13,
    "start_time": "2022-03-28T14:24:18.348Z"
   },
   {
    "duration": 15,
    "start_time": "2022-03-28T14:24:18.362Z"
   },
   {
    "duration": 53,
    "start_time": "2022-03-28T14:40:15.148Z"
   },
   {
    "duration": 7,
    "start_time": "2022-03-28T14:40:25.259Z"
   },
   {
    "duration": 1737,
    "start_time": "2022-03-28T14:40:32.819Z"
   },
   {
    "duration": 22,
    "start_time": "2022-03-28T14:40:34.559Z"
   },
   {
    "duration": 10,
    "start_time": "2022-03-28T14:40:34.583Z"
   },
   {
    "duration": 11,
    "start_time": "2022-03-28T14:40:34.594Z"
   },
   {
    "duration": 12,
    "start_time": "2022-03-28T14:40:34.606Z"
   },
   {
    "duration": 27,
    "start_time": "2022-03-28T14:40:34.620Z"
   },
   {
    "duration": 65,
    "start_time": "2022-03-28T14:40:34.648Z"
   },
   {
    "duration": 5,
    "start_time": "2022-03-28T14:40:34.715Z"
   },
   {
    "duration": 10,
    "start_time": "2022-03-28T14:40:34.721Z"
   },
   {
    "duration": 41,
    "start_time": "2022-03-28T14:40:34.734Z"
   },
   {
    "duration": 21,
    "start_time": "2022-03-28T14:40:34.778Z"
   },
   {
    "duration": 12,
    "start_time": "2022-03-28T14:40:34.801Z"
   },
   {
    "duration": 70,
    "start_time": "2022-03-28T14:40:34.814Z"
   },
   {
    "duration": 7,
    "start_time": "2022-03-28T14:40:34.886Z"
   },
   {
    "duration": 48,
    "start_time": "2022-03-28T14:40:34.894Z"
   },
   {
    "duration": 48,
    "start_time": "2022-03-28T14:40:34.943Z"
   },
   {
    "duration": 16,
    "start_time": "2022-03-28T14:40:34.993Z"
   },
   {
    "duration": 31,
    "start_time": "2022-03-28T14:40:35.010Z"
   },
   {
    "duration": 49,
    "start_time": "2022-03-28T14:40:35.042Z"
   },
   {
    "duration": 3,
    "start_time": "2022-03-28T14:40:35.093Z"
   },
   {
    "duration": 23,
    "start_time": "2022-03-28T14:40:35.098Z"
   },
   {
    "duration": 66,
    "start_time": "2022-03-28T14:40:35.123Z"
   },
   {
    "duration": 12,
    "start_time": "2022-03-28T14:40:35.190Z"
   },
   {
    "duration": 11,
    "start_time": "2022-03-28T14:40:35.204Z"
   },
   {
    "duration": 12,
    "start_time": "2022-03-28T14:40:35.217Z"
   },
   {
    "duration": 63,
    "start_time": "2022-03-28T14:40:35.231Z"
   },
   {
    "duration": 5,
    "start_time": "2022-03-28T14:40:35.296Z"
   },
   {
    "duration": 95,
    "start_time": "2022-03-28T14:40:35.304Z"
   },
   {
    "duration": 19,
    "start_time": "2022-03-28T14:40:35.401Z"
   },
   {
    "duration": 22,
    "start_time": "2022-03-28T14:40:35.422Z"
   },
   {
    "duration": 29,
    "start_time": "2022-03-28T14:40:35.446Z"
   },
   {
    "duration": 46,
    "start_time": "2022-03-30T05:46:58.710Z"
   },
   {
    "duration": 1654,
    "start_time": "2022-03-30T05:47:08.154Z"
   },
   {
    "duration": 382,
    "start_time": "2022-03-30T05:47:10.690Z"
   },
   {
    "duration": 16,
    "start_time": "2022-03-30T05:47:11.074Z"
   },
   {
    "duration": 10,
    "start_time": "2022-03-30T05:47:11.091Z"
   },
   {
    "duration": 11,
    "start_time": "2022-03-30T05:47:11.103Z"
   },
   {
    "duration": 11,
    "start_time": "2022-03-30T05:47:11.116Z"
   },
   {
    "duration": 33,
    "start_time": "2022-03-30T05:47:11.128Z"
   },
   {
    "duration": 56,
    "start_time": "2022-03-30T05:47:11.162Z"
   },
   {
    "duration": 5,
    "start_time": "2022-03-30T05:47:11.220Z"
   },
   {
    "duration": 20,
    "start_time": "2022-03-30T05:47:11.226Z"
   },
   {
    "duration": 19,
    "start_time": "2022-03-30T05:47:11.249Z"
   },
   {
    "duration": 26,
    "start_time": "2022-03-30T05:47:11.269Z"
   },
   {
    "duration": 12,
    "start_time": "2022-03-30T05:47:11.297Z"
   },
   {
    "duration": 77,
    "start_time": "2022-03-30T05:47:11.311Z"
   },
   {
    "duration": 11,
    "start_time": "2022-03-30T05:47:11.390Z"
   },
   {
    "duration": 45,
    "start_time": "2022-03-30T05:47:11.403Z"
   },
   {
    "duration": 44,
    "start_time": "2022-03-30T05:47:11.449Z"
   },
   {
    "duration": 15,
    "start_time": "2022-03-30T05:47:11.495Z"
   },
   {
    "duration": 27,
    "start_time": "2022-03-30T05:47:11.511Z"
   },
   {
    "duration": 43,
    "start_time": "2022-03-30T05:47:11.539Z"
   },
   {
    "duration": 3,
    "start_time": "2022-03-30T05:47:11.583Z"
   },
   {
    "duration": 31,
    "start_time": "2022-03-30T05:47:11.588Z"
   },
   {
    "duration": 72,
    "start_time": "2022-03-30T05:47:11.620Z"
   },
   {
    "duration": 12,
    "start_time": "2022-03-30T05:47:11.694Z"
   },
   {
    "duration": 7,
    "start_time": "2022-03-30T05:47:11.708Z"
   },
   {
    "duration": 14,
    "start_time": "2022-03-30T05:47:11.716Z"
   },
   {
    "duration": 54,
    "start_time": "2022-03-30T05:47:11.731Z"
   },
   {
    "duration": 5,
    "start_time": "2022-03-30T05:47:11.787Z"
   },
   {
    "duration": 105,
    "start_time": "2022-03-30T05:47:11.795Z"
   },
   {
    "duration": 19,
    "start_time": "2022-03-30T05:47:11.902Z"
   },
   {
    "duration": 46,
    "start_time": "2022-03-30T05:47:11.923Z"
   },
   {
    "duration": 12,
    "start_time": "2022-03-30T05:47:11.971Z"
   },
   {
    "duration": 51,
    "start_time": "2022-03-30T05:47:11.984Z"
   },
   {
    "duration": 8,
    "start_time": "2022-03-30T05:47:55.977Z"
   },
   {
    "duration": 64,
    "start_time": "2022-03-30T05:49:52.490Z"
   },
   {
    "duration": 1815,
    "start_time": "2022-03-30T05:50:14.866Z"
   },
   {
    "duration": 15,
    "start_time": "2022-03-30T05:50:16.683Z"
   },
   {
    "duration": 9,
    "start_time": "2022-03-30T05:50:16.700Z"
   },
   {
    "duration": 5,
    "start_time": "2022-03-30T05:50:16.711Z"
   },
   {
    "duration": 11,
    "start_time": "2022-03-30T05:50:16.717Z"
   },
   {
    "duration": 23,
    "start_time": "2022-03-30T05:50:16.729Z"
   },
   {
    "duration": 70,
    "start_time": "2022-03-30T05:50:16.754Z"
   },
   {
    "duration": 4,
    "start_time": "2022-03-30T05:50:16.826Z"
   },
   {
    "duration": 12,
    "start_time": "2022-03-30T05:50:16.831Z"
   },
   {
    "duration": 39,
    "start_time": "2022-03-30T05:50:16.846Z"
   },
   {
    "duration": 30,
    "start_time": "2022-03-30T05:50:16.886Z"
   },
   {
    "duration": 15,
    "start_time": "2022-03-30T05:50:16.918Z"
   },
   {
    "duration": 80,
    "start_time": "2022-03-30T05:50:16.935Z"
   },
   {
    "duration": 9,
    "start_time": "2022-03-30T05:50:17.016Z"
   },
   {
    "duration": 70,
    "start_time": "2022-03-30T05:50:17.027Z"
   },
   {
    "duration": 47,
    "start_time": "2022-03-30T05:50:17.098Z"
   },
   {
    "duration": 35,
    "start_time": "2022-03-30T05:50:17.146Z"
   },
   {
    "duration": 28,
    "start_time": "2022-03-30T05:50:17.182Z"
   },
   {
    "duration": 21,
    "start_time": "2022-03-30T05:50:17.211Z"
   },
   {
    "duration": 2,
    "start_time": "2022-03-30T05:50:17.234Z"
   },
   {
    "duration": 21,
    "start_time": "2022-03-30T05:50:17.238Z"
   },
   {
    "duration": 30,
    "start_time": "2022-03-30T05:50:17.280Z"
   },
   {
    "duration": 12,
    "start_time": "2022-03-30T05:50:17.311Z"
   },
   {
    "duration": 9,
    "start_time": "2022-03-30T05:50:17.324Z"
   },
   {
    "duration": 13,
    "start_time": "2022-03-30T05:50:17.334Z"
   },
   {
    "duration": 55,
    "start_time": "2022-03-30T05:50:17.348Z"
   },
   {
    "duration": 5,
    "start_time": "2022-03-30T05:50:17.404Z"
   },
   {
    "duration": 102,
    "start_time": "2022-03-30T05:50:17.412Z"
   },
   {
    "duration": 19,
    "start_time": "2022-03-30T05:50:17.516Z"
   },
   {
    "duration": 22,
    "start_time": "2022-03-30T05:50:17.536Z"
   },
   {
    "duration": 28,
    "start_time": "2022-03-30T05:50:17.559Z"
   },
   {
    "duration": 24,
    "start_time": "2022-03-30T05:50:17.589Z"
   },
   {
    "duration": 8,
    "start_time": "2022-03-30T05:50:17.615Z"
   },
   {
    "duration": 7,
    "start_time": "2022-03-30T05:51:52.702Z"
   },
   {
    "duration": 5,
    "start_time": "2022-03-30T05:59:58.713Z"
   },
   {
    "duration": 69,
    "start_time": "2022-03-30T06:00:00.006Z"
   },
   {
    "duration": 18,
    "start_time": "2022-03-30T06:00:00.608Z"
   },
   {
    "duration": 23,
    "start_time": "2022-03-30T06:00:03.233Z"
   },
   {
    "duration": 8,
    "start_time": "2022-03-30T06:00:04.305Z"
   },
   {
    "duration": 20,
    "start_time": "2022-03-30T06:00:06.055Z"
   },
   {
    "duration": 7,
    "start_time": "2022-03-30T06:00:07.517Z"
   },
   {
    "duration": 381,
    "start_time": "2022-03-30T06:00:22.193Z"
   },
   {
    "duration": 11,
    "start_time": "2022-03-30T06:00:22.576Z"
   },
   {
    "duration": 11,
    "start_time": "2022-03-30T06:00:22.589Z"
   },
   {
    "duration": 9,
    "start_time": "2022-03-30T06:00:22.602Z"
   },
   {
    "duration": 13,
    "start_time": "2022-03-30T06:00:22.612Z"
   },
   {
    "duration": 27,
    "start_time": "2022-03-30T06:00:22.627Z"
   },
   {
    "duration": 55,
    "start_time": "2022-03-30T06:00:22.656Z"
   },
   {
    "duration": 3,
    "start_time": "2022-03-30T06:00:22.713Z"
   },
   {
    "duration": 12,
    "start_time": "2022-03-30T06:00:22.718Z"
   },
   {
    "duration": 20,
    "start_time": "2022-03-30T06:00:22.732Z"
   },
   {
    "duration": 36,
    "start_time": "2022-03-30T06:00:22.754Z"
   },
   {
    "duration": 13,
    "start_time": "2022-03-30T06:00:22.791Z"
   },
   {
    "duration": 79,
    "start_time": "2022-03-30T06:00:22.806Z"
   },
   {
    "duration": 7,
    "start_time": "2022-03-30T06:00:22.886Z"
   },
   {
    "duration": 40,
    "start_time": "2022-03-30T06:00:22.895Z"
   },
   {
    "duration": 48,
    "start_time": "2022-03-30T06:00:22.937Z"
   },
   {
    "duration": 20,
    "start_time": "2022-03-30T06:00:22.987Z"
   },
   {
    "duration": 29,
    "start_time": "2022-03-30T06:00:23.009Z"
   },
   {
    "duration": 43,
    "start_time": "2022-03-30T06:00:23.040Z"
   },
   {
    "duration": 4,
    "start_time": "2022-03-30T06:00:23.084Z"
   },
   {
    "duration": 29,
    "start_time": "2022-03-30T06:00:23.090Z"
   },
   {
    "duration": 42,
    "start_time": "2022-03-30T06:00:23.121Z"
   },
   {
    "duration": 15,
    "start_time": "2022-03-30T06:00:23.180Z"
   },
   {
    "duration": 9,
    "start_time": "2022-03-30T06:00:23.196Z"
   },
   {
    "duration": 18,
    "start_time": "2022-03-30T06:00:23.206Z"
   },
   {
    "duration": 65,
    "start_time": "2022-03-30T06:00:23.225Z"
   },
   {
    "duration": 7,
    "start_time": "2022-03-30T06:00:23.291Z"
   },
   {
    "duration": 114,
    "start_time": "2022-03-30T06:00:23.302Z"
   },
   {
    "duration": 25,
    "start_time": "2022-03-30T06:00:23.418Z"
   },
   {
    "duration": 41,
    "start_time": "2022-03-30T06:00:23.444Z"
   },
   {
    "duration": 7,
    "start_time": "2022-03-30T06:00:23.487Z"
   },
   {
    "duration": 33,
    "start_time": "2022-03-30T06:00:23.496Z"
   },
   {
    "duration": 8,
    "start_time": "2022-03-30T06:00:23.531Z"
   },
   {
    "duration": 491,
    "start_time": "2022-03-30T06:00:38.042Z"
   },
   {
    "duration": 15,
    "start_time": "2022-03-30T06:00:39.945Z"
   },
   {
    "duration": 9,
    "start_time": "2022-03-30T06:00:40.793Z"
   },
   {
    "duration": 6,
    "start_time": "2022-03-30T06:00:42.257Z"
   },
   {
    "duration": 10,
    "start_time": "2022-03-30T06:00:43.447Z"
   },
   {
    "duration": 23,
    "start_time": "2022-03-30T06:00:44.975Z"
   },
   {
    "duration": 83,
    "start_time": "2022-03-30T06:00:45.217Z"
   },
   {
    "duration": 5,
    "start_time": "2022-03-30T06:00:45.949Z"
   },
   {
    "duration": 11,
    "start_time": "2022-03-30T06:00:47.197Z"
   },
   {
    "duration": 18,
    "start_time": "2022-03-30T06:00:47.777Z"
   },
   {
    "duration": 19,
    "start_time": "2022-03-30T06:00:49.249Z"
   },
   {
    "duration": 11,
    "start_time": "2022-03-30T06:00:50.601Z"
   },
   {
    "duration": 35,
    "start_time": "2022-03-30T06:00:51.219Z"
   },
   {
    "duration": 7,
    "start_time": "2022-03-30T06:00:52.905Z"
   },
   {
    "duration": 38,
    "start_time": "2022-03-30T06:00:56.215Z"
   },
   {
    "duration": 31,
    "start_time": "2022-03-30T06:00:58.105Z"
   },
   {
    "duration": 15,
    "start_time": "2022-03-30T06:00:59.329Z"
   },
   {
    "duration": 22,
    "start_time": "2022-03-30T06:00:59.865Z"
   },
   {
    "duration": 21,
    "start_time": "2022-03-30T06:01:01.057Z"
   },
   {
    "duration": 3,
    "start_time": "2022-03-30T06:01:01.642Z"
   },
   {
    "duration": 20,
    "start_time": "2022-03-30T06:01:02.217Z"
   },
   {
    "duration": 31,
    "start_time": "2022-03-30T06:01:02.977Z"
   },
   {
    "duration": 12,
    "start_time": "2022-03-30T06:01:03.803Z"
   },
   {
    "duration": 8,
    "start_time": "2022-03-30T06:01:05.117Z"
   },
   {
    "duration": 13,
    "start_time": "2022-03-30T06:01:06.333Z"
   },
   {
    "duration": 43,
    "start_time": "2022-03-30T06:01:07.801Z"
   },
   {
    "duration": 7,
    "start_time": "2022-03-30T06:01:10.458Z"
   },
   {
    "duration": 103,
    "start_time": "2022-03-30T06:01:11.307Z"
   },
   {
    "duration": 27,
    "start_time": "2022-03-30T06:01:13.066Z"
   },
   {
    "duration": 29,
    "start_time": "2022-03-30T06:01:16.832Z"
   },
   {
    "duration": 8,
    "start_time": "2022-03-30T06:01:18.038Z"
   },
   {
    "duration": 31,
    "start_time": "2022-03-30T06:01:21.729Z"
   },
   {
    "duration": 9,
    "start_time": "2022-03-30T06:01:22.701Z"
   },
   {
    "duration": 1494,
    "start_time": "2022-03-30T06:02:17.129Z"
   },
   {
    "duration": 17,
    "start_time": "2022-03-30T06:02:18.625Z"
   },
   {
    "duration": 9,
    "start_time": "2022-03-30T06:02:18.644Z"
   },
   {
    "duration": 7,
    "start_time": "2022-03-30T06:02:18.655Z"
   },
   {
    "duration": 19,
    "start_time": "2022-03-30T06:02:18.664Z"
   },
   {
    "duration": 27,
    "start_time": "2022-03-30T06:02:18.684Z"
   },
   {
    "duration": 95,
    "start_time": "2022-03-30T06:02:18.713Z"
   },
   {
    "duration": 5,
    "start_time": "2022-03-30T06:02:18.809Z"
   },
   {
    "duration": 15,
    "start_time": "2022-03-30T06:02:18.816Z"
   },
   {
    "duration": 28,
    "start_time": "2022-03-30T06:02:18.833Z"
   },
   {
    "duration": 41,
    "start_time": "2022-03-30T06:02:18.863Z"
   },
   {
    "duration": 15,
    "start_time": "2022-03-30T06:02:18.906Z"
   },
   {
    "duration": 76,
    "start_time": "2022-03-30T06:02:18.922Z"
   },
   {
    "duration": 9,
    "start_time": "2022-03-30T06:02:19.001Z"
   },
   {
    "duration": 73,
    "start_time": "2022-03-30T06:02:19.011Z"
   },
   {
    "duration": 46,
    "start_time": "2022-03-30T06:02:19.085Z"
   },
   {
    "duration": 20,
    "start_time": "2022-03-30T06:02:19.132Z"
   },
   {
    "duration": 54,
    "start_time": "2022-03-30T06:02:19.153Z"
   },
   {
    "duration": 28,
    "start_time": "2022-03-30T06:02:19.209Z"
   },
   {
    "duration": 3,
    "start_time": "2022-03-30T06:02:19.239Z"
   },
   {
    "duration": 41,
    "start_time": "2022-03-30T06:02:19.243Z"
   },
   {
    "duration": 43,
    "start_time": "2022-03-30T06:02:19.286Z"
   },
   {
    "duration": 15,
    "start_time": "2022-03-30T06:02:19.330Z"
   },
   {
    "duration": 9,
    "start_time": "2022-03-30T06:02:19.346Z"
   },
   {
    "duration": 39,
    "start_time": "2022-03-30T06:02:19.357Z"
   },
   {
    "duration": 40,
    "start_time": "2022-03-30T06:02:19.398Z"
   },
   {
    "duration": 6,
    "start_time": "2022-03-30T06:02:19.439Z"
   },
   {
    "duration": 90,
    "start_time": "2022-03-30T06:02:19.446Z"
   },
   {
    "duration": 20,
    "start_time": "2022-03-30T06:02:19.537Z"
   },
   {
    "duration": 34,
    "start_time": "2022-03-30T06:02:19.558Z"
   },
   {
    "duration": 6,
    "start_time": "2022-03-30T06:02:19.594Z"
   },
   {
    "duration": 23,
    "start_time": "2022-03-30T06:02:19.602Z"
   },
   {
    "duration": 6,
    "start_time": "2022-03-30T06:02:19.627Z"
   },
   {
    "duration": 27,
    "start_time": "2022-03-30T06:02:59.989Z"
   },
   {
    "duration": 5,
    "start_time": "2022-03-30T06:03:02.083Z"
   },
   {
    "duration": 65,
    "start_time": "2022-03-30T06:03:03.097Z"
   },
   {
    "duration": 19,
    "start_time": "2022-03-30T06:03:03.745Z"
   },
   {
    "duration": 23,
    "start_time": "2022-03-30T06:03:06.413Z"
   },
   {
    "duration": 7,
    "start_time": "2022-03-30T06:03:07.046Z"
   },
   {
    "duration": 21,
    "start_time": "2022-03-30T06:03:10.893Z"
   },
   {
    "duration": 7,
    "start_time": "2022-03-30T06:03:12.669Z"
   },
   {
    "duration": 4,
    "start_time": "2022-03-30T06:07:52.677Z"
   },
   {
    "duration": 66,
    "start_time": "2022-03-30T06:07:54.390Z"
   },
   {
    "duration": 19,
    "start_time": "2022-03-30T06:07:55.197Z"
   },
   {
    "duration": 22,
    "start_time": "2022-03-30T06:07:57.964Z"
   },
   {
    "duration": 8,
    "start_time": "2022-03-30T06:07:58.630Z"
   },
   {
    "duration": 24,
    "start_time": "2022-03-30T06:08:01.620Z"
   },
   {
    "duration": 7,
    "start_time": "2022-03-30T06:08:02.810Z"
   },
   {
    "duration": 4,
    "start_time": "2022-03-30T06:16:04.283Z"
   },
   {
    "duration": 144,
    "start_time": "2022-03-30T06:28:42.570Z"
   },
   {
    "duration": 94,
    "start_time": "2022-03-30T06:34:20.098Z"
   },
   {
    "duration": 10,
    "start_time": "2022-03-30T06:35:34.068Z"
   },
   {
    "duration": 9,
    "start_time": "2022-03-30T06:35:38.236Z"
   },
   {
    "duration": 9,
    "start_time": "2022-03-30T06:36:31.102Z"
   },
   {
    "duration": 3123,
    "start_time": "2022-03-30T06:37:44.263Z"
   },
   {
    "duration": 139,
    "start_time": "2022-03-30T06:38:10.997Z"
   },
   {
    "duration": 133,
    "start_time": "2022-03-30T06:39:04.370Z"
   },
   {
    "duration": 139,
    "start_time": "2022-03-30T06:41:08.123Z"
   },
   {
    "duration": 120,
    "start_time": "2022-03-30T06:41:44.573Z"
   },
   {
    "duration": 122,
    "start_time": "2022-03-30T06:42:42.918Z"
   },
   {
    "duration": 376,
    "start_time": "2022-03-30T06:44:08.000Z"
   },
   {
    "duration": 1550,
    "start_time": "2022-03-30T06:44:23.768Z"
   },
   {
    "duration": 14,
    "start_time": "2022-03-30T06:44:25.320Z"
   },
   {
    "duration": 26,
    "start_time": "2022-03-30T06:44:25.336Z"
   },
   {
    "duration": 17,
    "start_time": "2022-03-30T06:44:25.363Z"
   },
   {
    "duration": 20,
    "start_time": "2022-03-30T06:44:25.382Z"
   },
   {
    "duration": 26,
    "start_time": "2022-03-30T06:44:25.404Z"
   },
   {
    "duration": 50,
    "start_time": "2022-03-30T06:44:25.431Z"
   },
   {
    "duration": 5,
    "start_time": "2022-03-30T06:44:25.482Z"
   },
   {
    "duration": 22,
    "start_time": "2022-03-30T06:44:25.488Z"
   },
   {
    "duration": 33,
    "start_time": "2022-03-30T06:44:25.511Z"
   },
   {
    "duration": 26,
    "start_time": "2022-03-30T06:44:25.545Z"
   },
   {
    "duration": 11,
    "start_time": "2022-03-30T06:44:25.572Z"
   },
   {
    "duration": 54,
    "start_time": "2022-03-30T06:44:25.584Z"
   },
   {
    "duration": 7,
    "start_time": "2022-03-30T06:44:25.640Z"
   },
   {
    "duration": 60,
    "start_time": "2022-03-30T06:44:25.649Z"
   },
   {
    "duration": 33,
    "start_time": "2022-03-30T06:44:25.711Z"
   },
   {
    "duration": 17,
    "start_time": "2022-03-30T06:44:25.746Z"
   },
   {
    "duration": 40,
    "start_time": "2022-03-30T06:44:25.764Z"
   },
   {
    "duration": 21,
    "start_time": "2022-03-30T06:44:25.806Z"
   },
   {
    "duration": 4,
    "start_time": "2022-03-30T06:44:25.828Z"
   },
   {
    "duration": 23,
    "start_time": "2022-03-30T06:44:25.833Z"
   },
   {
    "duration": 47,
    "start_time": "2022-03-30T06:44:25.858Z"
   },
   {
    "duration": 11,
    "start_time": "2022-03-30T06:44:25.906Z"
   },
   {
    "duration": 7,
    "start_time": "2022-03-30T06:44:25.919Z"
   },
   {
    "duration": 27,
    "start_time": "2022-03-30T06:44:25.927Z"
   },
   {
    "duration": 37,
    "start_time": "2022-03-30T06:44:25.955Z"
   },
   {
    "duration": 6,
    "start_time": "2022-03-30T06:44:25.994Z"
   },
   {
    "duration": 81,
    "start_time": "2022-03-30T06:44:26.002Z"
   },
   {
    "duration": 20,
    "start_time": "2022-03-30T06:44:26.085Z"
   },
   {
    "duration": 25,
    "start_time": "2022-03-30T06:44:26.107Z"
   },
   {
    "duration": 177,
    "start_time": "2022-03-30T06:44:26.134Z"
   },
   {
    "duration": 6,
    "start_time": "2022-03-30T06:44:26.312Z"
   },
   {
    "duration": 5,
    "start_time": "2022-03-30T06:44:26.319Z"
   },
   {
    "duration": 28,
    "start_time": "2022-03-30T06:44:26.325Z"
   },
   {
    "duration": 9,
    "start_time": "2022-03-30T06:44:26.354Z"
   },
   {
    "duration": 153,
    "start_time": "2022-03-30T06:47:08.020Z"
   },
   {
    "duration": 144,
    "start_time": "2022-03-30T06:48:58.544Z"
   },
   {
    "duration": 152,
    "start_time": "2022-03-30T06:50:35.306Z"
   },
   {
    "duration": 135,
    "start_time": "2022-03-30T06:51:48.360Z"
   },
   {
    "duration": 149,
    "start_time": "2022-03-30T06:52:40.972Z"
   },
   {
    "duration": 148,
    "start_time": "2022-03-30T06:54:39.013Z"
   },
   {
    "duration": 203,
    "start_time": "2022-03-30T06:54:40.519Z"
   },
   {
    "duration": 136,
    "start_time": "2022-03-30T06:58:42.902Z"
   },
   {
    "duration": 22,
    "start_time": "2022-03-30T06:59:44.960Z"
   },
   {
    "duration": 158,
    "start_time": "2022-03-30T06:59:45.892Z"
   },
   {
    "duration": 147,
    "start_time": "2022-03-30T06:59:46.589Z"
   },
   {
    "duration": 146,
    "start_time": "2022-03-30T06:59:47.164Z"
   },
   {
    "duration": 7,
    "start_time": "2022-03-30T06:59:49.222Z"
   },
   {
    "duration": 3,
    "start_time": "2022-03-30T06:59:49.454Z"
   },
   {
    "duration": 22,
    "start_time": "2022-03-30T06:59:50.522Z"
   },
   {
    "duration": 151,
    "start_time": "2022-03-30T06:59:51.304Z"
   },
   {
    "duration": 138,
    "start_time": "2022-03-30T06:59:52.182Z"
   },
   {
    "duration": 104,
    "start_time": "2022-03-30T17:12:45.811Z"
   },
   {
    "duration": 94,
    "start_time": "2022-03-30T17:13:00.086Z"
   },
   {
    "duration": 85,
    "start_time": "2022-03-30T17:13:07.006Z"
   },
   {
    "duration": 69,
    "start_time": "2022-03-30T17:13:31.806Z"
   },
   {
    "duration": 2312,
    "start_time": "2022-03-30T17:13:44.888Z"
   },
   {
    "duration": 25,
    "start_time": "2022-03-30T17:13:47.204Z"
   },
   {
    "duration": 16,
    "start_time": "2022-03-30T17:13:47.231Z"
   },
   {
    "duration": 37,
    "start_time": "2022-03-30T17:13:47.249Z"
   },
   {
    "duration": 16,
    "start_time": "2022-03-30T17:13:47.289Z"
   },
   {
    "duration": 34,
    "start_time": "2022-03-30T17:13:47.307Z"
   },
   {
    "duration": 104,
    "start_time": "2022-03-30T17:13:47.343Z"
   },
   {
    "duration": 6,
    "start_time": "2022-03-30T17:13:47.449Z"
   },
   {
    "duration": 26,
    "start_time": "2022-03-30T17:13:47.457Z"
   },
   {
    "duration": 32,
    "start_time": "2022-03-30T17:13:47.486Z"
   },
   {
    "duration": 30,
    "start_time": "2022-03-30T17:13:47.520Z"
   },
   {
    "duration": 46,
    "start_time": "2022-03-30T17:13:47.552Z"
   },
   {
    "duration": 74,
    "start_time": "2022-03-30T17:13:47.601Z"
   },
   {
    "duration": 12,
    "start_time": "2022-03-30T17:13:47.685Z"
   },
   {
    "duration": 89,
    "start_time": "2022-03-30T17:13:47.699Z"
   },
   {
    "duration": 50,
    "start_time": "2022-03-30T17:13:47.790Z"
   },
   {
    "duration": 42,
    "start_time": "2022-03-30T17:13:47.843Z"
   },
   {
    "duration": 42,
    "start_time": "2022-03-30T17:13:47.887Z"
   },
   {
    "duration": 51,
    "start_time": "2022-03-30T17:13:47.932Z"
   },
   {
    "duration": 5,
    "start_time": "2022-03-30T17:13:47.985Z"
   },
   {
    "duration": 38,
    "start_time": "2022-03-30T17:13:47.994Z"
   },
   {
    "duration": 82,
    "start_time": "2022-03-30T17:13:48.035Z"
   },
   {
    "duration": 20,
    "start_time": "2022-03-30T17:13:48.120Z"
   },
   {
    "duration": 38,
    "start_time": "2022-03-30T17:13:48.143Z"
   },
   {
    "duration": 21,
    "start_time": "2022-03-30T17:13:48.183Z"
   },
   {
    "duration": 75,
    "start_time": "2022-03-30T17:13:48.206Z"
   },
   {
    "duration": 8,
    "start_time": "2022-03-30T17:13:48.283Z"
   },
   {
    "duration": 148,
    "start_time": "2022-03-30T17:13:48.293Z"
   },
   {
    "duration": 43,
    "start_time": "2022-03-30T17:13:48.443Z"
   },
   {
    "duration": 39,
    "start_time": "2022-03-30T17:13:48.488Z"
   },
   {
    "duration": 324,
    "start_time": "2022-03-30T17:13:48.529Z"
   },
   {
    "duration": 327,
    "start_time": "2022-03-30T17:13:48.855Z"
   },
   {
    "duration": 291,
    "start_time": "2022-03-30T17:13:49.185Z"
   },
   {
    "duration": 11,
    "start_time": "2022-03-30T17:13:49.479Z"
   },
   {
    "duration": 4,
    "start_time": "2022-03-30T17:13:49.493Z"
   },
   {
    "duration": 74,
    "start_time": "2022-03-30T17:13:49.500Z"
   },
   {
    "duration": 309,
    "start_time": "2022-03-30T17:13:49.578Z"
   },
   {
    "duration": 296,
    "start_time": "2022-03-30T17:13:49.890Z"
   },
   {
    "duration": 400,
    "start_time": "2022-03-30T17:13:50.189Z"
   },
   {
    "duration": 14,
    "start_time": "2022-03-30T17:13:50.594Z"
   },
   {
    "duration": 58,
    "start_time": "2022-03-30T17:13:50.616Z"
   },
   {
    "duration": 155,
    "start_time": "2022-03-30T17:18:40.603Z"
   },
   {
    "duration": 129,
    "start_time": "2022-03-30T17:28:58.463Z"
   },
   {
    "duration": 95,
    "start_time": "2022-03-30T17:29:08.318Z"
   },
   {
    "duration": 15,
    "start_time": "2022-03-30T17:40:15.466Z"
   },
   {
    "duration": 26,
    "start_time": "2022-03-30T17:40:45.757Z"
   },
   {
    "duration": 18,
    "start_time": "2022-03-30T17:40:46.459Z"
   },
   {
    "duration": 85,
    "start_time": "2022-03-30T17:40:47.714Z"
   },
   {
    "duration": 25,
    "start_time": "2022-03-30T17:40:48.993Z"
   },
   {
    "duration": 23,
    "start_time": "2022-03-30T17:40:49.646Z"
   },
   {
    "duration": 35,
    "start_time": "2022-03-30T17:40:50.926Z"
   },
   {
    "duration": 7,
    "start_time": "2022-03-30T17:40:51.538Z"
   },
   {
    "duration": 25,
    "start_time": "2022-03-30T17:40:52.666Z"
   },
   {
    "duration": 36,
    "start_time": "2022-03-30T17:40:53.258Z"
   },
   {
    "duration": 20,
    "start_time": "2022-03-30T17:40:54.418Z"
   },
   {
    "duration": 20,
    "start_time": "2022-03-30T17:40:55.297Z"
   },
   {
    "duration": 21,
    "start_time": "2022-03-30T17:40:55.625Z"
   },
   {
    "duration": 5,
    "start_time": "2022-03-30T17:40:56.362Z"
   },
   {
    "duration": 73,
    "start_time": "2022-03-30T17:40:57.677Z"
   },
   {
    "duration": 67,
    "start_time": "2022-03-30T17:40:58.101Z"
   },
   {
    "duration": 26,
    "start_time": "2022-03-30T17:40:58.621Z"
   },
   {
    "duration": 37,
    "start_time": "2022-03-30T17:40:58.861Z"
   },
   {
    "duration": 34,
    "start_time": "2022-03-30T17:40:59.414Z"
   },
   {
    "duration": 12,
    "start_time": "2022-03-30T17:40:59.719Z"
   },
   {
    "duration": 21,
    "start_time": "2022-03-30T17:41:00.004Z"
   },
   {
    "duration": 52,
    "start_time": "2022-03-30T17:41:00.261Z"
   },
   {
    "duration": 22,
    "start_time": "2022-03-30T17:41:00.495Z"
   },
   {
    "duration": 16,
    "start_time": "2022-03-30T17:41:00.736Z"
   },
   {
    "duration": 35,
    "start_time": "2022-03-30T17:41:01.202Z"
   },
   {
    "duration": 75,
    "start_time": "2022-03-30T17:41:01.678Z"
   },
   {
    "duration": 8,
    "start_time": "2022-03-30T17:41:02.422Z"
   },
   {
    "duration": 186,
    "start_time": "2022-03-30T17:41:02.686Z"
   },
   {
    "duration": 52,
    "start_time": "2022-03-30T17:41:02.937Z"
   },
   {
    "duration": 59,
    "start_time": "2022-03-30T17:41:04.061Z"
   },
   {
    "duration": 478,
    "start_time": "2022-03-30T17:41:04.978Z"
   },
   {
    "duration": 457,
    "start_time": "2022-03-30T17:41:06.035Z"
   },
   {
    "duration": 396,
    "start_time": "2022-03-30T17:41:08.386Z"
   },
   {
    "duration": 12,
    "start_time": "2022-03-30T17:41:13.106Z"
   },
   {
    "duration": 13,
    "start_time": "2022-03-30T17:41:31.401Z"
   },
   {
    "duration": 28,
    "start_time": "2022-03-30T17:42:00.242Z"
   },
   {
    "duration": 16,
    "start_time": "2022-03-30T17:45:51.921Z"
   },
   {
    "duration": 32,
    "start_time": "2022-03-30T17:46:27.279Z"
   },
   {
    "duration": 264,
    "start_time": "2022-03-30T17:47:26.009Z"
   },
   {
    "duration": 23,
    "start_time": "2022-03-30T17:47:50.366Z"
   },
   {
    "duration": 28,
    "start_time": "2022-03-30T17:48:36.333Z"
   },
   {
    "duration": 23,
    "start_time": "2022-03-30T17:52:22.171Z"
   },
   {
    "duration": 23,
    "start_time": "2022-03-30T17:52:34.487Z"
   },
   {
    "duration": 298,
    "start_time": "2022-03-30T18:06:15.003Z"
   },
   {
    "duration": 278,
    "start_time": "2022-03-30T18:11:36.835Z"
   },
   {
    "duration": 36,
    "start_time": "2022-03-30T18:13:34.572Z"
   },
   {
    "duration": 54,
    "start_time": "2022-03-30T18:13:36.901Z"
   },
   {
    "duration": 416,
    "start_time": "2022-03-30T18:13:38.127Z"
   },
   {
    "duration": 290,
    "start_time": "2022-03-30T18:13:39.302Z"
   },
   {
    "duration": 255,
    "start_time": "2022-03-30T18:13:40.434Z"
   },
   {
    "duration": 10,
    "start_time": "2022-03-30T18:13:40.973Z"
   },
   {
    "duration": 37,
    "start_time": "2022-03-30T18:13:42.459Z"
   },
   {
    "duration": 305,
    "start_time": "2022-03-30T18:13:43.458Z"
   },
   {
    "duration": 267,
    "start_time": "2022-03-30T18:13:44.559Z"
   },
   {
    "duration": 267,
    "start_time": "2022-03-30T18:13:45.559Z"
   },
   {
    "duration": 13,
    "start_time": "2022-03-30T18:13:46.042Z"
   },
   {
    "duration": 305,
    "start_time": "2022-03-30T18:14:19.014Z"
   },
   {
    "duration": 519,
    "start_time": "2022-03-30T18:15:06.795Z"
   },
   {
    "duration": 9,
    "start_time": "2022-03-30T18:16:12.082Z"
   },
   {
    "duration": 136,
    "start_time": "2022-03-30T18:16:13.054Z"
   },
   {
    "duration": 33,
    "start_time": "2022-03-30T18:16:14.146Z"
   },
   {
    "duration": 489,
    "start_time": "2022-03-30T18:16:19.058Z"
   },
   {
    "duration": 22,
    "start_time": "2022-03-30T18:16:19.550Z"
   },
   {
    "duration": 20,
    "start_time": "2022-03-30T18:16:19.574Z"
   },
   {
    "duration": 21,
    "start_time": "2022-03-30T18:16:19.598Z"
   },
   {
    "duration": 25,
    "start_time": "2022-03-30T18:16:19.621Z"
   },
   {
    "duration": 55,
    "start_time": "2022-03-30T18:16:19.649Z"
   },
   {
    "duration": 85,
    "start_time": "2022-03-30T18:16:19.707Z"
   },
   {
    "duration": 7,
    "start_time": "2022-03-30T18:16:19.794Z"
   },
   {
    "duration": 30,
    "start_time": "2022-03-30T18:16:19.803Z"
   },
   {
    "duration": 41,
    "start_time": "2022-03-30T18:16:19.837Z"
   },
   {
    "duration": 37,
    "start_time": "2022-03-30T18:16:19.881Z"
   },
   {
    "duration": 21,
    "start_time": "2022-03-30T18:16:19.920Z"
   },
   {
    "duration": 82,
    "start_time": "2022-03-30T18:16:19.942Z"
   },
   {
    "duration": 13,
    "start_time": "2022-03-30T18:16:20.026Z"
   },
   {
    "duration": 79,
    "start_time": "2022-03-30T18:16:20.041Z"
   },
   {
    "duration": 65,
    "start_time": "2022-03-30T18:16:20.123Z"
   },
   {
    "duration": 24,
    "start_time": "2022-03-30T18:16:20.191Z"
   },
   {
    "duration": 56,
    "start_time": "2022-03-30T18:16:20.217Z"
   },
   {
    "duration": 36,
    "start_time": "2022-03-30T18:16:20.275Z"
   },
   {
    "duration": 4,
    "start_time": "2022-03-30T18:16:20.313Z"
   },
   {
    "duration": 60,
    "start_time": "2022-03-30T18:16:20.319Z"
   },
   {
    "duration": 52,
    "start_time": "2022-03-30T18:16:20.382Z"
   },
   {
    "duration": 40,
    "start_time": "2022-03-30T18:16:20.436Z"
   },
   {
    "duration": 11,
    "start_time": "2022-03-30T18:16:20.478Z"
   },
   {
    "duration": 21,
    "start_time": "2022-03-30T18:16:20.491Z"
   },
   {
    "duration": 94,
    "start_time": "2022-03-30T18:16:20.514Z"
   },
   {
    "duration": 9,
    "start_time": "2022-03-30T18:16:20.611Z"
   },
   {
    "duration": 149,
    "start_time": "2022-03-30T18:16:20.624Z"
   },
   {
    "duration": 34,
    "start_time": "2022-03-30T18:16:20.776Z"
   },
   {
    "duration": 74,
    "start_time": "2022-03-30T18:16:20.813Z"
   },
   {
    "duration": 376,
    "start_time": "2022-03-30T18:16:20.889Z"
   },
   {
    "duration": 306,
    "start_time": "2022-03-30T18:16:21.274Z"
   },
   {
    "duration": 296,
    "start_time": "2022-03-30T18:16:21.583Z"
   },
   {
    "duration": 12,
    "start_time": "2022-03-30T18:16:21.881Z"
   },
   {
    "duration": 80,
    "start_time": "2022-03-30T18:16:21.896Z"
   },
   {
    "duration": 491,
    "start_time": "2022-03-30T18:16:21.978Z"
   },
   {
    "duration": 426,
    "start_time": "2022-03-30T18:16:22.474Z"
   },
   {
    "duration": 742,
    "start_time": "2022-03-30T18:16:22.902Z"
   },
   {
    "duration": 12,
    "start_time": "2022-03-30T18:16:23.647Z"
   },
   {
    "duration": 286,
    "start_time": "2022-03-30T18:17:59.700Z"
   },
   {
    "duration": 278,
    "start_time": "2022-03-30T18:18:25.850Z"
   },
   {
    "duration": 394,
    "start_time": "2022-03-30T18:18:40.262Z"
   },
   {
    "duration": 426,
    "start_time": "2022-03-30T18:29:28.017Z"
   },
   {
    "duration": 512,
    "start_time": "2022-03-30T18:30:47.368Z"
   },
   {
    "duration": 442,
    "start_time": "2022-03-30T18:31:50.263Z"
   },
   {
    "duration": 55,
    "start_time": "2022-03-30T18:47:57.960Z"
   },
   {
    "duration": 6,
    "start_time": "2022-03-30T18:48:04.555Z"
   },
   {
    "duration": 1877,
    "start_time": "2022-03-30T18:48:12.365Z"
   },
   {
    "duration": 18,
    "start_time": "2022-03-30T18:48:14.245Z"
   },
   {
    "duration": 14,
    "start_time": "2022-03-30T18:48:14.265Z"
   },
   {
    "duration": 169,
    "start_time": "2022-03-30T18:48:14.282Z"
   },
   {
    "duration": 76,
    "start_time": "2022-03-30T18:48:14.453Z"
   },
   {
    "duration": 31,
    "start_time": "2022-03-30T18:48:14.532Z"
   },
   {
    "duration": 57,
    "start_time": "2022-03-30T18:48:14.565Z"
   },
   {
    "duration": 6,
    "start_time": "2022-03-30T18:48:14.624Z"
   },
   {
    "duration": 12,
    "start_time": "2022-03-30T18:48:14.632Z"
   },
   {
    "duration": 23,
    "start_time": "2022-03-30T18:48:14.648Z"
   },
   {
    "duration": 44,
    "start_time": "2022-03-30T18:48:14.674Z"
   },
   {
    "duration": 13,
    "start_time": "2022-03-30T18:48:14.720Z"
   },
   {
    "duration": 73,
    "start_time": "2022-03-30T18:48:14.735Z"
   },
   {
    "duration": 9,
    "start_time": "2022-03-30T18:48:14.810Z"
   },
   {
    "duration": 57,
    "start_time": "2022-03-30T18:48:14.821Z"
   },
   {
    "duration": 57,
    "start_time": "2022-03-30T18:48:14.880Z"
   },
   {
    "duration": 19,
    "start_time": "2022-03-30T18:48:14.939Z"
   },
   {
    "duration": 65,
    "start_time": "2022-03-30T18:48:14.960Z"
   },
   {
    "duration": 38,
    "start_time": "2022-03-30T18:48:15.028Z"
   },
   {
    "duration": 4,
    "start_time": "2022-03-30T18:48:15.068Z"
   },
   {
    "duration": 47,
    "start_time": "2022-03-30T18:48:15.074Z"
   },
   {
    "duration": 31,
    "start_time": "2022-03-30T18:48:15.123Z"
   },
   {
    "duration": 14,
    "start_time": "2022-03-30T18:48:15.157Z"
   },
   {
    "duration": 34,
    "start_time": "2022-03-30T18:48:15.173Z"
   },
   {
    "duration": 15,
    "start_time": "2022-03-30T18:48:15.208Z"
   },
   {
    "duration": 41,
    "start_time": "2022-03-30T18:48:15.225Z"
   },
   {
    "duration": 33,
    "start_time": "2022-03-30T18:48:15.268Z"
   },
   {
    "duration": 82,
    "start_time": "2022-03-30T18:48:15.305Z"
   },
   {
    "duration": 34,
    "start_time": "2022-03-30T18:48:15.389Z"
   },
   {
    "duration": 30,
    "start_time": "2022-03-30T18:48:15.425Z"
   },
   {
    "duration": 85,
    "start_time": "2022-03-30T18:48:15.457Z"
   },
   {
    "duration": 220,
    "start_time": "2022-03-30T18:48:15.544Z"
   },
   {
    "duration": 182,
    "start_time": "2022-03-30T18:48:15.766Z"
   },
   {
    "duration": 184,
    "start_time": "2022-03-30T18:48:15.950Z"
   },
   {
    "duration": 9,
    "start_time": "2022-03-30T18:48:16.136Z"
   },
   {
    "duration": 27,
    "start_time": "2022-03-30T18:48:16.148Z"
   },
   {
    "duration": 200,
    "start_time": "2022-03-30T18:48:16.201Z"
   },
   {
    "duration": 177,
    "start_time": "2022-03-30T18:48:16.403Z"
   },
   {
    "duration": 281,
    "start_time": "2022-03-30T18:48:16.582Z"
   },
   {
    "duration": 8,
    "start_time": "2022-03-30T18:48:16.865Z"
   },
   {
    "duration": 359,
    "start_time": "2022-03-30T18:48:16.875Z"
   },
   {
    "duration": 64,
    "start_time": "2022-03-30T18:51:18.153Z"
   },
   {
    "duration": 167,
    "start_time": "2022-03-30T18:51:25.916Z"
   },
   {
    "duration": 173,
    "start_time": "2022-03-30T18:51:38.544Z"
   },
   {
    "duration": 160,
    "start_time": "2022-03-30T18:51:39.811Z"
   },
   {
    "duration": 263,
    "start_time": "2022-03-30T18:51:41.481Z"
   },
   {
    "duration": 10,
    "start_time": "2022-03-30T18:51:42.794Z"
   },
   {
    "duration": 229,
    "start_time": "2022-03-30T18:51:44.322Z"
   },
   {
    "duration": 27,
    "start_time": "2022-03-30T18:52:10.902Z"
   },
   {
    "duration": 64,
    "start_time": "2022-03-30T18:52:11.778Z"
   },
   {
    "duration": 169,
    "start_time": "2022-03-30T18:52:13.440Z"
   },
   {
    "duration": 154,
    "start_time": "2022-03-30T18:52:15.353Z"
   },
   {
    "duration": 27,
    "start_time": "2022-03-30T18:53:11.061Z"
   },
   {
    "duration": 148,
    "start_time": "2022-03-30T18:53:12.423Z"
   },
   {
    "duration": 183,
    "start_time": "2022-03-30T18:53:14.288Z"
   },
   {
    "duration": 181,
    "start_time": "2022-03-30T18:53:21.687Z"
   },
   {
    "duration": 259,
    "start_time": "2022-03-30T18:53:24.009Z"
   },
   {
    "duration": 9,
    "start_time": "2022-03-30T18:53:25.344Z"
   },
   {
    "duration": 1707,
    "start_time": "2022-03-30T18:54:43.589Z"
   },
   {
    "duration": 19,
    "start_time": "2022-03-30T18:54:45.298Z"
   },
   {
    "duration": 12,
    "start_time": "2022-03-30T18:54:45.318Z"
   },
   {
    "duration": 13,
    "start_time": "2022-03-30T18:54:45.332Z"
   },
   {
    "duration": 18,
    "start_time": "2022-03-30T18:54:45.347Z"
   },
   {
    "duration": 45,
    "start_time": "2022-03-30T18:54:45.366Z"
   },
   {
    "duration": 55,
    "start_time": "2022-03-30T18:54:45.413Z"
   },
   {
    "duration": 5,
    "start_time": "2022-03-30T18:54:45.469Z"
   },
   {
    "duration": 27,
    "start_time": "2022-03-30T18:54:45.476Z"
   },
   {
    "duration": 33,
    "start_time": "2022-03-30T18:54:45.506Z"
   },
   {
    "duration": 23,
    "start_time": "2022-03-30T18:54:45.541Z"
   },
   {
    "duration": 14,
    "start_time": "2022-03-30T18:54:45.566Z"
   },
   {
    "duration": 44,
    "start_time": "2022-03-30T18:54:45.601Z"
   },
   {
    "duration": 9,
    "start_time": "2022-03-30T18:54:45.647Z"
   },
   {
    "duration": 77,
    "start_time": "2022-03-30T18:54:45.657Z"
   },
   {
    "duration": 41,
    "start_time": "2022-03-30T18:54:45.735Z"
   },
   {
    "duration": 46,
    "start_time": "2022-03-30T18:54:45.778Z"
   },
   {
    "duration": 49,
    "start_time": "2022-03-30T18:54:45.826Z"
   },
   {
    "duration": 24,
    "start_time": "2022-03-30T18:54:45.877Z"
   },
   {
    "duration": 4,
    "start_time": "2022-03-30T18:54:45.903Z"
   },
   {
    "duration": 28,
    "start_time": "2022-03-30T18:54:45.908Z"
   },
   {
    "duration": 31,
    "start_time": "2022-03-30T18:54:45.938Z"
   },
   {
    "duration": 37,
    "start_time": "2022-03-30T18:54:45.971Z"
   },
   {
    "duration": 9,
    "start_time": "2022-03-30T18:54:46.010Z"
   },
   {
    "duration": 17,
    "start_time": "2022-03-30T18:54:46.021Z"
   },
   {
    "duration": 68,
    "start_time": "2022-03-30T18:54:46.040Z"
   },
   {
    "duration": 7,
    "start_time": "2022-03-30T18:54:46.110Z"
   },
   {
    "duration": 92,
    "start_time": "2022-03-30T18:54:46.120Z"
   },
   {
    "duration": 26,
    "start_time": "2022-03-30T18:54:46.214Z"
   },
   {
    "duration": 28,
    "start_time": "2022-03-30T18:54:46.241Z"
   },
   {
    "duration": 79,
    "start_time": "2022-03-30T18:54:46.271Z"
   },
   {
    "duration": 189,
    "start_time": "2022-03-30T18:54:46.352Z"
   },
   {
    "duration": 183,
    "start_time": "2022-03-30T18:54:46.543Z"
   },
   {
    "duration": 177,
    "start_time": "2022-03-30T18:54:46.728Z"
   },
   {
    "duration": 8,
    "start_time": "2022-03-30T18:54:46.907Z"
   },
   {
    "duration": 26,
    "start_time": "2022-03-30T18:54:46.917Z"
   },
   {
    "duration": 82,
    "start_time": "2022-03-30T18:54:46.946Z"
   },
   {
    "duration": 196,
    "start_time": "2022-03-30T18:54:47.030Z"
   },
   {
    "duration": 197,
    "start_time": "2022-03-30T18:54:47.229Z"
   },
   {
    "duration": 280,
    "start_time": "2022-03-30T18:54:47.428Z"
   },
   {
    "duration": 9,
    "start_time": "2022-03-30T18:54:47.710Z"
   },
   {
    "duration": 340,
    "start_time": "2022-03-30T19:00:39.951Z"
   },
   {
    "duration": 2206,
    "start_time": "2022-03-31T15:37:13.789Z"
   },
   {
    "duration": 23,
    "start_time": "2022-03-31T15:37:15.998Z"
   },
   {
    "duration": 17,
    "start_time": "2022-03-31T15:37:16.023Z"
   },
   {
    "duration": 32,
    "start_time": "2022-03-31T15:37:16.042Z"
   },
   {
    "duration": 15,
    "start_time": "2022-03-31T15:37:16.076Z"
   },
   {
    "duration": 34,
    "start_time": "2022-03-31T15:37:16.093Z"
   },
   {
    "duration": 97,
    "start_time": "2022-03-31T15:37:16.129Z"
   },
   {
    "duration": 5,
    "start_time": "2022-03-31T15:37:16.228Z"
   },
   {
    "duration": 15,
    "start_time": "2022-03-31T15:37:16.236Z"
   },
   {
    "duration": 24,
    "start_time": "2022-03-31T15:37:16.275Z"
   },
   {
    "duration": 28,
    "start_time": "2022-03-31T15:37:16.301Z"
   },
   {
    "duration": 42,
    "start_time": "2022-03-31T15:37:16.331Z"
   },
   {
    "duration": 57,
    "start_time": "2022-03-31T15:37:16.375Z"
   },
   {
    "duration": 10,
    "start_time": "2022-03-31T15:37:16.435Z"
   },
   {
    "duration": 93,
    "start_time": "2022-03-31T15:37:16.447Z"
   },
   {
    "duration": 64,
    "start_time": "2022-03-31T15:37:16.542Z"
   },
   {
    "duration": 23,
    "start_time": "2022-03-31T15:37:16.608Z"
   },
   {
    "duration": 57,
    "start_time": "2022-03-31T15:37:16.633Z"
   },
   {
    "duration": 30,
    "start_time": "2022-03-31T15:37:16.692Z"
   },
   {
    "duration": 4,
    "start_time": "2022-03-31T15:37:16.724Z"
   },
   {
    "duration": 63,
    "start_time": "2022-03-31T15:37:16.730Z"
   },
   {
    "duration": 45,
    "start_time": "2022-03-31T15:37:16.795Z"
   },
   {
    "duration": 40,
    "start_time": "2022-03-31T15:37:16.842Z"
   },
   {
    "duration": 12,
    "start_time": "2022-03-31T15:37:16.884Z"
   },
   {
    "duration": 21,
    "start_time": "2022-03-31T15:37:16.898Z"
   },
   {
    "duration": 72,
    "start_time": "2022-03-31T15:37:16.920Z"
   },
   {
    "duration": 9,
    "start_time": "2022-03-31T15:37:16.994Z"
   },
   {
    "duration": 141,
    "start_time": "2022-03-31T15:37:17.007Z"
   },
   {
    "duration": 37,
    "start_time": "2022-03-31T15:37:17.150Z"
   },
   {
    "duration": 39,
    "start_time": "2022-03-31T15:37:17.189Z"
   },
   {
    "duration": 107,
    "start_time": "2022-03-31T15:37:17.230Z"
   },
   {
    "duration": 275,
    "start_time": "2022-03-31T15:37:17.339Z"
   },
   {
    "duration": 268,
    "start_time": "2022-03-31T15:37:17.616Z"
   },
   {
    "duration": 259,
    "start_time": "2022-03-31T15:37:17.886Z"
   },
   {
    "duration": 44,
    "start_time": "2022-03-31T15:37:18.147Z"
   },
   {
    "duration": 97,
    "start_time": "2022-03-31T15:37:18.193Z"
   },
   {
    "duration": 294,
    "start_time": "2022-03-31T15:37:18.292Z"
   },
   {
    "duration": 295,
    "start_time": "2022-03-31T15:37:18.588Z"
   },
   {
    "duration": 490,
    "start_time": "2022-03-31T15:37:18.885Z"
   },
   {
    "duration": 51,
    "start_time": "2022-03-31T18:02:04.127Z"
   },
   {
    "duration": 10,
    "start_time": "2022-03-31T18:04:10.556Z"
   },
   {
    "duration": 6,
    "start_time": "2022-03-31T18:04:31.333Z"
   },
   {
    "duration": 7,
    "start_time": "2022-03-31T18:07:30.982Z"
   },
   {
    "duration": 135,
    "start_time": "2022-03-31T18:18:48.855Z"
   },
   {
    "duration": 10,
    "start_time": "2022-03-31T18:19:04.420Z"
   },
   {
    "duration": 14,
    "start_time": "2022-03-31T18:19:18.699Z"
   },
   {
    "duration": 142,
    "start_time": "2022-03-31T18:24:01.618Z"
   },
   {
    "duration": 13,
    "start_time": "2022-03-31T18:24:12.306Z"
   },
   {
    "duration": 11,
    "start_time": "2022-03-31T18:25:00.069Z"
   },
   {
    "duration": 153,
    "start_time": "2022-03-31T18:25:22.886Z"
   },
   {
    "duration": 6,
    "start_time": "2022-03-31T18:28:41.393Z"
   },
   {
    "duration": 38,
    "start_time": "2022-03-31T18:29:29.668Z"
   },
   {
    "duration": 22,
    "start_time": "2022-03-31T18:29:55.454Z"
   },
   {
    "duration": 6,
    "start_time": "2022-03-31T18:34:11.036Z"
   },
   {
    "duration": 24,
    "start_time": "2022-03-31T18:34:48.875Z"
   },
   {
    "duration": 6,
    "start_time": "2022-03-31T18:34:52.847Z"
   },
   {
    "duration": 5,
    "start_time": "2022-03-31T18:41:49.347Z"
   },
   {
    "duration": 4,
    "start_time": "2022-03-31T18:41:54.251Z"
   },
   {
    "duration": 199,
    "start_time": "2022-03-31T19:23:05.545Z"
   },
   {
    "duration": 199,
    "start_time": "2022-03-31T19:23:13.027Z"
   },
   {
    "duration": 252,
    "start_time": "2022-03-31T19:33:36.110Z"
   },
   {
    "duration": 190,
    "start_time": "2022-03-31T19:36:26.394Z"
   },
   {
    "duration": 5,
    "start_time": "2022-03-31T20:38:48.856Z"
   },
   {
    "duration": 2132,
    "start_time": "2022-04-11T16:40:46.668Z"
   },
   {
    "duration": 73,
    "start_time": "2022-04-11T16:40:48.802Z"
   },
   {
    "duration": 21,
    "start_time": "2022-04-11T16:40:48.877Z"
   },
   {
    "duration": 60,
    "start_time": "2022-04-11T16:40:48.901Z"
   },
   {
    "duration": 20,
    "start_time": "2022-04-11T16:40:48.963Z"
   },
   {
    "duration": 87,
    "start_time": "2022-04-11T16:40:48.986Z"
   },
   {
    "duration": 187,
    "start_time": "2022-04-11T16:40:49.076Z"
   },
   {
    "duration": 6,
    "start_time": "2022-04-11T16:40:49.265Z"
   },
   {
    "duration": 20,
    "start_time": "2022-04-11T16:40:49.272Z"
   },
   {
    "duration": 82,
    "start_time": "2022-04-11T16:40:49.295Z"
   },
   {
    "duration": 81,
    "start_time": "2022-04-11T16:40:49.379Z"
   },
   {
    "duration": 17,
    "start_time": "2022-04-11T16:40:49.462Z"
   },
   {
    "duration": 100,
    "start_time": "2022-04-11T16:40:49.481Z"
   },
   {
    "duration": 8,
    "start_time": "2022-04-11T16:40:49.582Z"
   },
   {
    "duration": 104,
    "start_time": "2022-04-11T16:40:49.591Z"
   },
   {
    "duration": 84,
    "start_time": "2022-04-11T16:40:49.697Z"
   },
   {
    "duration": 72,
    "start_time": "2022-04-11T16:40:49.783Z"
   },
   {
    "duration": 29,
    "start_time": "2022-04-11T16:40:49.856Z"
   },
   {
    "duration": 20,
    "start_time": "2022-04-11T16:40:49.886Z"
   },
   {
    "duration": 48,
    "start_time": "2022-04-11T16:40:49.908Z"
   },
   {
    "duration": 29,
    "start_time": "2022-04-11T16:40:49.957Z"
   },
   {
    "duration": 28,
    "start_time": "2022-04-11T16:40:49.988Z"
   },
   {
    "duration": 15,
    "start_time": "2022-04-11T16:40:50.017Z"
   },
   {
    "duration": 7,
    "start_time": "2022-04-11T16:40:50.055Z"
   },
   {
    "duration": 15,
    "start_time": "2022-04-11T16:40:50.064Z"
   },
   {
    "duration": 28,
    "start_time": "2022-04-11T16:40:50.080Z"
   },
   {
    "duration": 5,
    "start_time": "2022-04-11T16:40:50.110Z"
   },
   {
    "duration": 92,
    "start_time": "2022-04-11T16:40:50.118Z"
   },
   {
    "duration": 19,
    "start_time": "2022-04-11T16:40:50.211Z"
   },
   {
    "duration": 35,
    "start_time": "2022-04-11T16:40:50.232Z"
   },
   {
    "duration": 47,
    "start_time": "2022-04-11T16:40:50.268Z"
   },
   {
    "duration": 166,
    "start_time": "2022-04-11T16:40:50.316Z"
   },
   {
    "duration": 155,
    "start_time": "2022-04-11T16:40:50.485Z"
   },
   {
    "duration": 146,
    "start_time": "2022-04-11T16:40:50.642Z"
   },
   {
    "duration": 20,
    "start_time": "2022-04-11T16:40:50.789Z"
   },
   {
    "duration": 62,
    "start_time": "2022-04-11T16:40:50.811Z"
   },
   {
    "duration": 181,
    "start_time": "2022-04-11T16:40:50.875Z"
   },
   {
    "duration": 152,
    "start_time": "2022-04-11T16:40:51.057Z"
   },
   {
    "duration": 224,
    "start_time": "2022-04-11T16:40:51.210Z"
   },
   {
    "duration": 4,
    "start_time": "2022-04-11T16:40:51.436Z"
   },
   {
    "duration": 16,
    "start_time": "2022-04-11T16:40:51.441Z"
   },
   {
    "duration": 7,
    "start_time": "2022-04-11T16:40:51.458Z"
   },
   {
    "duration": 6,
    "start_time": "2022-04-11T16:40:51.466Z"
   },
   {
    "duration": 14,
    "start_time": "2022-04-11T16:51:59.643Z"
   },
   {
    "duration": 1543,
    "start_time": "2022-04-11T17:23:45.368Z"
   },
   {
    "duration": 17,
    "start_time": "2022-04-11T17:23:46.913Z"
   },
   {
    "duration": 10,
    "start_time": "2022-04-11T17:23:46.932Z"
   },
   {
    "duration": 15,
    "start_time": "2022-04-11T17:23:46.943Z"
   },
   {
    "duration": 10,
    "start_time": "2022-04-11T17:23:46.960Z"
   },
   {
    "duration": 24,
    "start_time": "2022-04-11T17:23:46.972Z"
   },
   {
    "duration": 74,
    "start_time": "2022-04-11T17:23:46.998Z"
   },
   {
    "duration": 4,
    "start_time": "2022-04-11T17:23:47.074Z"
   },
   {
    "duration": 11,
    "start_time": "2022-04-11T17:23:47.080Z"
   },
   {
    "duration": 32,
    "start_time": "2022-04-11T17:23:47.092Z"
   },
   {
    "duration": 19,
    "start_time": "2022-04-11T17:23:47.125Z"
   },
   {
    "duration": 12,
    "start_time": "2022-04-11T17:23:47.154Z"
   },
   {
    "duration": 39,
    "start_time": "2022-04-11T17:23:47.167Z"
   },
   {
    "duration": 7,
    "start_time": "2022-04-11T17:23:47.209Z"
   },
   {
    "duration": 70,
    "start_time": "2022-04-11T17:23:47.218Z"
   },
   {
    "duration": 35,
    "start_time": "2022-04-11T17:23:47.290Z"
   },
   {
    "duration": 30,
    "start_time": "2022-04-11T17:23:47.327Z"
   },
   {
    "duration": 27,
    "start_time": "2022-04-11T17:23:47.359Z"
   },
   {
    "duration": 19,
    "start_time": "2022-04-11T17:23:47.388Z"
   },
   {
    "duration": 3,
    "start_time": "2022-04-11T17:23:47.408Z"
   },
   {
    "duration": 44,
    "start_time": "2022-04-11T17:23:47.413Z"
   },
   {
    "duration": 28,
    "start_time": "2022-04-11T17:23:47.458Z"
   },
   {
    "duration": 11,
    "start_time": "2022-04-11T17:23:47.488Z"
   },
   {
    "duration": 12,
    "start_time": "2022-04-11T17:23:47.501Z"
   },
   {
    "duration": 17,
    "start_time": "2022-04-11T17:23:47.514Z"
   },
   {
    "duration": 28,
    "start_time": "2022-04-11T17:23:47.554Z"
   },
   {
    "duration": 5,
    "start_time": "2022-04-11T17:23:47.583Z"
   },
   {
    "duration": 87,
    "start_time": "2022-04-11T17:23:47.590Z"
   },
   {
    "duration": 20,
    "start_time": "2022-04-11T17:23:47.678Z"
   },
   {
    "duration": 24,
    "start_time": "2022-04-11T17:23:47.700Z"
   },
   {
    "duration": 56,
    "start_time": "2022-04-11T17:23:47.726Z"
   },
   {
    "duration": 49,
    "start_time": "2022-04-11T17:23:47.783Z"
   },
   {
    "duration": 177,
    "start_time": "2022-04-11T17:23:47.834Z"
   },
   {
    "duration": 160,
    "start_time": "2022-04-11T17:23:48.013Z"
   },
   {
    "duration": 150,
    "start_time": "2022-04-11T17:23:48.174Z"
   },
   {
    "duration": 30,
    "start_time": "2022-04-11T17:23:48.326Z"
   },
   {
    "duration": 52,
    "start_time": "2022-04-11T17:23:48.358Z"
   },
   {
    "duration": 201,
    "start_time": "2022-04-11T17:23:48.412Z"
   },
   {
    "duration": 166,
    "start_time": "2022-04-11T17:23:48.615Z"
   },
   {
    "duration": 306,
    "start_time": "2022-04-11T17:23:48.783Z"
   },
   {
    "duration": 5,
    "start_time": "2022-04-11T17:23:49.093Z"
   },
   {
    "duration": 7,
    "start_time": "2022-04-11T17:23:49.099Z"
   },
   {
    "duration": 6,
    "start_time": "2022-04-11T17:23:49.108Z"
   },
   {
    "duration": 11,
    "start_time": "2022-04-11T17:23:49.116Z"
   },
   {
    "duration": 1493,
    "start_time": "2022-04-11T17:29:03.638Z"
   },
   {
    "duration": 16,
    "start_time": "2022-04-11T17:29:05.133Z"
   },
   {
    "duration": 17,
    "start_time": "2022-04-11T17:29:05.153Z"
   },
   {
    "duration": 18,
    "start_time": "2022-04-11T17:29:05.172Z"
   },
   {
    "duration": 11,
    "start_time": "2022-04-11T17:29:05.192Z"
   },
   {
    "duration": 38,
    "start_time": "2022-04-11T17:29:05.205Z"
   },
   {
    "duration": 54,
    "start_time": "2022-04-11T17:29:05.244Z"
   },
   {
    "duration": 4,
    "start_time": "2022-04-11T17:29:05.299Z"
   },
   {
    "duration": 16,
    "start_time": "2022-04-11T17:29:05.305Z"
   },
   {
    "duration": 29,
    "start_time": "2022-04-11T17:29:05.325Z"
   },
   {
    "duration": 21,
    "start_time": "2022-04-11T17:29:05.356Z"
   },
   {
    "duration": 12,
    "start_time": "2022-04-11T17:29:05.379Z"
   },
   {
    "duration": 61,
    "start_time": "2022-04-11T17:29:05.393Z"
   },
   {
    "duration": 8,
    "start_time": "2022-04-11T17:29:05.456Z"
   },
   {
    "duration": 48,
    "start_time": "2022-04-11T17:29:05.465Z"
   },
   {
    "duration": 48,
    "start_time": "2022-04-11T17:29:05.515Z"
   },
   {
    "duration": 17,
    "start_time": "2022-04-11T17:29:05.564Z"
   },
   {
    "duration": 25,
    "start_time": "2022-04-11T17:29:05.582Z"
   },
   {
    "duration": 20,
    "start_time": "2022-04-11T17:29:05.609Z"
   },
   {
    "duration": 3,
    "start_time": "2022-04-11T17:29:05.654Z"
   },
   {
    "duration": 25,
    "start_time": "2022-04-11T17:29:05.659Z"
   },
   {
    "duration": 25,
    "start_time": "2022-04-11T17:29:05.686Z"
   },
   {
    "duration": 13,
    "start_time": "2022-04-11T17:29:05.713Z"
   },
   {
    "duration": 30,
    "start_time": "2022-04-11T17:29:05.728Z"
   },
   {
    "duration": 20,
    "start_time": "2022-04-11T17:29:05.759Z"
   },
   {
    "duration": 29,
    "start_time": "2022-04-11T17:29:05.781Z"
   },
   {
    "duration": 6,
    "start_time": "2022-04-11T17:29:05.812Z"
   },
   {
    "duration": 84,
    "start_time": "2022-04-11T17:29:05.822Z"
   },
   {
    "duration": 20,
    "start_time": "2022-04-11T17:29:05.908Z"
   },
   {
    "duration": 34,
    "start_time": "2022-04-11T17:29:05.930Z"
   },
   {
    "duration": 52,
    "start_time": "2022-04-11T17:29:05.965Z"
   },
   {
    "duration": 186,
    "start_time": "2022-04-11T17:29:06.019Z"
   },
   {
    "duration": 154,
    "start_time": "2022-04-11T17:29:06.207Z"
   },
   {
    "duration": 156,
    "start_time": "2022-04-11T17:29:06.362Z"
   },
   {
    "duration": 23,
    "start_time": "2022-04-11T17:29:06.519Z"
   },
   {
    "duration": 44,
    "start_time": "2022-04-11T17:29:06.555Z"
   },
   {
    "duration": 69,
    "start_time": "2022-04-11T17:29:06.601Z"
   },
   {
    "duration": 187,
    "start_time": "2022-04-11T17:29:06.671Z"
   },
   {
    "duration": 171,
    "start_time": "2022-04-11T17:29:06.860Z"
   },
   {
    "duration": 245,
    "start_time": "2022-04-11T17:29:07.033Z"
   },
   {
    "duration": 5,
    "start_time": "2022-04-11T17:29:07.280Z"
   },
   {
    "duration": 7,
    "start_time": "2022-04-11T17:29:07.287Z"
   },
   {
    "duration": 5,
    "start_time": "2022-04-11T17:29:07.295Z"
   },
   {
    "duration": 7,
    "start_time": "2022-04-11T17:29:07.301Z"
   },
   {
    "duration": 1466,
    "start_time": "2022-04-11T17:31:56.206Z"
   },
   {
    "duration": 15,
    "start_time": "2022-04-11T17:31:57.674Z"
   },
   {
    "duration": 11,
    "start_time": "2022-04-11T17:31:57.690Z"
   },
   {
    "duration": 8,
    "start_time": "2022-04-11T17:31:57.703Z"
   },
   {
    "duration": 12,
    "start_time": "2022-04-11T17:31:57.712Z"
   },
   {
    "duration": 38,
    "start_time": "2022-04-11T17:31:57.725Z"
   },
   {
    "duration": 51,
    "start_time": "2022-04-11T17:31:57.765Z"
   },
   {
    "duration": 5,
    "start_time": "2022-04-11T17:31:57.817Z"
   },
   {
    "duration": 12,
    "start_time": "2022-04-11T17:31:57.824Z"
   },
   {
    "duration": 20,
    "start_time": "2022-04-11T17:31:57.854Z"
   },
   {
    "duration": 22,
    "start_time": "2022-04-11T17:31:57.876Z"
   },
   {
    "duration": 12,
    "start_time": "2022-04-11T17:31:57.900Z"
   },
   {
    "duration": 59,
    "start_time": "2022-04-11T17:31:57.914Z"
   },
   {
    "duration": 8,
    "start_time": "2022-04-11T17:31:57.975Z"
   },
   {
    "duration": 49,
    "start_time": "2022-04-11T17:31:57.985Z"
   },
   {
    "duration": 54,
    "start_time": "2022-04-11T17:31:58.036Z"
   },
   {
    "duration": 17,
    "start_time": "2022-04-11T17:31:58.092Z"
   },
   {
    "duration": 46,
    "start_time": "2022-04-11T17:31:58.110Z"
   },
   {
    "duration": 21,
    "start_time": "2022-04-11T17:31:58.158Z"
   },
   {
    "duration": 4,
    "start_time": "2022-04-11T17:31:58.181Z"
   },
   {
    "duration": 22,
    "start_time": "2022-04-11T17:31:58.186Z"
   },
   {
    "duration": 56,
    "start_time": "2022-04-11T17:31:58.210Z"
   },
   {
    "duration": 14,
    "start_time": "2022-04-11T17:31:58.268Z"
   },
   {
    "duration": 10,
    "start_time": "2022-04-11T17:31:58.283Z"
   },
   {
    "duration": 13,
    "start_time": "2022-04-11T17:31:58.295Z"
   },
   {
    "duration": 53,
    "start_time": "2022-04-11T17:31:58.309Z"
   },
   {
    "duration": 5,
    "start_time": "2022-04-11T17:31:58.363Z"
   },
   {
    "duration": 73,
    "start_time": "2022-04-11T17:31:58.372Z"
   },
   {
    "duration": 27,
    "start_time": "2022-04-11T17:31:58.446Z"
   },
   {
    "duration": 24,
    "start_time": "2022-04-11T17:31:58.475Z"
   },
   {
    "duration": 71,
    "start_time": "2022-04-11T17:31:58.501Z"
   },
   {
    "duration": 181,
    "start_time": "2022-04-11T17:31:58.574Z"
   },
   {
    "duration": 152,
    "start_time": "2022-04-11T17:31:58.756Z"
   },
   {
    "duration": 151,
    "start_time": "2022-04-11T17:31:58.910Z"
   },
   {
    "duration": 22,
    "start_time": "2022-04-11T17:31:59.062Z"
   },
   {
    "duration": 42,
    "start_time": "2022-04-11T17:31:59.086Z"
   },
   {
    "duration": 66,
    "start_time": "2022-04-11T17:31:59.130Z"
   },
   {
    "duration": 181,
    "start_time": "2022-04-11T17:31:59.198Z"
   },
   {
    "duration": 159,
    "start_time": "2022-04-11T17:31:59.380Z"
   },
   {
    "duration": 245,
    "start_time": "2022-04-11T17:31:59.541Z"
   },
   {
    "duration": 5,
    "start_time": "2022-04-11T17:31:59.788Z"
   },
   {
    "duration": 7,
    "start_time": "2022-04-11T17:31:59.795Z"
   },
   {
    "duration": 6,
    "start_time": "2022-04-11T17:31:59.803Z"
   },
   {
    "duration": 7,
    "start_time": "2022-04-11T17:31:59.810Z"
   },
   {
    "duration": 46,
    "start_time": "2022-04-12T10:31:20.639Z"
   },
   {
    "duration": 7,
    "start_time": "2022-04-12T10:37:30.491Z"
   },
   {
    "duration": 1624,
    "start_time": "2022-04-12T10:37:38.396Z"
   },
   {
    "duration": 440,
    "start_time": "2022-04-12T10:37:40.024Z"
   },
   {
    "duration": 19,
    "start_time": "2022-04-12T10:37:40.466Z"
   },
   {
    "duration": 12,
    "start_time": "2022-04-12T10:37:40.487Z"
   },
   {
    "duration": 8,
    "start_time": "2022-04-12T10:37:40.501Z"
   },
   {
    "duration": 21,
    "start_time": "2022-04-12T10:37:40.510Z"
   },
   {
    "duration": 35,
    "start_time": "2022-04-12T10:37:40.533Z"
   },
   {
    "duration": 90,
    "start_time": "2022-04-12T10:37:40.570Z"
   },
   {
    "duration": 4,
    "start_time": "2022-04-12T10:37:40.662Z"
   },
   {
    "duration": 11,
    "start_time": "2022-04-12T10:37:40.669Z"
   },
   {
    "duration": 41,
    "start_time": "2022-04-12T10:37:40.682Z"
   },
   {
    "duration": 27,
    "start_time": "2022-04-12T10:37:40.725Z"
   },
   {
    "duration": 15,
    "start_time": "2022-04-12T10:37:40.754Z"
   },
   {
    "duration": 74,
    "start_time": "2022-04-12T10:37:40.770Z"
   },
   {
    "duration": 9,
    "start_time": "2022-04-12T10:37:40.846Z"
   },
   {
    "duration": 70,
    "start_time": "2022-04-12T10:37:40.857Z"
   },
   {
    "duration": 44,
    "start_time": "2022-04-12T10:37:40.929Z"
   },
   {
    "duration": 20,
    "start_time": "2022-04-12T10:37:40.974Z"
   },
   {
    "duration": 55,
    "start_time": "2022-04-12T10:37:40.996Z"
   },
   {
    "duration": 28,
    "start_time": "2022-04-12T10:37:41.053Z"
   },
   {
    "duration": 4,
    "start_time": "2022-04-12T10:37:41.083Z"
   },
   {
    "duration": 52,
    "start_time": "2022-04-12T10:37:41.089Z"
   },
   {
    "duration": 42,
    "start_time": "2022-04-12T10:37:41.142Z"
   },
   {
    "duration": 18,
    "start_time": "2022-04-12T10:37:41.186Z"
   },
   {
    "duration": 8,
    "start_time": "2022-04-12T10:37:41.223Z"
   },
   {
    "duration": 18,
    "start_time": "2022-04-12T10:37:41.233Z"
   },
   {
    "duration": 39,
    "start_time": "2022-04-12T10:37:41.253Z"
   },
   {
    "duration": 8,
    "start_time": "2022-04-12T10:37:41.324Z"
   },
   {
    "duration": 119,
    "start_time": "2022-04-12T10:37:41.333Z"
   },
   {
    "duration": 28,
    "start_time": "2022-04-12T10:37:41.454Z"
   },
   {
    "duration": 42,
    "start_time": "2022-04-12T10:37:41.483Z"
   },
   {
    "duration": 51,
    "start_time": "2022-04-12T10:37:41.527Z"
   },
   {
    "duration": 163,
    "start_time": "2022-04-12T10:37:41.580Z"
   },
   {
    "duration": 150,
    "start_time": "2022-04-12T10:37:41.744Z"
   },
   {
    "duration": 151,
    "start_time": "2022-04-12T10:37:41.896Z"
   },
   {
    "duration": 23,
    "start_time": "2022-04-12T10:37:42.048Z"
   },
   {
    "duration": 80,
    "start_time": "2022-04-12T10:37:42.072Z"
   },
   {
    "duration": 262,
    "start_time": "2022-04-12T10:37:42.154Z"
   },
   {
    "duration": 227,
    "start_time": "2022-04-12T10:37:42.423Z"
   },
   {
    "duration": 300,
    "start_time": "2022-04-12T10:37:42.651Z"
   },
   {
    "duration": 5,
    "start_time": "2022-04-12T10:37:42.952Z"
   },
   {
    "duration": 6,
    "start_time": "2022-04-12T10:37:42.959Z"
   },
   {
    "duration": 6,
    "start_time": "2022-04-12T10:37:42.967Z"
   },
   {
    "duration": 7,
    "start_time": "2022-04-12T10:37:42.974Z"
   },
   {
    "duration": 148,
    "start_time": "2022-04-12T11:33:13.921Z"
   },
   {
    "duration": 197,
    "start_time": "2022-04-12T14:46:07.781Z"
   },
   {
    "duration": 8,
    "start_time": "2022-04-12T14:50:49.281Z"
   },
   {
    "duration": 6,
    "start_time": "2022-04-12T14:51:35.402Z"
   },
   {
    "duration": 735,
    "start_time": "2022-04-12T14:51:35.410Z"
   },
   {
    "duration": 11,
    "start_time": "2022-04-12T14:51:36.147Z"
   },
   {
    "duration": 10,
    "start_time": "2022-04-12T14:51:36.160Z"
   },
   {
    "duration": 6,
    "start_time": "2022-04-12T14:51:36.172Z"
   },
   {
    "duration": 11,
    "start_time": "2022-04-12T14:51:36.180Z"
   },
   {
    "duration": 21,
    "start_time": "2022-04-12T14:51:36.192Z"
   },
   {
    "duration": 47,
    "start_time": "2022-04-12T14:51:36.223Z"
   },
   {
    "duration": 4,
    "start_time": "2022-04-12T14:51:36.272Z"
   },
   {
    "duration": 10,
    "start_time": "2022-04-12T14:51:36.277Z"
   },
   {
    "duration": 38,
    "start_time": "2022-04-12T14:51:36.288Z"
   },
   {
    "duration": 19,
    "start_time": "2022-04-12T14:51:36.327Z"
   },
   {
    "duration": 12,
    "start_time": "2022-04-12T14:51:36.349Z"
   },
   {
    "duration": 37,
    "start_time": "2022-04-12T14:51:36.363Z"
   },
   {
    "duration": 24,
    "start_time": "2022-04-12T14:51:36.402Z"
   },
   {
    "duration": 46,
    "start_time": "2022-04-12T14:51:36.427Z"
   },
   {
    "duration": 50,
    "start_time": "2022-04-12T14:51:36.474Z"
   },
   {
    "duration": 17,
    "start_time": "2022-04-12T14:51:36.525Z"
   },
   {
    "duration": 25,
    "start_time": "2022-04-12T14:51:36.544Z"
   },
   {
    "duration": 18,
    "start_time": "2022-04-12T14:51:36.571Z"
   },
   {
    "duration": 3,
    "start_time": "2022-04-12T14:51:36.591Z"
   },
   {
    "duration": 47,
    "start_time": "2022-04-12T14:51:36.595Z"
   },
   {
    "duration": 26,
    "start_time": "2022-04-12T14:51:36.644Z"
   },
   {
    "duration": 11,
    "start_time": "2022-04-12T14:51:36.671Z"
   },
   {
    "duration": 7,
    "start_time": "2022-04-12T14:51:36.683Z"
   },
   {
    "duration": 44,
    "start_time": "2022-04-12T14:51:36.691Z"
   },
   {
    "duration": 28,
    "start_time": "2022-04-12T14:51:36.736Z"
   },
   {
    "duration": 4,
    "start_time": "2022-04-12T14:51:36.766Z"
   },
   {
    "duration": 79,
    "start_time": "2022-04-12T14:51:36.772Z"
   },
   {
    "duration": 21,
    "start_time": "2022-04-12T14:51:36.853Z"
   },
   {
    "duration": 21,
    "start_time": "2022-04-12T14:51:36.875Z"
   },
   {
    "duration": 68,
    "start_time": "2022-04-12T14:51:36.898Z"
   },
   {
    "duration": 146,
    "start_time": "2022-04-12T14:51:36.967Z"
   },
   {
    "duration": 146,
    "start_time": "2022-04-12T14:51:37.115Z"
   },
   {
    "duration": 148,
    "start_time": "2022-04-12T14:51:37.262Z"
   },
   {
    "duration": 28,
    "start_time": "2022-04-12T14:51:37.411Z"
   },
   {
    "duration": 47,
    "start_time": "2022-04-12T14:51:37.443Z"
   },
   {
    "duration": 185,
    "start_time": "2022-04-12T14:51:37.491Z"
   },
   {
    "duration": 164,
    "start_time": "2022-04-12T14:51:37.677Z"
   },
   {
    "duration": 239,
    "start_time": "2022-04-12T14:51:37.843Z"
   },
   {
    "duration": 8,
    "start_time": "2022-04-12T14:51:38.084Z"
   },
   {
    "duration": 0,
    "start_time": "2022-04-12T14:51:38.093Z"
   },
   {
    "duration": 0,
    "start_time": "2022-04-12T14:51:38.094Z"
   },
   {
    "duration": 0,
    "start_time": "2022-04-12T14:51:38.095Z"
   },
   {
    "duration": 0,
    "start_time": "2022-04-12T14:51:38.096Z"
   },
   {
    "duration": 9,
    "start_time": "2022-04-12T14:52:12.365Z"
   },
   {
    "duration": 11,
    "start_time": "2022-04-12T14:52:46.145Z"
   },
   {
    "duration": 138,
    "start_time": "2022-04-12T14:53:38.334Z"
   },
   {
    "duration": 176,
    "start_time": "2022-04-12T14:55:09.377Z"
   },
   {
    "duration": 221,
    "start_time": "2022-04-12T15:06:19.446Z"
   },
   {
    "duration": 144,
    "start_time": "2022-04-12T15:06:45.656Z"
   },
   {
    "duration": 3,
    "start_time": "2022-04-12T15:09:37.278Z"
   },
   {
    "duration": 161,
    "start_time": "2022-04-12T15:10:01.182Z"
   },
   {
    "duration": 16,
    "start_time": "2022-04-12T15:19:20.052Z"
   },
   {
    "duration": 18,
    "start_time": "2022-04-12T15:20:35.475Z"
   },
   {
    "duration": 20,
    "start_time": "2022-04-12T15:22:42.168Z"
   },
   {
    "duration": 17,
    "start_time": "2022-04-12T15:23:13.921Z"
   },
   {
    "duration": 20,
    "start_time": "2022-04-12T15:23:14.777Z"
   },
   {
    "duration": 397,
    "start_time": "2022-04-12T15:31:55.597Z"
   },
   {
    "duration": 11,
    "start_time": "2022-04-12T15:44:36.563Z"
   },
   {
    "duration": 15,
    "start_time": "2022-04-12T15:44:38.312Z"
   },
   {
    "duration": 12,
    "start_time": "2022-04-12T15:45:07.641Z"
   },
   {
    "duration": 6,
    "start_time": "2022-04-12T15:46:31.967Z"
   },
   {
    "duration": 10,
    "start_time": "2022-04-12T15:47:17.564Z"
   },
   {
    "duration": 12,
    "start_time": "2022-04-12T15:48:30.618Z"
   },
   {
    "duration": 21,
    "start_time": "2022-04-12T15:49:26.328Z"
   },
   {
    "duration": 11,
    "start_time": "2022-04-12T15:49:37.584Z"
   },
   {
    "duration": 12,
    "start_time": "2022-04-12T15:53:28.051Z"
   },
   {
    "duration": 16,
    "start_time": "2022-04-12T15:53:48.779Z"
   },
   {
    "duration": 17,
    "start_time": "2022-04-12T15:55:29.360Z"
   },
   {
    "duration": 13,
    "start_time": "2022-04-12T15:55:39.109Z"
   },
   {
    "duration": 12,
    "start_time": "2022-04-12T15:57:19.135Z"
   },
   {
    "duration": 131,
    "start_time": "2022-04-12T15:58:43.183Z"
   },
   {
    "duration": 130,
    "start_time": "2022-04-12T15:58:50.856Z"
   },
   {
    "duration": 146,
    "start_time": "2022-04-12T15:59:23.906Z"
   },
   {
    "duration": 181,
    "start_time": "2022-04-12T16:02:18.515Z"
   },
   {
    "duration": 13,
    "start_time": "2022-04-12T16:02:30.411Z"
   },
   {
    "duration": 11,
    "start_time": "2022-04-12T16:06:46.135Z"
   },
   {
    "duration": 10,
    "start_time": "2022-04-12T16:07:20.028Z"
   },
   {
    "duration": 9,
    "start_time": "2022-04-12T16:07:23.572Z"
   },
   {
    "duration": 10,
    "start_time": "2022-04-12T16:07:47.126Z"
   },
   {
    "duration": 10,
    "start_time": "2022-04-12T16:11:45.858Z"
   },
   {
    "duration": 8,
    "start_time": "2022-04-12T16:12:53.033Z"
   },
   {
    "duration": 10,
    "start_time": "2022-04-12T16:23:10.736Z"
   },
   {
    "duration": 12,
    "start_time": "2022-04-12T16:23:11.271Z"
   },
   {
    "duration": 2268,
    "start_time": "2022-04-12T16:26:56.903Z"
   },
   {
    "duration": 154,
    "start_time": "2022-04-12T16:27:17.029Z"
   },
   {
    "duration": 11,
    "start_time": "2022-04-12T16:44:11.681Z"
   },
   {
    "duration": 11,
    "start_time": "2022-04-12T16:45:03.452Z"
   },
   {
    "duration": 8,
    "start_time": "2022-04-12T16:52:01.438Z"
   },
   {
    "duration": 164,
    "start_time": "2022-04-12T16:56:45.469Z"
   },
   {
    "duration": 12,
    "start_time": "2022-04-12T16:58:37.716Z"
   },
   {
    "duration": 144,
    "start_time": "2022-04-12T17:01:40.591Z"
   },
   {
    "duration": 11,
    "start_time": "2022-04-12T17:01:46.454Z"
   },
   {
    "duration": 139,
    "start_time": "2022-04-12T17:26:56.168Z"
   },
   {
    "duration": 148,
    "start_time": "2022-04-12T17:27:16.889Z"
   },
   {
    "duration": 146,
    "start_time": "2022-04-12T17:27:28.909Z"
   },
   {
    "duration": 139,
    "start_time": "2022-04-12T17:32:59.407Z"
   },
   {
    "duration": 143,
    "start_time": "2022-04-12T17:33:03.729Z"
   },
   {
    "duration": 20,
    "start_time": "2022-04-12T17:46:59.708Z"
   },
   {
    "duration": 139,
    "start_time": "2022-04-12T17:47:52.608Z"
   },
   {
    "duration": 135,
    "start_time": "2022-04-12T17:49:23.352Z"
   },
   {
    "duration": 10,
    "start_time": "2022-04-12T17:59:33.050Z"
   },
   {
    "duration": 11,
    "start_time": "2022-04-12T17:59:33.605Z"
   },
   {
    "duration": 135,
    "start_time": "2022-04-12T18:35:53.059Z"
   },
   {
    "duration": 161,
    "start_time": "2022-04-12T18:36:24.468Z"
   },
   {
    "duration": 271,
    "start_time": "2022-04-12T18:39:29.385Z"
   },
   {
    "duration": 90,
    "start_time": "2022-04-12T18:43:13.760Z"
   },
   {
    "duration": 5,
    "start_time": "2022-04-12T18:43:31.428Z"
   },
   {
    "duration": 11,
    "start_time": "2022-04-12T18:43:33.977Z"
   },
   {
    "duration": 14,
    "start_time": "2022-04-12T18:43:34.417Z"
   },
   {
    "duration": 12,
    "start_time": "2022-04-12T18:43:35.444Z"
   },
   {
    "duration": 12,
    "start_time": "2022-04-12T18:43:36.589Z"
   },
   {
    "duration": 14,
    "start_time": "2022-04-12T18:43:37.138Z"
   },
   {
    "duration": 4,
    "start_time": "2022-04-12T18:43:38.557Z"
   },
   {
    "duration": 42,
    "start_time": "2022-04-12T18:43:41.586Z"
   },
   {
    "duration": 32,
    "start_time": "2022-04-12T18:43:42.354Z"
   },
   {
    "duration": 17,
    "start_time": "2022-04-12T18:43:43.296Z"
   },
   {
    "duration": 23,
    "start_time": "2022-04-12T18:43:43.784Z"
   },
   {
    "duration": 20,
    "start_time": "2022-04-12T18:43:50.146Z"
   },
   {
    "duration": 8,
    "start_time": "2022-04-12T18:43:50.633Z"
   },
   {
    "duration": 11,
    "start_time": "2022-04-12T18:43:51.163Z"
   },
   {
    "duration": 27,
    "start_time": "2022-04-12T18:43:52.260Z"
   },
   {
    "duration": 12,
    "start_time": "2022-04-12T18:43:53.245Z"
   },
   {
    "duration": 7,
    "start_time": "2022-04-12T18:43:53.909Z"
   },
   {
    "duration": 12,
    "start_time": "2022-04-12T18:43:55.985Z"
   },
   {
    "duration": 27,
    "start_time": "2022-04-12T18:43:58.270Z"
   },
   {
    "duration": 5,
    "start_time": "2022-04-12T18:43:59.540Z"
   },
   {
    "duration": 67,
    "start_time": "2022-04-12T18:44:03.456Z"
   },
   {
    "duration": 19,
    "start_time": "2022-04-12T18:44:04.154Z"
   },
   {
    "duration": 21,
    "start_time": "2022-04-12T18:44:08.008Z"
   },
   {
    "duration": 47,
    "start_time": "2022-04-12T18:44:09.047Z"
   },
   {
    "duration": 46,
    "start_time": "2022-04-12T18:45:50.870Z"
   },
   {
    "duration": 139,
    "start_time": "2022-04-12T18:46:12.886Z"
   },
   {
    "duration": 47,
    "start_time": "2022-04-13T09:10:42.508Z"
   },
   {
    "duration": 6,
    "start_time": "2022-04-13T09:10:42.954Z"
   },
   {
    "duration": 1443,
    "start_time": "2022-04-13T09:10:49.899Z"
   },
   {
    "duration": 435,
    "start_time": "2022-04-13T09:10:51.344Z"
   },
   {
    "duration": 17,
    "start_time": "2022-04-13T09:10:51.986Z"
   },
   {
    "duration": 11,
    "start_time": "2022-04-13T09:10:52.696Z"
   },
   {
    "duration": 6,
    "start_time": "2022-04-13T09:10:54.312Z"
   },
   {
    "duration": 13,
    "start_time": "2022-04-13T09:10:55.451Z"
   },
   {
    "duration": 26,
    "start_time": "2022-04-13T09:10:55.999Z"
   },
   {
    "duration": 55,
    "start_time": "2022-04-13T09:10:57.034Z"
   },
   {
    "duration": 5,
    "start_time": "2022-04-13T09:11:08.478Z"
   },
   {
    "duration": 14,
    "start_time": "2022-04-13T09:11:14.962Z"
   },
   {
    "duration": 21,
    "start_time": "2022-04-13T09:11:15.330Z"
   },
   {
    "duration": 21,
    "start_time": "2022-04-13T09:11:16.350Z"
   },
   {
    "duration": 13,
    "start_time": "2022-04-13T09:11:17.100Z"
   },
   {
    "duration": 43,
    "start_time": "2022-04-13T09:11:17.577Z"
   },
   {
    "duration": 9,
    "start_time": "2022-04-13T09:11:18.794Z"
   },
   {
    "duration": 52,
    "start_time": "2022-04-13T09:11:22.668Z"
   },
   {
    "duration": 46,
    "start_time": "2022-04-13T09:11:24.137Z"
   },
   {
    "duration": 16,
    "start_time": "2022-04-13T09:11:24.833Z"
   },
   {
    "duration": 29,
    "start_time": "2022-04-13T09:11:25.308Z"
   },
   {
    "duration": 20,
    "start_time": "2022-04-13T09:11:34.258Z"
   },
   {
    "duration": 3,
    "start_time": "2022-04-13T09:11:34.914Z"
   },
   {
    "duration": 23,
    "start_time": "2022-04-13T09:11:35.532Z"
   },
   {
    "duration": 30,
    "start_time": "2022-04-13T09:11:36.467Z"
   },
   {
    "duration": 13,
    "start_time": "2022-04-13T09:11:37.307Z"
   },
   {
    "duration": 11,
    "start_time": "2022-04-13T09:11:37.860Z"
   },
   {
    "duration": 13,
    "start_time": "2022-04-13T09:11:39.006Z"
   },
   {
    "duration": 32,
    "start_time": "2022-04-13T09:11:40.642Z"
   },
   {
    "duration": 5,
    "start_time": "2022-04-13T09:11:42.062Z"
   },
   {
    "duration": 73,
    "start_time": "2022-04-13T09:11:52.270Z"
   },
   {
    "duration": 25,
    "start_time": "2022-04-13T09:11:53.028Z"
   },
   {
    "duration": 26,
    "start_time": "2022-04-13T09:11:56.899Z"
   },
   {
    "duration": 57,
    "start_time": "2022-04-13T09:11:57.644Z"
   },
   {
    "duration": 1575,
    "start_time": "2022-04-13T19:30:39.070Z"
   },
   {
    "duration": 369,
    "start_time": "2022-04-13T19:30:40.647Z"
   },
   {
    "duration": 15,
    "start_time": "2022-04-13T19:30:41.018Z"
   },
   {
    "duration": 24,
    "start_time": "2022-04-13T19:30:41.035Z"
   },
   {
    "duration": 12,
    "start_time": "2022-04-13T19:30:41.061Z"
   },
   {
    "duration": 24,
    "start_time": "2022-04-13T19:30:41.074Z"
   },
   {
    "duration": 27,
    "start_time": "2022-04-13T19:30:41.100Z"
   },
   {
    "duration": 53,
    "start_time": "2022-04-13T19:30:41.128Z"
   },
   {
    "duration": 4,
    "start_time": "2022-04-13T19:30:41.183Z"
   },
   {
    "duration": 19,
    "start_time": "2022-04-13T19:30:41.190Z"
   },
   {
    "duration": 33,
    "start_time": "2022-04-13T19:30:41.211Z"
   },
   {
    "duration": 20,
    "start_time": "2022-04-13T19:30:41.246Z"
   },
   {
    "duration": 21,
    "start_time": "2022-04-13T19:30:41.268Z"
   },
   {
    "duration": 49,
    "start_time": "2022-04-13T19:30:41.290Z"
   },
   {
    "duration": 8,
    "start_time": "2022-04-13T19:30:41.340Z"
   },
   {
    "duration": 62,
    "start_time": "2022-04-13T19:30:41.349Z"
   },
   {
    "duration": 35,
    "start_time": "2022-04-13T19:30:41.413Z"
   },
   {
    "duration": 17,
    "start_time": "2022-04-13T19:30:41.449Z"
   },
   {
    "duration": 50,
    "start_time": "2022-04-13T19:30:41.468Z"
   },
   {
    "duration": 19,
    "start_time": "2022-04-13T19:30:41.520Z"
   },
   {
    "duration": 3,
    "start_time": "2022-04-13T19:30:41.540Z"
   },
   {
    "duration": 21,
    "start_time": "2022-04-13T19:30:41.545Z"
   },
   {
    "duration": 52,
    "start_time": "2022-04-13T19:30:41.568Z"
   },
   {
    "duration": 13,
    "start_time": "2022-04-13T19:30:41.622Z"
   },
   {
    "duration": 7,
    "start_time": "2022-04-13T19:30:41.637Z"
   },
   {
    "duration": 14,
    "start_time": "2022-04-13T19:30:41.645Z"
   },
   {
    "duration": 61,
    "start_time": "2022-04-13T19:30:41.660Z"
   },
   {
    "duration": 6,
    "start_time": "2022-04-13T19:30:41.725Z"
   },
   {
    "duration": 90,
    "start_time": "2022-04-13T19:30:41.732Z"
   },
   {
    "duration": 23,
    "start_time": "2022-04-13T19:30:41.824Z"
   },
   {
    "duration": 24,
    "start_time": "2022-04-13T19:30:41.849Z"
   },
   {
    "duration": 81,
    "start_time": "2022-04-13T19:30:41.875Z"
   },
   {
    "duration": 198,
    "start_time": "2022-04-13T19:30:41.957Z"
   },
   {
    "duration": 198,
    "start_time": "2022-04-13T19:30:42.157Z"
   },
   {
    "duration": 180,
    "start_time": "2022-04-13T19:30:42.357Z"
   },
   {
    "duration": 273,
    "start_time": "2022-04-13T19:30:42.539Z"
   },
   {
    "duration": 22,
    "start_time": "2022-04-13T19:30:42.814Z"
   },
   {
    "duration": 94,
    "start_time": "2022-04-13T19:30:42.838Z"
   },
   {
    "duration": 234,
    "start_time": "2022-04-13T19:30:42.933Z"
   },
   {
    "duration": 189,
    "start_time": "2022-04-13T19:30:43.168Z"
   },
   {
    "duration": 361,
    "start_time": "2022-04-13T19:30:43.359Z"
   },
   {
    "duration": 166,
    "start_time": "2022-04-13T19:30:43.722Z"
   },
   {
    "duration": 20,
    "start_time": "2022-04-13T19:30:43.890Z"
   },
   {
    "duration": 12,
    "start_time": "2022-04-13T19:30:43.912Z"
   },
   {
    "duration": 8,
    "start_time": "2022-04-13T19:30:43.926Z"
   },
   {
    "duration": 5,
    "start_time": "2022-04-13T19:30:43.935Z"
   },
   {
    "duration": 4,
    "start_time": "2022-04-13T19:30:43.942Z"
   },
   {
    "duration": 5,
    "start_time": "2022-04-13T19:30:43.948Z"
   },
   {
    "duration": 13,
    "start_time": "2022-04-13T19:30:43.955Z"
   },
   {
    "duration": 1197,
    "start_time": "2022-04-13T19:50:27.426Z"
   },
   {
    "duration": 390,
    "start_time": "2022-04-13T19:50:28.625Z"
   },
   {
    "duration": 18,
    "start_time": "2022-04-13T19:50:29.019Z"
   },
   {
    "duration": 11,
    "start_time": "2022-04-13T19:50:29.039Z"
   },
   {
    "duration": 10,
    "start_time": "2022-04-13T19:50:29.052Z"
   },
   {
    "duration": 16,
    "start_time": "2022-04-13T19:50:29.064Z"
   },
   {
    "duration": 46,
    "start_time": "2022-04-13T19:50:29.082Z"
   },
   {
    "duration": 57,
    "start_time": "2022-04-13T19:50:29.130Z"
   },
   {
    "duration": 18,
    "start_time": "2022-04-13T19:50:29.189Z"
   },
   {
    "duration": 10,
    "start_time": "2022-04-13T19:50:29.209Z"
   },
   {
    "duration": 20,
    "start_time": "2022-04-13T19:50:29.221Z"
   },
   {
    "duration": 21,
    "start_time": "2022-04-13T19:50:29.243Z"
   },
   {
    "duration": 44,
    "start_time": "2022-04-13T19:50:29.265Z"
   },
   {
    "duration": 45,
    "start_time": "2022-04-13T19:50:29.311Z"
   },
   {
    "duration": 8,
    "start_time": "2022-04-13T19:50:29.357Z"
   },
   {
    "duration": 71,
    "start_time": "2022-04-13T19:50:29.366Z"
   },
   {
    "duration": 37,
    "start_time": "2022-04-13T19:50:29.439Z"
   },
   {
    "duration": 34,
    "start_time": "2022-04-13T19:50:29.478Z"
   },
   {
    "duration": 30,
    "start_time": "2022-04-13T19:50:29.514Z"
   },
   {
    "duration": 22,
    "start_time": "2022-04-13T19:50:29.546Z"
   },
   {
    "duration": 3,
    "start_time": "2022-04-13T19:50:29.569Z"
   },
   {
    "duration": 51,
    "start_time": "2022-04-13T19:50:29.574Z"
   },
   {
    "duration": 30,
    "start_time": "2022-04-13T19:50:29.626Z"
   },
   {
    "duration": 13,
    "start_time": "2022-04-13T19:50:29.657Z"
   },
   {
    "duration": 7,
    "start_time": "2022-04-13T19:50:29.672Z"
   },
   {
    "duration": 15,
    "start_time": "2022-04-13T19:50:29.708Z"
   },
   {
    "duration": 33,
    "start_time": "2022-04-13T19:50:29.727Z"
   },
   {
    "duration": 5,
    "start_time": "2022-04-13T19:50:29.762Z"
   },
   {
    "duration": 103,
    "start_time": "2022-04-13T19:50:29.769Z"
   },
   {
    "duration": 35,
    "start_time": "2022-04-13T19:50:29.874Z"
   },
   {
    "duration": 25,
    "start_time": "2022-04-13T19:50:29.911Z"
   },
   {
    "duration": 77,
    "start_time": "2022-04-13T19:50:29.939Z"
   },
   {
    "duration": 200,
    "start_time": "2022-04-13T19:50:30.018Z"
   },
   {
    "duration": 180,
    "start_time": "2022-04-13T19:50:30.220Z"
   },
   {
    "duration": 177,
    "start_time": "2022-04-13T19:50:30.408Z"
   },
   {
    "duration": 189,
    "start_time": "2022-04-13T19:50:30.586Z"
   },
   {
    "duration": 36,
    "start_time": "2022-04-13T19:50:30.776Z"
   },
   {
    "duration": 76,
    "start_time": "2022-04-13T19:50:30.814Z"
   },
   {
    "duration": 206,
    "start_time": "2022-04-13T19:50:30.892Z"
   },
   {
    "duration": 190,
    "start_time": "2022-04-13T19:50:31.099Z"
   },
   {
    "duration": 349,
    "start_time": "2022-04-13T19:50:31.291Z"
   },
   {
    "duration": 169,
    "start_time": "2022-04-13T19:50:31.641Z"
   },
   {
    "duration": 12,
    "start_time": "2022-04-13T19:50:31.811Z"
   },
   {
    "duration": 13,
    "start_time": "2022-04-13T19:50:31.824Z"
   },
   {
    "duration": 14,
    "start_time": "2022-04-13T19:50:31.839Z"
   },
   {
    "duration": 6,
    "start_time": "2022-04-13T19:50:31.856Z"
   },
   {
    "duration": 12,
    "start_time": "2022-04-13T19:50:31.863Z"
   },
   {
    "duration": 7,
    "start_time": "2022-04-13T19:50:31.876Z"
   },
   {
    "duration": 6,
    "start_time": "2022-04-13T19:50:31.907Z"
   }
  ],
  "kernelspec": {
   "display_name": "Python 3 (ipykernel)",
   "language": "python",
   "name": "python3"
  },
  "language_info": {
   "codemirror_mode": {
    "name": "ipython",
    "version": 3
   },
   "file_extension": ".py",
   "mimetype": "text/x-python",
   "name": "python",
   "nbconvert_exporter": "python",
   "pygments_lexer": "ipython3",
   "version": "3.9.7"
  },
  "toc": {
   "base_numbering": 1,
   "nav_menu": {},
   "number_sections": true,
   "sideBar": true,
   "skip_h1_title": true,
   "title_cell": "Table of Contents",
   "title_sidebar": "Содержание",
   "toc_cell": false,
   "toc_position": {
    "height": "calc(100% - 180px)",
    "left": "10px",
    "top": "150px",
    "width": "222px"
   },
   "toc_section_display": true,
   "toc_window_display": true
  }
 },
 "nbformat": 4,
 "nbformat_minor": 2
}
